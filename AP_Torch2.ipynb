{
  "nbformat": 4,
  "nbformat_minor": 0,
  "metadata": {
    "colab": {
      "provenance": [],
      "gpuType": "T4",
      "authorship_tag": "ABX9TyMvRf7nBBaKq2eYIl47Y2EN",
      "include_colab_link": true
    },
    "kernelspec": {
      "name": "python3",
      "display_name": "Python 3"
    },
    "language_info": {
      "name": "python"
    },
    "accelerator": "GPU"
  },
  "cells": [
    {
      "cell_type": "markdown",
      "metadata": {
        "id": "view-in-github",
        "colab_type": "text"
      },
      "source": [
        "<a href=\"https://colab.research.google.com/github/soutrik71/pytorch_classics/blob/main/AP_Torch2.ipynb\" target=\"_parent\"><img src=\"https://colab.research.google.com/assets/colab-badge.svg\" alt=\"Open In Colab\"/></a>"
      ]
    },
    {
      "cell_type": "markdown",
      "source": [
        "This notebook is all about discussion on torch Workflow along with an comprehensive study on a Regression Model and a Classification Model."
      ],
      "metadata": {
        "id": "TnxnTsWcGSV-"
      }
    },
    {
      "cell_type": "code",
      "source": [
        "# !pip install torchview"
      ],
      "metadata": {
        "id": "ZSylKXdaCMST"
      },
      "execution_count": null,
      "outputs": []
    },
    {
      "cell_type": "code",
      "source": [
        "import torch\n",
        "import torch.nn as nn\n",
        "import torch.nn.functional as F\n",
        "import torch.optim as optim\n",
        "import torchvision.transforms as transforms\n",
        "import matplotlib.pyplot as plt\n",
        "import numpy as np\n",
        "import torchvision.datasets as datasets\n",
        "from torch.utils.data import DataLoader\n",
        "from torchsummary import summary\n",
        "from torchview import draw_graph"
      ],
      "metadata": {
        "id": "RtOyECH-jOSX"
      },
      "execution_count": 20,
      "outputs": []
    },
    {
      "cell_type": "markdown",
      "source": [
        "## Torch Workflow fundamentals using a MNIST dataset -- to setup the premise\n",
        "\n",
        "```md\n",
        "| Topic                                                    | Contents                                                                                                                          |\n",
        "|----------------------------------------------------------|-----------------------------------------------------------------------------------------------------------------------------------|\n",
        "| 1. Getting data ready                                    | Data can be almost anything but to get started we're going to create a simple straight line                                       |\n",
        "| 2. Building a model                                      | Here we'll create a model to learn patterns in the data, we'll also choose a loss function, optimizer and build a training loop.  |\n",
        "| 3. Fitting the model to data (training)                  | We've got data and a model, now let's let the model (try to) find patterns in the (training) data.                                |\n",
        "| 4. Making predictions and evaluating a model (inference) | Our model's found patterns in the data, let's compare its findings to the actual (testing) data.                                  |\n",
        "| 5. Saving and loading a model                            | You may want to use your model elsewhere, or come back to it later, here we'll cover that.                                        |\n",
        "|                                                          |                                                                                                                                   |\n",
        "\n",
        "```"
      ],
      "metadata": {
        "id": "2PsNwLaOsSds"
      }
    },
    {
      "cell_type": "markdown",
      "source": [
        "##### Key Pointers:\n",
        "1. Dataset stores the samples and their corresponding labels, and DataLoader wraps an iterable around the Dataset.\n",
        "2. We pass the Dataset as an argument to DataLoader. This wraps an iterable over our dataset, and supports automatic batching, sampling, shuffling and multiprocess data loading.\n",
        "3. nn.Module contains the larger building blocks (layers)\n",
        "4. nn.Parameter contains the smaller parameters like weights and biases (put these together to make nn.Module(s))\n",
        "5. forward() tells the larger blocks how to make calculations on inputs (tensors full of data) within nn.Module(s)\n",
        "6. torch.optim contains optimization methods on how to improve the parameters within nn.Parameter to better represent input data"
      ],
      "metadata": {
        "id": "MkRDxH53-WLv"
      }
    },
    {
      "cell_type": "markdown",
      "source": [
        "##### Data Loading"
      ],
      "metadata": {
        "id": "Wb-2AgkMFpkv"
      }
    },
    {
      "cell_type": "code",
      "source": [
        "# Set manual seed since nn.Parameter are randomly initialzied\n",
        "torch.manual_seed(42)"
      ],
      "metadata": {
        "colab": {
          "base_uri": "https://localhost:8080/"
        },
        "id": "-CS2wDh-_Ojt",
        "outputId": "4dcce0e5-b90c-419b-ebe6-91017ddc57a0"
      },
      "execution_count": 13,
      "outputs": [
        {
          "output_type": "execute_result",
          "data": {
            "text/plain": [
              "<torch._C.Generator at 0x7d3b602e1330>"
            ]
          },
          "metadata": {},
          "execution_count": 13
        }
      ]
    },
    {
      "cell_type": "code",
      "source": [
        "# downloading the training data from Datasets library\n",
        "training_data = datasets.MNIST(\n",
        "    root=\"data\",\n",
        "    train=True,\n",
        "    download=True,\n",
        "    transform=transforms.ToTensor()\n",
        ")\n",
        "\n",
        "test_data = datasets.MNIST(\n",
        "    root=\"data\",\n",
        "    train=False,\n",
        "    download=True,\n",
        "    transform=transforms.ToTensor()\n",
        ")"
      ],
      "metadata": {
        "colab": {
          "base_uri": "https://localhost:8080/"
        },
        "id": "a9MhYlHU-We8",
        "outputId": "d80c19d7-98f3-49c8-bf24-2ff2b261da55"
      },
      "execution_count": 2,
      "outputs": [
        {
          "output_type": "stream",
          "name": "stdout",
          "text": [
            "Downloading http://yann.lecun.com/exdb/mnist/train-images-idx3-ubyte.gz\n",
            "Downloading http://yann.lecun.com/exdb/mnist/train-images-idx3-ubyte.gz to data/MNIST/raw/train-images-idx3-ubyte.gz\n"
          ]
        },
        {
          "output_type": "stream",
          "name": "stderr",
          "text": [
            "100%|██████████| 9912422/9912422 [00:00<00:00, 154040597.27it/s]"
          ]
        },
        {
          "output_type": "stream",
          "name": "stdout",
          "text": [
            "Extracting data/MNIST/raw/train-images-idx3-ubyte.gz to data/MNIST/raw\n"
          ]
        },
        {
          "output_type": "stream",
          "name": "stderr",
          "text": [
            "\n"
          ]
        },
        {
          "output_type": "stream",
          "name": "stdout",
          "text": [
            "\n",
            "Downloading http://yann.lecun.com/exdb/mnist/train-labels-idx1-ubyte.gz\n",
            "Downloading http://yann.lecun.com/exdb/mnist/train-labels-idx1-ubyte.gz to data/MNIST/raw/train-labels-idx1-ubyte.gz\n"
          ]
        },
        {
          "output_type": "stream",
          "name": "stderr",
          "text": [
            "100%|██████████| 28881/28881 [00:00<00:00, 104970271.94it/s]\n"
          ]
        },
        {
          "output_type": "stream",
          "name": "stdout",
          "text": [
            "Extracting data/MNIST/raw/train-labels-idx1-ubyte.gz to data/MNIST/raw\n",
            "\n",
            "Downloading http://yann.lecun.com/exdb/mnist/t10k-images-idx3-ubyte.gz\n",
            "Downloading http://yann.lecun.com/exdb/mnist/t10k-images-idx3-ubyte.gz to data/MNIST/raw/t10k-images-idx3-ubyte.gz\n"
          ]
        },
        {
          "output_type": "stream",
          "name": "stderr",
          "text": [
            "100%|██████████| 1648877/1648877 [00:00<00:00, 40704939.86it/s]"
          ]
        },
        {
          "output_type": "stream",
          "name": "stdout",
          "text": [
            "Extracting data/MNIST/raw/t10k-images-idx3-ubyte.gz to data/MNIST/raw\n"
          ]
        },
        {
          "output_type": "stream",
          "name": "stderr",
          "text": [
            "\n"
          ]
        },
        {
          "output_type": "stream",
          "name": "stdout",
          "text": [
            "\n",
            "Downloading http://yann.lecun.com/exdb/mnist/t10k-labels-idx1-ubyte.gz\n",
            "Downloading http://yann.lecun.com/exdb/mnist/t10k-labels-idx1-ubyte.gz to data/MNIST/raw/t10k-labels-idx1-ubyte.gz\n"
          ]
        },
        {
          "output_type": "stream",
          "name": "stderr",
          "text": [
            "100%|██████████| 4542/4542 [00:00<00:00, 22598492.01it/s]\n"
          ]
        },
        {
          "output_type": "stream",
          "name": "stdout",
          "text": [
            "Extracting data/MNIST/raw/t10k-labels-idx1-ubyte.gz to data/MNIST/raw\n",
            "\n"
          ]
        }
      ]
    },
    {
      "cell_type": "code",
      "source": [
        "# Set device cuda for GPU if it's available otherwise run on the CPU\n",
        "device = torch.device(\"cuda\" if torch.cuda.is_available() else \"cpu\")\n",
        "print(device)"
      ],
      "metadata": {
        "colab": {
          "base_uri": "https://localhost:8080/"
        },
        "id": "DnTvu70lENSY",
        "outputId": "ce625bb9-8602-4507-c26f-df5788d96552"
      },
      "execution_count": 3,
      "outputs": [
        {
          "output_type": "stream",
          "name": "stdout",
          "text": [
            "cuda\n"
          ]
        }
      ]
    },
    {
      "cell_type": "code",
      "source": [
        "hyper_params = 128\n",
        "epochs = 10"
      ],
      "metadata": {
        "id": "w8HGv77HD0fM"
      },
      "execution_count": 4,
      "outputs": []
    },
    {
      "cell_type": "code",
      "source": [
        "print(training_data.data.shape)\n",
        "print(test_data.data.shape)\n",
        "print(training_data.targets.shape)"
      ],
      "metadata": {
        "colab": {
          "base_uri": "https://localhost:8080/"
        },
        "id": "o8lNj9NK-WmK",
        "outputId": "edb26877-e55e-4615-c7d2-211504cd3822"
      },
      "execution_count": 5,
      "outputs": [
        {
          "output_type": "stream",
          "name": "stdout",
          "text": [
            "torch.Size([60000, 28, 28])\n",
            "torch.Size([10000, 28, 28])\n",
            "torch.Size([60000])\n"
          ]
        }
      ]
    },
    {
      "cell_type": "code",
      "source": [
        "# wrapping the raw data into dataloader class\n",
        "train_loader = DataLoader(training_data, batch_size=hyper_params, shuffle=True)\n",
        "test_loader = DataLoader(test_data, batch_size=hyper_params, shuffle=True)"
      ],
      "metadata": {
        "id": "oyqou6Y6-WsJ"
      },
      "execution_count": 6,
      "outputs": []
    },
    {
      "cell_type": "code",
      "source": [
        "for X, y in train_loader:\n",
        "    print(f\"Shape of X [N, C, H, W]: {X.shape}\")\n",
        "    print(f\"Shape of y: {y.shape} {y.dtype}\")\n",
        "    break"
      ],
      "metadata": {
        "colab": {
          "base_uri": "https://localhost:8080/"
        },
        "id": "xMBeuKXh-Wxx",
        "outputId": "94810d0d-cbcc-427b-9bad-b789ded70e16"
      },
      "execution_count": 7,
      "outputs": [
        {
          "output_type": "stream",
          "name": "stdout",
          "text": [
            "Shape of X [N, C, H, W]: torch.Size([128, 1, 28, 28])\n",
            "Shape of y: torch.Size([128]) torch.int64\n"
          ]
        }
      ]
    },
    {
      "cell_type": "code",
      "source": [
        "# Display image and label.\n",
        "train_features, train_labels = next(iter(train_loader))\n",
        "print(f\"Feature batch shape: {train_features.size()}\")\n",
        "print(f\"Labels batch shape: {train_labels.size()}\")\n",
        "img = train_features[0].squeeze() # Torch.Size([28, 28])\n",
        "label = train_labels[0]\n",
        "plt.imshow(img, cmap=\"gray\")\n",
        "plt.show()\n",
        "print(f\"Label: {label}\")"
      ],
      "metadata": {
        "colab": {
          "base_uri": "https://localhost:8080/",
          "height": 482
        },
        "id": "SxNT8zbN-W3h",
        "outputId": "a0381cda-6232-41cc-a284-aec1df9cb49e"
      },
      "execution_count": 8,
      "outputs": [
        {
          "output_type": "stream",
          "name": "stdout",
          "text": [
            "Feature batch shape: torch.Size([128, 1, 28, 28])\n",
            "Labels batch shape: torch.Size([128])\n"
          ]
        },
        {
          "output_type": "display_data",
          "data": {
            "text/plain": [
              "<Figure size 640x480 with 1 Axes>"
            ],
            "image/png": "[encoded data removed]"
          },
          "metadata": {}
        },
        {
          "output_type": "stream",
          "name": "stdout",
          "text": [
            "Label: 3\n"
          ]
        }
      ]
    },
    {
      "cell_type": "markdown",
      "source": [
        "##### Model Definition Piece"
      ],
      "metadata": {
        "id": "DBUSBjWA-W9C"
      }
    },
    {
      "cell_type": "code",
      "source": [
        "class SimpleNN(nn.Module):\n",
        "  \"\"\"Simple NN model\"\"\"\n",
        "  def __init__(self, input_size, num_classes):\n",
        "    super(SimpleNN, self).__init__()\n",
        "    self.flatten = nn.Flatten()\n",
        "    self.fc1 = nn.Linear(input_size, 50)\n",
        "    self.fc2 = nn.Linear(50, num_classes)\n",
        "\n",
        "  def forward(self, x: torch.Tensor):\n",
        "    x = self.flatten(x)\n",
        "    x = self.fc1(x)\n",
        "    x = F.relu(x)\n",
        "    x = self.fc2(x)\n",
        "    return F.log_softmax(x)"
      ],
      "metadata": {
        "id": "rF8DXJzW-XC7"
      },
      "execution_count": 25,
      "outputs": []
    },
    {
      "cell_type": "code",
      "source": [
        "model = SimpleNN(input_size=28*28, num_classes=10).to(device)\n",
        "print(model.state_dict().keys())"
      ],
      "metadata": {
        "colab": {
          "base_uri": "https://localhost:8080/"
        },
        "id": "hj5AO5UO-XI1",
        "outputId": "bd5cfdec-b33f-439d-dfc1-6975825f42e1"
      },
      "execution_count": 26,
      "outputs": [
        {
          "output_type": "stream",
          "name": "stdout",
          "text": [
            "odict_keys(['fc1.weight', 'fc1.bias', 'fc2.weight', 'fc2.bias'])\n"
          ]
        }
      ]
    },
    {
      "cell_type": "code",
      "source": [
        "# summarization of the model layers\n",
        "summary(model, (1, 28, 28))"
      ],
      "metadata": {
        "colab": {
          "base_uri": "https://localhost:8080/"
        },
        "id": "H3shckYn-XOo",
        "outputId": "b3abc3c8-bcd4-4a45-9393-5e4e16e3d2d6"
      },
      "execution_count": 27,
      "outputs": [
        {
          "output_type": "stream",
          "name": "stdout",
          "text": [
            "----------------------------------------------------------------\n",
            "        Layer (type)               Output Shape         Param #\n",
            "================================================================\n",
            "           Flatten-1                  [-1, 784]               0\n",
            "            Linear-2                   [-1, 50]          39,250\n",
            "            Linear-3                   [-1, 10]             510\n",
            "================================================================\n",
            "Total params: 39,760\n",
            "Trainable params: 39,760\n",
            "Non-trainable params: 0\n",
            "----------------------------------------------------------------\n",
            "Input size (MB): 0.00\n",
            "Forward/backward pass size (MB): 0.01\n",
            "Params size (MB): 0.15\n",
            "Estimated Total Size (MB): 0.16\n",
            "----------------------------------------------------------------\n"
          ]
        },
        {
          "output_type": "stream",
          "name": "stderr",
          "text": [
            "<ipython-input-25-e8af4c1ea3a2>:14: UserWarning: Implicit dimension choice for log_softmax has been deprecated. Change the call to include dim=X as an argument.\n",
            "  return F.log_softmax(x)\n"
          ]
        }
      ]
    },
    {
      "cell_type": "code",
      "source": [
        "# graphical representation of the model architecture\n",
        "model_graph = draw_graph(model, input_size=(1, 28, 28), expand_nested=True)\n",
        "model_graph.visual_graph"
      ],
      "metadata": {
        "colab": {
          "base_uri": "https://localhost:8080/",
          "height": 740
        },
        "id": "mopY3BaI-XUC",
        "outputId": "558285b7-308e-4d3a-cce1-597abc7ff959"
      },
      "execution_count": 28,
      "outputs": [
        {
          "output_type": "stream",
          "name": "stderr",
          "text": [
            "/usr/local/lib/python3.10/dist-packages/torch/_tensor.py:1386: UserWarning: Implicit dimension choice for log_softmax has been deprecated. Change the call to include dim=X as an argument.\n",
            "  ret = func(*args, **kwargs)\n"
          ]
        },
        {
          "output_type": "execute_result",
          "data": {
            "image/svg+xml": "<?xml version=\"1.0\" encoding=\"UTF-8\" standalone=\"no\"?>\n<!DOCTYPE svg PUBLIC \"-//W3C//DTD SVG 1.1//EN\"\n \"http://www.w3.org/Graphics/SVG/1.1/DTD/svg11.dtd\">\n<!-- Generated by graphviz version 2.43.0 (0)\n -->\n<!-- Title: model Pages: 1 -->\n<svg width=\"203pt\" height=\"498pt\"\n viewBox=\"0.00 0.00 203.00 498.00\" xmlns=\"http://www.w3.org/2000/svg\" xmlns:xlink=\"http://www.w3.org/1999/xlink\">\n<g id=\"graph0\" class=\"graph\" transform=\"scale(1 1) rotate(0) translate(4 494)\">\n<title>model</title>\n<polygon fill=\"white\" stroke=\"transparent\" points=\"-4,4 -4,-494 199,-494 199,4 -4,4\"/>\n<!-- 0 -->\n<g id=\"node1\" class=\"node\">\n<title>0</title>\n<polygon fill=\"lightyellow\" stroke=\"transparent\" points=\"177.5,-490 17.5,-490 17.5,-458 177.5,-458 177.5,-490\"/>\n<polygon fill=\"none\" stroke=\"black\" points=\"17.5,-458 17.5,-490 100.5,-490 100.5,-458 17.5,-458\"/>\n<text text-anchor=\"start\" x=\"22.5\" y=\"-477\" font-family=\"Linux libertine\" font-size=\"10.00\">input&#45;tensor</text>\n<text text-anchor=\"start\" x=\"37.5\" y=\"-466\" font-family=\"Linux libertine\" font-size=\"10.00\">depth:0</text>\n<polygon fill=\"none\" stroke=\"black\" points=\"100.5,-458 100.5,-490 177.5,-490 177.5,-458 100.5,-458\"/>\n<text text-anchor=\"start\" x=\"105.5\" y=\"-471.5\" font-family=\"Linux libertine\" font-size=\"10.00\">(1, 28, 28)</text>\n</g>\n<!-- 1 -->\n<g id=\"node2\" class=\"node\">\n<title>1</title>\n<polygon fill=\"#c1ffc1\" stroke=\"transparent\" points=\"195,-422 0,-422 0,-380 195,-380 195,-422\"/>\n<polygon fill=\"none\" stroke=\"black\" points=\"0.5,-380 0.5,-422 53.5,-422 53.5,-380 0.5,-380\"/>\n<text text-anchor=\"start\" x=\"5.5\" y=\"-404\" font-family=\"Linux libertine\" font-size=\"10.00\">Flatten</text>\n<text text-anchor=\"start\" x=\"5.5\" y=\"-393\" font-family=\"Linux libertine\" font-size=\"10.00\">depth:1</text>\n<polygon fill=\"none\" stroke=\"black\" points=\"53.5,-401 53.5,-422 112.5,-422 112.5,-401 53.5,-401\"/>\n<text text-anchor=\"start\" x=\"64.5\" y=\"-409\" font-family=\"Linux libertine\" font-size=\"10.00\">input:</text>\n<polygon fill=\"none\" stroke=\"black\" points=\"112.5,-401 112.5,-422 195.5,-422 195.5,-401 112.5,-401\"/>\n<text text-anchor=\"start\" x=\"117.5\" y=\"-409\" font-family=\"Linux libertine\" font-size=\"10.00\">(1, 28, 28) </text>\n<polygon fill=\"none\" stroke=\"black\" points=\"53.5,-380 53.5,-401 112.5,-401 112.5,-380 53.5,-380\"/>\n<text text-anchor=\"start\" x=\"58.5\" y=\"-388\" font-family=\"Linux libertine\" font-size=\"10.00\">output: </text>\n<polygon fill=\"none\" stroke=\"black\" points=\"112.5,-380 112.5,-401 195.5,-401 195.5,-380 112.5,-380\"/>\n<text text-anchor=\"start\" x=\"126.5\" y=\"-388\" font-family=\"Linux libertine\" font-size=\"10.00\">(1, 784) </text>\n</g>\n<!-- 0&#45;&gt;1 -->\n<g id=\"edge1\" class=\"edge\">\n<title>0&#45;&gt;1</title>\n<path fill=\"none\" stroke=\"black\" d=\"M97.5,-457.94C97.5,-450.45 97.5,-441.12 97.5,-432.24\"/>\n<polygon fill=\"black\" stroke=\"black\" points=\"101,-432.16 97.5,-422.16 94,-432.16 101,-432.16\"/>\n</g>\n<!-- 2 -->\n<g id=\"node3\" class=\"node\">\n<title>2</title>\n<polygon fill=\"#c1ffc1\" stroke=\"transparent\" points=\"186,-344 9,-344 9,-302 186,-302 186,-344\"/>\n<polygon fill=\"none\" stroke=\"black\" points=\"9.5,-302 9.5,-344 62.5,-344 62.5,-302 9.5,-302\"/>\n<text text-anchor=\"start\" x=\"17.5\" y=\"-326\" font-family=\"Linux libertine\" font-size=\"10.00\">Linear</text>\n<text text-anchor=\"start\" x=\"14.5\" y=\"-315\" font-family=\"Linux libertine\" font-size=\"10.00\">depth:1</text>\n<polygon fill=\"none\" stroke=\"black\" points=\"62.5,-323 62.5,-344 121.5,-344 121.5,-323 62.5,-323\"/>\n<text text-anchor=\"start\" x=\"73.5\" y=\"-331\" font-family=\"Linux libertine\" font-size=\"10.00\">input:</text>\n<polygon fill=\"none\" stroke=\"black\" points=\"121.5,-323 121.5,-344 186.5,-344 186.5,-323 121.5,-323\"/>\n<text text-anchor=\"start\" x=\"126.5\" y=\"-331\" font-family=\"Linux libertine\" font-size=\"10.00\">(1, 784) </text>\n<polygon fill=\"none\" stroke=\"black\" points=\"62.5,-302 62.5,-323 121.5,-323 121.5,-302 62.5,-302\"/>\n<text text-anchor=\"start\" x=\"67.5\" y=\"-310\" font-family=\"Linux libertine\" font-size=\"10.00\">output: </text>\n<polygon fill=\"none\" stroke=\"black\" points=\"121.5,-302 121.5,-323 186.5,-323 186.5,-302 121.5,-302\"/>\n<text text-anchor=\"start\" x=\"129.5\" y=\"-310\" font-family=\"Linux libertine\" font-size=\"10.00\">(1, 50) </text>\n</g>\n<!-- 1&#45;&gt;2 -->\n<g id=\"edge2\" class=\"edge\">\n<title>1&#45;&gt;2</title>\n<path fill=\"none\" stroke=\"black\" d=\"M97.5,-379.63C97.5,-371.82 97.5,-362.73 97.5,-354.18\"/>\n<polygon fill=\"black\" stroke=\"black\" points=\"101,-354.16 97.5,-344.16 94,-354.16 101,-354.16\"/>\n</g>\n<!-- 3 -->\n<g id=\"node4\" class=\"node\">\n<title>3</title>\n<polygon fill=\"aliceblue\" stroke=\"transparent\" points=\"183,-266 12,-266 12,-224 183,-224 183,-266\"/>\n<polygon fill=\"none\" stroke=\"black\" points=\"12.5,-224 12.5,-266 65.5,-266 65.5,-224 12.5,-224\"/>\n<text text-anchor=\"start\" x=\"26.5\" y=\"-248\" font-family=\"Linux libertine\" font-size=\"10.00\">relu</text>\n<text text-anchor=\"start\" x=\"17.5\" y=\"-237\" font-family=\"Linux libertine\" font-size=\"10.00\">depth:1</text>\n<polygon fill=\"none\" stroke=\"black\" points=\"65.5,-245 65.5,-266 124.5,-266 124.5,-245 65.5,-245\"/>\n<text text-anchor=\"start\" x=\"76.5\" y=\"-253\" font-family=\"Linux libertine\" font-size=\"10.00\">input:</text>\n<polygon fill=\"none\" stroke=\"black\" points=\"124.5,-245 124.5,-266 183.5,-266 183.5,-245 124.5,-245\"/>\n<text text-anchor=\"start\" x=\"129.5\" y=\"-253\" font-family=\"Linux libertine\" font-size=\"10.00\">(1, 50) </text>\n<polygon fill=\"none\" stroke=\"black\" points=\"65.5,-224 65.5,-245 124.5,-245 124.5,-224 65.5,-224\"/>\n<text text-anchor=\"start\" x=\"70.5\" y=\"-232\" font-family=\"Linux libertine\" font-size=\"10.00\">output: </text>\n<polygon fill=\"none\" stroke=\"black\" points=\"124.5,-224 124.5,-245 183.5,-245 183.5,-224 124.5,-224\"/>\n<text text-anchor=\"start\" x=\"129.5\" y=\"-232\" font-family=\"Linux libertine\" font-size=\"10.00\">(1, 50) </text>\n</g>\n<!-- 2&#45;&gt;3 -->\n<g id=\"edge3\" class=\"edge\">\n<title>2&#45;&gt;3</title>\n<path fill=\"none\" stroke=\"black\" d=\"M97.5,-301.63C97.5,-293.82 97.5,-284.73 97.5,-276.18\"/>\n<polygon fill=\"black\" stroke=\"black\" points=\"101,-276.16 97.5,-266.16 94,-276.16 101,-276.16\"/>\n</g>\n<!-- 4 -->\n<g id=\"node5\" class=\"node\">\n<title>4</title>\n<polygon fill=\"#c1ffc1\" stroke=\"transparent\" points=\"183,-188 12,-188 12,-146 183,-146 183,-188\"/>\n<polygon fill=\"none\" stroke=\"black\" points=\"12.5,-146 12.5,-188 65.5,-188 65.5,-146 12.5,-146\"/>\n<text text-anchor=\"start\" x=\"20.5\" y=\"-170\" font-family=\"Linux libertine\" font-size=\"10.00\">Linear</text>\n<text text-anchor=\"start\" x=\"17.5\" y=\"-159\" font-family=\"Linux libertine\" font-size=\"10.00\">depth:1</text>\n<polygon fill=\"none\" stroke=\"black\" points=\"65.5,-167 65.5,-188 124.5,-188 124.5,-167 65.5,-167\"/>\n<text text-anchor=\"start\" x=\"76.5\" y=\"-175\" font-family=\"Linux libertine\" font-size=\"10.00\">input:</text>\n<polygon fill=\"none\" stroke=\"black\" points=\"124.5,-167 124.5,-188 183.5,-188 183.5,-167 124.5,-167\"/>\n<text text-anchor=\"start\" x=\"129.5\" y=\"-175\" font-family=\"Linux libertine\" font-size=\"10.00\">(1, 50) </text>\n<polygon fill=\"none\" stroke=\"black\" points=\"65.5,-146 65.5,-167 124.5,-167 124.5,-146 65.5,-146\"/>\n<text text-anchor=\"start\" x=\"70.5\" y=\"-154\" font-family=\"Linux libertine\" font-size=\"10.00\">output: </text>\n<polygon fill=\"none\" stroke=\"black\" points=\"124.5,-146 124.5,-167 183.5,-167 183.5,-146 124.5,-146\"/>\n<text text-anchor=\"start\" x=\"129.5\" y=\"-154\" font-family=\"Linux libertine\" font-size=\"10.00\">(1, 10) </text>\n</g>\n<!-- 3&#45;&gt;4 -->\n<g id=\"edge4\" class=\"edge\">\n<title>3&#45;&gt;4</title>\n<path fill=\"none\" stroke=\"black\" d=\"M97.5,-223.63C97.5,-215.82 97.5,-206.73 97.5,-198.18\"/>\n<polygon fill=\"black\" stroke=\"black\" points=\"101,-198.16 97.5,-188.16 94,-198.16 101,-198.16\"/>\n</g>\n<!-- 5 -->\n<g id=\"node6\" class=\"node\">\n<title>5</title>\n<polygon fill=\"aliceblue\" stroke=\"transparent\" points=\"195,-110 0,-110 0,-68 195,-68 195,-110\"/>\n<polygon fill=\"none\" stroke=\"black\" points=\"0.5,-68 0.5,-110 77.5,-110 77.5,-68 0.5,-68\"/>\n<text text-anchor=\"start\" x=\"5.5\" y=\"-92\" font-family=\"Linux libertine\" font-size=\"10.00\">log_softmax</text>\n<text text-anchor=\"start\" x=\"17.5\" y=\"-81\" font-family=\"Linux libertine\" font-size=\"10.00\">depth:1</text>\n<polygon fill=\"none\" stroke=\"black\" points=\"77.5,-89 77.5,-110 136.5,-110 136.5,-89 77.5,-89\"/>\n<text text-anchor=\"start\" x=\"88.5\" y=\"-97\" font-family=\"Linux libertine\" font-size=\"10.00\">input:</text>\n<polygon fill=\"none\" stroke=\"black\" points=\"136.5,-89 136.5,-110 195.5,-110 195.5,-89 136.5,-89\"/>\n<text text-anchor=\"start\" x=\"141.5\" y=\"-97\" font-family=\"Linux libertine\" font-size=\"10.00\">(1, 10) </text>\n<polygon fill=\"none\" stroke=\"black\" points=\"77.5,-68 77.5,-89 136.5,-89 136.5,-68 77.5,-68\"/>\n<text text-anchor=\"start\" x=\"82.5\" y=\"-76\" font-family=\"Linux libertine\" font-size=\"10.00\">output: </text>\n<polygon fill=\"none\" stroke=\"black\" points=\"136.5,-68 136.5,-89 195.5,-89 195.5,-68 136.5,-68\"/>\n<text text-anchor=\"start\" x=\"141.5\" y=\"-76\" font-family=\"Linux libertine\" font-size=\"10.00\">(1, 10) </text>\n</g>\n<!-- 4&#45;&gt;5 -->\n<g id=\"edge5\" class=\"edge\">\n<title>4&#45;&gt;5</title>\n<path fill=\"none\" stroke=\"black\" d=\"M97.5,-145.63C97.5,-137.82 97.5,-128.73 97.5,-120.18\"/>\n<polygon fill=\"black\" stroke=\"black\" points=\"101,-120.16 97.5,-110.16 94,-120.16 101,-120.16\"/>\n</g>\n<!-- 6 -->\n<g id=\"node7\" class=\"node\">\n<title>6</title>\n<polygon fill=\"lightyellow\" stroke=\"transparent\" points=\"168.5,-32 26.5,-32 26.5,0 168.5,0 168.5,-32\"/>\n<polygon fill=\"none\" stroke=\"black\" points=\"26.5,0 26.5,-32 115.5,-32 115.5,0 26.5,0\"/>\n<text text-anchor=\"start\" x=\"31.5\" y=\"-19\" font-family=\"Linux libertine\" font-size=\"10.00\">output&#45;tensor</text>\n<text text-anchor=\"start\" x=\"49.5\" y=\"-8\" font-family=\"Linux libertine\" font-size=\"10.00\">depth:0</text>\n<polygon fill=\"none\" stroke=\"black\" points=\"115.5,0 115.5,-32 168.5,-32 168.5,0 115.5,0\"/>\n<text text-anchor=\"start\" x=\"120.5\" y=\"-13.5\" font-family=\"Linux libertine\" font-size=\"10.00\">(1, 10)</text>\n</g>\n<!-- 5&#45;&gt;6 -->\n<g id=\"edge6\" class=\"edge\">\n<title>5&#45;&gt;6</title>\n<path fill=\"none\" stroke=\"black\" d=\"M97.5,-67.84C97.5,-59.89 97.5,-50.66 97.5,-42.26\"/>\n<polygon fill=\"black\" stroke=\"black\" points=\"101,-42.24 97.5,-32.24 94,-42.24 101,-42.24\"/>\n</g>\n</g>\n</svg>\n",
            "text/plain": [
              "<graphviz.graphs.Digraph at 0x7d3a84747b80>"
            ]
          },
          "metadata": {},
          "execution_count": 28
        }
      ]
    },
    {
      "cell_type": "code",
      "source": [],
      "metadata": {
        "id": "oaOT7fYi-XZe"
      },
      "execution_count": 29,
      "outputs": []
    },
    {
      "cell_type": "code",
      "source": [],
      "metadata": {
        "id": "BgaYrHaRB0-5"
      },
      "execution_count": null,
      "outputs": []
    }
  ]
}