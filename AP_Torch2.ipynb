{
  "nbformat": 4,
  "nbformat_minor": 0,
  "metadata": {
    "colab": {
      "provenance": [],
      "gpuType": "T4",
      "authorship_tag": "ABX9TyOd0pVCVqZVY2X4Wa2fWN/b",
      "include_colab_link": true
    },
    "kernelspec": {
      "name": "python3",
      "display_name": "Python 3"
    },
    "language_info": {
      "name": "python"
    },
    "accelerator": "GPU"
  },
  "cells": [
    {
      "cell_type": "markdown",
      "metadata": {
        "id": "view-in-github",
        "colab_type": "text"
      },
      "source": [
        "<a href=\"https://colab.research.google.com/github/soutrik71/pytorch_classics/blob/main/AP_Torch2.ipynb\" target=\"_parent\"><img src=\"https://colab.research.google.com/assets/colab-badge.svg\" alt=\"Open In Colab\"/></a>"
      ]
    },
    {
      "cell_type": "markdown",
      "source": [
        "This notebook is all about discussion on torch Workflow along with an comprehensive study on a Regression Model and a Classification Model."
      ],
      "metadata": {
        "id": "TnxnTsWcGSV-"
      }
    },
    {
      "cell_type": "code",
      "source": [
        "# !pip install torchview"
      ],
      "metadata": {
        "id": "ZSylKXdaCMST"
      },
      "execution_count": 1,
      "outputs": []
    },
    {
      "cell_type": "code",
      "source": [
        "import torch\n",
        "import torch.nn as nn\n",
        "import torch.nn.functional as F\n",
        "import torch.optim as optim\n",
        "import torchvision.transforms as transforms\n",
        "import matplotlib.pyplot as plt\n",
        "import numpy as np\n",
        "import torchvision.datasets as datasets\n",
        "from torch.utils.data import DataLoader\n",
        "from torchsummary import summary\n",
        "from torchview import draw_graph\n",
        "from pathlib import Path"
      ],
      "metadata": {
        "id": "RtOyECH-jOSX"
      },
      "execution_count": 2,
      "outputs": []
    },
    {
      "cell_type": "markdown",
      "source": [
        "## Torch Workflow fundamentals using a MNIST dataset -- to setup the premise\n",
        "\n",
        "```md\n",
        "| Topic                                                    | Contents                                                                                                                          |\n",
        "|----------------------------------------------------------|-----------------------------------------------------------------------------------------------------------------------------------|\n",
        "| 1. Getting data ready                                    | Data can be almost anything but to get started we're going to create a simple straight line                                       |\n",
        "| 2. Building a model                                      | Here we'll create a model to learn patterns in the data, we'll also choose a loss function, optimizer and build a training loop.  |\n",
        "| 3. Fitting the model to data (training)                  | We've got data and a model, now let's let the model (try to) find patterns in the (training) data.                                |\n",
        "| 4. Making predictions and evaluating a model (inference) | Our model's found patterns in the data, let's compare its findings to the actual (testing) data.                                  |\n",
        "| 5. Saving and loading a model                            | You may want to use your model elsewhere, or come back to it later, here we'll cover that.                                        |\n",
        "|                                                          |                                                                                                                                   |\n",
        "\n",
        "```"
      ],
      "metadata": {
        "id": "2PsNwLaOsSds"
      }
    },
    {
      "cell_type": "markdown",
      "source": [
        "##### Key Pointers:\n",
        "1. Dataset stores the samples and their corresponding labels, and DataLoader wraps an iterable around the Dataset.\n",
        "2. We pass the Dataset as an argument to DataLoader. This wraps an iterable over our dataset, and supports automatic batching, sampling, shuffling and multiprocess data loading.\n",
        "3. nn.Module contains the larger building blocks (layers)\n",
        "4. nn.Parameter contains the smaller parameters like weights and biases (put these together to make nn.Module(s))\n",
        "5. forward() tells the larger blocks how to make calculations on inputs (tensors full of data) within nn.Module(s)\n",
        "6. torch.optim contains optimization methods on how to improve the parameters within nn.Parameter to better represent input data.\n",
        "7. in older PyTorch code, you may also see torch.no_grad() being used for inference. While torch.inference_mode() and torch.no_grad() do similar things, torch.inference_mode() is newer, potentially faster and preferred"
      ],
      "metadata": {
        "id": "MkRDxH53-WLv"
      }
    },
    {
      "cell_type": "markdown",
      "source": [
        "##### Data Loading"
      ],
      "metadata": {
        "id": "Wb-2AgkMFpkv"
      }
    },
    {
      "cell_type": "code",
      "source": [
        "# Set manual seed since nn.Parameter are randomly initialzied\n",
        "torch.manual_seed(42)"
      ],
      "metadata": {
        "colab": {
          "base_uri": "https://localhost:8080/"
        },
        "id": "-CS2wDh-_Ojt",
        "outputId": "d89e9404-58c5-4c5c-c941-424f3c11c813"
      },
      "execution_count": 3,
      "outputs": [
        {
          "output_type": "execute_result",
          "data": {
            "text/plain": [
              "<torch._C.Generator at 0x7cd15811d6d0>"
            ]
          },
          "metadata": {},
          "execution_count": 3
        }
      ]
    },
    {
      "cell_type": "code",
      "source": [
        "# downloading the training data from Datasets library\n",
        "training_data = datasets.MNIST(\n",
        "    root=\"data\",\n",
        "    train=True,\n",
        "    download=True,\n",
        "    transform=transforms.ToTensor()\n",
        ")\n",
        "\n",
        "test_data = datasets.MNIST(\n",
        "    root=\"data\",\n",
        "    train=False,\n",
        "    download=True,\n",
        "    transform=transforms.ToTensor()\n",
        ")"
      ],
      "metadata": {
        "id": "a9MhYlHU-We8"
      },
      "execution_count": 4,
      "outputs": []
    },
    {
      "cell_type": "code",
      "source": [
        "# Set device cuda for GPU if it's available otherwise run on the CPU\n",
        "device = torch.device(\"cuda\" if torch.cuda.is_available() else \"cpu\")\n",
        "print(device)"
      ],
      "metadata": {
        "colab": {
          "base_uri": "https://localhost:8080/"
        },
        "id": "DnTvu70lENSY",
        "outputId": "0451adb9-0792-4b87-d3f9-7843a21ea35c"
      },
      "execution_count": 5,
      "outputs": [
        {
          "output_type": "stream",
          "name": "stdout",
          "text": [
            "cuda\n"
          ]
        }
      ]
    },
    {
      "cell_type": "code",
      "source": [
        "batch_size = 128\n",
        "epochs = 10\n",
        "lr = 1e-3"
      ],
      "metadata": {
        "id": "w8HGv77HD0fM"
      },
      "execution_count": 6,
      "outputs": []
    },
    {
      "cell_type": "code",
      "source": [
        "print(training_data.data.shape)\n",
        "print(test_data.data.shape)\n",
        "print(training_data.targets.shape)"
      ],
      "metadata": {
        "colab": {
          "base_uri": "https://localhost:8080/"
        },
        "id": "o8lNj9NK-WmK",
        "outputId": "7f1fc4c9-adbc-4c53-f900-2ec023f66529"
      },
      "execution_count": 7,
      "outputs": [
        {
          "output_type": "stream",
          "name": "stdout",
          "text": [
            "torch.Size([60000, 28, 28])\n",
            "torch.Size([10000, 28, 28])\n",
            "torch.Size([60000])\n"
          ]
        }
      ]
    },
    {
      "cell_type": "code",
      "source": [
        "# wrapping the raw data into dataloader class\n",
        "train_loader = DataLoader(training_data, batch_size=batch_size, shuffle=True)\n",
        "test_loader = DataLoader(test_data, batch_size=batch_size, shuffle=True)"
      ],
      "metadata": {
        "id": "oyqou6Y6-WsJ"
      },
      "execution_count": 8,
      "outputs": []
    },
    {
      "cell_type": "code",
      "source": [
        "for X, y in train_loader:\n",
        "    print(f\"Shape of X [N, C, H, W]: {X.shape}\")\n",
        "    print(f\"Shape of y: {y.shape} {y.dtype}\")\n",
        "    break"
      ],
      "metadata": {
        "colab": {
          "base_uri": "https://localhost:8080/"
        },
        "id": "xMBeuKXh-Wxx",
        "outputId": "be0cf3d7-d4f6-477d-9e2d-4ebeb3469d05"
      },
      "execution_count": 9,
      "outputs": [
        {
          "output_type": "stream",
          "name": "stdout",
          "text": [
            "Shape of X [N, C, H, W]: torch.Size([128, 1, 28, 28])\n",
            "Shape of y: torch.Size([128]) torch.int64\n"
          ]
        }
      ]
    },
    {
      "cell_type": "code",
      "source": [
        "# Display image and label.\n",
        "train_features, train_labels = next(iter(train_loader))\n",
        "print(f\"Feature batch shape: {train_features.size()}\")\n",
        "print(f\"Labels batch shape: {train_labels.size()}\")\n",
        "img = train_features[0].squeeze() # Torch.Size([28, 28])\n",
        "label = train_labels[0]\n",
        "plt.imshow(img, cmap=\"gray\")\n",
        "plt.show()\n",
        "print(f\"Label: {label}\")"
      ],
      "metadata": {
        "colab": {
          "base_uri": "https://localhost:8080/",
          "height": 482
        },
        "id": "SxNT8zbN-W3h",
        "outputId": "79e04b93-48d1-4aa5-e166-34e65d6b7089"
      },
      "execution_count": 10,
      "outputs": [
        {
          "output_type": "stream",
          "name": "stdout",
          "text": [
            "Feature batch shape: torch.Size([128, 1, 28, 28])\n",
            "Labels batch shape: torch.Size([128])\n"
          ]
        },
        {
          "output_type": "display_data",
          "data": {
            "text/plain": [
              "<Figure size 640x480 with 1 Axes>"
            ],
            "image/png": "[encoded data removed]"
          },
          "metadata": {}
        },
        {
          "output_type": "stream",
          "name": "stdout",
          "text": [
            "Label: 9\n"
          ]
        }
      ]
    },
    {
      "cell_type": "markdown",
      "source": [
        "##### Model Definition Piece"
      ],
      "metadata": {
        "id": "DBUSBjWA-W9C"
      }
    },
    {
      "cell_type": "code",
      "source": [
        "class SimpleNN(nn.Module):\n",
        "  \"\"\"Simple NN model\"\"\"\n",
        "  def __init__(self, input_size, num_classes):\n",
        "    super(SimpleNN, self).__init__()\n",
        "    self.flatten = nn.Flatten()\n",
        "    self.fc1 = nn.Linear(input_size, 50)\n",
        "    self.fc2 = nn.Linear(50, num_classes)\n",
        "\n",
        "  def forward(self, x: torch.Tensor):\n",
        "    x = self.flatten(x)\n",
        "    x = self.fc1(x)\n",
        "    x = F.relu(x)\n",
        "    x = self.fc2(x)\n",
        "    return x"
      ],
      "metadata": {
        "id": "rF8DXJzW-XC7"
      },
      "execution_count": 11,
      "outputs": []
    },
    {
      "cell_type": "code",
      "source": [
        "# declaring the model\n",
        "model = SimpleNN(input_size=28*28, num_classes=10).to(device)\n",
        "print(model.state_dict().keys())"
      ],
      "metadata": {
        "colab": {
          "base_uri": "https://localhost:8080/"
        },
        "id": "hj5AO5UO-XI1",
        "outputId": "d1fb6d07-e413-4e74-cfaa-c799ed26763c"
      },
      "execution_count": 12,
      "outputs": [
        {
          "output_type": "stream",
          "name": "stdout",
          "text": [
            "odict_keys(['fc1.weight', 'fc1.bias', 'fc2.weight', 'fc2.bias'])\n"
          ]
        }
      ]
    },
    {
      "cell_type": "code",
      "source": [
        "# summarization of the model layers\n",
        "summary(model, (1, 28, 28))"
      ],
      "metadata": {
        "colab": {
          "base_uri": "https://localhost:8080/"
        },
        "id": "H3shckYn-XOo",
        "outputId": "2713f15a-16a5-4b15-b2f6-0efd58ee535d"
      },
      "execution_count": 13,
      "outputs": [
        {
          "output_type": "stream",
          "name": "stdout",
          "text": [
            "----------------------------------------------------------------\n",
            "        Layer (type)               Output Shape         Param #\n",
            "================================================================\n",
            "           Flatten-1                  [-1, 784]               0\n",
            "            Linear-2                   [-1, 50]          39,250\n",
            "            Linear-3                   [-1, 10]             510\n",
            "================================================================\n",
            "Total params: 39,760\n",
            "Trainable params: 39,760\n",
            "Non-trainable params: 0\n",
            "----------------------------------------------------------------\n",
            "Input size (MB): 0.00\n",
            "Forward/backward pass size (MB): 0.01\n",
            "Params size (MB): 0.15\n",
            "Estimated Total Size (MB): 0.16\n",
            "----------------------------------------------------------------\n"
          ]
        }
      ]
    },
    {
      "cell_type": "code",
      "source": [
        "# graphical representation of the model architecture\n",
        "model_graph = draw_graph(model, input_size=(1, 28, 28), expand_nested=True)\n",
        "model_graph.visual_graph"
      ],
      "metadata": {
        "colab": {
          "base_uri": "https://localhost:8080/",
          "height": 582
        },
        "id": "mopY3BaI-XUC",
        "outputId": "0901d003-309b-49ff-eb81-06d5e65c8b97"
      },
      "execution_count": 14,
      "outputs": [
        {
          "output_type": "execute_result",
          "data": {
            "image/svg+xml": "<?xml version=\"1.0\" encoding=\"UTF-8\" standalone=\"no\"?>\n<!DOCTYPE svg PUBLIC \"-//W3C//DTD SVG 1.1//EN\"\n \"http://www.w3.org/Graphics/SVG/1.1/DTD/svg11.dtd\">\n<!-- Generated by graphviz version 2.43.0 (0)\n -->\n<!-- Title: model Pages: 1 -->\n<svg width=\"203pt\" height=\"420pt\"\n viewBox=\"0.00 0.00 203.00 420.00\" xmlns=\"http://www.w3.org/2000/svg\" xmlns:xlink=\"http://www.w3.org/1999/xlink\">\n<g id=\"graph0\" class=\"graph\" transform=\"scale(1 1) rotate(0) translate(4 416)\">\n<title>model</title>\n<polygon fill=\"white\" stroke=\"transparent\" points=\"-4,4 -4,-416 199,-416 199,4 -4,4\"/>\n<!-- 0 -->\n<g id=\"node1\" class=\"node\">\n<title>0</title>\n<polygon fill=\"lightyellow\" stroke=\"transparent\" points=\"177.5,-412 17.5,-412 17.5,-380 177.5,-380 177.5,-412\"/>\n<polygon fill=\"none\" stroke=\"black\" points=\"17.5,-380 17.5,-412 100.5,-412 100.5,-380 17.5,-380\"/>\n<text text-anchor=\"start\" x=\"22.5\" y=\"-399\" font-family=\"Linux libertine\" font-size=\"10.00\">input&#45;tensor</text>\n<text text-anchor=\"start\" x=\"37.5\" y=\"-388\" font-family=\"Linux libertine\" font-size=\"10.00\">depth:0</text>\n<polygon fill=\"none\" stroke=\"black\" points=\"100.5,-380 100.5,-412 177.5,-412 177.5,-380 100.5,-380\"/>\n<text text-anchor=\"start\" x=\"105.5\" y=\"-393.5\" font-family=\"Linux libertine\" font-size=\"10.00\">(1, 28, 28)</text>\n</g>\n<!-- 1 -->\n<g id=\"node2\" class=\"node\">\n<title>1</title>\n<polygon fill=\"#c1ffc1\" stroke=\"transparent\" points=\"195,-344 0,-344 0,-302 195,-302 195,-344\"/>\n<polygon fill=\"none\" stroke=\"black\" points=\"0.5,-302 0.5,-344 53.5,-344 53.5,-302 0.5,-302\"/>\n<text text-anchor=\"start\" x=\"5.5\" y=\"-326\" font-family=\"Linux libertine\" font-size=\"10.00\">Flatten</text>\n<text text-anchor=\"start\" x=\"5.5\" y=\"-315\" font-family=\"Linux libertine\" font-size=\"10.00\">depth:1</text>\n<polygon fill=\"none\" stroke=\"black\" points=\"53.5,-323 53.5,-344 112.5,-344 112.5,-323 53.5,-323\"/>\n<text text-anchor=\"start\" x=\"64.5\" y=\"-331\" font-family=\"Linux libertine\" font-size=\"10.00\">input:</text>\n<polygon fill=\"none\" stroke=\"black\" points=\"112.5,-323 112.5,-344 195.5,-344 195.5,-323 112.5,-323\"/>\n<text text-anchor=\"start\" x=\"117.5\" y=\"-331\" font-family=\"Linux libertine\" font-size=\"10.00\">(1, 28, 28) </text>\n<polygon fill=\"none\" stroke=\"black\" points=\"53.5,-302 53.5,-323 112.5,-323 112.5,-302 53.5,-302\"/>\n<text text-anchor=\"start\" x=\"58.5\" y=\"-310\" font-family=\"Linux libertine\" font-size=\"10.00\">output: </text>\n<polygon fill=\"none\" stroke=\"black\" points=\"112.5,-302 112.5,-323 195.5,-323 195.5,-302 112.5,-302\"/>\n<text text-anchor=\"start\" x=\"126.5\" y=\"-310\" font-family=\"Linux libertine\" font-size=\"10.00\">(1, 784) </text>\n</g>\n<!-- 0&#45;&gt;1 -->\n<g id=\"edge1\" class=\"edge\">\n<title>0&#45;&gt;1</title>\n<path fill=\"none\" stroke=\"black\" d=\"M97.5,-379.94C97.5,-372.45 97.5,-363.12 97.5,-354.24\"/>\n<polygon fill=\"black\" stroke=\"black\" points=\"101,-354.16 97.5,-344.16 94,-354.16 101,-354.16\"/>\n</g>\n<!-- 2 -->\n<g id=\"node3\" class=\"node\">\n<title>2</title>\n<polygon fill=\"#c1ffc1\" stroke=\"transparent\" points=\"186,-266 9,-266 9,-224 186,-224 186,-266\"/>\n<polygon fill=\"none\" stroke=\"black\" points=\"9.5,-224 9.5,-266 62.5,-266 62.5,-224 9.5,-224\"/>\n<text text-anchor=\"start\" x=\"17.5\" y=\"-248\" font-family=\"Linux libertine\" font-size=\"10.00\">Linear</text>\n<text text-anchor=\"start\" x=\"14.5\" y=\"-237\" font-family=\"Linux libertine\" font-size=\"10.00\">depth:1</text>\n<polygon fill=\"none\" stroke=\"black\" points=\"62.5,-245 62.5,-266 121.5,-266 121.5,-245 62.5,-245\"/>\n<text text-anchor=\"start\" x=\"73.5\" y=\"-253\" font-family=\"Linux libertine\" font-size=\"10.00\">input:</text>\n<polygon fill=\"none\" stroke=\"black\" points=\"121.5,-245 121.5,-266 186.5,-266 186.5,-245 121.5,-245\"/>\n<text text-anchor=\"start\" x=\"126.5\" y=\"-253\" font-family=\"Linux libertine\" font-size=\"10.00\">(1, 784) </text>\n<polygon fill=\"none\" stroke=\"black\" points=\"62.5,-224 62.5,-245 121.5,-245 121.5,-224 62.5,-224\"/>\n<text text-anchor=\"start\" x=\"67.5\" y=\"-232\" font-family=\"Linux libertine\" font-size=\"10.00\">output: </text>\n<polygon fill=\"none\" stroke=\"black\" points=\"121.5,-224 121.5,-245 186.5,-245 186.5,-224 121.5,-224\"/>\n<text text-anchor=\"start\" x=\"129.5\" y=\"-232\" font-family=\"Linux libertine\" font-size=\"10.00\">(1, 50) </text>\n</g>\n<!-- 1&#45;&gt;2 -->\n<g id=\"edge2\" class=\"edge\">\n<title>1&#45;&gt;2</title>\n<path fill=\"none\" stroke=\"black\" d=\"M97.5,-301.63C97.5,-293.82 97.5,-284.73 97.5,-276.18\"/>\n<polygon fill=\"black\" stroke=\"black\" points=\"101,-276.16 97.5,-266.16 94,-276.16 101,-276.16\"/>\n</g>\n<!-- 3 -->\n<g id=\"node4\" class=\"node\">\n<title>3</title>\n<polygon fill=\"aliceblue\" stroke=\"transparent\" points=\"183,-188 12,-188 12,-146 183,-146 183,-188\"/>\n<polygon fill=\"none\" stroke=\"black\" points=\"12.5,-146 12.5,-188 65.5,-188 65.5,-146 12.5,-146\"/>\n<text text-anchor=\"start\" x=\"26.5\" y=\"-170\" font-family=\"Linux libertine\" font-size=\"10.00\">relu</text>\n<text text-anchor=\"start\" x=\"17.5\" y=\"-159\" font-family=\"Linux libertine\" font-size=\"10.00\">depth:1</text>\n<polygon fill=\"none\" stroke=\"black\" points=\"65.5,-167 65.5,-188 124.5,-188 124.5,-167 65.5,-167\"/>\n<text text-anchor=\"start\" x=\"76.5\" y=\"-175\" font-family=\"Linux libertine\" font-size=\"10.00\">input:</text>\n<polygon fill=\"none\" stroke=\"black\" points=\"124.5,-167 124.5,-188 183.5,-188 183.5,-167 124.5,-167\"/>\n<text text-anchor=\"start\" x=\"129.5\" y=\"-175\" font-family=\"Linux libertine\" font-size=\"10.00\">(1, 50) </text>\n<polygon fill=\"none\" stroke=\"black\" points=\"65.5,-146 65.5,-167 124.5,-167 124.5,-146 65.5,-146\"/>\n<text text-anchor=\"start\" x=\"70.5\" y=\"-154\" font-family=\"Linux libertine\" font-size=\"10.00\">output: </text>\n<polygon fill=\"none\" stroke=\"black\" points=\"124.5,-146 124.5,-167 183.5,-167 183.5,-146 124.5,-146\"/>\n<text text-anchor=\"start\" x=\"129.5\" y=\"-154\" font-family=\"Linux libertine\" font-size=\"10.00\">(1, 50) </text>\n</g>\n<!-- 2&#45;&gt;3 -->\n<g id=\"edge3\" class=\"edge\">\n<title>2&#45;&gt;3</title>\n<path fill=\"none\" stroke=\"black\" d=\"M97.5,-223.63C97.5,-215.82 97.5,-206.73 97.5,-198.18\"/>\n<polygon fill=\"black\" stroke=\"black\" points=\"101,-198.16 97.5,-188.16 94,-198.16 101,-198.16\"/>\n</g>\n<!-- 4 -->\n<g id=\"node5\" class=\"node\">\n<title>4</title>\n<polygon fill=\"#c1ffc1\" stroke=\"transparent\" points=\"183,-110 12,-110 12,-68 183,-68 183,-110\"/>\n<polygon fill=\"none\" stroke=\"black\" points=\"12.5,-68 12.5,-110 65.5,-110 65.5,-68 12.5,-68\"/>\n<text text-anchor=\"start\" x=\"20.5\" y=\"-92\" font-family=\"Linux libertine\" font-size=\"10.00\">Linear</text>\n<text text-anchor=\"start\" x=\"17.5\" y=\"-81\" font-family=\"Linux libertine\" font-size=\"10.00\">depth:1</text>\n<polygon fill=\"none\" stroke=\"black\" points=\"65.5,-89 65.5,-110 124.5,-110 124.5,-89 65.5,-89\"/>\n<text text-anchor=\"start\" x=\"76.5\" y=\"-97\" font-family=\"Linux libertine\" font-size=\"10.00\">input:</text>\n<polygon fill=\"none\" stroke=\"black\" points=\"124.5,-89 124.5,-110 183.5,-110 183.5,-89 124.5,-89\"/>\n<text text-anchor=\"start\" x=\"129.5\" y=\"-97\" font-family=\"Linux libertine\" font-size=\"10.00\">(1, 50) </text>\n<polygon fill=\"none\" stroke=\"black\" points=\"65.5,-68 65.5,-89 124.5,-89 124.5,-68 65.5,-68\"/>\n<text text-anchor=\"start\" x=\"70.5\" y=\"-76\" font-family=\"Linux libertine\" font-size=\"10.00\">output: </text>\n<polygon fill=\"none\" stroke=\"black\" points=\"124.5,-68 124.5,-89 183.5,-89 183.5,-68 124.5,-68\"/>\n<text text-anchor=\"start\" x=\"129.5\" y=\"-76\" font-family=\"Linux libertine\" font-size=\"10.00\">(1, 10) </text>\n</g>\n<!-- 3&#45;&gt;4 -->\n<g id=\"edge4\" class=\"edge\">\n<title>3&#45;&gt;4</title>\n<path fill=\"none\" stroke=\"black\" d=\"M97.5,-145.63C97.5,-137.82 97.5,-128.73 97.5,-120.18\"/>\n<polygon fill=\"black\" stroke=\"black\" points=\"101,-120.16 97.5,-110.16 94,-120.16 101,-120.16\"/>\n</g>\n<!-- 5 -->\n<g id=\"node6\" class=\"node\">\n<title>5</title>\n<polygon fill=\"lightyellow\" stroke=\"transparent\" points=\"168.5,-32 26.5,-32 26.5,0 168.5,0 168.5,-32\"/>\n<polygon fill=\"none\" stroke=\"black\" points=\"26.5,0 26.5,-32 115.5,-32 115.5,0 26.5,0\"/>\n<text text-anchor=\"start\" x=\"31.5\" y=\"-19\" font-family=\"Linux libertine\" font-size=\"10.00\">output&#45;tensor</text>\n<text text-anchor=\"start\" x=\"49.5\" y=\"-8\" font-family=\"Linux libertine\" font-size=\"10.00\">depth:0</text>\n<polygon fill=\"none\" stroke=\"black\" points=\"115.5,0 115.5,-32 168.5,-32 168.5,0 115.5,0\"/>\n<text text-anchor=\"start\" x=\"120.5\" y=\"-13.5\" font-family=\"Linux libertine\" font-size=\"10.00\">(1, 10)</text>\n</g>\n<!-- 4&#45;&gt;5 -->\n<g id=\"edge5\" class=\"edge\">\n<title>4&#45;&gt;5</title>\n<path fill=\"none\" stroke=\"black\" d=\"M97.5,-67.84C97.5,-59.89 97.5,-50.66 97.5,-42.26\"/>\n<polygon fill=\"black\" stroke=\"black\" points=\"101,-42.24 97.5,-32.24 94,-42.24 101,-42.24\"/>\n</g>\n</g>\n</svg>\n",
            "text/plain": [
              "<graphviz.graphs.Digraph at 0x7cd08808f490>"
            ]
          },
          "metadata": {},
          "execution_count": 14
        }
      ]
    },
    {
      "cell_type": "markdown",
      "source": [
        "##### Train the model - loss and Optimizer\n",
        "\n",
        "```md\n",
        "| Function      | What does it do?                                                                                                            |\n",
        "|---------------|-----------------------------------------------------------------------------------------------------------------------------|\n",
        "| Loss function | Measures how wrong your models predictions (e.g. y_preds) are compared to the truth labels (e.g. y_test). Lower the better. |\n",
        "| Optimizer     | Tells your model how to update its internal parameters to best lower the loss.                                              |\n",
        "```"
      ],
      "metadata": {
        "id": "oaOT7fYi-XZe"
      }
    },
    {
      "cell_type": "code",
      "source": [
        "# Init loss function - common options are nn.CrossEntropyLoss,nn.BCELoss,nn.BCEWithLogitsLoss\n",
        "loss_fn = nn.CrossEntropyLoss()\n",
        "\n",
        "# Init optimizers- common options are Adam, SGD ,RMSprop\n",
        "optimizer = torch.optim.SGD(model.parameters(), lr)\n",
        "\n",
        "# defining a custom metric - later we will use torch metrics\n",
        "def accuracy_fn(y_true, y_pred):\n",
        "    correct = torch.eq(y_true, y_pred).sum().item() # torch.eq() calculates where two tensors are equal\n",
        "    acc = (correct / len(y_pred)) * 100\n",
        "    return acc"
      ],
      "metadata": {
        "id": "BgaYrHaRB0-5"
      },
      "execution_count": 15,
      "outputs": []
    },
    {
      "cell_type": "markdown",
      "source": [
        "##### Training steps - Design for the training module\n",
        "```md\n",
        "| Number | Step name                               | What does it do?                                                                                                                                                                      | Code example                     |\n",
        "|--------|-----------------------------------------|---------------------------------------------------------------------------------------------------------------------------------------------------------------------------------------|----------------------------------|\n",
        "| 1      | Forward pass                            | The model goes through all of the training data once, performing its forward() function calculations.                                                                                 | model(x_train)                   |\n",
        "| 2      | Calculate the loss                      | The model's outputs (predictions) are compared to the ground truth and evaluated to see how wrong they are.                                                                           | loss = loss_fn(y_pred, y_train)  |\n",
        "| 3      | Zero gradients                          | The optimizers gradients are set to zero (they are accumulated by default) so they can be recalculated for the specific training step.                                                | optimizer.zero_grad()            |\n",
        "| 4      | Perform backpropagation on the loss     | Computes the gradient of the loss with respect for every model parameter to be updated (each parameter with requires_grad=True). This is known as backpropagation, hence \"backwards\". | loss.backward()                  |\n",
        "| 5      | Update the optimizer (gradient descent) | Update the parameters with requires_grad=True with respect to the loss gradients in order to improve them.                                                                            | optimizer.step()                 |\n",
        "```"
      ],
      "metadata": {
        "id": "ME0D2sRwE3Ks"
      }
    },
    {
      "cell_type": "code",
      "source": [
        "def train_loop(model, dataloader, loss_fn, optimizer):\n",
        "  \"\"\"Training loop\"\"\"\n",
        "  train_size = len(dataloader.dataset)\n",
        "  batch_cnt , batch_loss, batch_acc = 0, 0, 0\n",
        "  model.train()\n",
        "  for batch, (X,y) in enumerate(dataloader):\n",
        "    X,y = X.to(device), y.to(device)\n",
        "    # model predictions in logits\n",
        "    pred_logits = model(X)\n",
        "    # loss calculation\n",
        "    loss = loss_fn(pred_logits, y)\n",
        "    # metric calculation\n",
        "    pred_probs = F.softmax(pred_logits, dim=1)\n",
        "    pred_classes = pred_probs.argmax(dim=1)\n",
        "    acc = accuracy_fn(y, pred_classes)\n",
        "\n",
        "    # backpropagation -> backprop -> optimize -> remove existing gradient\n",
        "    loss.backward()\n",
        "    optimizer.step()\n",
        "    optimizer.zero_grad()\n",
        "\n",
        "    batch_loss += loss.item()\n",
        "    batch_acc += acc\n",
        "    batch_cnt += 1\n",
        "    # print the loss and accuracy for predefiend set of batched under one epoch\n",
        "    if batch % batch_size == 0:\n",
        "      loss, current = loss.item(), (batch+1) * len(X)\n",
        "      print(f\"loss: {loss:>7f} and Accuracy : {acc:>5f}[{current:>5d}/{train_size:>5d}]\")\n",
        "\n",
        "  batch_loss /= batch_cnt\n",
        "  batch_acc /= batch_cnt\n",
        "  print(f\"Train Avg metrics: \\n Accuracy: {(batch_acc):>0.1f}%, Avg loss: {batch_loss:>8f} \\n\")\n",
        "  return batch_loss, batch_acc"
      ],
      "metadata": {
        "id": "VILXKmFaGVNm"
      },
      "execution_count": 16,
      "outputs": []
    },
    {
      "cell_type": "markdown",
      "source": [
        "##### validation steps - Design for the validation module\n",
        "1. Declare placeholders for loss and accuracy\n",
        "2. Init the model in eval mode\n",
        "3. with no grad calculation context for each batch calculate loss and accuracy\n",
        "4. Print the loss and accuracy by averaging over all batches"
      ],
      "metadata": {
        "id": "lLp9uAQKcAv8"
      }
    },
    {
      "cell_type": "code",
      "source": [
        "def test_loop(model, dataloader, loss_fn):\n",
        "  \"\"\"Testing loop\"\"\"\n",
        "  test_size = len(dataloader.dataset)\n",
        "  num_batches = len(dataloader)\n",
        "  model.eval() # putting the model in evaluation mode\n",
        "  test_loss, test_acc = 0, 0\n",
        "  with torch.no_grad(): # Context-manager that disables gradient calculation.\n",
        "    for X,y in dataloader:\n",
        "      X,y = X.to(device), y.to(device)\n",
        "      pred_logits = model(X)\n",
        "      # for each batches cal loss and accuracy and storing them\n",
        "      test_loss += loss_fn(pred_logits, y).item()\n",
        "      pred_probs = F.softmax(pred_logits, dim=1)\n",
        "      pred_classes = pred_probs.argmax(dim=1)\n",
        "      test_acc += accuracy_fn(y, pred_classes)\n",
        "\n",
        "  test_loss /= num_batches\n",
        "  test_acc /= num_batches\n",
        "  print(f\"Test Error: \\n Accuracy: {(test_acc):>0.1f}%, Avg loss: {test_loss:>8f} \\n\")\n",
        "  return test_loss, test_acc"
      ],
      "metadata": {
        "id": "p9VqbbkLbFhX"
      },
      "execution_count": 17,
      "outputs": []
    },
    {
      "cell_type": "markdown",
      "source": [
        "##### epoch level iterations and loss tracking"
      ],
      "metadata": {
        "id": "1iMdqEtnkrI2"
      }
    },
    {
      "cell_type": "code",
      "source": [
        "train_loss_values = []\n",
        "test_loss_values = []\n",
        "epoch_count = []\n",
        "for t in range(epochs):\n",
        "    print(f\"Epoch {t+1}\\n-------------------------------\")\n",
        "    train_loss , train_acc = train_loop(model = model , dataloader=train_loader, loss_fn=loss_fn , optimizer=optimizer)\n",
        "    test_loss , test_acc = test_loop(model = model , dataloader=test_loader, loss_fn=loss_fn)\n",
        "    train_loss_values.append(train_loss)\n",
        "    test_loss_values.append(test_loss)\n",
        "    epoch_count.append(t)"
      ],
      "metadata": {
        "colab": {
          "base_uri": "https://localhost:8080/"
        },
        "id": "L_kdZ5tyb6OF",
        "outputId": "36f9e282-20b8-4d2a-c818-7b8b3a531b1d"
      },
      "execution_count": 18,
      "outputs": [
        {
          "output_type": "stream",
          "name": "stdout",
          "text": [
            "Epoch 1\n",
            "-------------------------------\n",
            "loss: 2.300261 and Accuracy : 9.375000[  128/60000]\n",
            "loss: 2.275981 and Accuracy : 15.625000[16512/60000]\n",
            "loss: 2.272138 and Accuracy : 18.750000[32896/60000]\n",
            "loss: 2.262360 and Accuracy : 21.875000[49280/60000]\n",
            "Train Avg metrics: \n",
            " Accuracy: 18.2%, Avg loss: 2.268570 \n",
            "\n",
            "Test Error: \n",
            " Accuracy: 28.2%, Avg loss: 2.231076 \n",
            "\n",
            "Epoch 2\n",
            "-------------------------------\n",
            "loss: 2.221874 and Accuracy : 32.031250[  128/60000]\n",
            "loss: 2.220694 and Accuracy : 29.687500[16512/60000]\n",
            "loss: 2.166821 and Accuracy : 42.968750[32896/60000]\n",
            "loss: 2.176263 and Accuracy : 38.281250[49280/60000]\n",
            "Train Avg metrics: \n",
            " Accuracy: 34.8%, Avg loss: 2.191428 \n",
            "\n",
            "Test Error: \n",
            " Accuracy: 41.5%, Avg loss: 2.143644 \n",
            "\n",
            "Epoch 3\n",
            "-------------------------------\n",
            "loss: 2.135492 and Accuracy : 42.968750[  128/60000]\n",
            "loss: 2.147303 and Accuracy : 37.500000[16512/60000]\n",
            "loss: 2.094316 and Accuracy : 46.875000[32896/60000]\n",
            "loss: 2.053289 and Accuracy : 52.343750[49280/60000]\n",
            "Train Avg metrics: \n",
            " Accuracy: 46.1%, Avg loss: 2.095930 \n",
            "\n",
            "Test Error: \n",
            " Accuracy: 51.8%, Avg loss: 2.035504 \n",
            "\n",
            "Epoch 4\n",
            "-------------------------------\n",
            "loss: 2.090593 and Accuracy : 44.531250[  128/60000]\n",
            "loss: 2.001467 and Accuracy : 52.343750[16512/60000]\n",
            "loss: 1.984717 and Accuracy : 51.562500[32896/60000]\n",
            "loss: 2.030463 and Accuracy : 45.312500[49280/60000]\n",
            "Train Avg metrics: \n",
            " Accuracy: 54.5%, Avg loss: 1.982683 \n",
            "\n",
            "Test Error: \n",
            " Accuracy: 59.8%, Avg loss: 1.911946 \n",
            "\n",
            "Epoch 5\n",
            "-------------------------------\n",
            "loss: 1.938142 and Accuracy : 60.156250[  128/60000]\n",
            "loss: 1.865825 and Accuracy : 64.843750[16512/60000]\n",
            "loss: 1.850790 and Accuracy : 58.593750[32896/60000]\n",
            "loss: 1.791048 and Accuracy : 64.843750[49280/60000]\n",
            "Train Avg metrics: \n",
            " Accuracy: 62.5%, Avg loss: 1.853911 \n",
            "\n",
            "Test Error: \n",
            " Accuracy: 66.2%, Avg loss: 1.774594 \n",
            "\n",
            "Epoch 6\n",
            "-------------------------------\n",
            "loss: 1.789161 and Accuracy : 63.281250[  128/60000]\n",
            "loss: 1.665812 and Accuracy : 73.437500[16512/60000]\n",
            "loss: 1.728388 and Accuracy : 68.750000[32896/60000]\n",
            "loss: 1.661113 and Accuracy : 75.000000[49280/60000]\n",
            "Train Avg metrics: \n",
            " Accuracy: 68.0%, Avg loss: 1.713878 \n",
            "\n",
            "Test Error: \n",
            " Accuracy: 71.2%, Avg loss: 1.628788 \n",
            "\n",
            "Epoch 7\n",
            "-------------------------------\n",
            "loss: 1.627425 and Accuracy : 73.437500[  128/60000]\n",
            "loss: 1.634695 and Accuracy : 74.218750[16512/60000]\n",
            "loss: 1.524225 and Accuracy : 81.250000[32896/60000]\n",
            "loss: 1.444945 and Accuracy : 85.156250[49280/60000]\n",
            "Train Avg metrics: \n",
            " Accuracy: 71.9%, Avg loss: 1.569815 \n",
            "\n",
            "Test Error: \n",
            " Accuracy: 74.3%, Avg loss: 1.480776 \n",
            "\n",
            "Epoch 8\n",
            "-------------------------------\n",
            "loss: 1.559855 and Accuracy : 67.187500[  128/60000]\n",
            "loss: 1.407159 and Accuracy : 78.906250[16512/60000]\n",
            "loss: 1.401142 and Accuracy : 79.687500[32896/60000]\n",
            "loss: 1.364556 and Accuracy : 78.906250[49280/60000]\n",
            "Train Avg metrics: \n",
            " Accuracy: 74.5%, Avg loss: 1.429021 \n",
            "\n",
            "Test Error: \n",
            " Accuracy: 76.7%, Avg loss: 1.343056 \n",
            "\n",
            "Epoch 9\n",
            "-------------------------------\n",
            "loss: 1.350869 and Accuracy : 73.437500[  128/60000]\n",
            "loss: 1.339635 and Accuracy : 75.781250[16512/60000]\n",
            "loss: 1.263432 and Accuracy : 81.250000[32896/60000]\n",
            "loss: 1.219653 and Accuracy : 78.125000[49280/60000]\n",
            "Train Avg metrics: \n",
            " Accuracy: 76.5%, Avg loss: 1.298124 \n",
            "\n",
            "Test Error: \n",
            " Accuracy: 78.3%, Avg loss: 1.218193 \n",
            "\n",
            "Epoch 10\n",
            "-------------------------------\n",
            "loss: 1.188181 and Accuracy : 80.468750[  128/60000]\n",
            "loss: 1.169199 and Accuracy : 81.250000[16512/60000]\n",
            "loss: 1.129707 and Accuracy : 75.781250[32896/60000]\n",
            "loss: 1.227608 and Accuracy : 70.312500[49280/60000]\n",
            "Train Avg metrics: \n",
            " Accuracy: 78.1%, Avg loss: 1.181557 \n",
            "\n",
            "Test Error: \n",
            " Accuracy: 80.0%, Avg loss: 1.105351 \n",
            "\n"
          ]
        }
      ]
    },
    {
      "cell_type": "code",
      "source": [
        "# Plot the loss curves\n",
        "plt.plot(epoch_count, train_loss_values, label=\"Train loss\")\n",
        "plt.plot(epoch_count, test_loss_values, label=\"Test loss\")\n",
        "plt.title(\"Training and test loss curves\")\n",
        "plt.ylabel(\"Loss\")\n",
        "plt.xlabel(\"Epochs\")\n",
        "plt.legend();"
      ],
      "metadata": {
        "colab": {
          "base_uri": "https://localhost:8080/",
          "height": 472
        },
        "id": "ocRjo0koc_pE",
        "outputId": "da3e9a38-c8f3-469f-c869-cee5b341e637"
      },
      "execution_count": 19,
      "outputs": [
        {
          "output_type": "display_data",
          "data": {
            "text/plain": [
              "<Figure size 640x480 with 1 Axes>"
            ],
            "image/png": "[encoded data removed]"
          },
          "metadata": {}
        }
      ]
    },
    {
      "cell_type": "markdown",
      "source": [
        "##### Saving and loading a PyTorch model\n",
        "\n",
        "```md\n",
        "| PyTorch method                  | What does it do?                                                                                                                                                                                               |\n",
        "|---------------------------------|----------------------------------------------------------------------------------------------------------------------------------------------------------------------------------------------------------------|\n",
        "| torch.save                      | Saves a serialized object to disk using Python's pickle utility. Models, tensors and various other Python objects like dictionaries can be saved using torch.save.                                             |\n",
        "| torch.load                      | Uses pickle's unpickling features to deserialize and load pickled Python object files (like models, tensors or dictionaries) into memory. You can also set which device to load the object to (CPU, GPU etc).  |\n",
        "| torch.nn.Module.load_state_dict | Loads a model's parameter dictionary (model.state_dict()) using a saved state_dict() object.                                                                                                                   |\n",
        "```"
      ],
      "metadata": {
        "id": "xQBagsl0kXtn"
      }
    },
    {
      "cell_type": "code",
      "source": [
        "# ideal way is to save only the trained model weights\n",
        "# 1. Create models directory\n",
        "MODEL_PATH = Path(\"models\")\n",
        "MODEL_PATH.mkdir(parents=True, exist_ok=True)\n",
        "\n",
        "# 2. Create model save path\n",
        "MODEL_NAME = \"01_pytorch_workflow_model.pth\"\n",
        "MODEL_SAVE_PATH = MODEL_PATH / MODEL_NAME\n",
        "\n",
        "# 3. Save the model state dict\n",
        "print(f\"Saving model to: {MODEL_SAVE_PATH}\")\n",
        "torch.save(obj=model.state_dict(), # only saving the state_dict() only saves the models learned parameters\n",
        "           f=MODEL_SAVE_PATH)"
      ],
      "metadata": {
        "colab": {
          "base_uri": "https://localhost:8080/"
        },
        "id": "3QSg1COYmIjj",
        "outputId": "21b641cb-ed28-40dc-c317-a8dd1cd7726c"
      },
      "execution_count": 20,
      "outputs": [
        {
          "output_type": "stream",
          "name": "stdout",
          "text": [
            "Saving model to: models/01_pytorch_workflow_model.pth\n"
          ]
        }
      ]
    },
    {
      "cell_type": "code",
      "source": [
        "# loading of the weights of pre-trained model\n",
        "new_model = SimpleNN(input_size=28*28, num_classes=10)\n",
        "new_model.load_state_dict(torch.load(MODEL_SAVE_PATH))\n",
        "new_model.to(device)\n",
        "print(f\"Loaded model:\\n{new_model}\")"
      ],
      "metadata": {
        "colab": {
          "base_uri": "https://localhost:8080/"
        },
        "id": "7Gl0YF0hmPXy",
        "outputId": "9fe9b72a-4f61-4146-a638-c9e560f4344b"
      },
      "execution_count": 21,
      "outputs": [
        {
          "output_type": "stream",
          "name": "stdout",
          "text": [
            "Loaded model:\n",
            "SimpleNN(\n",
            "  (flatten): Flatten(start_dim=1, end_dim=-1)\n",
            "  (fc1): Linear(in_features=784, out_features=50, bias=True)\n",
            "  (fc2): Linear(in_features=50, out_features=10, bias=True)\n",
            ")\n"
          ]
        }
      ]
    },
    {
      "cell_type": "code",
      "source": [
        "# one test prediction\n",
        "classes = [\n",
        "    \"T-shirt/top\",\n",
        "    \"Trouser\",\n",
        "    \"Pullover\",\n",
        "    \"Dress\",\n",
        "    \"Coat\",\n",
        "    \"Sandal\",\n",
        "    \"Shirt\",\n",
        "    \"Sneaker\",\n",
        "    \"Bag\",\n",
        "    \"Ankle boot\",\n",
        "]\n",
        "new_model.eval()\n",
        "x, y = test_data[0][0], test_data[0][1]\n",
        "with torch.no_grad():\n",
        "    x = x.to(device)\n",
        "    pred = new_model(x)\n",
        "    predicted, actual = classes[pred[0].argmax(0)], classes[y]\n",
        "    print(f'Predicted: \"{predicted}\", Actual: \"{actual}\"')"
      ],
      "metadata": {
        "colab": {
          "base_uri": "https://localhost:8080/"
        },
        "id": "dOiNqDJLm2Hj",
        "outputId": "6fba769b-7ddc-4a0d-ff4e-466379e87cc5"
      },
      "execution_count": 22,
      "outputs": [
        {
          "output_type": "stream",
          "name": "stdout",
          "text": [
            "Predicted: \"Sneaker\", Actual: \"Sneaker\"\n"
          ]
        }
      ]
    },
    {
      "cell_type": "code",
      "source": [],
      "metadata": {
        "id": "wsitjXTIm90c"
      },
      "execution_count": 22,
      "outputs": []
    }
  ]
}