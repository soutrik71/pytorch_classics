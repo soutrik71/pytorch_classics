{
  "nbformat": 4,
  "nbformat_minor": 0,
  "metadata": {
    "colab": {
      "provenance": [],
      "gpuType": "T4",
      "include_colab_link": true
    },
    "kernelspec": {
      "name": "python3",
      "display_name": "Python 3"
    },
    "language_info": {
      "name": "python"
    },
    "accelerator": "GPU"
  },
  "cells": [
    {
      "cell_type": "markdown",
      "metadata": {
        "id": "view-in-github",
        "colab_type": "text"
      },
      "source": [
        "<a href=\"https://colab.research.google.com/github/soutrik71/pytorch_classics/blob/main/AP_Torch2.ipynb\" target=\"_parent\"><img src=\"https://colab.research.google.com/assets/colab-badge.svg\" alt=\"Open In Colab\"/></a>"
      ]
    },
    {
      "cell_type": "markdown",
      "source": [
        "This notebook is all about discussion on torch Workflow along with an comprehensive study on a Regression Model and a Classification Model."
      ],
      "metadata": {
        "id": "TnxnTsWcGSV-"
      }
    },
    {
      "cell_type": "code",
      "source": [
        "# # run once\n",
        "# !pip install black[jupyter] --quiet\n",
        "# from google.colab import drive\n",
        "# drive.mount(\"/content/drive\")"
      ],
      "metadata": {
        "id": "Geejx7y4uh-1"
      },
      "execution_count": null,
      "outputs": []
    },
    {
      "cell_type": "code",
      "source": [
        "import os\n",
        "os.environ['CUDA_LAUNCH_BLOCKING'] = \"1\""
      ],
      "metadata": {
        "id": "Lzk_nNa8xEr9"
      },
      "execution_count": null,
      "outputs": []
    },
    {
      "cell_type": "code",
      "source": [
        "!pip install torchview\n",
        "!pip install torcheval"
      ],
      "metadata": {
        "id": "ZSylKXdaCMST",
        "colab": {
          "base_uri": "https://localhost:8080/"
        },
        "outputId": "48cb8e70-cd6f-4e05-f60c-0f0a484f0a8d"
      },
      "execution_count": 208,
      "outputs": [
        {
          "output_type": "stream",
          "name": "stdout",
          "text": [
            "Requirement already satisfied: torchview in /usr/local/lib/python3.10/dist-packages (0.2.6)\n",
            "Collecting torcheval\n",
            "  Downloading torcheval-0.0.7-py3-none-any.whl (179 kB)\n",
            "\u001b[2K     \u001b[90m━━━━━━━━━━━━━━━━━━━━━━━━━━━━━━━━━━━━━━━━\u001b[0m \u001b[32m179.2/179.2 kB\u001b[0m \u001b[31m1.8 MB/s\u001b[0m eta \u001b[36m0:00:00\u001b[0m\n",
            "\u001b[?25hRequirement already satisfied: typing-extensions in /usr/local/lib/python3.10/dist-packages (from torcheval) (4.9.0)\n",
            "Installing collected packages: torcheval\n",
            "Successfully installed torcheval-0.0.7\n"
          ]
        }
      ]
    },
    {
      "cell_type": "code",
      "source": [
        "import torch\n",
        "import torch.nn as nn\n",
        "import torch.nn.functional as F\n",
        "import torch.optim as optim\n",
        "import torchvision.transforms as transforms\n",
        "import matplotlib.pyplot as plt\n",
        "import numpy as np\n",
        "import torchvision.datasets as datasets\n",
        "from torch.utils.data import Dataset, DataLoader\n",
        "from torchsummary import summary\n",
        "from torchview import draw_graph\n",
        "from pathlib import Path\n",
        "import pandas as pd\n",
        "from sklearn.preprocessing import StandardScaler\n",
        "from sklearn.model_selection import train_test_split\n",
        "from tqdm import tqdm\n",
        "import random"
      ],
      "metadata": {
        "id": "RtOyECH-jOSX"
      },
      "execution_count": 121,
      "outputs": []
    },
    {
      "cell_type": "code",
      "source": [
        "def set_seed(seed: int = 42) -> None:\n",
        "    np.random.seed(seed)\n",
        "    random.seed(seed)\n",
        "    torch.manual_seed(seed)\n",
        "    torch.cuda.manual_seed(seed)\n",
        "    # When running on the CuDNN backend, two further options must be set\n",
        "    torch.backends.cudnn.deterministic = True\n",
        "    torch.backends.cudnn.benchmark = False\n",
        "    # Set a fixed value for the hash seed\n",
        "    os.environ[\"PYTHONHASHSEED\"] = str(seed)\n",
        "    print(f\"Random seed set as {seed}\")"
      ],
      "metadata": {
        "id": "UMhCipjYodO_"
      },
      "execution_count": 120,
      "outputs": []
    },
    {
      "cell_type": "markdown",
      "source": [
        "## Torch Workflow fundamentals using a MNIST dataset -- to setup the premise\n",
        "\n",
        "```md\n",
        "| Topic                                                    | Contents                                                                                                                          |\n",
        "|----------------------------------------------------------|-----------------------------------------------------------------------------------------------------------------------------------|\n",
        "| 1. Getting data ready                                    | Data can be almost anything but to get started we're going to create a simple straight line                                       |\n",
        "| 2. Building a model                                      | Here we'll create a model to learn patterns in the data, we'll also choose a loss function, optimizer and build a training loop.  |\n",
        "| 3. Fitting the model to data (training)                  | We've got data and a model, now let's let the model (try to) find patterns in the (training) data.                                |\n",
        "| 4. Making predictions and evaluating a model (inference) | Our model's found patterns in the data, let's compare its findings to the actual (testing) data.                                  |\n",
        "| 5. Saving and loading a model                            | You may want to use your model elsewhere, or come back to it later, here we'll cover that.                                        |\n",
        "|                                                          |                                                                                                                                   |\n",
        "\n",
        "```"
      ],
      "metadata": {
        "id": "2PsNwLaOsSds"
      }
    },
    {
      "cell_type": "markdown",
      "source": [
        "##### Key Pointers:\n",
        "1. Dataset stores the samples and their corresponding labels, and DataLoader wraps an iterable around the Dataset.\n",
        "2. We pass the Dataset as an argument to DataLoader. This wraps an iterable over our dataset, and supports automatic batching, sampling, shuffling and multiprocess data loading.\n",
        "3. nn.Module contains the larger building blocks (layers)\n",
        "4. nn.Parameter contains the smaller parameters like weights and biases (put these together to make nn.Module(s))\n",
        "5. forward() tells the larger blocks how to make calculations on inputs (tensors full of data) within nn.Module(s)\n",
        "6. torch.optim contains optimization methods on how to improve the parameters within nn.Parameter to better represent input data.\n",
        "7. in older PyTorch code, you may also see torch.no_grad() being used for inference. While torch.inference_mode() and torch.no_grad() do similar things, torch.inference_mode() is newer, potentially faster and preferred"
      ],
      "metadata": {
        "id": "MkRDxH53-WLv"
      }
    },
    {
      "cell_type": "markdown",
      "source": [
        "##### Data Loading"
      ],
      "metadata": {
        "id": "Wb-2AgkMFpkv"
      }
    },
    {
      "cell_type": "code",
      "source": [
        "# Set manual seed since nn.Parameter are randomly initialzied\n",
        "set_seed(42)"
      ],
      "metadata": {
        "colab": {
          "base_uri": "https://localhost:8080/"
        },
        "id": "-CS2wDh-_Ojt",
        "outputId": "29ec0eca-944d-4c1b-f4a2-01c25765bee9"
      },
      "execution_count": 122,
      "outputs": [
        {
          "output_type": "stream",
          "name": "stdout",
          "text": [
            "Random seed set as 42\n"
          ]
        }
      ]
    },
    {
      "cell_type": "code",
      "source": [
        "# downloading the training data from Datasets library\n",
        "training_data = datasets.MNIST(\n",
        "    root=\"data\",\n",
        "    train=True,\n",
        "    download=True,\n",
        "    transform=transforms.ToTensor()\n",
        ")\n",
        "\n",
        "test_data = datasets.MNIST(\n",
        "    root=\"data\",\n",
        "    train=False,\n",
        "    download=True,\n",
        "    transform=transforms.ToTensor()\n",
        ")"
      ],
      "metadata": {
        "id": "a9MhYlHU-We8"
      },
      "execution_count": null,
      "outputs": []
    },
    {
      "cell_type": "code",
      "source": [
        "# Set device cuda for GPU if it's available otherwise run on the CPU\n",
        "device = torch.device(\"cuda\" if torch.cuda.is_available() else \"cpu\")\n",
        "print(device)"
      ],
      "metadata": {
        "colab": {
          "base_uri": "https://localhost:8080/"
        },
        "id": "DnTvu70lENSY",
        "outputId": "0451adb9-0792-4b87-d3f9-7843a21ea35c"
      },
      "execution_count": null,
      "outputs": [
        {
          "output_type": "stream",
          "name": "stdout",
          "text": [
            "cuda\n"
          ]
        }
      ]
    },
    {
      "cell_type": "code",
      "source": [
        "batch_size = 128\n",
        "epochs = 10\n",
        "lr = 1e-3"
      ],
      "metadata": {
        "id": "w8HGv77HD0fM"
      },
      "execution_count": null,
      "outputs": []
    },
    {
      "cell_type": "code",
      "source": [
        "print(training_data.data.shape)\n",
        "print(test_data.data.shape)\n",
        "print(training_data.targets.shape)"
      ],
      "metadata": {
        "colab": {
          "base_uri": "https://localhost:8080/"
        },
        "id": "o8lNj9NK-WmK",
        "outputId": "7f1fc4c9-adbc-4c53-f900-2ec023f66529"
      },
      "execution_count": null,
      "outputs": [
        {
          "output_type": "stream",
          "name": "stdout",
          "text": [
            "torch.Size([60000, 28, 28])\n",
            "torch.Size([10000, 28, 28])\n",
            "torch.Size([60000])\n"
          ]
        }
      ]
    },
    {
      "cell_type": "code",
      "source": [
        "# wrapping the raw data into dataloader class\n",
        "train_loader = DataLoader(training_data, batch_size=batch_size, shuffle=True)\n",
        "test_loader = DataLoader(test_data, batch_size=batch_size, shuffle=True)"
      ],
      "metadata": {
        "id": "oyqou6Y6-WsJ"
      },
      "execution_count": null,
      "outputs": []
    },
    {
      "cell_type": "code",
      "source": [
        "for X, y in train_loader:\n",
        "    print(f\"Shape of X [N, C, H, W]: {X.shape}\")\n",
        "    print(f\"Shape of y: {y.shape} {y.dtype}\")\n",
        "    break"
      ],
      "metadata": {
        "colab": {
          "base_uri": "https://localhost:8080/"
        },
        "id": "xMBeuKXh-Wxx",
        "outputId": "be0cf3d7-d4f6-477d-9e2d-4ebeb3469d05"
      },
      "execution_count": null,
      "outputs": [
        {
          "output_type": "stream",
          "name": "stdout",
          "text": [
            "Shape of X [N, C, H, W]: torch.Size([128, 1, 28, 28])\n",
            "Shape of y: torch.Size([128]) torch.int64\n"
          ]
        }
      ]
    },
    {
      "cell_type": "code",
      "source": [
        "# Display image and label.\n",
        "train_features, train_labels = next(iter(train_loader))\n",
        "print(f\"Feature batch shape: {train_features.size()}\")\n",
        "print(f\"Labels batch shape: {train_labels.size()}\")\n",
        "img = train_features[0].squeeze() # Torch.Size([28, 28])\n",
        "label = train_labels[0]\n",
        "plt.imshow(img, cmap=\"gray\")\n",
        "plt.show()\n",
        "print(f\"Label: {label}\")"
      ],
      "metadata": {
        "colab": {
          "base_uri": "https://localhost:8080/",
          "height": 482
        },
        "id": "SxNT8zbN-W3h",
        "outputId": "79e04b93-48d1-4aa5-e166-34e65d6b7089"
      },
      "execution_count": null,
      "outputs": [
        {
          "output_type": "stream",
          "name": "stdout",
          "text": [
            "Feature batch shape: torch.Size([128, 1, 28, 28])\n",
            "Labels batch shape: torch.Size([128])\n"
          ]
        },
        {
          "output_type": "display_data",
          "data": {
            "text/plain": [
              "<Figure size 640x480 with 1 Axes>"
            ],
            "image/png": "[encoded data removed]"
          },
          "metadata": {}
        },
        {
          "output_type": "stream",
          "name": "stdout",
          "text": [
            "Label: 9\n"
          ]
        }
      ]
    },
    {
      "cell_type": "markdown",
      "source": [
        "##### Model Definition Piece"
      ],
      "metadata": {
        "id": "DBUSBjWA-W9C"
      }
    },
    {
      "cell_type": "code",
      "source": [
        "class SimpleNN(nn.Module):\n",
        "  \"\"\"Simple NN model\"\"\"\n",
        "  def __init__(self, input_size, num_classes):\n",
        "    super(SimpleNN, self).__init__()\n",
        "    self.flatten = nn.Flatten()\n",
        "    self.fc1 = nn.Linear(input_size, 50)\n",
        "    self.fc2 = nn.Linear(50, num_classes)\n",
        "\n",
        "  def forward(self, x: torch.Tensor):\n",
        "    x = self.flatten(x)\n",
        "    x = self.fc1(x)\n",
        "    x = F.relu(x)\n",
        "    x = self.fc2(x)\n",
        "    return x"
      ],
      "metadata": {
        "id": "rF8DXJzW-XC7"
      },
      "execution_count": null,
      "outputs": []
    },
    {
      "cell_type": "code",
      "source": [
        "# declaring the model\n",
        "model = SimpleNN(input_size=28*28, num_classes=10).to(device)\n",
        "print(model.state_dict().keys())"
      ],
      "metadata": {
        "colab": {
          "base_uri": "https://localhost:8080/"
        },
        "id": "hj5AO5UO-XI1",
        "outputId": "d1fb6d07-e413-4e74-cfaa-c799ed26763c"
      },
      "execution_count": null,
      "outputs": [
        {
          "output_type": "stream",
          "name": "stdout",
          "text": [
            "odict_keys(['fc1.weight', 'fc1.bias', 'fc2.weight', 'fc2.bias'])\n"
          ]
        }
      ]
    },
    {
      "cell_type": "code",
      "source": [
        "# summarization of the model layers\n",
        "summary(model, (1, 28, 28))"
      ],
      "metadata": {
        "colab": {
          "base_uri": "https://localhost:8080/"
        },
        "id": "H3shckYn-XOo",
        "outputId": "2713f15a-16a5-4b15-b2f6-0efd58ee535d"
      },
      "execution_count": null,
      "outputs": [
        {
          "output_type": "stream",
          "name": "stdout",
          "text": [
            "----------------------------------------------------------------\n",
            "        Layer (type)               Output Shape         Param #\n",
            "================================================================\n",
            "           Flatten-1                  [-1, 784]               0\n",
            "            Linear-2                   [-1, 50]          39,250\n",
            "            Linear-3                   [-1, 10]             510\n",
            "================================================================\n",
            "Total params: 39,760\n",
            "Trainable params: 39,760\n",
            "Non-trainable params: 0\n",
            "----------------------------------------------------------------\n",
            "Input size (MB): 0.00\n",
            "Forward/backward pass size (MB): 0.01\n",
            "Params size (MB): 0.15\n",
            "Estimated Total Size (MB): 0.16\n",
            "----------------------------------------------------------------\n"
          ]
        }
      ]
    },
    {
      "cell_type": "code",
      "source": [
        "# graphical representation of the model architecture\n",
        "model_graph = draw_graph(model, input_size=(1, 28, 28), expand_nested=True)\n",
        "model_graph.visual_graph"
      ],
      "metadata": {
        "colab": {
          "base_uri": "https://localhost:8080/",
          "height": 582
        },
        "id": "mopY3BaI-XUC",
        "outputId": "0901d003-309b-49ff-eb81-06d5e65c8b97"
      },
      "execution_count": null,
      "outputs": [
        {
          "output_type": "execute_result",
          "data": {
            "image/svg+xml": "<?xml version=\"1.0\" encoding=\"UTF-8\" standalone=\"no\"?>\n<!DOCTYPE svg PUBLIC \"-//W3C//DTD SVG 1.1//EN\"\n \"http://www.w3.org/Graphics/SVG/1.1/DTD/svg11.dtd\">\n<!-- Generated by graphviz version 2.43.0 (0)\n -->\n<!-- Title: model Pages: 1 -->\n<svg width=\"203pt\" height=\"420pt\"\n viewBox=\"0.00 0.00 203.00 420.00\" xmlns=\"http://www.w3.org/2000/svg\" xmlns:xlink=\"http://www.w3.org/1999/xlink\">\n<g id=\"graph0\" class=\"graph\" transform=\"scale(1 1) rotate(0) translate(4 416)\">\n<title>model</title>\n<polygon fill=\"white\" stroke=\"transparent\" points=\"-4,4 -4,-416 199,-416 199,4 -4,4\"/>\n<!-- 0 -->\n<g id=\"node1\" class=\"node\">\n<title>0</title>\n<polygon fill=\"lightyellow\" stroke=\"transparent\" points=\"177.5,-412 17.5,-412 17.5,-380 177.5,-380 177.5,-412\"/>\n<polygon fill=\"none\" stroke=\"black\" points=\"17.5,-380 17.5,-412 100.5,-412 100.5,-380 17.5,-380\"/>\n<text text-anchor=\"start\" x=\"22.5\" y=\"-399\" font-family=\"Linux libertine\" font-size=\"10.00\">input&#45;tensor</text>\n<text text-anchor=\"start\" x=\"37.5\" y=\"-388\" font-family=\"Linux libertine\" font-size=\"10.00\">depth:0</text>\n<polygon fill=\"none\" stroke=\"black\" points=\"100.5,-380 100.5,-412 177.5,-412 177.5,-380 100.5,-380\"/>\n<text text-anchor=\"start\" x=\"105.5\" y=\"-393.5\" font-family=\"Linux libertine\" font-size=\"10.00\">(1, 28, 28)</text>\n</g>\n<!-- 1 -->\n<g id=\"node2\" class=\"node\">\n<title>1</title>\n<polygon fill=\"#c1ffc1\" stroke=\"transparent\" points=\"195,-344 0,-344 0,-302 195,-302 195,-344\"/>\n<polygon fill=\"none\" stroke=\"black\" points=\"0.5,-302 0.5,-344 53.5,-344 53.5,-302 0.5,-302\"/>\n<text text-anchor=\"start\" x=\"5.5\" y=\"-326\" font-family=\"Linux libertine\" font-size=\"10.00\">Flatten</text>\n<text text-anchor=\"start\" x=\"5.5\" y=\"-315\" font-family=\"Linux libertine\" font-size=\"10.00\">depth:1</text>\n<polygon fill=\"none\" stroke=\"black\" points=\"53.5,-323 53.5,-344 112.5,-344 112.5,-323 53.5,-323\"/>\n<text text-anchor=\"start\" x=\"64.5\" y=\"-331\" font-family=\"Linux libertine\" font-size=\"10.00\">input:</text>\n<polygon fill=\"none\" stroke=\"black\" points=\"112.5,-323 112.5,-344 195.5,-344 195.5,-323 112.5,-323\"/>\n<text text-anchor=\"start\" x=\"117.5\" y=\"-331\" font-family=\"Linux libertine\" font-size=\"10.00\">(1, 28, 28) </text>\n<polygon fill=\"none\" stroke=\"black\" points=\"53.5,-302 53.5,-323 112.5,-323 112.5,-302 53.5,-302\"/>\n<text text-anchor=\"start\" x=\"58.5\" y=\"-310\" font-family=\"Linux libertine\" font-size=\"10.00\">output: </text>\n<polygon fill=\"none\" stroke=\"black\" points=\"112.5,-302 112.5,-323 195.5,-323 195.5,-302 112.5,-302\"/>\n<text text-anchor=\"start\" x=\"126.5\" y=\"-310\" font-family=\"Linux libertine\" font-size=\"10.00\">(1, 784) </text>\n</g>\n<!-- 0&#45;&gt;1 -->\n<g id=\"edge1\" class=\"edge\">\n<title>0&#45;&gt;1</title>\n<path fill=\"none\" stroke=\"black\" d=\"M97.5,-379.94C97.5,-372.45 97.5,-363.12 97.5,-354.24\"/>\n<polygon fill=\"black\" stroke=\"black\" points=\"101,-354.16 97.5,-344.16 94,-354.16 101,-354.16\"/>\n</g>\n<!-- 2 -->\n<g id=\"node3\" class=\"node\">\n<title>2</title>\n<polygon fill=\"#c1ffc1\" stroke=\"transparent\" points=\"186,-266 9,-266 9,-224 186,-224 186,-266\"/>\n<polygon fill=\"none\" stroke=\"black\" points=\"9.5,-224 9.5,-266 62.5,-266 62.5,-224 9.5,-224\"/>\n<text text-anchor=\"start\" x=\"17.5\" y=\"-248\" font-family=\"Linux libertine\" font-size=\"10.00\">Linear</text>\n<text text-anchor=\"start\" x=\"14.5\" y=\"-237\" font-family=\"Linux libertine\" font-size=\"10.00\">depth:1</text>\n<polygon fill=\"none\" stroke=\"black\" points=\"62.5,-245 62.5,-266 121.5,-266 121.5,-245 62.5,-245\"/>\n<text text-anchor=\"start\" x=\"73.5\" y=\"-253\" font-family=\"Linux libertine\" font-size=\"10.00\">input:</text>\n<polygon fill=\"none\" stroke=\"black\" points=\"121.5,-245 121.5,-266 186.5,-266 186.5,-245 121.5,-245\"/>\n<text text-anchor=\"start\" x=\"126.5\" y=\"-253\" font-family=\"Linux libertine\" font-size=\"10.00\">(1, 784) </text>\n<polygon fill=\"none\" stroke=\"black\" points=\"62.5,-224 62.5,-245 121.5,-245 121.5,-224 62.5,-224\"/>\n<text text-anchor=\"start\" x=\"67.5\" y=\"-232\" font-family=\"Linux libertine\" font-size=\"10.00\">output: </text>\n<polygon fill=\"none\" stroke=\"black\" points=\"121.5,-224 121.5,-245 186.5,-245 186.5,-224 121.5,-224\"/>\n<text text-anchor=\"start\" x=\"129.5\" y=\"-232\" font-family=\"Linux libertine\" font-size=\"10.00\">(1, 50) </text>\n</g>\n<!-- 1&#45;&gt;2 -->\n<g id=\"edge2\" class=\"edge\">\n<title>1&#45;&gt;2</title>\n<path fill=\"none\" stroke=\"black\" d=\"M97.5,-301.63C97.5,-293.82 97.5,-284.73 97.5,-276.18\"/>\n<polygon fill=\"black\" stroke=\"black\" points=\"101,-276.16 97.5,-266.16 94,-276.16 101,-276.16\"/>\n</g>\n<!-- 3 -->\n<g id=\"node4\" class=\"node\">\n<title>3</title>\n<polygon fill=\"aliceblue\" stroke=\"transparent\" points=\"183,-188 12,-188 12,-146 183,-146 183,-188\"/>\n<polygon fill=\"none\" stroke=\"black\" points=\"12.5,-146 12.5,-188 65.5,-188 65.5,-146 12.5,-146\"/>\n<text text-anchor=\"start\" x=\"26.5\" y=\"-170\" font-family=\"Linux libertine\" font-size=\"10.00\">relu</text>\n<text text-anchor=\"start\" x=\"17.5\" y=\"-159\" font-family=\"Linux libertine\" font-size=\"10.00\">depth:1</text>\n<polygon fill=\"none\" stroke=\"black\" points=\"65.5,-167 65.5,-188 124.5,-188 124.5,-167 65.5,-167\"/>\n<text text-anchor=\"start\" x=\"76.5\" y=\"-175\" font-family=\"Linux libertine\" font-size=\"10.00\">input:</text>\n<polygon fill=\"none\" stroke=\"black\" points=\"124.5,-167 124.5,-188 183.5,-188 183.5,-167 124.5,-167\"/>\n<text text-anchor=\"start\" x=\"129.5\" y=\"-175\" font-family=\"Linux libertine\" font-size=\"10.00\">(1, 50) </text>\n<polygon fill=\"none\" stroke=\"black\" points=\"65.5,-146 65.5,-167 124.5,-167 124.5,-146 65.5,-146\"/>\n<text text-anchor=\"start\" x=\"70.5\" y=\"-154\" font-family=\"Linux libertine\" font-size=\"10.00\">output: </text>\n<polygon fill=\"none\" stroke=\"black\" points=\"124.5,-146 124.5,-167 183.5,-167 183.5,-146 124.5,-146\"/>\n<text text-anchor=\"start\" x=\"129.5\" y=\"-154\" font-family=\"Linux libertine\" font-size=\"10.00\">(1, 50) </text>\n</g>\n<!-- 2&#45;&gt;3 -->\n<g id=\"edge3\" class=\"edge\">\n<title>2&#45;&gt;3</title>\n<path fill=\"none\" stroke=\"black\" d=\"M97.5,-223.63C97.5,-215.82 97.5,-206.73 97.5,-198.18\"/>\n<polygon fill=\"black\" stroke=\"black\" points=\"101,-198.16 97.5,-188.16 94,-198.16 101,-198.16\"/>\n</g>\n<!-- 4 -->\n<g id=\"node5\" class=\"node\">\n<title>4</title>\n<polygon fill=\"#c1ffc1\" stroke=\"transparent\" points=\"183,-110 12,-110 12,-68 183,-68 183,-110\"/>\n<polygon fill=\"none\" stroke=\"black\" points=\"12.5,-68 12.5,-110 65.5,-110 65.5,-68 12.5,-68\"/>\n<text text-anchor=\"start\" x=\"20.5\" y=\"-92\" font-family=\"Linux libertine\" font-size=\"10.00\">Linear</text>\n<text text-anchor=\"start\" x=\"17.5\" y=\"-81\" font-family=\"Linux libertine\" font-size=\"10.00\">depth:1</text>\n<polygon fill=\"none\" stroke=\"black\" points=\"65.5,-89 65.5,-110 124.5,-110 124.5,-89 65.5,-89\"/>\n<text text-anchor=\"start\" x=\"76.5\" y=\"-97\" font-family=\"Linux libertine\" font-size=\"10.00\">input:</text>\n<polygon fill=\"none\" stroke=\"black\" points=\"124.5,-89 124.5,-110 183.5,-110 183.5,-89 124.5,-89\"/>\n<text text-anchor=\"start\" x=\"129.5\" y=\"-97\" font-family=\"Linux libertine\" font-size=\"10.00\">(1, 50) </text>\n<polygon fill=\"none\" stroke=\"black\" points=\"65.5,-68 65.5,-89 124.5,-89 124.5,-68 65.5,-68\"/>\n<text text-anchor=\"start\" x=\"70.5\" y=\"-76\" font-family=\"Linux libertine\" font-size=\"10.00\">output: </text>\n<polygon fill=\"none\" stroke=\"black\" points=\"124.5,-68 124.5,-89 183.5,-89 183.5,-68 124.5,-68\"/>\n<text text-anchor=\"start\" x=\"129.5\" y=\"-76\" font-family=\"Linux libertine\" font-size=\"10.00\">(1, 10) </text>\n</g>\n<!-- 3&#45;&gt;4 -->\n<g id=\"edge4\" class=\"edge\">\n<title>3&#45;&gt;4</title>\n<path fill=\"none\" stroke=\"black\" d=\"M97.5,-145.63C97.5,-137.82 97.5,-128.73 97.5,-120.18\"/>\n<polygon fill=\"black\" stroke=\"black\" points=\"101,-120.16 97.5,-110.16 94,-120.16 101,-120.16\"/>\n</g>\n<!-- 5 -->\n<g id=\"node6\" class=\"node\">\n<title>5</title>\n<polygon fill=\"lightyellow\" stroke=\"transparent\" points=\"168.5,-32 26.5,-32 26.5,0 168.5,0 168.5,-32\"/>\n<polygon fill=\"none\" stroke=\"black\" points=\"26.5,0 26.5,-32 115.5,-32 115.5,0 26.5,0\"/>\n<text text-anchor=\"start\" x=\"31.5\" y=\"-19\" font-family=\"Linux libertine\" font-size=\"10.00\">output&#45;tensor</text>\n<text text-anchor=\"start\" x=\"49.5\" y=\"-8\" font-family=\"Linux libertine\" font-size=\"10.00\">depth:0</text>\n<polygon fill=\"none\" stroke=\"black\" points=\"115.5,0 115.5,-32 168.5,-32 168.5,0 115.5,0\"/>\n<text text-anchor=\"start\" x=\"120.5\" y=\"-13.5\" font-family=\"Linux libertine\" font-size=\"10.00\">(1, 10)</text>\n</g>\n<!-- 4&#45;&gt;5 -->\n<g id=\"edge5\" class=\"edge\">\n<title>4&#45;&gt;5</title>\n<path fill=\"none\" stroke=\"black\" d=\"M97.5,-67.84C97.5,-59.89 97.5,-50.66 97.5,-42.26\"/>\n<polygon fill=\"black\" stroke=\"black\" points=\"101,-42.24 97.5,-32.24 94,-42.24 101,-42.24\"/>\n</g>\n</g>\n</svg>\n",
            "text/plain": [
              "<graphviz.graphs.Digraph at 0x7cd08808f490>"
            ]
          },
          "metadata": {},
          "execution_count": 14
        }
      ]
    },
    {
      "cell_type": "markdown",
      "source": [
        "##### Train the model - loss and Optimizer\n",
        "\n",
        "```md\n",
        "| Function      | What does it do?                                                                                                            |\n",
        "|---------------|-----------------------------------------------------------------------------------------------------------------------------|\n",
        "| Loss function | Measures how wrong your models predictions (e.g. y_preds) are compared to the truth labels (e.g. y_test). Lower the better. |\n",
        "| Optimizer     | Tells your model how to update its internal parameters to best lower the loss.                                              |\n",
        "```"
      ],
      "metadata": {
        "id": "oaOT7fYi-XZe"
      }
    },
    {
      "cell_type": "code",
      "source": [
        "# Init loss function - common options are nn.CrossEntropyLoss,nn.BCELoss,nn.BCEWithLogitsLoss\n",
        "loss_fn = nn.CrossEntropyLoss()\n",
        "\n",
        "# Init optimizers- common options are Adam, SGD ,RMSprop\n",
        "optimizer = torch.optim.SGD(model.parameters(), lr)\n",
        "\n",
        "# defining a custom metric - later we will use torch metrics\n",
        "def accuracy_fn(y_true, y_pred):\n",
        "    correct = torch.eq(y_true, y_pred).sum().item() # torch.eq() calculates where two tensors are equal\n",
        "    acc = (correct / len(y_pred)) * 100\n",
        "    return acc"
      ],
      "metadata": {
        "id": "BgaYrHaRB0-5"
      },
      "execution_count": null,
      "outputs": []
    },
    {
      "cell_type": "markdown",
      "source": [
        "##### Training steps - Design for the training module\n",
        "```md\n",
        "| Number | Step name                               | What does it do?                                                                                                                                                                      | Code example                     |\n",
        "|--------|-----------------------------------------|---------------------------------------------------------------------------------------------------------------------------------------------------------------------------------------|----------------------------------|\n",
        "| 1      | Forward pass                            | The model goes through all of the training data once, performing its forward() function calculations.                                                                                 | model(x_train)                   |\n",
        "| 2      | Calculate the loss                      | The model's outputs (predictions) are compared to the ground truth and evaluated to see how wrong they are.                                                                           | loss = loss_fn(y_pred, y_train)  |\n",
        "| 3      | Zero gradients                          | The optimizers gradients are set to zero (they are accumulated by default) so they can be recalculated for the specific training step.                                                | optimizer.zero_grad()            |\n",
        "| 4      | Perform backpropagation on the loss     | Computes the gradient of the loss with respect for every model parameter to be updated (each parameter with requires_grad=True). This is known as backpropagation, hence \"backwards\". | loss.backward()                  |\n",
        "| 5      | Update the optimizer (gradient descent) | Update the parameters with requires_grad=True with respect to the loss gradients in order to improve them.                                                                            | optimizer.step()                 |\n",
        "```"
      ],
      "metadata": {
        "id": "ME0D2sRwE3Ks"
      }
    },
    {
      "cell_type": "code",
      "source": [
        "def train_loop(model, dataloader, loss_fn, optimizer):\n",
        "  \"\"\"Training loop\"\"\"\n",
        "  train_size = len(dataloader.dataset)\n",
        "  batch_cnt , batch_loss, batch_acc = 0, 0, 0\n",
        "  model.train()\n",
        "  for batch, (X,y) in enumerate(dataloader):\n",
        "    X,y = X.to(device), y.to(device)\n",
        "    # model predictions in logits\n",
        "    pred_logits = model(X)\n",
        "    # loss calculation\n",
        "    loss = loss_fn(pred_logits, y)\n",
        "    # metric calculation\n",
        "    pred_probs = F.softmax(pred_logits, dim=1)\n",
        "    pred_classes = pred_probs.argmax(dim=1)\n",
        "    acc = accuracy_fn(y, pred_classes)\n",
        "\n",
        "    # backpropagation -> backprop -> optimize -> remove existing gradient\n",
        "    loss.backward()\n",
        "    optimizer.step()\n",
        "    optimizer.zero_grad()\n",
        "\n",
        "    batch_loss += loss.item()\n",
        "    batch_acc += acc\n",
        "    batch_cnt += 1\n",
        "    # print the loss and accuracy for predefiend set of batched under one epoch\n",
        "    if batch % batch_size == 0:\n",
        "      loss, current = loss.item(), (batch+1) * len(X)\n",
        "      print(f\"loss: {loss:>7f} and Accuracy : {acc:>5f}[{current:>5d}/{train_size:>5d}]\")\n",
        "\n",
        "  batch_loss /= batch_cnt\n",
        "  batch_acc /= batch_cnt\n",
        "  print(f\"Train Avg metrics: \\n Accuracy: {(batch_acc):>0.1f}%, Avg loss: {batch_loss:>8f} \\n\")\n",
        "  return batch_loss, batch_acc"
      ],
      "metadata": {
        "id": "VILXKmFaGVNm"
      },
      "execution_count": null,
      "outputs": []
    },
    {
      "cell_type": "markdown",
      "source": [
        "##### validation steps - Design for the validation module\n",
        "1. Declare placeholders for loss and accuracy\n",
        "2. Init the model in eval mode\n",
        "3. with no grad calculation context for each batch calculate loss and accuracy\n",
        "4. Print the loss and accuracy by averaging over all batches"
      ],
      "metadata": {
        "id": "lLp9uAQKcAv8"
      }
    },
    {
      "cell_type": "code",
      "source": [
        "def test_loop(model, dataloader, loss_fn):\n",
        "  \"\"\"Testing loop\"\"\"\n",
        "  test_size = len(dataloader.dataset)\n",
        "  num_batches = len(dataloader)\n",
        "  model.eval() # putting the model in evaluation mode\n",
        "  test_loss, test_acc = 0, 0\n",
        "  with torch.no_grad(): # Context-manager that disables gradient calculation.\n",
        "    for X,y in dataloader:\n",
        "      X,y = X.to(device), y.to(device)\n",
        "      pred_logits = model(X)\n",
        "      # for each batches cal loss and accuracy and storing them\n",
        "      test_loss += loss_fn(pred_logits, y).item()\n",
        "      pred_probs = F.softmax(pred_logits, dim=1)\n",
        "      pred_classes = pred_probs.argmax(dim=1)\n",
        "      test_acc += accuracy_fn(y, pred_classes)\n",
        "\n",
        "  test_loss /= num_batches\n",
        "  test_acc /= num_batches\n",
        "  print(f\"Test Error: \\n Accuracy: {(test_acc):>0.1f}%, Avg loss: {test_loss:>8f} \\n\")\n",
        "  return test_loss, test_acc"
      ],
      "metadata": {
        "id": "p9VqbbkLbFhX"
      },
      "execution_count": null,
      "outputs": []
    },
    {
      "cell_type": "markdown",
      "source": [
        "##### epoch level iterations and loss tracking"
      ],
      "metadata": {
        "id": "1iMdqEtnkrI2"
      }
    },
    {
      "cell_type": "code",
      "source": [
        "train_loss_values = []\n",
        "test_loss_values = []\n",
        "epoch_count = []\n",
        "for t in range(epochs):\n",
        "    print(f\"Epoch {t+1}\\n-------------------------------\")\n",
        "    train_loss , train_acc = train_loop(model = model , dataloader=train_loader, loss_fn=loss_fn , optimizer=optimizer)\n",
        "    test_loss , test_acc = test_loop(model = model , dataloader=test_loader, loss_fn=loss_fn)\n",
        "    train_loss_values.append(train_loss)\n",
        "    test_loss_values.append(test_loss)\n",
        "    epoch_count.append(t)"
      ],
      "metadata": {
        "colab": {
          "base_uri": "https://localhost:8080/"
        },
        "id": "L_kdZ5tyb6OF",
        "outputId": "36f9e282-20b8-4d2a-c818-7b8b3a531b1d"
      },
      "execution_count": null,
      "outputs": [
        {
          "output_type": "stream",
          "name": "stdout",
          "text": [
            "Epoch 1\n",
            "-------------------------------\n",
            "loss: 2.300261 and Accuracy : 9.375000[  128/60000]\n",
            "loss: 2.275981 and Accuracy : 15.625000[16512/60000]\n",
            "loss: 2.272138 and Accuracy : 18.750000[32896/60000]\n",
            "loss: 2.262360 and Accuracy : 21.875000[49280/60000]\n",
            "Train Avg metrics: \n",
            " Accuracy: 18.2%, Avg loss: 2.268570 \n",
            "\n",
            "Test Error: \n",
            " Accuracy: 28.2%, Avg loss: 2.231076 \n",
            "\n",
            "Epoch 2\n",
            "-------------------------------\n",
            "loss: 2.221874 and Accuracy : 32.031250[  128/60000]\n",
            "loss: 2.220694 and Accuracy : 29.687500[16512/60000]\n",
            "loss: 2.166821 and Accuracy : 42.968750[32896/60000]\n",
            "loss: 2.176263 and Accuracy : 38.281250[49280/60000]\n",
            "Train Avg metrics: \n",
            " Accuracy: 34.8%, Avg loss: 2.191428 \n",
            "\n",
            "Test Error: \n",
            " Accuracy: 41.5%, Avg loss: 2.143644 \n",
            "\n",
            "Epoch 3\n",
            "-------------------------------\n",
            "loss: 2.135492 and Accuracy : 42.968750[  128/60000]\n",
            "loss: 2.147303 and Accuracy : 37.500000[16512/60000]\n",
            "loss: 2.094316 and Accuracy : 46.875000[32896/60000]\n",
            "loss: 2.053289 and Accuracy : 52.343750[49280/60000]\n",
            "Train Avg metrics: \n",
            " Accuracy: 46.1%, Avg loss: 2.095930 \n",
            "\n",
            "Test Error: \n",
            " Accuracy: 51.8%, Avg loss: 2.035504 \n",
            "\n",
            "Epoch 4\n",
            "-------------------------------\n",
            "loss: 2.090593 and Accuracy : 44.531250[  128/60000]\n",
            "loss: 2.001467 and Accuracy : 52.343750[16512/60000]\n",
            "loss: 1.984717 and Accuracy : 51.562500[32896/60000]\n",
            "loss: 2.030463 and Accuracy : 45.312500[49280/60000]\n",
            "Train Avg metrics: \n",
            " Accuracy: 54.5%, Avg loss: 1.982683 \n",
            "\n",
            "Test Error: \n",
            " Accuracy: 59.8%, Avg loss: 1.911946 \n",
            "\n",
            "Epoch 5\n",
            "-------------------------------\n",
            "loss: 1.938142 and Accuracy : 60.156250[  128/60000]\n",
            "loss: 1.865825 and Accuracy : 64.843750[16512/60000]\n",
            "loss: 1.850790 and Accuracy : 58.593750[32896/60000]\n",
            "loss: 1.791048 and Accuracy : 64.843750[49280/60000]\n",
            "Train Avg metrics: \n",
            " Accuracy: 62.5%, Avg loss: 1.853911 \n",
            "\n",
            "Test Error: \n",
            " Accuracy: 66.2%, Avg loss: 1.774594 \n",
            "\n",
            "Epoch 6\n",
            "-------------------------------\n",
            "loss: 1.789161 and Accuracy : 63.281250[  128/60000]\n",
            "loss: 1.665812 and Accuracy : 73.437500[16512/60000]\n",
            "loss: 1.728388 and Accuracy : 68.750000[32896/60000]\n",
            "loss: 1.661113 and Accuracy : 75.000000[49280/60000]\n",
            "Train Avg metrics: \n",
            " Accuracy: 68.0%, Avg loss: 1.713878 \n",
            "\n",
            "Test Error: \n",
            " Accuracy: 71.2%, Avg loss: 1.628788 \n",
            "\n",
            "Epoch 7\n",
            "-------------------------------\n",
            "loss: 1.627425 and Accuracy : 73.437500[  128/60000]\n",
            "loss: 1.634695 and Accuracy : 74.218750[16512/60000]\n",
            "loss: 1.524225 and Accuracy : 81.250000[32896/60000]\n",
            "loss: 1.444945 and Accuracy : 85.156250[49280/60000]\n",
            "Train Avg metrics: \n",
            " Accuracy: 71.9%, Avg loss: 1.569815 \n",
            "\n",
            "Test Error: \n",
            " Accuracy: 74.3%, Avg loss: 1.480776 \n",
            "\n",
            "Epoch 8\n",
            "-------------------------------\n",
            "loss: 1.559855 and Accuracy : 67.187500[  128/60000]\n",
            "loss: 1.407159 and Accuracy : 78.906250[16512/60000]\n",
            "loss: 1.401142 and Accuracy : 79.687500[32896/60000]\n",
            "loss: 1.364556 and Accuracy : 78.906250[49280/60000]\n",
            "Train Avg metrics: \n",
            " Accuracy: 74.5%, Avg loss: 1.429021 \n",
            "\n",
            "Test Error: \n",
            " Accuracy: 76.7%, Avg loss: 1.343056 \n",
            "\n",
            "Epoch 9\n",
            "-------------------------------\n",
            "loss: 1.350869 and Accuracy : 73.437500[  128/60000]\n",
            "loss: 1.339635 and Accuracy : 75.781250[16512/60000]\n",
            "loss: 1.263432 and Accuracy : 81.250000[32896/60000]\n",
            "loss: 1.219653 and Accuracy : 78.125000[49280/60000]\n",
            "Train Avg metrics: \n",
            " Accuracy: 76.5%, Avg loss: 1.298124 \n",
            "\n",
            "Test Error: \n",
            " Accuracy: 78.3%, Avg loss: 1.218193 \n",
            "\n",
            "Epoch 10\n",
            "-------------------------------\n",
            "loss: 1.188181 and Accuracy : 80.468750[  128/60000]\n",
            "loss: 1.169199 and Accuracy : 81.250000[16512/60000]\n",
            "loss: 1.129707 and Accuracy : 75.781250[32896/60000]\n",
            "loss: 1.227608 and Accuracy : 70.312500[49280/60000]\n",
            "Train Avg metrics: \n",
            " Accuracy: 78.1%, Avg loss: 1.181557 \n",
            "\n",
            "Test Error: \n",
            " Accuracy: 80.0%, Avg loss: 1.105351 \n",
            "\n"
          ]
        }
      ]
    },
    {
      "cell_type": "code",
      "source": [
        "# Plot the loss curves\n",
        "plt.plot(epoch_count, train_loss_values, label=\"Train loss\")\n",
        "plt.plot(epoch_count, test_loss_values, label=\"Test loss\")\n",
        "plt.title(\"Training and test loss curves\")\n",
        "plt.ylabel(\"Loss\")\n",
        "plt.xlabel(\"Epochs\")\n",
        "plt.legend();"
      ],
      "metadata": {
        "colab": {
          "base_uri": "https://localhost:8080/",
          "height": 472
        },
        "id": "ocRjo0koc_pE",
        "outputId": "da3e9a38-c8f3-469f-c869-cee5b341e637"
      },
      "execution_count": null,
      "outputs": [
        {
          "output_type": "display_data",
          "data": {
            "text/plain": [
              "<Figure size 640x480 with 1 Axes>"
            ],
            "image/png": "[encoded data removed]"
          },
          "metadata": {}
        }
      ]
    },
    {
      "cell_type": "markdown",
      "source": [
        "##### Saving and loading a PyTorch model\n",
        "\n",
        "```md\n",
        "| PyTorch method                  | What does it do?                                                                                                                                                                                               |\n",
        "|---------------------------------|----------------------------------------------------------------------------------------------------------------------------------------------------------------------------------------------------------------|\n",
        "| torch.save                      | Saves a serialized object to disk using Python's pickle utility. Models, tensors and various other Python objects like dictionaries can be saved using torch.save.                                             |\n",
        "| torch.load                      | Uses pickle's unpickling features to deserialize and load pickled Python object files (like models, tensors or dictionaries) into memory. You can also set which device to load the object to (CPU, GPU etc).  |\n",
        "| torch.nn.Module.load_state_dict | Loads a model's parameter dictionary (model.state_dict()) using a saved state_dict() object.                                                                                                                   |\n",
        "```"
      ],
      "metadata": {
        "id": "xQBagsl0kXtn"
      }
    },
    {
      "cell_type": "code",
      "source": [
        "# ideal way is to save only the trained model weights\n",
        "# 1. Create models directory\n",
        "MODEL_PATH = Path(\"models\")\n",
        "MODEL_PATH.mkdir(parents=True, exist_ok=True)\n",
        "\n",
        "# 2. Create model save path\n",
        "MODEL_NAME = \"01_pytorch_workflow_model.pth\"\n",
        "MODEL_SAVE_PATH = MODEL_PATH / MODEL_NAME\n",
        "\n",
        "# 3. Save the model state dict\n",
        "print(f\"Saving model to: {MODEL_SAVE_PATH}\")\n",
        "torch.save(obj=model.state_dict(), # only saving the state_dict() only saves the models learned parameters\n",
        "           f=MODEL_SAVE_PATH)"
      ],
      "metadata": {
        "colab": {
          "base_uri": "https://localhost:8080/"
        },
        "id": "3QSg1COYmIjj",
        "outputId": "21b641cb-ed28-40dc-c317-a8dd1cd7726c"
      },
      "execution_count": null,
      "outputs": [
        {
          "output_type": "stream",
          "name": "stdout",
          "text": [
            "Saving model to: models/01_pytorch_workflow_model.pth\n"
          ]
        }
      ]
    },
    {
      "cell_type": "code",
      "source": [
        "# loading of the weights of pre-trained model\n",
        "new_model = SimpleNN(input_size=28*28, num_classes=10)\n",
        "new_model.load_state_dict(torch.load(MODEL_SAVE_PATH))\n",
        "new_model.to(device)\n",
        "print(f\"Loaded model:\\n{new_model}\")"
      ],
      "metadata": {
        "colab": {
          "base_uri": "https://localhost:8080/"
        },
        "id": "7Gl0YF0hmPXy",
        "outputId": "9fe9b72a-4f61-4146-a638-c9e560f4344b"
      },
      "execution_count": null,
      "outputs": [
        {
          "output_type": "stream",
          "name": "stdout",
          "text": [
            "Loaded model:\n",
            "SimpleNN(\n",
            "  (flatten): Flatten(start_dim=1, end_dim=-1)\n",
            "  (fc1): Linear(in_features=784, out_features=50, bias=True)\n",
            "  (fc2): Linear(in_features=50, out_features=10, bias=True)\n",
            ")\n"
          ]
        }
      ]
    },
    {
      "cell_type": "code",
      "source": [
        "# one test prediction\n",
        "classes = [\n",
        "    \"T-shirt/top\",\n",
        "    \"Trouser\",\n",
        "    \"Pullover\",\n",
        "    \"Dress\",\n",
        "    \"Coat\",\n",
        "    \"Sandal\",\n",
        "    \"Shirt\",\n",
        "    \"Sneaker\",\n",
        "    \"Bag\",\n",
        "    \"Ankle boot\",\n",
        "]\n",
        "new_model.eval()\n",
        "x, y = test_data[0][0], test_data[0][1]\n",
        "with torch.no_grad():\n",
        "    x = x.to(device)\n",
        "    pred = new_model(x)\n",
        "    predicted, actual = classes[pred[0].argmax(0)], classes[y]\n",
        "    print(f'Predicted: \"{predicted}\", Actual: \"{actual}\"')"
      ],
      "metadata": {
        "colab": {
          "base_uri": "https://localhost:8080/"
        },
        "id": "dOiNqDJLm2Hj",
        "outputId": "6fba769b-7ddc-4a0d-ff4e-466379e87cc5"
      },
      "execution_count": null,
      "outputs": [
        {
          "output_type": "stream",
          "name": "stdout",
          "text": [
            "Predicted: \"Sneaker\", Actual: \"Sneaker\"\n"
          ]
        }
      ]
    },
    {
      "cell_type": "markdown",
      "source": [
        "## Deep Neural Regression Model\n",
        "\n",
        "* Custom dataset creation for panel data\n",
        "* Advanced training and evaluation mechanism reusable and stable"
      ],
      "metadata": {
        "id": "wsitjXTIm90c"
      }
    },
    {
      "cell_type": "code",
      "source": [
        "# Set manual seed since nn.Parameter are randomly initialzied\n",
        "set_seed(42)\n",
        "\n",
        "# set device\n",
        "device = \"cuda\" if torch.cuda.is_available() else \"cpu\"\n",
        "print(f\"Using {device} device\")\n",
        "\n",
        "# hyper params\n",
        "batch_size = 32\n",
        "epochs = 10\n",
        "lr = 1e-3"
      ],
      "metadata": {
        "colab": {
          "base_uri": "https://localhost:8080/"
        },
        "id": "2sXcs2-k7d-c",
        "outputId": "7284e002-6e9d-425b-9e57-6256a30dd19c"
      },
      "execution_count": 268,
      "outputs": [
        {
          "output_type": "stream",
          "name": "stdout",
          "text": [
            "Random seed set as 42\n",
            "Using cuda device\n"
          ]
        }
      ]
    },
    {
      "cell_type": "markdown",
      "source": [
        "##### Custom dataset and data loader"
      ],
      "metadata": {
        "id": "3mQrGAqKkq-x"
      }
    },
    {
      "cell_type": "code",
      "source": [
        "# reading the boston data set--\n",
        "boston_df = pd.read_csv(\"https://raw.githubusercontent.com/selva86/datasets/master/BostonHousing.csv\")\n",
        "print(boston_df.shape)"
      ],
      "metadata": {
        "colab": {
          "base_uri": "https://localhost:8080/"
        },
        "id": "A6fVt0or2bi_",
        "outputId": "393df9a6-22c8-42db-beaa-0ffdca233848"
      },
      "execution_count": 269,
      "outputs": [
        {
          "output_type": "stream",
          "name": "stdout",
          "text": [
            "(506, 14)\n"
          ]
        }
      ]
    },
    {
      "cell_type": "code",
      "source": [
        "# train test split\n",
        "X= boston_df.drop(columns=[\"medv\"])\n",
        "y = boston_df[\"medv\"]\n",
        "\n",
        "train_x, test_x, train_y, test_y = train_test_split(X, y, test_size=0.2, random_state=42)\n",
        "print(train_x.shape,test_x.shape)"
      ],
      "metadata": {
        "colab": {
          "base_uri": "https://localhost:8080/"
        },
        "id": "A9sKtd4A2cZI",
        "outputId": "7da03a64-444d-4139-a889-fa3e25b93e93"
      },
      "execution_count": 270,
      "outputs": [
        {
          "output_type": "stream",
          "name": "stdout",
          "text": [
            "(404, 13) (102, 13)\n"
          ]
        }
      ]
    },
    {
      "cell_type": "code",
      "source": [
        "# Custom torch dataset for tensor enablement\n",
        "class BostonDataset(Dataset):\n",
        "\n",
        "  def __init__(self,X,y,scaled=False):\n",
        "\n",
        "    if not scaled:\n",
        "      X = StandardScaler().fit_transform(X.values)\n",
        "\n",
        "    if not torch.is_tensor(X):\n",
        "      self.X = torch.tensor(X, dtype=torch.float32).to(device)\n",
        "\n",
        "    if not torch.is_tensor(y):\n",
        "      self.y = torch.tensor(y.values, dtype=torch.float32).to(device)\n",
        "\n",
        "  def __len__(self):\n",
        "    return len(self.X)\n",
        "\n",
        "  def __getitem__(self, idx):\n",
        "    return self.X[idx], self.y[idx]"
      ],
      "metadata": {
        "id": "OCsEd-HX2cgA"
      },
      "execution_count": 271,
      "outputs": []
    },
    {
      "cell_type": "code",
      "source": [
        "train_dataset = BostonDataset(train_x, train_y)\n",
        "test_dataset = BostonDataset(test_x, test_y)"
      ],
      "metadata": {
        "id": "5BBcA2mM2ck0"
      },
      "execution_count": 272,
      "outputs": []
    },
    {
      "cell_type": "code",
      "source": [
        "next(iter(train_dataset))"
      ],
      "metadata": {
        "colab": {
          "base_uri": "https://localhost:8080/"
        },
        "id": "4BchBygqtVa0",
        "outputId": "24ee7843-1d38-47e7-ce13-d99421095c97"
      },
      "execution_count": 273,
      "outputs": [
        {
          "output_type": "execute_result",
          "data": {
            "text/plain": [
              "(tensor([ 1.2877, -0.5003,  1.0332, -0.2781,  0.4893, -1.4281,  1.0280, -0.8022,\n",
              "          1.7069,  1.5784,  0.8453, -0.0743,  1.7535], device='cuda:0'),\n",
              " tensor(12., device='cuda:0'))"
            ]
          },
          "metadata": {},
          "execution_count": 273
        }
      ]
    },
    {
      "cell_type": "code",
      "source": [
        "# dataloader class\n",
        "train_dataloader = DataLoader(train_dataset, batch_size=batch_size, shuffle=True)\n",
        "test_dataloader = DataLoader(test_dataset, batch_size=batch_size, shuffle=True )"
      ],
      "metadata": {
        "id": "rTGLOo6g2cqz"
      },
      "execution_count": 274,
      "outputs": []
    },
    {
      "cell_type": "code",
      "source": [
        "for epoch in range(epochs):\n",
        "  print(f\"The epoch is {epoch}\")\n",
        "  for idx, (data,label) in enumerate(train_dataloader):\n",
        "    print(f\"The batch id is:: {idx}\")\n",
        "    print(f\"The shape of a batch data in one epoch:: {data.shape}\")\n",
        "    print(f\"The shape of the batch label in one epoch:: {len(label)}\")\n",
        "  break\n"
      ],
      "metadata": {
        "colab": {
          "base_uri": "https://localhost:8080/"
        },
        "id": "iAQstOyV2c6u",
        "outputId": "49a7bc33-e9d3-4172-9042-6c9cc9aca261"
      },
      "execution_count": 276,
      "outputs": [
        {
          "output_type": "stream",
          "name": "stdout",
          "text": [
            "The epoch is 0\n",
            "The batch id is:: 0\n",
            "The shape of a batch data in one epoch:: torch.Size([32, 13])\n",
            "The shape of the batch label in one epoch:: 32\n",
            "The batch id is:: 1\n",
            "The shape of a batch data in one epoch:: torch.Size([32, 13])\n",
            "The shape of the batch label in one epoch:: 32\n",
            "The batch id is:: 2\n",
            "The shape of a batch data in one epoch:: torch.Size([32, 13])\n",
            "The shape of the batch label in one epoch:: 32\n",
            "The batch id is:: 3\n",
            "The shape of a batch data in one epoch:: torch.Size([32, 13])\n",
            "The shape of the batch label in one epoch:: 32\n",
            "The batch id is:: 4\n",
            "The shape of a batch data in one epoch:: torch.Size([32, 13])\n",
            "The shape of the batch label in one epoch:: 32\n",
            "The batch id is:: 5\n",
            "The shape of a batch data in one epoch:: torch.Size([32, 13])\n",
            "The shape of the batch label in one epoch:: 32\n",
            "The batch id is:: 6\n",
            "The shape of a batch data in one epoch:: torch.Size([32, 13])\n",
            "The shape of the batch label in one epoch:: 32\n",
            "The batch id is:: 7\n",
            "The shape of a batch data in one epoch:: torch.Size([32, 13])\n",
            "The shape of the batch label in one epoch:: 32\n",
            "The batch id is:: 8\n",
            "The shape of a batch data in one epoch:: torch.Size([32, 13])\n",
            "The shape of the batch label in one epoch:: 32\n",
            "The batch id is:: 9\n",
            "The shape of a batch data in one epoch:: torch.Size([32, 13])\n",
            "The shape of the batch label in one epoch:: 32\n",
            "The batch id is:: 10\n",
            "The shape of a batch data in one epoch:: torch.Size([32, 13])\n",
            "The shape of the batch label in one epoch:: 32\n",
            "The batch id is:: 11\n",
            "The shape of a batch data in one epoch:: torch.Size([32, 13])\n",
            "The shape of the batch label in one epoch:: 32\n",
            "The batch id is:: 12\n",
            "The shape of a batch data in one epoch:: torch.Size([20, 13])\n",
            "The shape of the batch label in one epoch:: 20\n"
          ]
        }
      ]
    },
    {
      "cell_type": "markdown",
      "source": [
        "##### Model definition"
      ],
      "metadata": {
        "id": "8pCvcXNm9WWc"
      }
    },
    {
      "cell_type": "code",
      "source": [
        "class BaseLinearModel(nn.Module):\n",
        "    \"\"\"Base class inheriting from nn.Module for multi-linear regression\"\"\"\n",
        "\n",
        "    def __init__(self, input_dim, output_dim, neurons):\n",
        "        super(BaseLinearModel, self).__init__()\n",
        "        self.linear_layer1 = nn.Linear(in_features=input_dim, out_features=neurons)\n",
        "        self.linear_layer2 = nn.Linear(in_features=neurons, out_features=2 * neurons)\n",
        "        self.linear_layer3 = nn.Linear(in_features=2 * neurons, out_features=output_dim)\n",
        "\n",
        "    def forward(self, x: torch.Tensor):\n",
        "        x = F.relu(self.linear_layer1(x))\n",
        "        x = F.relu(self.linear_layer2(x))\n",
        "        op = self.linear_layer3(x)\n",
        "\n",
        "        return op"
      ],
      "metadata": {
        "id": "KHSQ4nw8Fh9i"
      },
      "execution_count": 277,
      "outputs": []
    },
    {
      "cell_type": "code",
      "source": [
        "lmodel = BaseLinearModel(input_dim=train_dataset.X.shape[1], output_dim=1, neurons=16).to(device)\n",
        "print(lmodel)\n",
        "print(lmodel.state_dict().keys())"
      ],
      "metadata": {
        "id": "st1xGCruFiFd",
        "colab": {
          "base_uri": "https://localhost:8080/"
        },
        "outputId": "075a1f50-5366-4504-f48b-fa1e16e8fe21"
      },
      "execution_count": 278,
      "outputs": [
        {
          "output_type": "stream",
          "name": "stdout",
          "text": [
            "BaseLinearModel(\n",
            "  (linear_layer1): Linear(in_features=13, out_features=16, bias=True)\n",
            "  (linear_layer2): Linear(in_features=16, out_features=32, bias=True)\n",
            "  (linear_layer3): Linear(in_features=32, out_features=1, bias=True)\n",
            ")\n",
            "odict_keys(['linear_layer1.weight', 'linear_layer1.bias', 'linear_layer2.weight', 'linear_layer2.bias', 'linear_layer3.weight', 'linear_layer3.bias'])\n"
          ]
        }
      ]
    },
    {
      "cell_type": "code",
      "source": [
        "for name, param in lmodel.named_parameters():\n",
        "  print(name, '\\t\\t', param.shape)"
      ],
      "metadata": {
        "id": "d8XZd9f8FiMa",
        "colab": {
          "base_uri": "https://localhost:8080/"
        },
        "outputId": "7b362c17-2430-40a0-c954-2eda1049bb11"
      },
      "execution_count": 279,
      "outputs": [
        {
          "output_type": "stream",
          "name": "stdout",
          "text": [
            "linear_layer1.weight \t\t torch.Size([16, 13])\n",
            "linear_layer1.bias \t\t torch.Size([16])\n",
            "linear_layer2.weight \t\t torch.Size([32, 16])\n",
            "linear_layer2.bias \t\t torch.Size([32])\n",
            "linear_layer3.weight \t\t torch.Size([1, 32])\n",
            "linear_layer3.bias \t\t torch.Size([1])\n"
          ]
        }
      ]
    },
    {
      "cell_type": "code",
      "source": [
        "summary(lmodel, (train_dataset.X.shape[1],))"
      ],
      "metadata": {
        "colab": {
          "base_uri": "https://localhost:8080/"
        },
        "id": "imHif315c93I",
        "outputId": "3c4af6e4-1af4-414b-9644-33be5b8e4aa6"
      },
      "execution_count": 280,
      "outputs": [
        {
          "output_type": "stream",
          "name": "stdout",
          "text": [
            "----------------------------------------------------------------\n",
            "        Layer (type)               Output Shape         Param #\n",
            "================================================================\n",
            "            Linear-1                   [-1, 16]             224\n",
            "            Linear-2                   [-1, 32]             544\n",
            "            Linear-3                    [-1, 1]              33\n",
            "================================================================\n",
            "Total params: 801\n",
            "Trainable params: 801\n",
            "Non-trainable params: 0\n",
            "----------------------------------------------------------------\n",
            "Input size (MB): 0.00\n",
            "Forward/backward pass size (MB): 0.00\n",
            "Params size (MB): 0.00\n",
            "Estimated Total Size (MB): 0.00\n",
            "----------------------------------------------------------------\n"
          ]
        }
      ]
    },
    {
      "cell_type": "code",
      "source": [
        "model_graph = draw_graph(lmodel, input_size = (train_dataset.X.shape[1],), expand_nested=True)\n",
        "model_graph.visual_graph"
      ],
      "metadata": {
        "colab": {
          "base_uri": "https://localhost:8080/",
          "height": 686
        },
        "id": "Dfa6UgUbdM6b",
        "outputId": "52c103da-1db1-4425-c680-ab37ec27fc33"
      },
      "execution_count": 281,
      "outputs": [
        {
          "output_type": "execute_result",
          "data": {
            "image/svg+xml": "<?xml version=\"1.0\" encoding=\"UTF-8\" standalone=\"no\"?>\n<!DOCTYPE svg PUBLIC \"-//W3C//DTD SVG 1.1//EN\"\n \"http://www.w3.org/Graphics/SVG/1.1/DTD/svg11.dtd\">\n<!-- Generated by graphviz version 2.43.0 (0)\n -->\n<!-- Title: model Pages: 1 -->\n<svg width=\"167pt\" height=\"498pt\"\n viewBox=\"0.00 0.00 167.00 498.00\" xmlns=\"http://www.w3.org/2000/svg\" xmlns:xlink=\"http://www.w3.org/1999/xlink\">\n<g id=\"graph0\" class=\"graph\" transform=\"scale(1 1) rotate(0) translate(4 494)\">\n<title>model</title>\n<polygon fill=\"white\" stroke=\"transparent\" points=\"-4,4 -4,-494 163,-494 163,4 -4,4\"/>\n<!-- 0 -->\n<g id=\"node1\" class=\"node\">\n<title>0</title>\n<polygon fill=\"lightyellow\" stroke=\"transparent\" points=\"141.5,-490 17.5,-490 17.5,-458 141.5,-458 141.5,-490\"/>\n<polygon fill=\"none\" stroke=\"black\" points=\"17.5,-458 17.5,-490 100.5,-490 100.5,-458 17.5,-458\"/>\n<text text-anchor=\"start\" x=\"22.5\" y=\"-477\" font-family=\"Linux libertine\" font-size=\"10.00\">input&#45;tensor</text>\n<text text-anchor=\"start\" x=\"37.5\" y=\"-466\" font-family=\"Linux libertine\" font-size=\"10.00\">depth:0</text>\n<polygon fill=\"none\" stroke=\"black\" points=\"100.5,-458 100.5,-490 141.5,-490 141.5,-458 100.5,-458\"/>\n<text text-anchor=\"start\" x=\"105.5\" y=\"-471.5\" font-family=\"Linux libertine\" font-size=\"10.00\">(13,)</text>\n</g>\n<!-- 1 -->\n<g id=\"node2\" class=\"node\">\n<title>1</title>\n<polygon fill=\"#c1ffc1\" stroke=\"transparent\" points=\"159,-422 0,-422 0,-380 159,-380 159,-422\"/>\n<polygon fill=\"none\" stroke=\"black\" points=\"0.5,-380 0.5,-422 53.5,-422 53.5,-380 0.5,-380\"/>\n<text text-anchor=\"start\" x=\"8.5\" y=\"-404\" font-family=\"Linux libertine\" font-size=\"10.00\">Linear</text>\n<text text-anchor=\"start\" x=\"5.5\" y=\"-393\" font-family=\"Linux libertine\" font-size=\"10.00\">depth:1</text>\n<polygon fill=\"none\" stroke=\"black\" points=\"53.5,-401 53.5,-422 112.5,-422 112.5,-401 53.5,-401\"/>\n<text text-anchor=\"start\" x=\"64.5\" y=\"-409\" font-family=\"Linux libertine\" font-size=\"10.00\">input:</text>\n<polygon fill=\"none\" stroke=\"black\" points=\"112.5,-401 112.5,-422 159.5,-422 159.5,-401 112.5,-401\"/>\n<text text-anchor=\"start\" x=\"117.5\" y=\"-409\" font-family=\"Linux libertine\" font-size=\"10.00\">(13,) </text>\n<polygon fill=\"none\" stroke=\"black\" points=\"53.5,-380 53.5,-401 112.5,-401 112.5,-380 53.5,-380\"/>\n<text text-anchor=\"start\" x=\"58.5\" y=\"-388\" font-family=\"Linux libertine\" font-size=\"10.00\">output: </text>\n<polygon fill=\"none\" stroke=\"black\" points=\"112.5,-380 112.5,-401 159.5,-401 159.5,-380 112.5,-380\"/>\n<text text-anchor=\"start\" x=\"117.5\" y=\"-388\" font-family=\"Linux libertine\" font-size=\"10.00\">(16,) </text>\n</g>\n<!-- 0&#45;&gt;1 -->\n<g id=\"edge1\" class=\"edge\">\n<title>0&#45;&gt;1</title>\n<path fill=\"none\" stroke=\"black\" d=\"M79.5,-457.94C79.5,-450.45 79.5,-441.12 79.5,-432.24\"/>\n<polygon fill=\"black\" stroke=\"black\" points=\"83,-432.16 79.5,-422.16 76,-432.16 83,-432.16\"/>\n</g>\n<!-- 2 -->\n<g id=\"node3\" class=\"node\">\n<title>2</title>\n<polygon fill=\"aliceblue\" stroke=\"transparent\" points=\"159,-344 0,-344 0,-302 159,-302 159,-344\"/>\n<polygon fill=\"none\" stroke=\"black\" points=\"0.5,-302 0.5,-344 53.5,-344 53.5,-302 0.5,-302\"/>\n<text text-anchor=\"start\" x=\"14.5\" y=\"-326\" font-family=\"Linux libertine\" font-size=\"10.00\">relu</text>\n<text text-anchor=\"start\" x=\"5.5\" y=\"-315\" font-family=\"Linux libertine\" font-size=\"10.00\">depth:1</text>\n<polygon fill=\"none\" stroke=\"black\" points=\"53.5,-323 53.5,-344 112.5,-344 112.5,-323 53.5,-323\"/>\n<text text-anchor=\"start\" x=\"64.5\" y=\"-331\" font-family=\"Linux libertine\" font-size=\"10.00\">input:</text>\n<polygon fill=\"none\" stroke=\"black\" points=\"112.5,-323 112.5,-344 159.5,-344 159.5,-323 112.5,-323\"/>\n<text text-anchor=\"start\" x=\"117.5\" y=\"-331\" font-family=\"Linux libertine\" font-size=\"10.00\">(16,) </text>\n<polygon fill=\"none\" stroke=\"black\" points=\"53.5,-302 53.5,-323 112.5,-323 112.5,-302 53.5,-302\"/>\n<text text-anchor=\"start\" x=\"58.5\" y=\"-310\" font-family=\"Linux libertine\" font-size=\"10.00\">output: </text>\n<polygon fill=\"none\" stroke=\"black\" points=\"112.5,-302 112.5,-323 159.5,-323 159.5,-302 112.5,-302\"/>\n<text text-anchor=\"start\" x=\"117.5\" y=\"-310\" font-family=\"Linux libertine\" font-size=\"10.00\">(16,) </text>\n</g>\n<!-- 1&#45;&gt;2 -->\n<g id=\"edge2\" class=\"edge\">\n<title>1&#45;&gt;2</title>\n<path fill=\"none\" stroke=\"black\" d=\"M79.5,-379.63C79.5,-371.82 79.5,-362.73 79.5,-354.18\"/>\n<polygon fill=\"black\" stroke=\"black\" points=\"83,-354.16 79.5,-344.16 76,-354.16 83,-354.16\"/>\n</g>\n<!-- 3 -->\n<g id=\"node4\" class=\"node\">\n<title>3</title>\n<polygon fill=\"#c1ffc1\" stroke=\"transparent\" points=\"159,-266 0,-266 0,-224 159,-224 159,-266\"/>\n<polygon fill=\"none\" stroke=\"black\" points=\"0.5,-224 0.5,-266 53.5,-266 53.5,-224 0.5,-224\"/>\n<text text-anchor=\"start\" x=\"8.5\" y=\"-248\" font-family=\"Linux libertine\" font-size=\"10.00\">Linear</text>\n<text text-anchor=\"start\" x=\"5.5\" y=\"-237\" font-family=\"Linux libertine\" font-size=\"10.00\">depth:1</text>\n<polygon fill=\"none\" stroke=\"black\" points=\"53.5,-245 53.5,-266 112.5,-266 112.5,-245 53.5,-245\"/>\n<text text-anchor=\"start\" x=\"64.5\" y=\"-253\" font-family=\"Linux libertine\" font-size=\"10.00\">input:</text>\n<polygon fill=\"none\" stroke=\"black\" points=\"112.5,-245 112.5,-266 159.5,-266 159.5,-245 112.5,-245\"/>\n<text text-anchor=\"start\" x=\"117.5\" y=\"-253\" font-family=\"Linux libertine\" font-size=\"10.00\">(16,) </text>\n<polygon fill=\"none\" stroke=\"black\" points=\"53.5,-224 53.5,-245 112.5,-245 112.5,-224 53.5,-224\"/>\n<text text-anchor=\"start\" x=\"58.5\" y=\"-232\" font-family=\"Linux libertine\" font-size=\"10.00\">output: </text>\n<polygon fill=\"none\" stroke=\"black\" points=\"112.5,-224 112.5,-245 159.5,-245 159.5,-224 112.5,-224\"/>\n<text text-anchor=\"start\" x=\"117.5\" y=\"-232\" font-family=\"Linux libertine\" font-size=\"10.00\">(32,) </text>\n</g>\n<!-- 2&#45;&gt;3 -->\n<g id=\"edge3\" class=\"edge\">\n<title>2&#45;&gt;3</title>\n<path fill=\"none\" stroke=\"black\" d=\"M79.5,-301.63C79.5,-293.82 79.5,-284.73 79.5,-276.18\"/>\n<polygon fill=\"black\" stroke=\"black\" points=\"83,-276.16 79.5,-266.16 76,-276.16 83,-276.16\"/>\n</g>\n<!-- 4 -->\n<g id=\"node5\" class=\"node\">\n<title>4</title>\n<polygon fill=\"aliceblue\" stroke=\"transparent\" points=\"159,-188 0,-188 0,-146 159,-146 159,-188\"/>\n<polygon fill=\"none\" stroke=\"black\" points=\"0.5,-146 0.5,-188 53.5,-188 53.5,-146 0.5,-146\"/>\n<text text-anchor=\"start\" x=\"14.5\" y=\"-170\" font-family=\"Linux libertine\" font-size=\"10.00\">relu</text>\n<text text-anchor=\"start\" x=\"5.5\" y=\"-159\" font-family=\"Linux libertine\" font-size=\"10.00\">depth:1</text>\n<polygon fill=\"none\" stroke=\"black\" points=\"53.5,-167 53.5,-188 112.5,-188 112.5,-167 53.5,-167\"/>\n<text text-anchor=\"start\" x=\"64.5\" y=\"-175\" font-family=\"Linux libertine\" font-size=\"10.00\">input:</text>\n<polygon fill=\"none\" stroke=\"black\" points=\"112.5,-167 112.5,-188 159.5,-188 159.5,-167 112.5,-167\"/>\n<text text-anchor=\"start\" x=\"117.5\" y=\"-175\" font-family=\"Linux libertine\" font-size=\"10.00\">(32,) </text>\n<polygon fill=\"none\" stroke=\"black\" points=\"53.5,-146 53.5,-167 112.5,-167 112.5,-146 53.5,-146\"/>\n<text text-anchor=\"start\" x=\"58.5\" y=\"-154\" font-family=\"Linux libertine\" font-size=\"10.00\">output: </text>\n<polygon fill=\"none\" stroke=\"black\" points=\"112.5,-146 112.5,-167 159.5,-167 159.5,-146 112.5,-146\"/>\n<text text-anchor=\"start\" x=\"117.5\" y=\"-154\" font-family=\"Linux libertine\" font-size=\"10.00\">(32,) </text>\n</g>\n<!-- 3&#45;&gt;4 -->\n<g id=\"edge4\" class=\"edge\">\n<title>3&#45;&gt;4</title>\n<path fill=\"none\" stroke=\"black\" d=\"M79.5,-223.63C79.5,-215.82 79.5,-206.73 79.5,-198.18\"/>\n<polygon fill=\"black\" stroke=\"black\" points=\"83,-198.16 79.5,-188.16 76,-198.16 83,-198.16\"/>\n</g>\n<!-- 5 -->\n<g id=\"node6\" class=\"node\">\n<title>5</title>\n<polygon fill=\"#c1ffc1\" stroke=\"transparent\" points=\"159,-110 0,-110 0,-68 159,-68 159,-110\"/>\n<polygon fill=\"none\" stroke=\"black\" points=\"0.5,-68 0.5,-110 53.5,-110 53.5,-68 0.5,-68\"/>\n<text text-anchor=\"start\" x=\"8.5\" y=\"-92\" font-family=\"Linux libertine\" font-size=\"10.00\">Linear</text>\n<text text-anchor=\"start\" x=\"5.5\" y=\"-81\" font-family=\"Linux libertine\" font-size=\"10.00\">depth:1</text>\n<polygon fill=\"none\" stroke=\"black\" points=\"53.5,-89 53.5,-110 112.5,-110 112.5,-89 53.5,-89\"/>\n<text text-anchor=\"start\" x=\"64.5\" y=\"-97\" font-family=\"Linux libertine\" font-size=\"10.00\">input:</text>\n<polygon fill=\"none\" stroke=\"black\" points=\"112.5,-89 112.5,-110 159.5,-110 159.5,-89 112.5,-89\"/>\n<text text-anchor=\"start\" x=\"117.5\" y=\"-97\" font-family=\"Linux libertine\" font-size=\"10.00\">(32,) </text>\n<polygon fill=\"none\" stroke=\"black\" points=\"53.5,-68 53.5,-89 112.5,-89 112.5,-68 53.5,-68\"/>\n<text text-anchor=\"start\" x=\"58.5\" y=\"-76\" font-family=\"Linux libertine\" font-size=\"10.00\">output: </text>\n<polygon fill=\"none\" stroke=\"black\" points=\"112.5,-68 112.5,-89 159.5,-89 159.5,-68 112.5,-68\"/>\n<text text-anchor=\"start\" x=\"120.5\" y=\"-76\" font-family=\"Linux libertine\" font-size=\"10.00\">(1,) </text>\n</g>\n<!-- 4&#45;&gt;5 -->\n<g id=\"edge5\" class=\"edge\">\n<title>4&#45;&gt;5</title>\n<path fill=\"none\" stroke=\"black\" d=\"M79.5,-145.63C79.5,-137.82 79.5,-128.73 79.5,-120.18\"/>\n<polygon fill=\"black\" stroke=\"black\" points=\"83,-120.16 79.5,-110.16 76,-120.16 83,-120.16\"/>\n</g>\n<!-- 6 -->\n<g id=\"node7\" class=\"node\">\n<title>6</title>\n<polygon fill=\"lightyellow\" stroke=\"transparent\" points=\"141.5,-32 17.5,-32 17.5,0 141.5,0 141.5,-32\"/>\n<polygon fill=\"none\" stroke=\"black\" points=\"17.5,0 17.5,-32 106.5,-32 106.5,0 17.5,0\"/>\n<text text-anchor=\"start\" x=\"22.5\" y=\"-19\" font-family=\"Linux libertine\" font-size=\"10.00\">output&#45;tensor</text>\n<text text-anchor=\"start\" x=\"40.5\" y=\"-8\" font-family=\"Linux libertine\" font-size=\"10.00\">depth:0</text>\n<polygon fill=\"none\" stroke=\"black\" points=\"106.5,0 106.5,-32 141.5,-32 141.5,0 106.5,0\"/>\n<text text-anchor=\"start\" x=\"111.5\" y=\"-13.5\" font-family=\"Linux libertine\" font-size=\"10.00\">(1,)</text>\n</g>\n<!-- 5&#45;&gt;6 -->\n<g id=\"edge6\" class=\"edge\">\n<title>5&#45;&gt;6</title>\n<path fill=\"none\" stroke=\"black\" d=\"M79.5,-67.84C79.5,-59.89 79.5,-50.66 79.5,-42.26\"/>\n<polygon fill=\"black\" stroke=\"black\" points=\"83,-42.24 79.5,-32.24 76,-42.24 83,-42.24\"/>\n</g>\n</g>\n</svg>\n",
            "text/plain": [
              "<graphviz.graphs.Digraph at 0x7bac5ec7a9b0>"
            ]
          },
          "metadata": {},
          "execution_count": 281
        }
      ]
    },
    {
      "cell_type": "markdown",
      "source": [
        "##### Model Training and Evaluation Module"
      ],
      "metadata": {
        "id": "UfhmFHJiFiSs"
      }
    },
    {
      "cell_type": "markdown",
      "source": [
        "Training Loop --- Per Epoch\n",
        "* set the model in training mode (model.train()).\n",
        "* Forward pass - The model goes through batch of training data, performing its forward() function calculations (model(x_train)).\n",
        "* Calculate the loss - The model's outputs (predictions) are compared to the ground truth and evaluated to see how wrong they are (loss = loss_fn(y_pred, y_train).\n",
        "* Calculate any metric - Accuracy or any other metric\n",
        "* Zero gradients - The optimizers gradients are set to zero (they are accumulated by default) so they can be recalculated for the specific training step (optimizer.zero_grad()).\n",
        "* Perform backpropagation on the loss - Computes the gradient of the loss with respect for every model parameter to be updated (each parameter with requires_grad=True). This is known as backpropagation, hence \"backwards\" (loss.backward()).\n",
        "* Step the optimizer (gradient descent) - Update the parameters with requires_grad=True with respect to the loss gradients in order to improve them (optimizer.step())."
      ],
      "metadata": {
        "id": "i2uJa3vtEQCU"
      }
    },
    {
      "cell_type": "code",
      "source": [
        "def train_module(model, device, train_dataloader , optimizer, criterion, metric, train_losses, train_metrics):\n",
        "  model.train()\n",
        "  pbar = tqdm(train_dataloader)\n",
        "\n",
        "  # batch metrics\n",
        "  train_loss = 0\n",
        "  train_metric = 0\n",
        "  processed_batch = 0\n",
        "\n",
        "  for idx, (data,label) in enumerate(pbar):\n",
        "    # setting up device\n",
        "    data = data.to(device)\n",
        "    label = label.to(device)\n",
        "\n",
        "    # forward pass output\n",
        "    preds = model(data).squeeze()\n",
        "\n",
        "    # calc loss\n",
        "    loss = criterion(preds, label)\n",
        "    train_loss += loss.item()\n",
        "    # print(f\"training loss for batch {idx} is {loss}\")\n",
        "\n",
        "    # backpropagation\n",
        "    optimizer.zero_grad() # flush out  existing grads\n",
        "    loss.backward() # back prop of weights wrt loss\n",
        "    optimizer.step() # optimizer step -> minima\n",
        "\n",
        "    # metric calc\n",
        "    metric_vl = metric(preds,label).detach()\n",
        "    train_metric += metric_vl.item()\n",
        "\n",
        "    #updating batch count\n",
        "    processed_batch += 1\n",
        "\n",
        "    pbar.set_description(f\"Avg Train Loss: {train_loss/processed_batch} Avg Train Metric: {train_metric/processed_batch}\")\n",
        "\n",
        "  # updating epoch metrics\n",
        "  train_losses.append(train_loss/processed_batch)\n",
        "  train_metrics.append(train_metric/processed_batch)\n",
        "\n",
        "  return train_losses, train_metrics\n"
      ],
      "metadata": {
        "id": "rbh-sw8sFiYm"
      },
      "execution_count": 282,
      "outputs": []
    },
    {
      "cell_type": "markdown",
      "source": [
        "Validation Loop --- Per Epoch\n",
        "* set the model in validatipon mode (model.eval()).\n",
        "* Forward pass - The model goes through batch of training data, performing its forward() function calculations (model(x_val)).\n",
        "* Calculate the loss - The model's outputs (predictions) are compared to the ground truth and evaluated to see how wrong they are (loss = loss_fn(y_pred, y_train).\n",
        "* Calculate any metric - Accuracy or any other metric\n",
        "* Send the avg loss and metric value for the batches"
      ],
      "metadata": {
        "id": "rsD5ONW3FieU"
      }
    },
    {
      "cell_type": "code",
      "source": [
        "def test_module(model, device, test_dataloader, criterion, metric, test_losses, test_metrics):\n",
        "  model.eval()\n",
        "  pbar = tqdm(test_dataloader)\n",
        "\n",
        "  # batch metrics\n",
        "  test_loss = 0\n",
        "  test_metric = 0\n",
        "  processed_batch = 0\n",
        "\n",
        "  with torch.inference_mode():\n",
        "    for idx, (data,label) in enumerate(pbar):\n",
        "      data , label = data.to(device), label.to(device)\n",
        "      # predictions\n",
        "      preds = model(data).squeeze()\n",
        "      # print(preds.shape)\n",
        "      # print(label.shape)\n",
        "\n",
        "      #loss calc\n",
        "      loss = criterion(preds, label)\n",
        "      test_loss += loss.item()\n",
        "\n",
        "      # metric calc\n",
        "      metric_vl = metric(preds, label).detach()\n",
        "      test_metric += metric_vl.item()\n",
        "\n",
        "      #updating batch count\n",
        "      processed_batch += 1\n",
        "\n",
        "      pbar.set_description(f\"Avg Test Loss: {test_loss/processed_batch} Avg Test Metric: {test_metric/processed_batch}\")\n",
        "\n",
        "    # updating epoch metrics\n",
        "    test_losses.append(test_loss/processed_batch)\n",
        "    test_metrics.append(test_metric/processed_batch)\n",
        "\n",
        "  return test_losses, test_metrics"
      ],
      "metadata": {
        "id": "IA2uQU0dFilb"
      },
      "execution_count": 283,
      "outputs": []
    },
    {
      "cell_type": "code",
      "source": [
        "# custom metric\n",
        "class RMSE(nn.Module):\n",
        "    def __init__(self, eps=1e-6):\n",
        "        super().__init__()\n",
        "        self.mse = nn.MSELoss()\n",
        "        self.eps = eps\n",
        "\n",
        "    def forward(self,yhat,y):\n",
        "        loss = torch.sqrt(self.mse(yhat,y) + self.eps)\n",
        "        return loss"
      ],
      "metadata": {
        "id": "iYL6wQCWj6LI"
      },
      "execution_count": 284,
      "outputs": []
    },
    {
      "cell_type": "code",
      "source": [
        "# model declaration\n",
        "rg_model = BaseLinearModel(input_dim=train_dataset.X.shape[1], output_dim=1, neurons=16).to(device)"
      ],
      "metadata": {
        "id": "zCEhthjykAEC"
      },
      "execution_count": 285,
      "outputs": []
    },
    {
      "cell_type": "code",
      "source": [
        "# setting up the drivers\n",
        "optimizer = torch.optim.SGD(rg_model.parameters(), lr=lr, momentum=0.9)\n",
        "criterion = nn.MSELoss()\n",
        "metric = RMSE()"
      ],
      "metadata": {
        "id": "b19pWM2-n4fZ"
      },
      "execution_count": 286,
      "outputs": []
    },
    {
      "cell_type": "code",
      "source": [
        "# Place holders----\n",
        "train_losses = []\n",
        "train_metrics = []\n",
        "test_losses = []\n",
        "test_metrics = []\n",
        "\n",
        "for epoch in range(0,epochs+3):\n",
        "  print(f'Epoch {epoch}')\n",
        "  train_losses, train_metrics = train_module(rg_model, device, train_dataloader, optimizer, criterion, metric, train_losses, train_metrics)\n",
        "  test_losses , test_metrics = test_module(rg_model, device, test_dataloader, criterion, metric, test_losses, test_metrics)"
      ],
      "metadata": {
        "id": "337dIs7rFi4P",
        "colab": {
          "base_uri": "https://localhost:8080/"
        },
        "outputId": "ba1069c2-4173-4b88-dcde-93abe9637b01"
      },
      "execution_count": 287,
      "outputs": [
        {
          "output_type": "stream",
          "name": "stdout",
          "text": [
            "Epoch 0\n"
          ]
        },
        {
          "output_type": "stream",
          "name": "stderr",
          "text": [
            "Avg Train Loss: 463.6839071420523 Avg Train Metric: 21.00995320540208: 100%|██████████| 13/13 [00:00<00:00, 204.57it/s]\n",
            "Avg Test Loss: 76.20767211914062 Avg Test Metric: 8.66476571559906: 100%|██████████| 4/4 [00:00<00:00, 271.39it/s]\n"
          ]
        },
        {
          "output_type": "stream",
          "name": "stdout",
          "text": [
            "Epoch 1\n"
          ]
        },
        {
          "output_type": "stream",
          "name": "stderr",
          "text": [
            "Avg Train Loss: 69.72872455303485 Avg Train Metric: 7.981389742631179: 100%|██████████| 13/13 [00:00<00:00, 201.80it/s]\n",
            "Avg Test Loss: 47.02785778045654 Avg Test Metric: 6.75347900390625: 100%|██████████| 4/4 [00:00<00:00, 237.46it/s]\n"
          ]
        },
        {
          "output_type": "stream",
          "name": "stdout",
          "text": [
            "Epoch 2\n"
          ]
        },
        {
          "output_type": "stream",
          "name": "stderr",
          "text": [
            "Avg Train Loss: 27.021309412442722 Avg Train Metric: 5.012402552824754: 100%|██████████| 13/13 [00:00<00:00, 211.40it/s]\n",
            "Avg Test Loss: 23.430918216705322 Avg Test Metric: 4.703443169593811: 100%|██████████| 4/4 [00:00<00:00, 330.03it/s]\n"
          ]
        },
        {
          "output_type": "stream",
          "name": "stdout",
          "text": [
            "Epoch 3\n"
          ]
        },
        {
          "output_type": "stream",
          "name": "stderr",
          "text": [
            "Avg Train Loss: 20.836129188537598 Avg Train Metric: 4.428732285132775: 100%|██████████| 13/13 [00:00<00:00, 214.31it/s]\n",
            "Avg Test Loss: 17.968337535858154 Avg Test Metric: 4.029849350452423: 100%|██████████| 4/4 [00:00<00:00, 343.67it/s]\n"
          ]
        },
        {
          "output_type": "stream",
          "name": "stdout",
          "text": [
            "Epoch 4\n"
          ]
        },
        {
          "output_type": "stream",
          "name": "stderr",
          "text": [
            "Avg Train Loss: 21.73661840879 Avg Train Metric: 4.530301570892334: 100%|██████████| 13/13 [00:00<00:00, 165.85it/s]\n",
            "Avg Test Loss: 30.990097045898438 Avg Test Metric: 5.455651044845581: 100%|██████████| 4/4 [00:00<00:00, 352.48it/s]\n"
          ]
        },
        {
          "output_type": "stream",
          "name": "stdout",
          "text": [
            "Epoch 5\n"
          ]
        },
        {
          "output_type": "stream",
          "name": "stderr",
          "text": [
            "Avg Train Loss: 22.785695186028114 Avg Train Metric: 4.550528269547683: 100%|██████████| 13/13 [00:00<00:00, 210.13it/s]\n",
            "Avg Test Loss: 15.630128383636475 Avg Test Metric: 3.86892306804657: 100%|██████████| 4/4 [00:00<00:00, 382.87it/s]\n"
          ]
        },
        {
          "output_type": "stream",
          "name": "stdout",
          "text": [
            "Epoch 6\n"
          ]
        },
        {
          "output_type": "stream",
          "name": "stderr",
          "text": [
            "Avg Train Loss: 14.95409345626831 Avg Train Metric: 3.7550935378441443: 100%|██████████| 13/13 [00:00<00:00, 213.40it/s]\n",
            "Avg Test Loss: 16.81273341178894 Avg Test Metric: 3.9936476945877075: 100%|██████████| 4/4 [00:00<00:00, 264.83it/s]\n"
          ]
        },
        {
          "output_type": "stream",
          "name": "stdout",
          "text": [
            "Epoch 7\n"
          ]
        },
        {
          "output_type": "stream",
          "name": "stderr",
          "text": [
            "Avg Train Loss: 13.349650566394512 Avg Train Metric: 3.5160515950276303: 100%|██████████| 13/13 [00:00<00:00, 202.48it/s]\n",
            "Avg Test Loss: 15.392425537109375 Avg Test Metric: 3.8278605937957764: 100%|██████████| 4/4 [00:00<00:00, 339.21it/s]\n"
          ]
        },
        {
          "output_type": "stream",
          "name": "stdout",
          "text": [
            "Epoch 8\n"
          ]
        },
        {
          "output_type": "stream",
          "name": "stderr",
          "text": [
            "Avg Train Loss: 11.237594861250658 Avg Train Metric: 3.2521106463212233: 100%|██████████| 13/13 [00:00<00:00, 209.66it/s]\n",
            "Avg Test Loss: 13.948014259338379 Avg Test Metric: 3.611698031425476: 100%|██████████| 4/4 [00:00<00:00, 315.51it/s]\n"
          ]
        },
        {
          "output_type": "stream",
          "name": "stdout",
          "text": [
            "Epoch 9\n"
          ]
        },
        {
          "output_type": "stream",
          "name": "stderr",
          "text": [
            "Avg Train Loss: 10.068504370175875 Avg Train Metric: 3.113023959673368: 100%|██████████| 13/13 [00:00<00:00, 175.85it/s]\n",
            "Avg Test Loss: 35.31211543083191 Avg Test Metric: 5.113208055496216: 100%|██████████| 4/4 [00:00<00:00, 298.44it/s]\n"
          ]
        },
        {
          "output_type": "stream",
          "name": "stdout",
          "text": [
            "Epoch 10\n"
          ]
        },
        {
          "output_type": "stream",
          "name": "stderr",
          "text": [
            "Avg Train Loss: 10.718766542581411 Avg Train Metric: 3.192104156200702: 100%|██████████| 13/13 [00:00<00:00, 219.50it/s]\n",
            "Avg Test Loss: 20.745941162109375 Avg Test Metric: 4.437847852706909: 100%|██████████| 4/4 [00:00<00:00, 273.87it/s]\n"
          ]
        },
        {
          "output_type": "stream",
          "name": "stdout",
          "text": [
            "Epoch 11\n"
          ]
        },
        {
          "output_type": "stream",
          "name": "stderr",
          "text": [
            "Avg Train Loss: 10.823227919065035 Avg Train Metric: 3.2219192064725437: 100%|██████████| 13/13 [00:00<00:00, 210.53it/s]\n",
            "Avg Test Loss: 19.59444224834442 Avg Test Metric: 4.256195485591888: 100%|██████████| 4/4 [00:00<00:00, 363.03it/s]\n"
          ]
        },
        {
          "output_type": "stream",
          "name": "stdout",
          "text": [
            "Epoch 12\n"
          ]
        },
        {
          "output_type": "stream",
          "name": "stderr",
          "text": [
            "Avg Train Loss: 10.108043670654297 Avg Train Metric: 3.1325920545137844: 100%|██████████| 13/13 [00:00<00:00, 212.29it/s]\n",
            "Avg Test Loss: 15.559421181678772 Avg Test Metric: 3.734891176223755: 100%|██████████| 4/4 [00:00<00:00, 294.77it/s]\n"
          ]
        }
      ]
    },
    {
      "cell_type": "code",
      "source": [
        "fig, ax = plt.subplots(2, 2, sharex=True, figsize=(10, 10))\n",
        "ax[0,0].plot(train_losses, \"g--o\")\n",
        "ax[0,0].set_title(\"Loss Curve for Train\")\n",
        "ax[0,1].plot(test_losses, \"m--o\")\n",
        "ax[0,1].set_title(\"Loss Curve for Validation\")\n",
        "ax[1,0].plot(train_metrics, \"b--o\")\n",
        "ax[1,0].set_title(\"Metrics Curve for Train\")\n",
        "ax[1,1].plot(test_metrics, \"y--o\")\n",
        "ax[1,1].set_title(\"Metrics Curve for Validation\")"
      ],
      "metadata": {
        "colab": {
          "base_uri": "https://localhost:8080/",
          "height": 870
        },
        "id": "_NfrqDgBnhLc",
        "outputId": "32d407b7-54f6-4729-8e92-31cbad03410a"
      },
      "execution_count": 288,
      "outputs": [
        {
          "output_type": "execute_result",
          "data": {
            "text/plain": [
              "Text(0.5, 1.0, 'Metrics Curve for Validation')"
            ]
          },
          "metadata": {},
          "execution_count": 288
        },
        {
          "output_type": "display_data",
          "data": {
            "text/plain": [
              "<Figure size 1000x1000 with 4 Axes>"
            ],
            "image/png": "[encoded data removed]"
          },
          "metadata": {}
        }
      ]
    },
    {
      "cell_type": "markdown",
      "source": [
        "## Torch Eval\n",
        "Introduction of torch eval for out of the box metrics calculation"
      ],
      "metadata": {
        "id": "YWdp_yt-7R9u"
      }
    },
    {
      "cell_type": "code",
      "source": [
        "from torcheval.metrics import MulticlassAccuracy\n",
        "\n",
        "metric = MulticlassAccuracy(device=device)\n",
        "num_epochs, num_batches, batch_size = 2, 4, 10\n",
        "num_classes = 3\n",
        "\n",
        "# number of batches between metric computations\n",
        "compute_frequency = 1"
      ],
      "metadata": {
        "id": "DzXtAnzV7enC"
      },
      "execution_count": 289,
      "outputs": []
    },
    {
      "cell_type": "code",
      "source": [
        "for epoch in range(num_epochs):\n",
        "    for batch_idx in range(num_batches):\n",
        "        input = torch.randint(high=num_classes, size=(batch_size,), device=device) # the predictions from the model\n",
        "        target = torch.randint(high=num_classes, size=(batch_size,), device=device) # the groud truth labels\n",
        "\n",
        "        # metric.update() updates the metric state with new data\n",
        "        metric.update(input, target)\n",
        "        metric_val = metric.compute()\n",
        "        # metric_val = metric.compute().detach().item()\n",
        "\n",
        "        # metric.compute() returns metric value from all seen data\n",
        "        if (batch_idx + 1) % compute_frequency == 0:\n",
        "                print(\n",
        "                    \"Epoch {}/{}, Batch {}/{} --- acc: {:.4f}\".format(\n",
        "                        epoch + 1,\n",
        "                        num_epochs,\n",
        "                        batch_idx + 1,\n",
        "                        num_batches,\n",
        "                        # metric.compute() returns metric value from all seen data\n",
        "                        metric_val,\n",
        "                    )\n",
        "                )\n",
        "\n",
        "    # metric.reset() reset metric states. It's typically called after the epoch completes.\n",
        "    metric.reset()"
      ],
      "metadata": {
        "colab": {
          "base_uri": "https://localhost:8080/"
        },
        "id": "w6ndq-Bh7mPy",
        "outputId": "7e72c02d-6ee9-4679-99a4-eeedaa9d57e6"
      },
      "execution_count": 290,
      "outputs": [
        {
          "output_type": "stream",
          "name": "stdout",
          "text": [
            "Epoch 1/2, Batch 1/4 --- acc: 0.3000\n",
            "Epoch 1/2, Batch 2/4 --- acc: 0.2500\n",
            "Epoch 1/2, Batch 3/4 --- acc: 0.3000\n",
            "Epoch 1/2, Batch 4/4 --- acc: 0.3000\n",
            "Epoch 2/2, Batch 1/4 --- acc: 0.6000\n",
            "Epoch 2/2, Batch 2/4 --- acc: 0.6500\n",
            "Epoch 2/2, Batch 3/4 --- acc: 0.5000\n",
            "Epoch 2/2, Batch 4/4 --- acc: 0.4750\n"
          ]
        }
      ]
    },
    {
      "cell_type": "markdown",
      "source": [
        "The class metrics keeps track of metric states, which enables them to be able to calculate values through accumulations and synchronizations across multiple processes. The base class is torcheval.metrics.Metric.\n",
        "\n",
        "The core APIs of class metrics are update(), compute() and reset().\n",
        "\n",
        "* update(): Update the metric states with input data. This is often used when new data needs to be added for metric computation.\n",
        "* compute(): Compute the metric values from the metric state, which are updated by previous update() calls. The compute frequency can be less than the update frequency.\n",
        "* reset(): Reset the metric state variables to their default value. Usually this is called at the end of every epoch to clean up metric states."
      ],
      "metadata": {
        "id": "bpNLWZRD7ewg"
      }
    },
    {
      "cell_type": "markdown",
      "source": [
        "## Deep Neural Classification Model\n",
        "* tryout with Binary Classifier\n",
        "* tryout with multiclass\n",
        "* with and without final activation function\n",
        "* Loss criterion for Binary: nn.BCEWithLogitsLoss will apply sigmoid activation internally for you but you should add it manually if you are using nn.BCELoss.\n",
        "* Loss criterion for Multiclass: nn.CrossEntropyLoss and nn.NLLLoss. While the former uses a nn.LogSoftmax activation function internally, you would have to add it in the latter criterion.\n",
        "* follow articles: https://discuss.pytorch.org/t/bceloss-vs-bcewithlogitsloss/33586 , https://discuss.pytorch.org/t/difference-between-cross-entropy-loss-or-log-likelihood-loss/38816, https://jamesmccaffrey.wordpress.com/2020/06/11/pytorch-crossentropyloss-vs-nllloss-cross-entropy-loss-vs-negative-log-likelihood-loss/"
      ],
      "metadata": {
        "id": "dHMhMOqIpIuP"
      }
    },
    {
      "cell_type": "code",
      "source": [
        "from torcheval.metrics import BinaryAccuracy, MulticlassAccuracy"
      ],
      "metadata": {
        "id": "cWG9rd1n9aIr"
      },
      "execution_count": 291,
      "outputs": []
    },
    {
      "cell_type": "markdown",
      "source": [
        "##### Binary Classification"
      ],
      "metadata": {
        "id": "66VnLpKcxTZJ"
      }
    },
    {
      "cell_type": "code",
      "source": [
        "# Set manual seed since nn.Parameter are randomly initialzied\n",
        "set_seed(42)\n",
        "\n",
        "# set device\n",
        "device = \"cuda\" if torch.cuda.is_available() else \"cpu\"\n",
        "print(f\"Using {device} device\")\n",
        "\n",
        "# hyper params\n",
        "batch_size = 32\n",
        "epochs = 10\n",
        "lr = 1e-3"
      ],
      "metadata": {
        "colab": {
          "base_uri": "https://localhost:8080/"
        },
        "id": "oXvCXYLAqjHn",
        "outputId": "3bb48483-b1c3-4d13-c5c5-fe1f1aa27055"
      },
      "execution_count": 292,
      "outputs": [
        {
          "output_type": "stream",
          "name": "stdout",
          "text": [
            "Random seed set as 42\n",
            "Using cuda device\n"
          ]
        }
      ]
    },
    {
      "cell_type": "markdown",
      "source": [
        "###### Basic Dataprep"
      ],
      "metadata": {
        "id": "64MEvHMWzqEr"
      }
    },
    {
      "cell_type": "code",
      "source": [
        "# reading the boston data set--\n",
        "notes_df = pd.read_csv(\"https://raw.githubusercontent.com/DARK-art108/Bank-Note-Authentication/master/Datasets/BankNote_Authentication.csv\")\n",
        "print(notes_df.shape)"
      ],
      "metadata": {
        "colab": {
          "base_uri": "https://localhost:8080/"
        },
        "id": "nfHVpNkwxQi3",
        "outputId": "1cc26230-e53b-449b-b3e8-ed8522fadcbc"
      },
      "execution_count": 293,
      "outputs": [
        {
          "output_type": "stream",
          "name": "stdout",
          "text": [
            "(1372, 5)\n"
          ]
        }
      ]
    },
    {
      "cell_type": "code",
      "source": [
        "# train test split\n",
        "X= notes_df.drop(columns=[\"class\"])\n",
        "y = notes_df[\"class\"]\n",
        "\n",
        "train_x, test_x, train_y, test_y = train_test_split(X, y, test_size=0.2, random_state=42)\n",
        "print(train_x.shape,test_x.shape)"
      ],
      "metadata": {
        "colab": {
          "base_uri": "https://localhost:8080/"
        },
        "id": "z1R4drhGydFU",
        "outputId": "6d6ee564-1772-4904-8879-834ab9c4717d"
      },
      "execution_count": 294,
      "outputs": [
        {
          "output_type": "stream",
          "name": "stdout",
          "text": [
            "(1097, 4) (275, 4)\n"
          ]
        }
      ]
    },
    {
      "cell_type": "code",
      "source": [
        "# test_y.value_counts().plot.bar()"
      ],
      "metadata": {
        "id": "09lqlCRlydNF"
      },
      "execution_count": 295,
      "outputs": []
    },
    {
      "cell_type": "code",
      "source": [
        "# Custom torch dataset for tensor enablement\n",
        "class NotesDataset(Dataset):\n",
        "\n",
        "  def __init__(self,X,y,scaled=False):\n",
        "\n",
        "    if not scaled:\n",
        "      X = StandardScaler().fit_transform(X.values)\n",
        "\n",
        "    if not torch.is_tensor(X):\n",
        "      self.X = torch.tensor(X, dtype=torch.float32).to(device)\n",
        "\n",
        "    if not torch.is_tensor(y):\n",
        "      self.y = torch.tensor(y.values, dtype=torch.float32).to(device)\n",
        "\n",
        "  def __len__(self):\n",
        "    return len(self.X)\n",
        "\n",
        "  def __getitem__(self, idx):\n",
        "    return self.X[idx], self.y[idx]"
      ],
      "metadata": {
        "id": "F4AvNOOizc9y"
      },
      "execution_count": 296,
      "outputs": []
    },
    {
      "cell_type": "code",
      "source": [
        "train_dataset = NotesDataset(train_x, train_y)\n",
        "test_dataset = NotesDataset(test_x, test_y)"
      ],
      "metadata": {
        "id": "pa0NfuBlzc9_"
      },
      "execution_count": 297,
      "outputs": []
    },
    {
      "cell_type": "code",
      "source": [
        "next(iter(train_dataset))"
      ],
      "metadata": {
        "colab": {
          "base_uri": "https://localhost:8080/"
        },
        "outputId": "7e77edf7-ea44-4a2a-9f24-51138fc78185",
        "id": "mzlJlQW5zc-A"
      },
      "execution_count": 298,
      "outputs": [
        {
          "output_type": "execute_result",
          "data": {
            "text/plain": [
              "(tensor([-0.6392,  1.8056, -0.1884, -3.0510], device='cuda:0'),\n",
              " tensor(0., device='cuda:0'))"
            ]
          },
          "metadata": {},
          "execution_count": 298
        }
      ]
    },
    {
      "cell_type": "code",
      "source": [
        "# dataloader class\n",
        "train_dataloader = DataLoader(train_dataset, batch_size=batch_size, shuffle=True)\n",
        "test_dataloader = DataLoader(test_dataset, batch_size=batch_size, shuffle=True )"
      ],
      "metadata": {
        "id": "ZHia56dzzc-A"
      },
      "execution_count": 299,
      "outputs": []
    },
    {
      "cell_type": "code",
      "source": [
        "for epoch in range(epochs):\n",
        "  print(f\"The epoch is {epoch}\")\n",
        "  for idx, (data,label) in enumerate(train_dataloader):\n",
        "    print(f\"The batch id is:: {idx}\")\n",
        "    print(f\"The shape of a batch data in one epoch:: {data.shape}\")\n",
        "    print(f\"The shape of the batch label in one epoch:: {len(label)}\")\n",
        "  break\n"
      ],
      "metadata": {
        "colab": {
          "base_uri": "https://localhost:8080/"
        },
        "outputId": "55fbef47-8053-461a-9754-492fd6e1b63b",
        "id": "NlismvFCzc-A"
      },
      "execution_count": 300,
      "outputs": [
        {
          "output_type": "stream",
          "name": "stdout",
          "text": [
            "The epoch is 0\n",
            "The batch id is:: 0\n",
            "The shape of a batch data in one epoch:: torch.Size([32, 4])\n",
            "The shape of the batch label in one epoch:: 32\n",
            "The batch id is:: 1\n",
            "The shape of a batch data in one epoch:: torch.Size([32, 4])\n",
            "The shape of the batch label in one epoch:: 32\n",
            "The batch id is:: 2\n",
            "The shape of a batch data in one epoch:: torch.Size([32, 4])\n",
            "The shape of the batch label in one epoch:: 32\n",
            "The batch id is:: 3\n",
            "The shape of a batch data in one epoch:: torch.Size([32, 4])\n",
            "The shape of the batch label in one epoch:: 32\n",
            "The batch id is:: 4\n",
            "The shape of a batch data in one epoch:: torch.Size([32, 4])\n",
            "The shape of the batch label in one epoch:: 32\n",
            "The batch id is:: 5\n",
            "The shape of a batch data in one epoch:: torch.Size([32, 4])\n",
            "The shape of the batch label in one epoch:: 32\n",
            "The batch id is:: 6\n",
            "The shape of a batch data in one epoch:: torch.Size([32, 4])\n",
            "The shape of the batch label in one epoch:: 32\n",
            "The batch id is:: 7\n",
            "The shape of a batch data in one epoch:: torch.Size([32, 4])\n",
            "The shape of the batch label in one epoch:: 32\n",
            "The batch id is:: 8\n",
            "The shape of a batch data in one epoch:: torch.Size([32, 4])\n",
            "The shape of the batch label in one epoch:: 32\n",
            "The batch id is:: 9\n",
            "The shape of a batch data in one epoch:: torch.Size([32, 4])\n",
            "The shape of the batch label in one epoch:: 32\n",
            "The batch id is:: 10\n",
            "The shape of a batch data in one epoch:: torch.Size([32, 4])\n",
            "The shape of the batch label in one epoch:: 32\n",
            "The batch id is:: 11\n",
            "The shape of a batch data in one epoch:: torch.Size([32, 4])\n",
            "The shape of the batch label in one epoch:: 32\n",
            "The batch id is:: 12\n",
            "The shape of a batch data in one epoch:: torch.Size([32, 4])\n",
            "The shape of the batch label in one epoch:: 32\n",
            "The batch id is:: 13\n",
            "The shape of a batch data in one epoch:: torch.Size([32, 4])\n",
            "The shape of the batch label in one epoch:: 32\n",
            "The batch id is:: 14\n",
            "The shape of a batch data in one epoch:: torch.Size([32, 4])\n",
            "The shape of the batch label in one epoch:: 32\n",
            "The batch id is:: 15\n",
            "The shape of a batch data in one epoch:: torch.Size([32, 4])\n",
            "The shape of the batch label in one epoch:: 32\n",
            "The batch id is:: 16\n",
            "The shape of a batch data in one epoch:: torch.Size([32, 4])\n",
            "The shape of the batch label in one epoch:: 32\n",
            "The batch id is:: 17\n",
            "The shape of a batch data in one epoch:: torch.Size([32, 4])\n",
            "The shape of the batch label in one epoch:: 32\n",
            "The batch id is:: 18\n",
            "The shape of a batch data in one epoch:: torch.Size([32, 4])\n",
            "The shape of the batch label in one epoch:: 32\n",
            "The batch id is:: 19\n",
            "The shape of a batch data in one epoch:: torch.Size([32, 4])\n",
            "The shape of the batch label in one epoch:: 32\n",
            "The batch id is:: 20\n",
            "The shape of a batch data in one epoch:: torch.Size([32, 4])\n",
            "The shape of the batch label in one epoch:: 32\n",
            "The batch id is:: 21\n",
            "The shape of a batch data in one epoch:: torch.Size([32, 4])\n",
            "The shape of the batch label in one epoch:: 32\n",
            "The batch id is:: 22\n",
            "The shape of a batch data in one epoch:: torch.Size([32, 4])\n",
            "The shape of the batch label in one epoch:: 32\n",
            "The batch id is:: 23\n",
            "The shape of a batch data in one epoch:: torch.Size([32, 4])\n",
            "The shape of the batch label in one epoch:: 32\n",
            "The batch id is:: 24\n",
            "The shape of a batch data in one epoch:: torch.Size([32, 4])\n",
            "The shape of the batch label in one epoch:: 32\n",
            "The batch id is:: 25\n",
            "The shape of a batch data in one epoch:: torch.Size([32, 4])\n",
            "The shape of the batch label in one epoch:: 32\n",
            "The batch id is:: 26\n",
            "The shape of a batch data in one epoch:: torch.Size([32, 4])\n",
            "The shape of the batch label in one epoch:: 32\n",
            "The batch id is:: 27\n",
            "The shape of a batch data in one epoch:: torch.Size([32, 4])\n",
            "The shape of the batch label in one epoch:: 32\n",
            "The batch id is:: 28\n",
            "The shape of a batch data in one epoch:: torch.Size([32, 4])\n",
            "The shape of the batch label in one epoch:: 32\n",
            "The batch id is:: 29\n",
            "The shape of a batch data in one epoch:: torch.Size([32, 4])\n",
            "The shape of the batch label in one epoch:: 32\n",
            "The batch id is:: 30\n",
            "The shape of a batch data in one epoch:: torch.Size([32, 4])\n",
            "The shape of the batch label in one epoch:: 32\n",
            "The batch id is:: 31\n",
            "The shape of a batch data in one epoch:: torch.Size([32, 4])\n",
            "The shape of the batch label in one epoch:: 32\n",
            "The batch id is:: 32\n",
            "The shape of a batch data in one epoch:: torch.Size([32, 4])\n",
            "The shape of the batch label in one epoch:: 32\n",
            "The batch id is:: 33\n",
            "The shape of a batch data in one epoch:: torch.Size([32, 4])\n",
            "The shape of the batch label in one epoch:: 32\n",
            "The batch id is:: 34\n",
            "The shape of a batch data in one epoch:: torch.Size([9, 4])\n",
            "The shape of the batch label in one epoch:: 9\n"
          ]
        }
      ]
    },
    {
      "cell_type": "markdown",
      "source": [
        "###### Model definition"
      ],
      "metadata": {
        "id": "9hImsLsEzc-B"
      }
    },
    {
      "cell_type": "code",
      "source": [
        "class BinaryClassifier(nn.Module,):\n",
        "  \"\"\"Model class inheriting from nn.Module for binary classification\"\"\"\n",
        "  def __init__(self, input_dims, output_dims, hidden_dims):\n",
        "    super(BinaryClassifier, self).__init__()\n",
        "    self.fc1 = nn.Linear(in_features = input_dims, out_features = hidden_dims)\n",
        "    self.fc2 = nn.Linear(in_features = hidden_dims, out_features = hidden_dims * 2)\n",
        "    self.fc3 = nn.Linear(in_features = hidden_dims*2 , out_features = output_dims)\n",
        "\n",
        "  def forward(self, x):\n",
        "    \"\"\"To be used with loss BCEWithLogitsLoss as final activation function is applied internally \"\"\"\n",
        "    x = F.relu(self.fc1(x))\n",
        "    x = F.relu(self.fc2(x))\n",
        "    x = self.fc3(x)\n",
        "    return x\n",
        "\n",
        "  # def forward(self, x):\n",
        "  #   \"\"\"To be used with loss BCELoss as final activation function is applied internally \"\"\"\n",
        "  #   x = F.relu(self.fc1(x))\n",
        "  #   x = F.relu(self.fc2(x))\n",
        "  #   x = self.fc3(x)\n",
        "  #   return F.sigmoid(x)\n",
        "\n"
      ],
      "metadata": {
        "id": "m4bO-DzwydT2"
      },
      "execution_count": 301,
      "outputs": []
    },
    {
      "cell_type": "code",
      "source": [
        "# updated training module---\n",
        "\n",
        "def train_module(model, device, train_dataloader , optimizer, criterion, metric, train_losses, train_metrics):\n",
        "  model.train()\n",
        "  pbar = tqdm(train_dataloader)\n",
        "\n",
        "  # batch metrics\n",
        "  train_loss = 0\n",
        "  train_metric = 0\n",
        "  processed_batch = 0\n",
        "\n",
        "  for idx, (data,label) in enumerate(pbar):\n",
        "    # setting up device\n",
        "    data = data.to(device)\n",
        "    label = label.to(device)\n",
        "\n",
        "    # forward pass output\n",
        "    preds = model(data).squeeze()\n",
        "\n",
        "    # calc loss\n",
        "    loss = criterion(preds, label)\n",
        "    train_loss += loss.item()\n",
        "    # print(f\"training loss for batch {idx} is {loss}\")\n",
        "\n",
        "    # backpropagation\n",
        "    optimizer.zero_grad() # flush out  existing grads\n",
        "    loss.backward() # back prop of weights wrt loss\n",
        "    optimizer.step() # optimizer step -> minima\n",
        "\n",
        "    # metric calc\n",
        "    metric.update(preds,label)\n",
        "    train_metric += metric.compute().detach().item()\n",
        "\n",
        "    #updating batch count\n",
        "    processed_batch += 1\n",
        "\n",
        "    pbar.set_description(f\"Avg Train Loss: {train_loss/processed_batch} Avg Train Metric: {train_metric/processed_batch}\")\n",
        "\n",
        "  # It's typically called after the epoch completes\n",
        "  metric.reset()\n",
        "  # updating epoch metrics\n",
        "  train_losses.append(train_loss/processed_batch)\n",
        "  train_metrics.append(train_metric/processed_batch)\n",
        "\n",
        "  return train_losses, train_metrics\n"
      ],
      "metadata": {
        "id": "F_FFa1w-6tdK"
      },
      "execution_count": 302,
      "outputs": []
    },
    {
      "cell_type": "code",
      "source": [
        "# updated testing modules\n",
        "\n",
        "def test_module(model, device, test_dataloader, criterion, metric, test_losses, test_metrics):\n",
        "  model.eval()\n",
        "  pbar = tqdm(test_dataloader)\n",
        "\n",
        "  # batch metrics\n",
        "  test_loss = 0\n",
        "  test_metric = 0\n",
        "  processed_batch = 0\n",
        "\n",
        "  with torch.inference_mode():\n",
        "    for idx, (data,label) in enumerate(pbar):\n",
        "      data , label = data.to(device), label.to(device)\n",
        "      # predictions\n",
        "      preds = model(data).squeeze()\n",
        "      # print(preds.shape)\n",
        "      # print(label.shape)\n",
        "\n",
        "      #loss calc\n",
        "      loss = criterion(preds, label)\n",
        "      test_loss += loss.item()\n",
        "\n",
        "      # metric calc\n",
        "      metric.update(preds,label)\n",
        "      test_metric += metric.compute().detach().item()\n",
        "\n",
        "      #updating batch count\n",
        "      processed_batch += 1\n",
        "\n",
        "      pbar.set_description(f\"Avg Test Loss: {test_loss/processed_batch} Avg Test Metric: {test_metric/processed_batch}\")\n",
        "\n",
        "    # It's typically called after the epoch completes\n",
        "    metric.reset()\n",
        "    # updating epoch metrics\n",
        "    test_losses.append(test_loss/processed_batch)\n",
        "    test_metrics.append(test_metric/processed_batch)\n",
        "\n",
        "  return test_losses, test_metrics"
      ],
      "metadata": {
        "id": "lNYJVkkr-Raf"
      },
      "execution_count": 303,
      "outputs": []
    },
    {
      "cell_type": "code",
      "source": [
        "# declaring model\n",
        "bn_model = BinaryClassifier(input_dims = train_dataset.X.shape[1], output_dims = 1, hidden_dims = 32).to(device)"
      ],
      "metadata": {
        "id": "AAefVmK6ydfF"
      },
      "execution_count": 304,
      "outputs": []
    },
    {
      "cell_type": "code",
      "source": [
        "summary(bn_model, (train_dataset.X.shape[1],))"
      ],
      "metadata": {
        "colab": {
          "base_uri": "https://localhost:8080/"
        },
        "id": "5qMGctuo3fUd",
        "outputId": "74dab55d-c3d4-4416-e73a-fb5bf1f5d4f7"
      },
      "execution_count": 305,
      "outputs": [
        {
          "output_type": "stream",
          "name": "stdout",
          "text": [
            "----------------------------------------------------------------\n",
            "        Layer (type)               Output Shape         Param #\n",
            "================================================================\n",
            "            Linear-1                   [-1, 32]             160\n",
            "            Linear-2                   [-1, 64]           2,112\n",
            "            Linear-3                    [-1, 1]              65\n",
            "================================================================\n",
            "Total params: 2,337\n",
            "Trainable params: 2,337\n",
            "Non-trainable params: 0\n",
            "----------------------------------------------------------------\n",
            "Input size (MB): 0.00\n",
            "Forward/backward pass size (MB): 0.00\n",
            "Params size (MB): 0.01\n",
            "Estimated Total Size (MB): 0.01\n",
            "----------------------------------------------------------------\n"
          ]
        }
      ]
    },
    {
      "cell_type": "code",
      "source": [
        "# loss_fn = nn.BCELoss() # BCELoss = no sigmoid built-in\n",
        "criterion = nn.BCEWithLogitsLoss() # BCEWithLogitsLoss = sigmoid built-in\n",
        "\n",
        "# Create an optimizer\n",
        "optimizer = torch.optim.Adam(params=bn_model.parameters(), lr=lr)\n",
        "\n",
        "metric = BinaryAccuracy(threshold= 0.5 , device = device)"
      ],
      "metadata": {
        "id": "03XL2k71-sNS"
      },
      "execution_count": 306,
      "outputs": []
    },
    {
      "cell_type": "code",
      "source": [
        "# Place holders----\n",
        "train_losses = []\n",
        "train_metrics = []\n",
        "test_losses = []\n",
        "test_metrics = []\n",
        "\n",
        "for epoch in range(0,epochs):\n",
        "  print(f'Epoch {epoch}')\n",
        "  train_losses, train_metrics = train_module(bn_model, device, train_dataloader, optimizer, criterion, metric, train_losses, train_metrics)\n",
        "  test_losses , test_metrics = test_module(bn_model, device, test_dataloader, criterion, metric, test_losses, test_metrics)"
      ],
      "metadata": {
        "colab": {
          "base_uri": "https://localhost:8080/"
        },
        "id": "P09zkOoX_qTO",
        "outputId": "38336f73-c2c5-47b8-b0b2-7dd55c98d62e"
      },
      "execution_count": 307,
      "outputs": [
        {
          "output_type": "stream",
          "name": "stdout",
          "text": [
            "Epoch 0\n"
          ]
        },
        {
          "output_type": "stream",
          "name": "stderr",
          "text": [
            "Avg Train Loss: 0.616629467691694 Avg Train Metric: 0.559206475530352: 100%|██████████| 35/35 [00:00<00:00, 157.94it/s]\n",
            "Avg Test Loss: 0.5544681747754415 Avg Test Metric: 0.5473959048589071: 100%|██████████| 9/9 [00:00<00:00, 222.40it/s]\n"
          ]
        },
        {
          "output_type": "stream",
          "name": "stdout",
          "text": [
            "Epoch 1\n"
          ]
        },
        {
          "output_type": "stream",
          "name": "stderr",
          "text": [
            "Avg Train Loss: 0.44067177942820956 Avg Train Metric: 0.6704613225800651: 100%|██████████| 35/35 [00:00<00:00, 142.11it/s]\n",
            "Avg Test Loss: 0.3652596076329549 Avg Test Metric: 0.8102140360408359: 100%|██████████| 9/9 [00:00<00:00, 211.70it/s]\n"
          ]
        },
        {
          "output_type": "stream",
          "name": "stdout",
          "text": [
            "Epoch 2\n"
          ]
        },
        {
          "output_type": "stream",
          "name": "stderr",
          "text": [
            "Avg Train Loss: 0.24534214777605876 Avg Train Metric: 0.8713805760656085: 100%|██████████| 35/35 [00:00<00:00, 151.91it/s]\n",
            "Avg Test Loss: 0.18603434827592638 Avg Test Metric: 0.9060509933365716: 100%|██████████| 9/9 [00:00<00:00, 256.93it/s]\n"
          ]
        },
        {
          "output_type": "stream",
          "name": "stdout",
          "text": [
            "Epoch 3\n"
          ]
        },
        {
          "output_type": "stream",
          "name": "stderr",
          "text": [
            "Avg Train Loss: 0.12291260478752 Avg Train Metric: 0.9603863767215184: 100%|██████████| 35/35 [00:00<00:00, 163.08it/s]\n",
            "Avg Test Loss: 0.09660229707757632 Avg Test Metric: 0.9730408324135674: 100%|██████████| 9/9 [00:00<00:00, 277.09it/s]\n"
          ]
        },
        {
          "output_type": "stream",
          "name": "stdout",
          "text": [
            "Epoch 4\n"
          ]
        },
        {
          "output_type": "stream",
          "name": "stderr",
          "text": [
            "Avg Train Loss: 0.07081655977027757 Avg Train Metric: 0.9924627133778163: 100%|██████████| 35/35 [00:00<00:00, 166.78it/s]\n",
            "Avg Test Loss: 0.06132839247584343 Avg Test Metric: 0.991921967930264: 100%|██████████| 9/9 [00:00<00:00, 265.02it/s]\n"
          ]
        },
        {
          "output_type": "stream",
          "name": "stdout",
          "text": [
            "Epoch 5\n"
          ]
        },
        {
          "output_type": "stream",
          "name": "stderr",
          "text": [
            "Avg Train Loss: 0.04648003881531102 Avg Train Metric: 0.9950540917260307: 100%|██████████| 35/35 [00:00<00:00, 175.71it/s]\n",
            "Avg Test Loss: 0.04106402086714903 Avg Test Metric: 1.0: 100%|██████████| 9/9 [00:00<00:00, 265.36it/s]\n"
          ]
        },
        {
          "output_type": "stream",
          "name": "stdout",
          "text": [
            "Epoch 6\n"
          ]
        },
        {
          "output_type": "stream",
          "name": "stderr",
          "text": [
            "Avg Train Loss: 0.03383047080465725 Avg Train Metric: 0.9989121300833566: 100%|██████████| 35/35 [00:00<00:00, 157.86it/s]\n",
            "Avg Test Loss: 0.030833346562253103 Avg Test Metric: 1.0: 100%|██████████| 9/9 [00:00<00:00, 277.10it/s]\n"
          ]
        },
        {
          "output_type": "stream",
          "name": "stdout",
          "text": [
            "Epoch 7\n"
          ]
        },
        {
          "output_type": "stream",
          "name": "stderr",
          "text": [
            "Avg Train Loss: 0.024453676106142148 Avg Train Metric: 1.0: 100%|██████████| 35/35 [00:00<00:00, 189.00it/s]\n",
            "Avg Test Loss: 0.02192623395886686 Avg Test Metric: 1.0: 100%|██████████| 9/9 [00:00<00:00, 290.10it/s]\n"
          ]
        },
        {
          "output_type": "stream",
          "name": "stdout",
          "text": [
            "Epoch 8\n"
          ]
        },
        {
          "output_type": "stream",
          "name": "stderr",
          "text": [
            "Avg Train Loss: 0.01818336694102202 Avg Train Metric: 1.0: 100%|██████████| 35/35 [00:00<00:00, 155.05it/s]\n",
            "Avg Test Loss: 0.017830988806154992 Avg Test Metric: 1.0: 100%|██████████| 9/9 [00:00<00:00, 195.64it/s]\n"
          ]
        },
        {
          "output_type": "stream",
          "name": "stdout",
          "text": [
            "Epoch 9\n"
          ]
        },
        {
          "output_type": "stream",
          "name": "stderr",
          "text": [
            "Avg Train Loss: 0.014804840580161129 Avg Train Metric: 1.0: 100%|██████████| 35/35 [00:00<00:00, 159.71it/s]\n",
            "Avg Test Loss: 0.013561041870464882 Avg Test Metric: 1.0: 100%|██████████| 9/9 [00:00<00:00, 215.46it/s]\n"
          ]
        }
      ]
    },
    {
      "cell_type": "code",
      "source": [
        "fig, ax = plt.subplots(2, 2, sharex=True, figsize=(10, 10))\n",
        "ax[0,0].plot(train_losses, \"g--o\")\n",
        "ax[0,0].set_title(\"Loss Curve for Train\")\n",
        "ax[0,1].plot(test_losses, \"m--o\")\n",
        "ax[0,1].set_title(\"Loss Curve for Validation\")\n",
        "ax[1,0].plot(train_metrics, \"b--o\")\n",
        "ax[1,0].set_title(\"Metrics Curve for Train\")\n",
        "ax[1,1].plot(test_metrics, \"y--o\")\n",
        "ax[1,1].set_title(\"Metrics Curve for Validation\")"
      ],
      "metadata": {
        "colab": {
          "base_uri": "https://localhost:8080/",
          "height": 870
        },
        "id": "8GAyniHy_xuU",
        "outputId": "05919445-e8e5-4ca9-a266-38e3d8d79786"
      },
      "execution_count": 308,
      "outputs": [
        {
          "output_type": "execute_result",
          "data": {
            "text/plain": [
              "Text(0.5, 1.0, 'Metrics Curve for Validation')"
            ]
          },
          "metadata": {},
          "execution_count": 308
        },
        {
          "output_type": "display_data",
          "data": {
            "text/plain": [
              "<Figure size 1000x1000 with 4 Axes>"
            ],
            "image/png": "[encoded data removed]"
          },
          "metadata": {}
        }
      ]
    },
    {
      "cell_type": "code",
      "source": [],
      "metadata": {
        "id": "xoDRkTfsAINZ"
      },
      "execution_count": 308,
      "outputs": []
    }
  ]
}