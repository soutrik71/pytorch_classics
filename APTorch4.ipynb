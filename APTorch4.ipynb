{
  "nbformat": 4,
  "nbformat_minor": 0,
  "metadata": {
    "colab": {
      "provenance": [],
      "machine_shape": "hm",
      "authorship_tag": "ABX9TyPp/ycBT6dAAfxqTCio4uV0",
      "include_colab_link": true
    },
    "kernelspec": {
      "name": "python3",
      "display_name": "Python 3"
    },
    "language_info": {
      "name": "python"
    }
  },
  "cells": [
    {
      "cell_type": "markdown",
      "metadata": {
        "id": "view-in-github",
        "colab_type": "text"
      },
      "source": [
        "<a href=\"https://colab.research.google.com/github/soutrik71/pytorch_classics/blob/main/APTorch4.ipynb\" target=\"_parent\"><img src=\"https://colab.research.google.com/assets/colab-badge.svg\" alt=\"Open In Colab\"/></a>"
      ]
    },
    {
      "cell_type": "markdown",
      "source": [
        "Next series of notebook s will be all about discussion on\n",
        "0. Basics of Embedding Model\n",
        "1. Primary setup of Rnn architecture\n",
        "2. Experiment with RNN on a few text based use cases\n",
        "3. Primary setup of LSTM/GRU architecture\n",
        "4. Experiment with LSTM/GRU on a few text based use cases\n",
        "5. Embeddings and its different forms of experimentations\n",
        "6. Experiment with pre-trained embedding models on a few text based use cases\n",
        "7. Torchtext library and major functionalities"
      ],
      "metadata": {
        "id": "QjTtiJiQ9Ktc"
      }
    },
    {
      "cell_type": "markdown",
      "source": [
        "## BOOK1 -Word Embeddings Z2H"
      ],
      "metadata": {
        "id": "EUpn36Z1BUgM"
      }
    },
    {
      "cell_type": "code",
      "source": [
        "import os\n",
        "os.environ['CUDA_LAUNCH_BLOCKING'] = \"1\""
      ],
      "metadata": {
        "id": "O8qzpop6VfHJ"
      },
      "execution_count": 16,
      "outputs": []
    },
    {
      "cell_type": "code",
      "source": [
        "!pip install portalocker\n",
        "!pip install torchview\n",
        "!pip install torcheval"
      ],
      "metadata": {
        "colab": {
          "base_uri": "https://localhost:8080/"
        },
        "id": "C_eNXqj264Lt",
        "outputId": "4f50d110-41a9-4ceb-e02e-2b988f2761ea"
      },
      "execution_count": 17,
      "outputs": [
        {
          "output_type": "stream",
          "name": "stdout",
          "text": [
            "Requirement already satisfied: portalocker in /usr/local/lib/python3.10/dist-packages (2.8.2)\n",
            "Collecting torchview\n",
            "  Downloading torchview-0.2.6-py3-none-any.whl (25 kB)\n",
            "Installing collected packages: torchview\n",
            "Successfully installed torchview-0.2.6\n",
            "Collecting torcheval\n",
            "  Downloading torcheval-0.0.7-py3-none-any.whl (179 kB)\n",
            "\u001b[2K     \u001b[90m━━━━━━━━━━━━━━━━━━━━━━━━━━━━━━━━━━━━━━━━\u001b[0m \u001b[32m179.2/179.2 kB\u001b[0m \u001b[31m4.0 MB/s\u001b[0m eta \u001b[36m0:00:00\u001b[0m\n",
            "\u001b[?25hRequirement already satisfied: typing-extensions in /usr/local/lib/python3.10/dist-packages (from torcheval) (4.10.0)\n",
            "Installing collected packages: torcheval\n",
            "Successfully installed torcheval-0.0.7\n"
          ]
        }
      ]
    },
    {
      "cell_type": "code",
      "source": [
        "import torch\n",
        "import torch.nn as nn\n",
        "import torch.nn.functional as F\n",
        "import torchtext\n",
        "from torch.utils.data import DataLoader\n",
        "from torchtext import data\n",
        "from torchtext import datasets\n",
        "from torchtext.data import get_tokenizer\n",
        "from torchtext.vocab import build_vocab_from_iterator\n",
        "import re\n",
        "from torch.utils.data import DataLoader\n",
        "from torchtext.data.functional import to_map_style_dataset\n",
        "from torchsummary import summary\n",
        "from torchview import draw_graph\n",
        "import numpy as np\n",
        "import random\n",
        "import matplotlib.pyplot as plt\n",
        "from tqdm import tqdm\n",
        "from torcheval.metrics import MulticlassAccuracy,BinaryAccuracy\n",
        "import torch.optim as optim"
      ],
      "metadata": {
        "id": "_BH0vagoBUmZ"
      },
      "execution_count": 89,
      "outputs": []
    },
    {
      "cell_type": "code",
      "source": [
        "def set_seed(seed: int = 42) -> None:\n",
        "    np.random.seed(seed)\n",
        "    random.seed(seed)\n",
        "    torch.manual_seed(seed)\n",
        "    torch.cuda.manual_seed(seed)\n",
        "    # When running on the CuDNN backend, two further options must be set\n",
        "    torch.backends.cudnn.deterministic = True\n",
        "    torch.backends.cudnn.benchmark = False\n",
        "    # Set a fixed value for the hash seed\n",
        "    os.environ[\"PYTHONHASHSEED\"] = str(seed)\n",
        "    print(f\"Random seed set as {seed}\")"
      ],
      "metadata": {
        "id": "b00iaK6uVmVC"
      },
      "execution_count": 21,
      "outputs": []
    },
    {
      "cell_type": "code",
      "source": [
        "# Set manual seed since nn.Parameter are randomly initialzied\n",
        "set_seed(42)\n",
        "# Set device cuda for GPU if it's available otherwise run on the CPU\n",
        "device = torch.device(\"cuda\" if torch.cuda.is_available() else \"cpu\")\n",
        "print(device)\n",
        "batch_size = 1024\n",
        "epochs = 10\n",
        "lr = 1e-3"
      ],
      "metadata": {
        "id": "6iUvx21GNUA8",
        "colab": {
          "base_uri": "https://localhost:8080/"
        },
        "outputId": "41777801-2943-4da4-f043-c8deb94c66b9"
      },
      "execution_count": 32,
      "outputs": [
        {
          "output_type": "stream",
          "name": "stdout",
          "text": [
            "Random seed set as 42\n",
            "cpu\n"
          ]
        }
      ]
    },
    {
      "cell_type": "code",
      "source": [
        "def plot_loss_accuracy(train_loss, val_loss, train_acc, val_acc, labels, colors,\n",
        "                       loss_legend_loc='upper center', acc_legend_loc='upper left', legend_font=5,\n",
        "                       fig_size=(16, 10), sub_plot1=(1, 2, 1), sub_plot2=(1, 2, 2)):\n",
        "\n",
        "    plt.rcParams[\"figure.figsize\"] = fig_size\n",
        "    plt.figure\n",
        "\n",
        "\n",
        "    plt.subplot(sub_plot1[0], sub_plot1[1], sub_plot1[2])\n",
        "\n",
        "    for i in range(len(train_loss)):\n",
        "        x_train = range(len(train_loss[i]))\n",
        "        x_val = range(len(val_loss[i]))\n",
        "\n",
        "        min_train_loss = np.array(train_loss[i]).min()\n",
        "\n",
        "        min_val_loss = np.array(val_loss[i]).min()\n",
        "\n",
        "        plt.plot(x_train, train_loss[i], linestyle='-', color='tab:{}'.format(colors[i]),\n",
        "                 label=\"TRAIN ({0:.4}): {1}\".format(min_train_loss, labels[i]))\n",
        "        plt.plot(x_val, val_loss[i], linestyle='--' , color='tab:{}'.format(colors[i]),\n",
        "                 label=\"VALID ({0:.4}): {1}\".format(min_val_loss, labels[i]))\n",
        "\n",
        "    plt.xlabel('epoch no.')\n",
        "    plt.ylabel('loss')\n",
        "    plt.legend(loc=loss_legend_loc, prop={'size': legend_font})\n",
        "    plt.title('Training and Validation Loss')\n",
        "\n",
        "    plt.subplot(sub_plot2[0], sub_plot2[1], sub_plot2[2])\n",
        "\n",
        "    for i in range(len(train_acc)):\n",
        "        x_train = range(len(train_acc[i]))\n",
        "        x_val = range(len(val_acc[i]))\n",
        "\n",
        "        max_train_acc = np.array(train_acc[i]).max()\n",
        "\n",
        "        max_val_acc = np.array(val_acc[i]).max()\n",
        "\n",
        "        plt.plot(x_train, train_acc[i], linestyle='-', color='tab:{}'.format(colors[i]),\n",
        "                 label=\"TRAIN ({0:.4}): {1}\".format(max_train_acc, labels[i]))\n",
        "        plt.plot(x_val, val_acc[i], linestyle='--' , color='tab:{}'.format(colors[i]),\n",
        "                 label=\"VALID ({0:.4}): {1}\".format(max_val_acc, labels[i]))\n",
        "\n",
        "    plt.xlabel('epoch no.')\n",
        "    plt.ylabel('accuracy')\n",
        "    plt.legend(loc=acc_legend_loc, prop={'size': legend_font})\n",
        "    plt.title('Training and Validation Accuracy')\n",
        "\n",
        "    plt.show()\n"
      ],
      "metadata": {
        "id": "Jn_ERGMfhxTN"
      },
      "execution_count": 98,
      "outputs": []
    },
    {
      "cell_type": "markdown",
      "source": [
        "#### Dataset Preparation\n",
        "In order to prepare the dataset, we have loaded the dataset, populated vocabulary with the words of text documents, and then created data loaders that will map words to their indexes according to vocabulary. Later on, when we give this list of word indexes (according to vocabulary) as input to the network, the embedding layer will map indexes to their respective embeddings."
      ],
      "metadata": {
        "id": "9ak_V2MsBUqS"
      }
    },
    {
      "cell_type": "code",
      "source": [
        "# get train and testset\n",
        "train_dataset, test_dataset  = datasets.AG_NEWS()\n",
        "train_dataset, test_dataset = to_map_style_dataset(train_dataset), to_map_style_dataset(test_dataset)"
      ],
      "metadata": {
        "id": "Oj6nh138BUtX"
      },
      "execution_count": 33,
      "outputs": []
    },
    {
      "cell_type": "code",
      "source": [
        "# view data\n",
        "train_iter = iter(datasets.AG_NEWS(split=\"train\").shuffle()) # only training instances"
      ],
      "metadata": {
        "id": "PIZr04sLBUwf"
      },
      "execution_count": 34,
      "outputs": []
    },
    {
      "cell_type": "code",
      "source": [
        "next(train_iter) # (label,text in the form of a tuples)"
      ],
      "metadata": {
        "id": "_B4SSQNUBUz2",
        "colab": {
          "base_uri": "https://localhost:8080/"
        },
        "outputId": "0c3823a9-d1ac-47f2-c478-20b31e9bd157"
      },
      "execution_count": 35,
      "outputs": [
        {
          "output_type": "execute_result",
          "data": {
            "text/plain": [
              "(1,\n",
              " 'N. Korea calls Bush  quot;human trash quot; North Korea has hurled invective at US President George W. Bush for a second day, calling him a political idiot and human trash, and has said six-party talks on Pyongyang #39;s nuclear ambitions appear doomed.')"
            ]
          },
          "metadata": {},
          "execution_count": 35
        }
      ]
    },
    {
      "cell_type": "markdown",
      "source": [
        "It has text documents for 4 different categories ([\"World\", \"Sports\", \"Business\", \"Sci/Tech\"]) and label index starts form 0"
      ],
      "metadata": {
        "id": "tTKyNWuaBU3K"
      }
    },
    {
      "cell_type": "markdown",
      "source": [
        "#### Tokenize Text Data And Build Vocabulary\n",
        "get_tokenizer() - a simple tokenizer that separates words from the sentence. It takes text as input and returns a list of tokens/words as output.\n",
        "build_vocab_from_iterator() -generates a vocabulary mapping words to their indexes by iterating over datasets and their text documents, tokenizing them with a custom tokenizer function."
      ],
      "metadata": {
        "id": "6N9pH5guBU69"
      }
    },
    {
      "cell_type": "code",
      "source": [
        "def tokenizer(inp_str):\n",
        "  \"\"\"Returns list of words from the paragraph\"\"\"\n",
        "  re.findall(r'\\w+',inp_str)\n",
        "\n",
        "# we wil use advanced tokenizer provided by torch\n",
        "tokenizer = get_tokenizer(\"basic_english\")\n",
        "print(tokenizer(\"You can now install TorchText using pip!\"))"
      ],
      "metadata": {
        "id": "pGtU7qmKBU98",
        "colab": {
          "base_uri": "https://localhost:8080/"
        },
        "outputId": "e56c7002-a663-44df-963d-42aecc38d87a"
      },
      "execution_count": 36,
      "outputs": [
        {
          "output_type": "stream",
          "name": "stdout",
          "text": [
            "['you', 'can', 'now', 'install', 'torchtext', 'using', 'pip', '!']\n"
          ]
        }
      ]
    },
    {
      "cell_type": "code",
      "source": [
        "def build_vocab_iter(datasets):\n",
        "  \"\"\"yields tokenized text \"\"\"\n",
        "  for dataset in datasets:\n",
        "    for _, text in dataset:\n",
        "      yield tokenizer(text)\n",
        "\n",
        "vocab = build_vocab_from_iterator(build_vocab_iter([train_dataset, test_dataset]), specials=[\"<unk>\"]) # build vocab from an iterator\n",
        "vocab.set_default_index(vocab[\"<unk>\"]) # anything unk will be have a default index"
      ],
      "metadata": {
        "id": "fFVvICTSBVBr"
      },
      "execution_count": 37,
      "outputs": []
    },
    {
      "cell_type": "code",
      "source": [
        "sample = 'LA parking company lands contract renewal with ABIA Los Angeles-based Ampco System Parking has received a multi-year contract renewal with Austin-Bergstrom International Airport. '\n",
        "tokenized_sample = tokenizer(sample)\n",
        "print(tokenized_sample)\n",
        "print(vocab(tokenized_sample))"
      ],
      "metadata": {
        "id": "qzDSQLT1BVFC",
        "colab": {
          "base_uri": "https://localhost:8080/"
        },
        "outputId": "bf517d40-dbdf-4e38-9d36-ff6042ecefcf"
      },
      "execution_count": 38,
      "outputs": [
        {
          "output_type": "stream",
          "name": "stdout",
          "text": [
            "['la', 'parking', 'company', 'lands', 'contract', 'renewal', 'with', 'abia', 'los', 'angeles-based', 'ampco', 'system', 'parking', 'has', 'received', 'a', 'multi-year', 'contract', 'renewal', 'with', 'austin-bergstrom', 'international', 'airport', '.']\n",
            "[1747, 9585, 54, 4105, 424, 11934, 18, 60124, 580, 26155, 61237, 265, 9585, 28, 1192, 5, 9144, 424, 11934, 18, 62573, 139, 1174, 1]\n"
          ]
        }
      ]
    },
    {
      "cell_type": "markdown",
      "source": [
        "The tokenizer is initialized using the \"basic_english\" tokenizer from torchtext.data.utils. dataset is loaded into training, validation, and testing iterators. The yield_tokens function tokenizes text iteratively, allowing efficient processing of large datasets by avoiding memory overload. The vocabulary is constructed from the iterator with a special token for unknown words, along with a default index for unknown words."
      ],
      "metadata": {
        "id": "UPrr2ET-BVHs"
      }
    },
    {
      "cell_type": "markdown",
      "source": [
        "#### Dataloader\n",
        "Train and test data loaders are created for data traversal during training. A helper function tokenizes and vectorizes text documents, limiting each document to a maximum of 50 words. It pads documents with fewer words and truncates those exceeding the limit. Target labels are mapped to [0,3] from [1,4], with a batch size of 1024, resulting in data of shape [1024,50] per batch with 1024 target labels for categories [\"World\", \"Sports\", \"Business\", \"Sci/Tech\"].\n",
        "The data is passed through dataloader and ready for modelling"
      ],
      "metadata": {
        "id": "3nVpdRN3BVLB"
      }
    },
    {
      "cell_type": "code",
      "source": [
        "def vectorize_batch(batch):\n",
        "  \"\"\"Vectorize the batch\"\"\"\n",
        "  Y,X  = list(zip(*batch))\n",
        "  X=[vocab(tokenizer(sample)) for sample in X]\n",
        "  X = [sample+([0]* (50-len(sample))) if len(sample)<50 else sample[:50] for sample in X] ## Bringing all samples to 50 length ie standardization of length\n",
        "  Y = [0 if y==0 else y-1 for y in Y] # converting label starting form 0\n",
        "  return torch.tensor(X, dtype=torch.int64).to(device), torch.tensor(Y, dtype=torch.int64).to(device)"
      ],
      "metadata": {
        "id": "qqvCIsSCBVO4"
      },
      "execution_count": 49,
      "outputs": []
    },
    {
      "cell_type": "code",
      "source": [
        "target_classes = [\"World\", \"Sports\", \"Business\", \"Sci/Tech\"]\n",
        "\n",
        "train_loader = DataLoader(train_dataset, batch_size=batch_size, collate_fn=vectorize_batch)\n",
        "test_loader  = DataLoader(test_dataset, batch_size=batch_size, collate_fn=vectorize_batch)"
      ],
      "metadata": {
        "id": "pcKbN3I_BVSE"
      },
      "execution_count": 50,
      "outputs": []
    },
    {
      "cell_type": "code",
      "source": [
        "for X, Y in train_loader:\n",
        "    print(X.shape, Y.shape)\n",
        "    break"
      ],
      "metadata": {
        "id": "WcqhbsXKBVVe",
        "colab": {
          "base_uri": "https://localhost:8080/"
        },
        "outputId": "45fc50cb-e583-4448-b68f-b9e6831c957f"
      },
      "execution_count": 51,
      "outputs": [
        {
          "output_type": "stream",
          "name": "stdout",
          "text": [
            "torch.Size([1024, 50]) torch.Size([1024])\n"
          ]
        }
      ]
    },
    {
      "cell_type": "markdown",
      "source": [
        "#### Basic Word Embedding Model\n",
        "\n",
        "Neural network architecture: Embedding layer maps each word to 25 embeddings, followed by flattening. First linear layer: 1250 input units, 128 output units with ReLU activation. Second linear layer: 128 input units, 64 output units with ReLU activation. Third linear layer: 64 input units, 4 output units (number of target classes/labels)."
      ],
      "metadata": {
        "id": "huU63MmYBVgE"
      }
    },
    {
      "cell_type": "code",
      "source": [
        "class BasicEmbeddingClassifier(nn.Module):\n",
        "  \"\"\"Basic Embedding Classifier\"\"\"\n",
        "  def __init__(self, num_classes):\n",
        "    super(BasicEmbeddingClassifier, self).__init__()\n",
        "\n",
        "    self.embedding_layer = nn.Sequential(\n",
        "        nn.Embedding(num_embeddings=98635, embedding_dim=25),\n",
        "        nn.Flatten(),\n",
        "        nn.Linear(1250, 128),\n",
        "        nn.ReLU(),\n",
        "        nn.Linear(128, 64),\n",
        "        nn.ReLU(),\n",
        "        nn.Linear(64, num_classes)\n",
        "    )\n",
        "\n",
        "  def forward(self, x):\n",
        "    return self.embedding_layer(x)"
      ],
      "metadata": {
        "id": "qtJGXH_JBVjS"
      },
      "execution_count": 78,
      "outputs": []
    },
    {
      "cell_type": "code",
      "source": [
        "basic_embedder = BasicEmbeddingClassifier(4).to(device)\n",
        "print(basic_embedder)"
      ],
      "metadata": {
        "id": "ka020ZrzBVmd",
        "colab": {
          "base_uri": "https://localhost:8080/"
        },
        "outputId": "c1f7482d-bbf6-40a0-e9db-8a2c6336b82e"
      },
      "execution_count": 94,
      "outputs": [
        {
          "output_type": "stream",
          "name": "stdout",
          "text": [
            "BasicEmbeddingClassifier(\n",
            "  (embedding_layer): Sequential(\n",
            "    (0): Embedding(98635, 25)\n",
            "    (1): Flatten(start_dim=1, end_dim=-1)\n",
            "    (2): Linear(in_features=1250, out_features=128, bias=True)\n",
            "    (3): ReLU()\n",
            "    (4): Linear(in_features=128, out_features=64, bias=True)\n",
            "    (5): ReLU()\n",
            "    (6): Linear(in_features=64, out_features=4, bias=True)\n",
            "  )\n",
            ")\n"
          ]
        }
      ]
    },
    {
      "cell_type": "code",
      "source": [
        "# summary(basic_embedder, input_size=[(1024,50)], device='cpu')"
      ],
      "metadata": {
        "id": "ZOanMOWMBVqG"
      },
      "execution_count": 80,
      "outputs": []
    },
    {
      "cell_type": "code",
      "source": [
        "# # graphical representation of the model architecture\n",
        "# model_graph = draw_graph(basic_embedder, input_size=(1,1024,50), expand_nested=True)\n",
        "# model_graph.resize_graph(scale=10)\n",
        "# model_graph.visual_graph"
      ],
      "metadata": {
        "id": "xMhCLqBBBVt5"
      },
      "execution_count": 81,
      "outputs": []
    },
    {
      "cell_type": "code",
      "source": [
        "def train_module(model:torch.nn.Module,\n",
        "                 device:torch.device,\n",
        "                 train_dataloader:torch.utils.data.DataLoader ,\n",
        "                 optimizer:torch.optim.Optimizer,\n",
        "                 criterion:torch.nn.Module,\n",
        "                 metric,\n",
        "                 train_losses:list,\n",
        "                 train_metrics:list):\n",
        "\n",
        "  # setting model to train mode\n",
        "  model.train()\n",
        "  pbar = tqdm(train_dataloader)\n",
        "\n",
        "  # batch metrics\n",
        "  train_loss = 0\n",
        "  train_metric = 0\n",
        "  processed_batch = 0\n",
        "\n",
        "  for idx, (data,label) in enumerate(pbar):\n",
        "    # setting up device\n",
        "    data = data.to(device)\n",
        "    label = label.to(device)\n",
        "\n",
        "    # forward pass output\n",
        "    preds = model(data)\n",
        "\n",
        "    # calc loss\n",
        "    loss = criterion(preds, label)\n",
        "    train_loss += loss.item()\n",
        "    # print(f\"training loss for batch {idx} is {loss}\")\n",
        "\n",
        "    # backpropagation\n",
        "    optimizer.zero_grad() # flush out  existing grads\n",
        "    loss.backward() # back prop of weights wrt loss\n",
        "    optimizer.step() # optimizer step -> minima\n",
        "\n",
        "    # metric calc\n",
        "    preds = torch.argmax(preds,dim=1)\n",
        "    # print(f\"preds:: {preds}\")\n",
        "    metric.update(preds,label)\n",
        "    train_metric += metric.compute().detach().item()\n",
        "\n",
        "    #updating batch count\n",
        "    processed_batch += 1\n",
        "\n",
        "    pbar.set_description(f\"Avg Train Loss: {train_loss/processed_batch} Avg Train Metric: {train_metric/processed_batch}\")\n",
        "\n",
        "  # It's typically called after the epoch completes\n",
        "  metric.reset()\n",
        "  # updating epoch metrics\n",
        "  train_losses.append(train_loss/processed_batch)\n",
        "  train_metrics.append(train_metric/processed_batch)\n",
        "\n",
        "  return train_losses, train_metrics\n"
      ],
      "metadata": {
        "id": "22nWBu_TV_tO"
      },
      "execution_count": 87,
      "outputs": []
    },
    {
      "cell_type": "code",
      "source": [
        "def test_module(model:torch.nn.Module,\n",
        "                device:torch.device,\n",
        "                test_dataloader:torch.utils.data.DataLoader,\n",
        "                criterion:torch.nn.Module,\n",
        "                metric,\n",
        "                test_losses,\n",
        "                test_metrics):\n",
        "  # setting model to eval mode\n",
        "  model.eval()\n",
        "  pbar = tqdm(test_dataloader)\n",
        "\n",
        "  # batch metrics\n",
        "  test_loss = 0\n",
        "  test_metric = 0\n",
        "  processed_batch = 0\n",
        "\n",
        "  with torch.inference_mode():\n",
        "    for idx, (data,label) in enumerate(pbar):\n",
        "      data , label = data.to(device), label.to(device)\n",
        "      # predictions\n",
        "      preds = model(data)\n",
        "      # print(preds.shape)\n",
        "      # print(label.shape)\n",
        "\n",
        "      #loss calc\n",
        "      loss = criterion(preds, label)\n",
        "      test_loss += loss.item()\n",
        "\n",
        "      # metric calc\n",
        "      preds = torch.argmax(preds,dim=1)\n",
        "      metric.update(preds,label)\n",
        "      test_metric += metric.compute().detach().item()\n",
        "\n",
        "      #updating batch count\n",
        "      processed_batch += 1\n",
        "\n",
        "      pbar.set_description(f\"Avg Test Loss: {test_loss/processed_batch} Avg Test Metric: {test_metric/processed_batch}\")\n",
        "\n",
        "    # It's typically called after the epoch completes\n",
        "    metric.reset()\n",
        "    # updating epoch metrics\n",
        "    test_losses.append(test_loss/processed_batch)\n",
        "    test_metrics.append(test_metric/processed_batch)\n",
        "\n",
        "  return test_losses, test_metrics"
      ],
      "metadata": {
        "id": "FFMJ4zkIV_yX"
      },
      "execution_count": 88,
      "outputs": []
    },
    {
      "cell_type": "code",
      "source": [
        "# driver setup\n",
        "optimizer = optim.Adam(basic_embedder.parameters(), lr=lr, weight_decay=1e-3)\n",
        "criterion = nn.CrossEntropyLoss()\n",
        "metric = MulticlassAccuracy(device = device, num_classes=10)"
      ],
      "metadata": {
        "id": "b4NfAyP5V_20"
      },
      "execution_count": 95,
      "outputs": []
    },
    {
      "cell_type": "code",
      "source": [
        "# Place holders----\n",
        "train_losses = []\n",
        "train_metrics = []\n",
        "test_losses = []\n",
        "test_metrics = []\n",
        "\n",
        "for epoch in range(0,epochs):\n",
        "  print(f'Epoch {epoch}')\n",
        "  train_losses, train_metrics = train_module(basic_embedder, device, train_loader, optimizer, criterion, metric, train_losses, train_metrics)\n",
        "  test_losses , test_metrics = test_module(basic_embedder, device, test_loader, criterion, metric, test_losses, test_metrics)"
      ],
      "metadata": {
        "colab": {
          "base_uri": "https://localhost:8080/"
        },
        "id": "W_O--qExV_57",
        "outputId": "f8349488-6386-48f4-e123-1163886c604e"
      },
      "execution_count": 96,
      "outputs": [
        {
          "output_type": "stream",
          "name": "stdout",
          "text": [
            "Epoch 0\n"
          ]
        },
        {
          "output_type": "stream",
          "name": "stderr",
          "text": [
            "Avg Train Loss: 1.2798874610561435 Avg Train Metric: 0.3489892036985543: 100%|██████████| 118/118 [00:08<00:00, 13.52it/s]\n",
            "Avg Test Loss: 1.2042866051197052 Avg Test Metric: 0.46928707510232925: 100%|██████████| 8/8 [00:00<00:00, 20.50it/s]\n"
          ]
        },
        {
          "output_type": "stream",
          "name": "stdout",
          "text": [
            "Epoch 1\n"
          ]
        },
        {
          "output_type": "stream",
          "name": "stderr",
          "text": [
            "Avg Train Loss: 1.1403992519540302 Avg Train Metric: 0.4877153864856494: 100%|██████████| 118/118 [00:09<00:00, 13.02it/s]\n",
            "Avg Test Loss: 1.131031945347786 Avg Test Metric: 0.5133157670497894: 100%|██████████| 8/8 [00:00<00:00, 19.71it/s]\n"
          ]
        },
        {
          "output_type": "stream",
          "name": "stdout",
          "text": [
            "Epoch 2\n"
          ]
        },
        {
          "output_type": "stream",
          "name": "stderr",
          "text": [
            "Avg Train Loss: 1.0320543904425734 Avg Train Metric: 0.5521047297170607: 100%|██████████| 118/118 [00:08<00:00, 13.73it/s]\n",
            "Avg Test Loss: 1.0640948563814163 Avg Test Metric: 0.5474351197481155: 100%|██████████| 8/8 [00:00<00:00, 19.68it/s]\n"
          ]
        },
        {
          "output_type": "stream",
          "name": "stdout",
          "text": [
            "Epoch 3\n"
          ]
        },
        {
          "output_type": "stream",
          "name": "stderr",
          "text": [
            "Avg Train Loss: 0.9162842479802794 Avg Train Metric: 0.6111194870229495: 100%|██████████| 118/118 [00:08<00:00, 13.46it/s]\n",
            "Avg Test Loss: 1.0080533176660538 Avg Test Metric: 0.5819939002394676: 100%|██████████| 8/8 [00:00<00:00, 19.54it/s]\n"
          ]
        },
        {
          "output_type": "stream",
          "name": "stdout",
          "text": [
            "Epoch 4\n"
          ]
        },
        {
          "output_type": "stream",
          "name": "stderr",
          "text": [
            "Avg Train Loss: 0.8019839742426145 Avg Train Metric: 0.6672381864765943: 100%|██████████| 118/118 [00:09<00:00, 12.59it/s]\n",
            "Avg Test Loss: 0.9577154517173767 Avg Test Metric: 0.6160972267389297: 100%|██████████| 8/8 [00:00<00:00, 17.34it/s]\n"
          ]
        },
        {
          "output_type": "stream",
          "name": "stdout",
          "text": [
            "Epoch 5\n"
          ]
        },
        {
          "output_type": "stream",
          "name": "stderr",
          "text": [
            "Avg Train Loss: 0.6962371877694534 Avg Train Metric: 0.7188442521176096: 100%|██████████| 118/118 [00:09<00:00, 12.83it/s]\n",
            "Avg Test Loss: 0.9148283079266548 Avg Test Metric: 0.637284405529499: 100%|██████████| 8/8 [00:00<00:00, 18.49it/s]\n"
          ]
        },
        {
          "output_type": "stream",
          "name": "stdout",
          "text": [
            "Epoch 6\n"
          ]
        },
        {
          "output_type": "stream",
          "name": "stderr",
          "text": [
            "Avg Train Loss: 0.6020460805650485 Avg Train Metric: 0.7631769801600504: 100%|██████████| 118/118 [00:08<00:00, 13.54it/s]\n",
            "Avg Test Loss: 0.897970400750637 Avg Test Metric: 0.6568443030118942: 100%|██████████| 8/8 [00:00<00:00, 20.46it/s]\n"
          ]
        },
        {
          "output_type": "stream",
          "name": "stdout",
          "text": [
            "Epoch 7\n"
          ]
        },
        {
          "output_type": "stream",
          "name": "stderr",
          "text": [
            "Avg Train Loss: 0.5214188674748954 Avg Train Metric: 0.8004788867497848: 100%|██████████| 118/118 [00:08<00:00, 13.62it/s]\n",
            "Avg Test Loss: 0.8871237486600876 Avg Test Metric: 0.6724418252706528: 100%|██████████| 8/8 [00:00<00:00, 20.31it/s]\n"
          ]
        },
        {
          "output_type": "stream",
          "name": "stdout",
          "text": [
            "Epoch 8\n"
          ]
        },
        {
          "output_type": "stream",
          "name": "stderr",
          "text": [
            "Avg Train Loss: 0.4531741046930774 Avg Train Metric: 0.8290696255231308: 100%|██████████| 118/118 [00:08<00:00, 13.73it/s]\n",
            "Avg Test Loss: 0.8781672343611717 Avg Test Metric: 0.6811115592718124: 100%|██████████| 8/8 [00:00<00:00, 19.94it/s]\n"
          ]
        },
        {
          "output_type": "stream",
          "name": "stdout",
          "text": [
            "Epoch 9\n"
          ]
        },
        {
          "output_type": "stream",
          "name": "stderr",
          "text": [
            "Avg Train Loss: 0.3992005813929994 Avg Train Metric: 0.8512050994371964: 100%|██████████| 118/118 [00:08<00:00, 13.75it/s]\n",
            "Avg Test Loss: 0.8633472323417664 Avg Test Metric: 0.6927149295806885: 100%|██████████| 8/8 [00:00<00:00, 20.27it/s]\n"
          ]
        }
      ]
    },
    {
      "cell_type": "code",
      "source": [
        "plot_loss_accuracy(train_loss= [train_losses],\n",
        "                   val_loss= [test_losses],\n",
        "                   train_acc= [train_metrics],\n",
        "                   val_acc= [test_metrics],\n",
        "                   labels=['BasicEmbeddingModel'],\n",
        "                   colors=['blue'],\n",
        "                   loss_legend_loc='upper left',\n",
        "                   acc_legend_loc='upper left',\n",
        "                   legend_font=7)"
      ],
      "metadata": {
        "colab": {
          "base_uri": "https://localhost:8080/",
          "height": 872
        },
        "id": "7LY89S23iJdB",
        "outputId": "5921bcf7-a019-4d31-dad2-b556bde7dd1e"
      },
      "execution_count": 101,
      "outputs": [
        {
          "output_type": "display_data",
          "data": {
            "text/plain": [
              "<Figure size 1600x1000 with 2 Axes>"
            ],
            "image/png": "[encoded data removed]"
          },
          "metadata": {}
        }
      ]
    },
    {
      "cell_type": "markdown",
      "source": [
        "Evaluate Network Performance"
      ],
      "metadata": {
        "id": "Mn6lA0e1V_9o"
      }
    },
    {
      "cell_type": "code",
      "source": [
        "def MakePredictions(model, loader):\n",
        "    Y_shuffled, Y_preds = [], []\n",
        "    for X, Y in loader:\n",
        "        preds = model(X)\n",
        "        Y_preds.append(preds)\n",
        "        Y_shuffled.append(Y)\n",
        "\n",
        "    Y_preds, Y_shuffled = torch.cat(Y_preds), torch.cat(Y_shuffled)\n",
        "    return Y_shuffled.detach().numpy(), F.softmax(Y_preds, dim=-1).argmax(dim=-1).detach().numpy()\n",
        "\n",
        "Y_actual, Y_preds = MakePredictions(basic_embedder, test_loader)"
      ],
      "metadata": {
        "id": "-X8MlX1BWAA7"
      },
      "execution_count": 103,
      "outputs": []
    },
    {
      "cell_type": "code",
      "source": [
        "print(Y_actual.shape)\n",
        "print(Y_preds.shape)"
      ],
      "metadata": {
        "colab": {
          "base_uri": "https://localhost:8080/"
        },
        "id": "TCmG_Q-GWAEe",
        "outputId": "f4bf3918-fbdd-4b05-b5b9-09ad930a02ca"
      },
      "execution_count": 104,
      "outputs": [
        {
          "output_type": "stream",
          "name": "stdout",
          "text": [
            "(7600,)\n",
            "(7600,)\n"
          ]
        }
      ]
    },
    {
      "cell_type": "code",
      "source": [],
      "metadata": {
        "colab": {
          "base_uri": "https://localhost:8080/"
        },
        "id": "yeSiMvCiWAIH",
        "outputId": "056367bb-b326-48c0-dabe-7ff161eb06b4"
      },
      "execution_count": 111,
      "outputs": [
        {
          "output_type": "stream",
          "name": "stdout",
          "text": [
            "7600\n"
          ]
        }
      ]
    },
    {
      "cell_type": "code",
      "source": [],
      "metadata": {
        "id": "72FMJwtnWALv"
      },
      "execution_count": null,
      "outputs": []
    },
    {
      "cell_type": "code",
      "source": [],
      "metadata": {
        "id": "QhPMjhzjWAPU"
      },
      "execution_count": null,
      "outputs": []
    },
    {
      "cell_type": "code",
      "source": [],
      "metadata": {
        "id": "h_vMWaKLWASy"
      },
      "execution_count": null,
      "outputs": []
    },
    {
      "cell_type": "code",
      "source": [],
      "metadata": {
        "id": "pTfRp-YHWAXl"
      },
      "execution_count": null,
      "outputs": []
    },
    {
      "cell_type": "code",
      "source": [],
      "metadata": {
        "id": "smID2SaMWAeH"
      },
      "execution_count": null,
      "outputs": []
    },
    {
      "cell_type": "code",
      "source": [],
      "metadata": {
        "id": "FtQ_SXD0WAh9"
      },
      "execution_count": null,
      "outputs": []
    },
    {
      "cell_type": "code",
      "source": [],
      "metadata": {
        "id": "b67J93EbWAku"
      },
      "execution_count": null,
      "outputs": []
    },
    {
      "cell_type": "code",
      "source": [],
      "metadata": {
        "id": "eMJl75GwWAoe"
      },
      "execution_count": null,
      "outputs": []
    },
    {
      "cell_type": "code",
      "source": [],
      "metadata": {
        "id": "WY_eL4QYWArk"
      },
      "execution_count": null,
      "outputs": []
    },
    {
      "cell_type": "code",
      "source": [],
      "metadata": {
        "id": "q7Z4HsywWAup"
      },
      "execution_count": null,
      "outputs": []
    }
  ]
}