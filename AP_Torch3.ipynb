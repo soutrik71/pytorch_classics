{
  "nbformat": 4,
  "nbformat_minor": 0,
  "metadata": {
    "colab": {
      "provenance": [],
      "mount_file_id": "1hZCzq17pqoEp85lkqZ2vIIvAL_r6dMGH",
      "authorship_tag": "ABX9TyNiNTeTIBAG/weCs4bpeeXA",
      "include_colab_link": true
    },
    "kernelspec": {
      "name": "python3",
      "display_name": "Python 3"
    },
    "language_info": {
      "name": "python"
    },
    "accelerator": "TPU"
  },
  "cells": [
    {
      "cell_type": "markdown",
      "metadata": {
        "id": "view-in-github",
        "colab_type": "text"
      },
      "source": [
        "<a href=\"https://colab.research.google.com/github/soutrik71/pytorch_classics/blob/main/AP_Torch3.ipynb\" target=\"_parent\"><img src=\"https://colab.research.google.com/assets/colab-badge.svg\" alt=\"Open In Colab\"/></a>"
      ]
    },
    {
      "cell_type": "markdown",
      "source": [
        "This notebook is all about discussion on\n",
        "1. Cnn Model Basic Setup\n",
        "2. Application of regularization and dropout\n",
        "3. Application of batch normalization\n",
        "4. Application of adaptive learning rate and ReduceLRonPlateau\n",
        "5. Application of Early stoping and Checkpoints\n",
        "6. Weights initialization\n",
        "7. Torchmetrics\n",
        "\n"
      ],
      "metadata": {
        "id": "Gvo_NLXyDNfH"
      }
    },
    {
      "cell_type": "code",
      "source": [
        "import os\n",
        "os.environ['CUDA_LAUNCH_BLOCKING'] = \"1\""
      ],
      "metadata": {
        "id": "9iSokCGmfCDo"
      },
      "execution_count": 2,
      "outputs": []
    },
    {
      "cell_type": "code",
      "source": [
        "!pip install torchview\n",
        "!pip install torcheval"
      ],
      "metadata": {
        "colab": {
          "base_uri": "https://localhost:8080/"
        },
        "id": "jvYq_711fHs1",
        "outputId": "e8e67741-f78b-4b19-9f9e-48160fa5f817"
      },
      "execution_count": 3,
      "outputs": [
        {
          "output_type": "stream",
          "name": "stdout",
          "text": [
            "Collecting torchview\n",
            "  Downloading torchview-0.2.6-py3-none-any.whl (25 kB)\n",
            "Installing collected packages: torchview\n",
            "Successfully installed torchview-0.2.6\n",
            "Collecting torcheval\n",
            "  Downloading torcheval-0.0.7-py3-none-any.whl (179 kB)\n",
            "\u001b[2K     \u001b[90m━━━━━━━━━━━━━━━━━━━━━━━━━━━━━━━━━━━━━━━━\u001b[0m \u001b[32m179.2/179.2 kB\u001b[0m \u001b[31m1.8 MB/s\u001b[0m eta \u001b[36m0:00:00\u001b[0m\n",
            "\u001b[?25hRequirement already satisfied: typing-extensions in /usr/local/lib/python3.10/dist-packages (from torcheval) (4.9.0)\n",
            "Installing collected packages: torcheval\n",
            "Successfully installed torcheval-0.0.7\n"
          ]
        }
      ]
    },
    {
      "cell_type": "code",
      "source": [
        "import torch\n",
        "import torch.nn as nn\n",
        "import torch.nn.functional as F\n",
        "import torch.optim as optim\n",
        "import torchvision.transforms as transforms\n",
        "import matplotlib.pyplot as plt\n",
        "import numpy as np\n",
        "import torchvision\n",
        "import torchvision.datasets as datasets\n",
        "from torch.utils.data import Dataset, DataLoader\n",
        "from torchsummary import summary\n",
        "from torchview import draw_graph\n",
        "from pathlib import Path\n",
        "import pandas as pd\n",
        "from sklearn.preprocessing import StandardScaler\n",
        "from sklearn.model_selection import train_test_split\n",
        "from tqdm import tqdm\n",
        "import random\n",
        "from torcheval.metrics import MulticlassAccuracy,BinaryAccuracy\n",
        "from torchvision.transforms import ToTensor\n",
        "import matplotlib.pyplot as plt\n",
        "from torch.optim.lr_scheduler import ReduceLROnPlateau, StepLR, OneCycleLR, ExponentialLR"
      ],
      "metadata": {
        "id": "yw7Eh9mcfISL"
      },
      "execution_count": 44,
      "outputs": []
    },
    {
      "cell_type": "code",
      "source": [
        "print(f\"PyTorch version: {torch.__version__}\\ntorchvision version: {torchvision.__version__}\")"
      ],
      "metadata": {
        "colab": {
          "base_uri": "https://localhost:8080/"
        },
        "id": "wKS4EU_Vf_fD",
        "outputId": "88db31a1-3caa-415e-8b04-217066b22d7b"
      },
      "execution_count": 5,
      "outputs": [
        {
          "output_type": "stream",
          "name": "stdout",
          "text": [
            "PyTorch version: 2.1.0+cu121\n",
            "torchvision version: 0.16.0+cu121\n"
          ]
        }
      ]
    },
    {
      "cell_type": "code",
      "source": [
        "def set_seed(seed: int = 42) -> None:\n",
        "    np.random.seed(seed)\n",
        "    random.seed(seed)\n",
        "    torch.manual_seed(seed)\n",
        "    torch.cuda.manual_seed(seed)\n",
        "    # When running on the CuDNN backend, two further options must be set\n",
        "    torch.backends.cudnn.deterministic = True\n",
        "    torch.backends.cudnn.benchmark = False\n",
        "    # Set a fixed value for the hash seed\n",
        "    os.environ[\"PYTHONHASHSEED\"] = str(seed)\n",
        "    print(f\"Random seed set as {seed}\")"
      ],
      "metadata": {
        "id": "qXAzVxkimi-N"
      },
      "execution_count": 6,
      "outputs": []
    },
    {
      "cell_type": "code",
      "source": [
        "# decorator function to record time exp\n",
        "from functools import wraps\n",
        "import time\n",
        "\n",
        "def timeit(func):\n",
        "    @wraps(func)\n",
        "    def timeit_wrapper(*args, **kwargs):\n",
        "        start_time = time.perf_counter()\n",
        "        result = func(*args, **kwargs)\n",
        "        end_time = time.perf_counter()\n",
        "        total_time = end_time - start_time\n",
        "        print(f'Function Took {total_time:.4f} seconds')\n",
        "        return result\n",
        "    return timeit_wrapper"
      ],
      "metadata": {
        "id": "eHWCAKakoNiO"
      },
      "execution_count": 7,
      "outputs": []
    },
    {
      "cell_type": "markdown",
      "source": [
        "## Simple Convolution Networks\n",
        "\n",
        "we will first start with a fashion- MNIST stands for Modified National Institute of Standards and Technology.simple cnn model and keep builing futher one with advancements"
      ],
      "metadata": {
        "id": "qev-ABRBG80F"
      }
    },
    {
      "cell_type": "code",
      "source": [
        "# Set manual seed since nn.Parameter are randomly initialzied\n",
        "set_seed(42)\n",
        "# Set device cuda for GPU if it's available otherwise run on the CPU\n",
        "device = torch.device(\"cuda\" if torch.cuda.is_available() else \"cpu\")\n",
        "print(device)\n",
        "batch_size = 128\n",
        "epochs = 10\n",
        "lr = 1e-3"
      ],
      "metadata": {
        "colab": {
          "base_uri": "https://localhost:8080/"
        },
        "id": "PVvRk7BEm4Xh",
        "outputId": "fc9d4627-0a59-4898-89f8-f8fb76267163"
      },
      "execution_count": 8,
      "outputs": [
        {
          "output_type": "stream",
          "name": "stdout",
          "text": [
            "Random seed set as 42\n",
            "cuda\n"
          ]
        }
      ]
    },
    {
      "cell_type": "markdown",
      "source": [
        "##### Dataloading and Explorations"
      ],
      "metadata": {
        "id": "7cedcS_ujkwd"
      }
    },
    {
      "cell_type": "code",
      "source": [
        "# reading the data\n",
        "train_data = datasets.FashionMNIST(root=\"./data\", train=True, download=True, transform=ToTensor(), target_transform=None)\n",
        "test_data = datasets.FashionMNIST(root=\"./data\", train=False, download=True, transform=ToTensor(), target_transform=None)"
      ],
      "metadata": {
        "id": "cRFikaQBe48J",
        "colab": {
          "base_uri": "https://localhost:8080/"
        },
        "outputId": "54a32c47-dc0c-409d-bce0-943065248081"
      },
      "execution_count": 9,
      "outputs": [
        {
          "output_type": "stream",
          "name": "stdout",
          "text": [
            "Downloading http://fashion-mnist.s3-website.eu-central-1.amazonaws.com/train-images-idx3-ubyte.gz\n",
            "Downloading http://fashion-mnist.s3-website.eu-central-1.amazonaws.com/train-images-idx3-ubyte.gz to ./data/FashionMNIST/raw/train-images-idx3-ubyte.gz\n"
          ]
        },
        {
          "output_type": "stream",
          "name": "stderr",
          "text": [
            "100%|██████████| 26421880/26421880 [00:01<00:00, 15536440.21it/s]\n"
          ]
        },
        {
          "output_type": "stream",
          "name": "stdout",
          "text": [
            "Extracting ./data/FashionMNIST/raw/train-images-idx3-ubyte.gz to ./data/FashionMNIST/raw\n",
            "\n",
            "Downloading http://fashion-mnist.s3-website.eu-central-1.amazonaws.com/train-labels-idx1-ubyte.gz\n",
            "Downloading http://fashion-mnist.s3-website.eu-central-1.amazonaws.com/train-labels-idx1-ubyte.gz to ./data/FashionMNIST/raw/train-labels-idx1-ubyte.gz\n"
          ]
        },
        {
          "output_type": "stream",
          "name": "stderr",
          "text": [
            "100%|██████████| 29515/29515 [00:00<00:00, 266798.74it/s]\n"
          ]
        },
        {
          "output_type": "stream",
          "name": "stdout",
          "text": [
            "Extracting ./data/FashionMNIST/raw/train-labels-idx1-ubyte.gz to ./data/FashionMNIST/raw\n",
            "\n",
            "Downloading http://fashion-mnist.s3-website.eu-central-1.amazonaws.com/t10k-images-idx3-ubyte.gz\n",
            "Downloading http://fashion-mnist.s3-website.eu-central-1.amazonaws.com/t10k-images-idx3-ubyte.gz to ./data/FashionMNIST/raw/t10k-images-idx3-ubyte.gz\n"
          ]
        },
        {
          "output_type": "stream",
          "name": "stderr",
          "text": [
            "100%|██████████| 4422102/4422102 [00:00<00:00, 4979876.62it/s]\n"
          ]
        },
        {
          "output_type": "stream",
          "name": "stdout",
          "text": [
            "Extracting ./data/FashionMNIST/raw/t10k-images-idx3-ubyte.gz to ./data/FashionMNIST/raw\n",
            "\n",
            "Downloading http://fashion-mnist.s3-website.eu-central-1.amazonaws.com/t10k-labels-idx1-ubyte.gz\n",
            "Downloading http://fashion-mnist.s3-website.eu-central-1.amazonaws.com/t10k-labels-idx1-ubyte.gz to ./data/FashionMNIST/raw/t10k-labels-idx1-ubyte.gz\n"
          ]
        },
        {
          "output_type": "stream",
          "name": "stderr",
          "text": [
            "100%|██████████| 5148/5148 [00:00<00:00, 3722164.63it/s]"
          ]
        },
        {
          "output_type": "stream",
          "name": "stdout",
          "text": [
            "Extracting ./data/FashionMNIST/raw/t10k-labels-idx1-ubyte.gz to ./data/FashionMNIST/raw\n",
            "\n"
          ]
        },
        {
          "output_type": "stream",
          "name": "stderr",
          "text": [
            "\n"
          ]
        }
      ]
    },
    {
      "cell_type": "code",
      "source": [
        "print(train_data.data.shape)\n",
        "single_image,label = train_data[0]\n",
        "print(single_image.shape)"
      ],
      "metadata": {
        "colab": {
          "base_uri": "https://localhost:8080/"
        },
        "id": "XJnOLSeui8PH",
        "outputId": "d7c1476b-0bde-4f11-8b52-0bf437cb5fd1"
      },
      "execution_count": 10,
      "outputs": [
        {
          "output_type": "stream",
          "name": "stdout",
          "text": [
            "torch.Size([60000, 28, 28])\n",
            "torch.Size([1, 28, 28])\n"
          ]
        }
      ]
    },
    {
      "cell_type": "markdown",
      "source": [
        "The shape of the image tensor is [1, 28, 28] or more specifically:\n",
        "\n",
        "[color_channels=1, height=28, width=28]"
      ],
      "metadata": {
        "id": "PFSziorui8Sa"
      }
    },
    {
      "cell_type": "code",
      "source": [
        "class_names = train_data.classes\n",
        "print(class_names)"
      ],
      "metadata": {
        "colab": {
          "base_uri": "https://localhost:8080/"
        },
        "id": "ClM6uOYEi8Vx",
        "outputId": "5f9d98fd-2367-4319-a17c-1af47685a5af"
      },
      "execution_count": 11,
      "outputs": [
        {
          "output_type": "stream",
          "name": "stdout",
          "text": [
            "['T-shirt/top', 'Trouser', 'Pullover', 'Dress', 'Coat', 'Sandal', 'Shirt', 'Sneaker', 'Bag', 'Ankle boot']\n"
          ]
        }
      ]
    },
    {
      "cell_type": "code",
      "source": [
        "plt.figure(figsize=(6,6))\n",
        "plt.title(class_names[label])\n",
        "plt.imshow(single_image.squeeze(), cmap=\"gray\")\n",
        "plt.show()"
      ],
      "metadata": {
        "colab": {
          "base_uri": "https://localhost:8080/",
          "height": 545
        },
        "id": "v6JMiSNWi8Yu",
        "outputId": "3719b3bc-fc20-4043-af34-92bcebe8fdf1"
      },
      "execution_count": 12,
      "outputs": [
        {
          "output_type": "display_data",
          "data": {
            "text/plain": [
              "<Figure size 600x600 with 1 Axes>"
            ],
            "image/png": "[encoded data removed]"
          },
          "metadata": {}
        }
      ]
    },
    {
      "cell_type": "code",
      "source": [
        "# Plot more images\n",
        "torch.manual_seed(42)\n",
        "fig = plt.figure(figsize=(9, 9))\n",
        "rows, cols = 4, 4\n",
        "for i in range(1, rows * cols + 1):\n",
        "    random_idx = torch.randint(0, len(train_data), size=[1]).item()\n",
        "    img, label = train_data[random_idx]\n",
        "    fig.add_subplot(rows, cols, i)\n",
        "    plt.imshow(img.squeeze(), cmap=\"gray\")\n",
        "    plt.title(class_names[label])\n",
        "    plt.axis(False);"
      ],
      "metadata": {
        "colab": {
          "base_uri": "https://localhost:8080/",
          "height": 752
        },
        "id": "yT4VB31oi8b_",
        "outputId": "cb2aa1dd-1d52-4e54-ace8-9bab683c5f4b"
      },
      "execution_count": 13,
      "outputs": [
        {
          "output_type": "display_data",
          "data": {
            "text/plain": [
              "<Figure size 900x900 with 16 Axes>"
            ],
            "image/png": "[encoded data removed]"
          },
          "metadata": {}
        }
      ]
    },
    {
      "cell_type": "code",
      "source": [
        "# dataloader\n",
        "train_loader = DataLoader(train_data, batch_size=batch_size, shuffle=True)\n",
        "test_loader = DataLoader(test_data, batch_size=batch_size, shuffle=True)"
      ],
      "metadata": {
        "id": "5a7sKUcli8gL"
      },
      "execution_count": 14,
      "outputs": []
    },
    {
      "cell_type": "code",
      "source": [
        "for images, labels in train_loader:\n",
        "    print(images.shape)\n",
        "    print(labels.shape)\n",
        "    break"
      ],
      "metadata": {
        "colab": {
          "base_uri": "https://localhost:8080/"
        },
        "id": "Dlsu84SNi8kn",
        "outputId": "3f1653f8-685b-4ee8-bddc-5425f41371df"
      },
      "execution_count": 15,
      "outputs": [
        {
          "output_type": "stream",
          "name": "stdout",
          "text": [
            "torch.Size([128, 1, 28, 28])\n",
            "torch.Size([128])\n"
          ]
        }
      ]
    },
    {
      "cell_type": "code",
      "source": [
        "def plot_loss_accuracy(train_loss, val_loss, train_acc, val_acc, labels, colors,\n",
        "                       loss_legend_loc='upper center', acc_legend_loc='upper left', legend_font=15,\n",
        "                       fig_size=(16, 8), sub_plot1=(1, 2, 1), sub_plot2=(1, 2, 2)):\n",
        "\n",
        "    plt.rcParams[\"figure.figsize\"] = fig_size\n",
        "    plt.figure\n",
        "\n",
        "\n",
        "    plt.subplot(sub_plot1[0], sub_plot1[1], sub_plot1[2])\n",
        "\n",
        "    for i in range(len(train_loss)):\n",
        "        x_train = range(len(train_loss[i]))\n",
        "        x_val = range(len(val_loss[i]))\n",
        "\n",
        "        min_train_loss = np.array(train_loss[i]).min()\n",
        "\n",
        "        min_val_loss = np.array(val_loss[i]).min()\n",
        "\n",
        "        plt.plot(x_train, train_loss[i], linestyle='-', color='tab:{}'.format(colors[i]),\n",
        "                 label=\"TRAIN ({0:.4}): {1}\".format(min_train_loss, labels[i]))\n",
        "        plt.plot(x_val, val_loss[i], linestyle='--' , color='tab:{}'.format(colors[i]),\n",
        "                 label=\"VALID ({0:.4}): {1}\".format(min_val_loss, labels[i]))\n",
        "\n",
        "    plt.xlabel('epoch no.')\n",
        "    plt.ylabel('loss')\n",
        "    plt.legend(loc=loss_legend_loc, prop={'size': legend_font})\n",
        "    plt.title('Training and Validation Loss')\n",
        "\n",
        "    plt.subplot(sub_plot2[0], sub_plot2[1], sub_plot2[2])\n",
        "\n",
        "    for i in range(len(train_acc)):\n",
        "        x_train = range(len(train_acc[i]))\n",
        "        x_val = range(len(val_acc[i]))\n",
        "\n",
        "        max_train_acc = np.array(train_acc[i]).max()\n",
        "\n",
        "        max_val_acc = np.array(val_acc[i]).max()\n",
        "\n",
        "        plt.plot(x_train, train_acc[i], linestyle='-', color='tab:{}'.format(colors[i]),\n",
        "                 label=\"TRAIN ({0:.4}): {1}\".format(max_train_acc, labels[i]))\n",
        "        plt.plot(x_val, val_acc[i], linestyle='--' , color='tab:{}'.format(colors[i]),\n",
        "                 label=\"VALID ({0:.4}): {1}\".format(max_val_acc, labels[i]))\n",
        "\n",
        "    plt.xlabel('epoch no.')\n",
        "    plt.ylabel('accuracy')\n",
        "    plt.legend(loc=acc_legend_loc, prop={'size': legend_font})\n",
        "    plt.title('Training and Validation Accuracy')\n",
        "\n",
        "    plt.show()\n",
        ""
      ],
      "metadata": {
        "id": "c25mhn3iCEEq"
      },
      "execution_count": 16,
      "outputs": []
    },
    {
      "cell_type": "markdown",
      "source": [
        "##### Model Building"
      ],
      "metadata": {
        "id": "kiMYCAhzn536"
      }
    },
    {
      "cell_type": "code",
      "source": [
        "class FashionMnistModel(nn.Module):\n",
        "    def __init__(self, in_channels, hidden_units, out_channels):\n",
        "        super(FashionMnistModel, self).__init__()\n",
        "        # Input starts with (28,28)\n",
        "        # each conv block is like [conv->relu->conv->relu->maxpool]\n",
        "\n",
        "        self.block1 = nn.Sequential(\n",
        "            nn.Conv2d(in_channels = in_channels,\n",
        "                      out_channels = hidden_units,\n",
        "                      kernel_size=(3,3),\n",
        "                      stride=1,\n",
        "                      padding=0), #(26,26,HDUN)\n",
        "            nn.ReLU(),\n",
        "            nn.Conv2d(in_channels = hidden_units,\n",
        "                      out_channels= hidden_units,\n",
        "                      kernel_size=(3,3),\n",
        "                      stride=1,\n",
        "                      padding=0\n",
        "            ), #(24,24,HDUN)\n",
        "            nn.ReLU(),\n",
        "            nn.MaxPool2d(kernel_size=(2,2),\n",
        "                         stride=(2,2)) #(12,12,HDUN)\n",
        "        )\n",
        "\n",
        "        self.block2 = nn.Sequential(\n",
        "            nn.Conv2d(in_channels = hidden_units,\n",
        "                      out_channels = hidden_units,\n",
        "                      kernel_size=(3,3),\n",
        "                      stride=1,\n",
        "                      padding=0), #(10,10,HDUN)\n",
        "\n",
        "            nn.ReLU(),\n",
        "            nn.Conv2d(in_channels = hidden_units,\n",
        "                      out_channels =hidden_units,\n",
        "                      kernel_size=(3,3),\n",
        "                      stride=1,\n",
        "                      padding=0), #(8,8,HDUN)\n",
        "            nn.ReLU(),\n",
        "            nn.MaxPool2d(kernel_size=(2,2),\n",
        "                         stride=(2,2)) #(4,4,HDUN)\n",
        "        )\n",
        "\n",
        "        self.classifier = nn.Sequential(\n",
        "            nn.Flatten(),\n",
        "            nn.Linear(4*4*hidden_units, out_channels)\n",
        "        )\n",
        "\n",
        "    def forward(self, x):\n",
        "        x = self.block1(x)\n",
        "        x = self.block2(x)\n",
        "        x = self.classifier(x)\n",
        "        return x\n",
        "\n",
        "\n"
      ],
      "metadata": {
        "id": "8hpdJEUsn8Ia"
      },
      "execution_count": 15,
      "outputs": []
    },
    {
      "cell_type": "code",
      "source": [
        "fas_model = FashionMnistModel(in_channels=1, hidden_units=8, out_channels=10)\n",
        "fas_model.to(device)\n",
        "print(fas_model)"
      ],
      "metadata": {
        "colab": {
          "base_uri": "https://localhost:8080/"
        },
        "id": "omZ3xtUBn8Qi",
        "outputId": "d3e76b8c-7652-4e18-abe7-f738b246dcb0"
      },
      "execution_count": 16,
      "outputs": [
        {
          "output_type": "stream",
          "name": "stdout",
          "text": [
            "FashionMnistModel(\n",
            "  (block1): Sequential(\n",
            "    (0): Conv2d(1, 8, kernel_size=(3, 3), stride=(1, 1))\n",
            "    (1): ReLU()\n",
            "    (2): Conv2d(8, 8, kernel_size=(3, 3), stride=(1, 1))\n",
            "    (3): ReLU()\n",
            "    (4): MaxPool2d(kernel_size=(2, 2), stride=(2, 2), padding=0, dilation=1, ceil_mode=False)\n",
            "  )\n",
            "  (block2): Sequential(\n",
            "    (0): Conv2d(8, 8, kernel_size=(3, 3), stride=(1, 1))\n",
            "    (1): ReLU()\n",
            "    (2): Conv2d(8, 8, kernel_size=(3, 3), stride=(1, 1))\n",
            "    (3): ReLU()\n",
            "    (4): MaxPool2d(kernel_size=(2, 2), stride=(2, 2), padding=0, dilation=1, ceil_mode=False)\n",
            "  )\n",
            "  (classifier): Sequential(\n",
            "    (0): Flatten(start_dim=1, end_dim=-1)\n",
            "    (1): Linear(in_features=128, out_features=10, bias=True)\n",
            "  )\n",
            ")\n"
          ]
        }
      ]
    },
    {
      "cell_type": "code",
      "source": [
        "summary(fas_model, (1,28,28))"
      ],
      "metadata": {
        "colab": {
          "base_uri": "https://localhost:8080/"
        },
        "id": "3Z7VF4xTn8au",
        "outputId": "97954c49-229d-499a-f7d5-fca530b5b9da"
      },
      "execution_count": 17,
      "outputs": [
        {
          "output_type": "stream",
          "name": "stdout",
          "text": [
            "----------------------------------------------------------------\n",
            "        Layer (type)               Output Shape         Param #\n",
            "================================================================\n",
            "            Conv2d-1            [-1, 8, 26, 26]              80\n",
            "              ReLU-2            [-1, 8, 26, 26]               0\n",
            "            Conv2d-3            [-1, 8, 24, 24]             584\n",
            "              ReLU-4            [-1, 8, 24, 24]               0\n",
            "         MaxPool2d-5            [-1, 8, 12, 12]               0\n",
            "            Conv2d-6            [-1, 8, 10, 10]             584\n",
            "              ReLU-7            [-1, 8, 10, 10]               0\n",
            "            Conv2d-8              [-1, 8, 8, 8]             584\n",
            "              ReLU-9              [-1, 8, 8, 8]               0\n",
            "        MaxPool2d-10              [-1, 8, 4, 4]               0\n",
            "          Flatten-11                  [-1, 128]               0\n",
            "           Linear-12                   [-1, 10]           1,290\n",
            "================================================================\n",
            "Total params: 3,122\n",
            "Trainable params: 3,122\n",
            "Non-trainable params: 0\n",
            "----------------------------------------------------------------\n",
            "Input size (MB): 0.00\n",
            "Forward/backward pass size (MB): 0.18\n",
            "Params size (MB): 0.01\n",
            "Estimated Total Size (MB): 0.20\n",
            "----------------------------------------------------------------\n"
          ]
        }
      ]
    },
    {
      "cell_type": "code",
      "source": [
        "# graphical representation of the model architecture\n",
        "model_graph = draw_graph(fas_model, input_size=(1,1, 28, 28), expand_nested=True)\n",
        "model_graph.visual_graph"
      ],
      "metadata": {
        "colab": {
          "base_uri": "https://localhost:8080/",
          "height": 1000
        },
        "id": "lxF8QXnen8g_",
        "outputId": "14f2e001-f70c-4e91-fdfc-62542563eb89"
      },
      "execution_count": 18,
      "outputs": [
        {
          "output_type": "execute_result",
          "data": {
            "image/svg+xml": "<?xml version=\"1.0\" encoding=\"UTF-8\" standalone=\"no\"?>\n<!DOCTYPE svg PUBLIC \"-//W3C//DTD SVG 1.1//EN\"\n \"http://www.w3.org/Graphics/SVG/1.1/DTD/svg11.dtd\">\n<!-- Generated by graphviz version 2.43.0 (0)\n -->\n<!-- Title: model Pages: 1 -->\n<svg width=\"213pt\" height=\"864pt\"\n viewBox=\"0.00 0.00 213.00 864.00\" xmlns=\"http://www.w3.org/2000/svg\" xmlns:xlink=\"http://www.w3.org/1999/xlink\">\n<g id=\"graph0\" class=\"graph\" transform=\"scale(1.25 1.25) rotate(0) translate(4 1075)\">\n<title>model</title>\n<polygon fill=\"white\" stroke=\"transparent\" points=\"-4,4 -4,-1075 262,-1075 262,4 -4,4\"/>\n<g id=\"clust1\" class=\"cluster\">\n<title>cluster_2</title>\n<polygon fill=\"none\" stroke=\"black\" stroke-dasharray=\"5,2\" points=\"8,-640 8,-1031 250,-1031 250,-640 8,-640\"/>\n<text text-anchor=\"middle\" x=\"41\" y=\"-1017.4\" font-family=\"Times,serif\" font-size=\"12.00\">Sequential</text>\n</g>\n<g id=\"clust2\" class=\"cluster\">\n<title>cluster_3</title>\n<polygon fill=\"none\" stroke=\"black\" stroke-dasharray=\"5,2\" points=\"15,-241 15,-632 243,-632 243,-241 15,-241\"/>\n<text text-anchor=\"middle\" x=\"48\" y=\"-618.4\" font-family=\"Times,serif\" font-size=\"12.00\">Sequential</text>\n</g>\n<g id=\"clust3\" class=\"cluster\">\n<title>cluster_4</title>\n<polygon fill=\"none\" stroke=\"black\" stroke-dasharray=\"5,2\" points=\"20,-8 20,-233 238,-233 238,-8 20,-8\"/>\n<text text-anchor=\"middle\" x=\"53\" y=\"-219.4\" font-family=\"Times,serif\" font-size=\"12.00\">Sequential</text>\n</g>\n<!-- 0 -->\n<g id=\"node1\" class=\"node\">\n<title>0</title>\n<polygon fill=\"lightyellow\" stroke=\"transparent\" points=\"218,-1071 40,-1071 40,-1039 218,-1039 218,-1071\"/>\n<polygon fill=\"none\" stroke=\"black\" points=\"40,-1039 40,-1071 123,-1071 123,-1039 40,-1039\"/>\n<text text-anchor=\"start\" x=\"45\" y=\"-1058\" font-family=\"Linux libertine\" font-size=\"10.00\">input&#45;tensor</text>\n<text text-anchor=\"start\" x=\"60\" y=\"-1047\" font-family=\"Linux libertine\" font-size=\"10.00\">depth:0</text>\n<polygon fill=\"none\" stroke=\"black\" points=\"123,-1039 123,-1071 218,-1071 218,-1039 123,-1039\"/>\n<text text-anchor=\"start\" x=\"128\" y=\"-1052.5\" font-family=\"Linux libertine\" font-size=\"10.00\">(1, 1, 28, 28)</text>\n</g>\n<!-- 1 -->\n<g id=\"node2\" class=\"node\">\n<title>1</title>\n<polygon fill=\"#c1ffc1\" stroke=\"transparent\" points=\"235.5,-1002 22.5,-1002 22.5,-960 235.5,-960 235.5,-1002\"/>\n<polygon fill=\"none\" stroke=\"black\" points=\"23,-960 23,-1002 76,-1002 76,-960 23,-960\"/>\n<text text-anchor=\"start\" x=\"31\" y=\"-984\" font-family=\"Linux libertine\" font-size=\"10.00\">Conv2d</text>\n<text text-anchor=\"start\" x=\"28\" y=\"-973\" font-family=\"Linux libertine\" font-size=\"10.00\">depth:2</text>\n<polygon fill=\"none\" stroke=\"black\" points=\"76,-981 76,-1002 135,-1002 135,-981 76,-981\"/>\n<text text-anchor=\"start\" x=\"87\" y=\"-989\" font-family=\"Linux libertine\" font-size=\"10.00\">input:</text>\n<polygon fill=\"none\" stroke=\"black\" points=\"135,-981 135,-1002 236,-1002 236,-981 135,-981\"/>\n<text text-anchor=\"start\" x=\"140\" y=\"-989\" font-family=\"Linux libertine\" font-size=\"10.00\">(1, 1, 28, 28) </text>\n<polygon fill=\"none\" stroke=\"black\" points=\"76,-960 76,-981 135,-981 135,-960 76,-960\"/>\n<text text-anchor=\"start\" x=\"81\" y=\"-968\" font-family=\"Linux libertine\" font-size=\"10.00\">output: </text>\n<polygon fill=\"none\" stroke=\"black\" points=\"135,-960 135,-981 236,-981 236,-960 135,-960\"/>\n<text text-anchor=\"start\" x=\"140\" y=\"-968\" font-family=\"Linux libertine\" font-size=\"10.00\">(1, 8, 26, 26) </text>\n</g>\n<!-- 0&#45;&gt;1 -->\n<g id=\"edge1\" class=\"edge\">\n<title>0&#45;&gt;1</title>\n<path fill=\"none\" stroke=\"black\" d=\"M129,-1038.73C129,-1031.08 129,-1021.52 129,-1012.45\"/>\n<polygon fill=\"black\" stroke=\"black\" points=\"132.5,-1012.17 129,-1002.17 125.5,-1012.17 132.5,-1012.17\"/>\n</g>\n<!-- 2 -->\n<g id=\"node3\" class=\"node\">\n<title>2</title>\n<polygon fill=\"#c1ffc1\" stroke=\"transparent\" points=\"235.5,-924 22.5,-924 22.5,-882 235.5,-882 235.5,-924\"/>\n<polygon fill=\"none\" stroke=\"black\" points=\"23,-882 23,-924 76,-924 76,-882 23,-882\"/>\n<text text-anchor=\"start\" x=\"37\" y=\"-906\" font-family=\"Linux libertine\" font-size=\"10.00\">ReLU</text>\n<text text-anchor=\"start\" x=\"28\" y=\"-895\" font-family=\"Linux libertine\" font-size=\"10.00\">depth:2</text>\n<polygon fill=\"none\" stroke=\"black\" points=\"76,-903 76,-924 135,-924 135,-903 76,-903\"/>\n<text text-anchor=\"start\" x=\"87\" y=\"-911\" font-family=\"Linux libertine\" font-size=\"10.00\">input:</text>\n<polygon fill=\"none\" stroke=\"black\" points=\"135,-903 135,-924 236,-924 236,-903 135,-903\"/>\n<text text-anchor=\"start\" x=\"140\" y=\"-911\" font-family=\"Linux libertine\" font-size=\"10.00\">(1, 8, 26, 26) </text>\n<polygon fill=\"none\" stroke=\"black\" points=\"76,-882 76,-903 135,-903 135,-882 76,-882\"/>\n<text text-anchor=\"start\" x=\"81\" y=\"-890\" font-family=\"Linux libertine\" font-size=\"10.00\">output: </text>\n<polygon fill=\"none\" stroke=\"black\" points=\"135,-882 135,-903 236,-903 236,-882 135,-882\"/>\n<text text-anchor=\"start\" x=\"140\" y=\"-890\" font-family=\"Linux libertine\" font-size=\"10.00\">(1, 8, 26, 26) </text>\n</g>\n<!-- 1&#45;&gt;2 -->\n<g id=\"edge2\" class=\"edge\">\n<title>1&#45;&gt;2</title>\n<path fill=\"none\" stroke=\"black\" d=\"M129,-959.63C129,-951.82 129,-942.73 129,-934.18\"/>\n<polygon fill=\"black\" stroke=\"black\" points=\"132.5,-934.16 129,-924.16 125.5,-934.16 132.5,-934.16\"/>\n</g>\n<!-- 3 -->\n<g id=\"node4\" class=\"node\">\n<title>3</title>\n<polygon fill=\"#c1ffc1\" stroke=\"transparent\" points=\"235.5,-846 22.5,-846 22.5,-804 235.5,-804 235.5,-846\"/>\n<polygon fill=\"none\" stroke=\"black\" points=\"23,-804 23,-846 76,-846 76,-804 23,-804\"/>\n<text text-anchor=\"start\" x=\"31\" y=\"-828\" font-family=\"Linux libertine\" font-size=\"10.00\">Conv2d</text>\n<text text-anchor=\"start\" x=\"28\" y=\"-817\" font-family=\"Linux libertine\" font-size=\"10.00\">depth:2</text>\n<polygon fill=\"none\" stroke=\"black\" points=\"76,-825 76,-846 135,-846 135,-825 76,-825\"/>\n<text text-anchor=\"start\" x=\"87\" y=\"-833\" font-family=\"Linux libertine\" font-size=\"10.00\">input:</text>\n<polygon fill=\"none\" stroke=\"black\" points=\"135,-825 135,-846 236,-846 236,-825 135,-825\"/>\n<text text-anchor=\"start\" x=\"140\" y=\"-833\" font-family=\"Linux libertine\" font-size=\"10.00\">(1, 8, 26, 26) </text>\n<polygon fill=\"none\" stroke=\"black\" points=\"76,-804 76,-825 135,-825 135,-804 76,-804\"/>\n<text text-anchor=\"start\" x=\"81\" y=\"-812\" font-family=\"Linux libertine\" font-size=\"10.00\">output: </text>\n<polygon fill=\"none\" stroke=\"black\" points=\"135,-804 135,-825 236,-825 236,-804 135,-804\"/>\n<text text-anchor=\"start\" x=\"140\" y=\"-812\" font-family=\"Linux libertine\" font-size=\"10.00\">(1, 8, 24, 24) </text>\n</g>\n<!-- 2&#45;&gt;3 -->\n<g id=\"edge3\" class=\"edge\">\n<title>2&#45;&gt;3</title>\n<path fill=\"none\" stroke=\"black\" d=\"M129,-881.63C129,-873.82 129,-864.73 129,-856.18\"/>\n<polygon fill=\"black\" stroke=\"black\" points=\"132.5,-856.16 129,-846.16 125.5,-856.16 132.5,-856.16\"/>\n</g>\n<!-- 4 -->\n<g id=\"node5\" class=\"node\">\n<title>4</title>\n<polygon fill=\"#c1ffc1\" stroke=\"transparent\" points=\"235.5,-768 22.5,-768 22.5,-726 235.5,-726 235.5,-768\"/>\n<polygon fill=\"none\" stroke=\"black\" points=\"23,-726 23,-768 76,-768 76,-726 23,-726\"/>\n<text text-anchor=\"start\" x=\"37\" y=\"-750\" font-family=\"Linux libertine\" font-size=\"10.00\">ReLU</text>\n<text text-anchor=\"start\" x=\"28\" y=\"-739\" font-family=\"Linux libertine\" font-size=\"10.00\">depth:2</text>\n<polygon fill=\"none\" stroke=\"black\" points=\"76,-747 76,-768 135,-768 135,-747 76,-747\"/>\n<text text-anchor=\"start\" x=\"87\" y=\"-755\" font-family=\"Linux libertine\" font-size=\"10.00\">input:</text>\n<polygon fill=\"none\" stroke=\"black\" points=\"135,-747 135,-768 236,-768 236,-747 135,-747\"/>\n<text text-anchor=\"start\" x=\"140\" y=\"-755\" font-family=\"Linux libertine\" font-size=\"10.00\">(1, 8, 24, 24) </text>\n<polygon fill=\"none\" stroke=\"black\" points=\"76,-726 76,-747 135,-747 135,-726 76,-726\"/>\n<text text-anchor=\"start\" x=\"81\" y=\"-734\" font-family=\"Linux libertine\" font-size=\"10.00\">output: </text>\n<polygon fill=\"none\" stroke=\"black\" points=\"135,-726 135,-747 236,-747 236,-726 135,-726\"/>\n<text text-anchor=\"start\" x=\"140\" y=\"-734\" font-family=\"Linux libertine\" font-size=\"10.00\">(1, 8, 24, 24) </text>\n</g>\n<!-- 3&#45;&gt;4 -->\n<g id=\"edge4\" class=\"edge\">\n<title>3&#45;&gt;4</title>\n<path fill=\"none\" stroke=\"black\" d=\"M129,-803.63C129,-795.82 129,-786.73 129,-778.18\"/>\n<polygon fill=\"black\" stroke=\"black\" points=\"132.5,-778.16 129,-768.16 125.5,-778.16 132.5,-778.16\"/>\n</g>\n<!-- 5 -->\n<g id=\"node6\" class=\"node\">\n<title>5</title>\n<polygon fill=\"#c1ffc1\" stroke=\"transparent\" points=\"241.5,-690 16.5,-690 16.5,-648 241.5,-648 241.5,-690\"/>\n<polygon fill=\"none\" stroke=\"black\" points=\"17,-648 17,-690 82,-690 82,-648 17,-648\"/>\n<text text-anchor=\"start\" x=\"22\" y=\"-672\" font-family=\"Linux libertine\" font-size=\"10.00\">MaxPool2d</text>\n<text text-anchor=\"start\" x=\"28\" y=\"-661\" font-family=\"Linux libertine\" font-size=\"10.00\">depth:2</text>\n<polygon fill=\"none\" stroke=\"black\" points=\"82,-669 82,-690 141,-690 141,-669 82,-669\"/>\n<text text-anchor=\"start\" x=\"93\" y=\"-677\" font-family=\"Linux libertine\" font-size=\"10.00\">input:</text>\n<polygon fill=\"none\" stroke=\"black\" points=\"141,-669 141,-690 242,-690 242,-669 141,-669\"/>\n<text text-anchor=\"start\" x=\"146\" y=\"-677\" font-family=\"Linux libertine\" font-size=\"10.00\">(1, 8, 24, 24) </text>\n<polygon fill=\"none\" stroke=\"black\" points=\"82,-648 82,-669 141,-669 141,-648 82,-648\"/>\n<text text-anchor=\"start\" x=\"87\" y=\"-656\" font-family=\"Linux libertine\" font-size=\"10.00\">output: </text>\n<polygon fill=\"none\" stroke=\"black\" points=\"141,-648 141,-669 242,-669 242,-648 141,-648\"/>\n<text text-anchor=\"start\" x=\"146\" y=\"-656\" font-family=\"Linux libertine\" font-size=\"10.00\">(1, 8, 12, 12) </text>\n</g>\n<!-- 4&#45;&gt;5 -->\n<g id=\"edge5\" class=\"edge\">\n<title>4&#45;&gt;5</title>\n<path fill=\"none\" stroke=\"black\" d=\"M129,-725.63C129,-717.82 129,-708.73 129,-700.18\"/>\n<polygon fill=\"black\" stroke=\"black\" points=\"132.5,-700.16 129,-690.16 125.5,-700.16 132.5,-700.16\"/>\n</g>\n<!-- 6 -->\n<g id=\"node7\" class=\"node\">\n<title>6</title>\n<polygon fill=\"#c1ffc1\" stroke=\"transparent\" points=\"235.5,-603 22.5,-603 22.5,-561 235.5,-561 235.5,-603\"/>\n<polygon fill=\"none\" stroke=\"black\" points=\"23,-561 23,-603 76,-603 76,-561 23,-561\"/>\n<text text-anchor=\"start\" x=\"31\" y=\"-585\" font-family=\"Linux libertine\" font-size=\"10.00\">Conv2d</text>\n<text text-anchor=\"start\" x=\"28\" y=\"-574\" font-family=\"Linux libertine\" font-size=\"10.00\">depth:2</text>\n<polygon fill=\"none\" stroke=\"black\" points=\"76,-582 76,-603 135,-603 135,-582 76,-582\"/>\n<text text-anchor=\"start\" x=\"87\" y=\"-590\" font-family=\"Linux libertine\" font-size=\"10.00\">input:</text>\n<polygon fill=\"none\" stroke=\"black\" points=\"135,-582 135,-603 236,-603 236,-582 135,-582\"/>\n<text text-anchor=\"start\" x=\"140\" y=\"-590\" font-family=\"Linux libertine\" font-size=\"10.00\">(1, 8, 12, 12) </text>\n<polygon fill=\"none\" stroke=\"black\" points=\"76,-561 76,-582 135,-582 135,-561 76,-561\"/>\n<text text-anchor=\"start\" x=\"81\" y=\"-569\" font-family=\"Linux libertine\" font-size=\"10.00\">output: </text>\n<polygon fill=\"none\" stroke=\"black\" points=\"135,-561 135,-582 236,-582 236,-561 135,-561\"/>\n<text text-anchor=\"start\" x=\"140\" y=\"-569\" font-family=\"Linux libertine\" font-size=\"10.00\">(1, 8, 10, 10) </text>\n</g>\n<!-- 5&#45;&gt;6 -->\n<g id=\"edge6\" class=\"edge\">\n<title>5&#45;&gt;6</title>\n<path fill=\"none\" stroke=\"black\" d=\"M129,-647.86C129,-637.56 129,-624.81 129,-613.35\"/>\n<polygon fill=\"black\" stroke=\"black\" points=\"132.5,-613.29 129,-603.29 125.5,-613.29 132.5,-613.29\"/>\n</g>\n<!-- 7 -->\n<g id=\"node8\" class=\"node\">\n<title>7</title>\n<polygon fill=\"#c1ffc1\" stroke=\"transparent\" points=\"235.5,-525 22.5,-525 22.5,-483 235.5,-483 235.5,-525\"/>\n<polygon fill=\"none\" stroke=\"black\" points=\"23,-483 23,-525 76,-525 76,-483 23,-483\"/>\n<text text-anchor=\"start\" x=\"37\" y=\"-507\" font-family=\"Linux libertine\" font-size=\"10.00\">ReLU</text>\n<text text-anchor=\"start\" x=\"28\" y=\"-496\" font-family=\"Linux libertine\" font-size=\"10.00\">depth:2</text>\n<polygon fill=\"none\" stroke=\"black\" points=\"76,-504 76,-525 135,-525 135,-504 76,-504\"/>\n<text text-anchor=\"start\" x=\"87\" y=\"-512\" font-family=\"Linux libertine\" font-size=\"10.00\">input:</text>\n<polygon fill=\"none\" stroke=\"black\" points=\"135,-504 135,-525 236,-525 236,-504 135,-504\"/>\n<text text-anchor=\"start\" x=\"140\" y=\"-512\" font-family=\"Linux libertine\" font-size=\"10.00\">(1, 8, 10, 10) </text>\n<polygon fill=\"none\" stroke=\"black\" points=\"76,-483 76,-504 135,-504 135,-483 76,-483\"/>\n<text text-anchor=\"start\" x=\"81\" y=\"-491\" font-family=\"Linux libertine\" font-size=\"10.00\">output: </text>\n<polygon fill=\"none\" stroke=\"black\" points=\"135,-483 135,-504 236,-504 236,-483 135,-483\"/>\n<text text-anchor=\"start\" x=\"140\" y=\"-491\" font-family=\"Linux libertine\" font-size=\"10.00\">(1, 8, 10, 10) </text>\n</g>\n<!-- 6&#45;&gt;7 -->\n<g id=\"edge7\" class=\"edge\">\n<title>6&#45;&gt;7</title>\n<path fill=\"none\" stroke=\"black\" d=\"M129,-560.63C129,-552.82 129,-543.73 129,-535.18\"/>\n<polygon fill=\"black\" stroke=\"black\" points=\"132.5,-535.16 129,-525.16 125.5,-535.16 132.5,-535.16\"/>\n</g>\n<!-- 8 -->\n<g id=\"node9\" class=\"node\">\n<title>8</title>\n<polygon fill=\"#c1ffc1\" stroke=\"transparent\" points=\"235.5,-447 22.5,-447 22.5,-405 235.5,-405 235.5,-447\"/>\n<polygon fill=\"none\" stroke=\"black\" points=\"23,-405 23,-447 76,-447 76,-405 23,-405\"/>\n<text text-anchor=\"start\" x=\"31\" y=\"-429\" font-family=\"Linux libertine\" font-size=\"10.00\">Conv2d</text>\n<text text-anchor=\"start\" x=\"28\" y=\"-418\" font-family=\"Linux libertine\" font-size=\"10.00\">depth:2</text>\n<polygon fill=\"none\" stroke=\"black\" points=\"76,-426 76,-447 135,-447 135,-426 76,-426\"/>\n<text text-anchor=\"start\" x=\"87\" y=\"-434\" font-family=\"Linux libertine\" font-size=\"10.00\">input:</text>\n<polygon fill=\"none\" stroke=\"black\" points=\"135,-426 135,-447 236,-447 236,-426 135,-426\"/>\n<text text-anchor=\"start\" x=\"140\" y=\"-434\" font-family=\"Linux libertine\" font-size=\"10.00\">(1, 8, 10, 10) </text>\n<polygon fill=\"none\" stroke=\"black\" points=\"76,-405 76,-426 135,-426 135,-405 76,-405\"/>\n<text text-anchor=\"start\" x=\"81\" y=\"-413\" font-family=\"Linux libertine\" font-size=\"10.00\">output: </text>\n<polygon fill=\"none\" stroke=\"black\" points=\"135,-405 135,-426 236,-426 236,-405 135,-405\"/>\n<text text-anchor=\"start\" x=\"146\" y=\"-413\" font-family=\"Linux libertine\" font-size=\"10.00\">(1, 8, 8, 8) </text>\n</g>\n<!-- 7&#45;&gt;8 -->\n<g id=\"edge8\" class=\"edge\">\n<title>7&#45;&gt;8</title>\n<path fill=\"none\" stroke=\"black\" d=\"M129,-482.63C129,-474.82 129,-465.73 129,-457.18\"/>\n<polygon fill=\"black\" stroke=\"black\" points=\"132.5,-457.16 129,-447.16 125.5,-457.16 132.5,-457.16\"/>\n</g>\n<!-- 9 -->\n<g id=\"node10\" class=\"node\">\n<title>9</title>\n<polygon fill=\"#c1ffc1\" stroke=\"transparent\" points=\"229.5,-369 28.5,-369 28.5,-327 229.5,-327 229.5,-369\"/>\n<polygon fill=\"none\" stroke=\"black\" points=\"29,-327 29,-369 82,-369 82,-327 29,-327\"/>\n<text text-anchor=\"start\" x=\"43\" y=\"-351\" font-family=\"Linux libertine\" font-size=\"10.00\">ReLU</text>\n<text text-anchor=\"start\" x=\"34\" y=\"-340\" font-family=\"Linux libertine\" font-size=\"10.00\">depth:2</text>\n<polygon fill=\"none\" stroke=\"black\" points=\"82,-348 82,-369 141,-369 141,-348 82,-348\"/>\n<text text-anchor=\"start\" x=\"93\" y=\"-356\" font-family=\"Linux libertine\" font-size=\"10.00\">input:</text>\n<polygon fill=\"none\" stroke=\"black\" points=\"141,-348 141,-369 230,-369 230,-348 141,-348\"/>\n<text text-anchor=\"start\" x=\"146\" y=\"-356\" font-family=\"Linux libertine\" font-size=\"10.00\">(1, 8, 8, 8) </text>\n<polygon fill=\"none\" stroke=\"black\" points=\"82,-327 82,-348 141,-348 141,-327 82,-327\"/>\n<text text-anchor=\"start\" x=\"87\" y=\"-335\" font-family=\"Linux libertine\" font-size=\"10.00\">output: </text>\n<polygon fill=\"none\" stroke=\"black\" points=\"141,-327 141,-348 230,-348 230,-327 141,-327\"/>\n<text text-anchor=\"start\" x=\"146\" y=\"-335\" font-family=\"Linux libertine\" font-size=\"10.00\">(1, 8, 8, 8) </text>\n</g>\n<!-- 8&#45;&gt;9 -->\n<g id=\"edge9\" class=\"edge\">\n<title>8&#45;&gt;9</title>\n<path fill=\"none\" stroke=\"black\" d=\"M129,-404.63C129,-396.82 129,-387.73 129,-379.18\"/>\n<polygon fill=\"black\" stroke=\"black\" points=\"132.5,-379.16 129,-369.16 125.5,-379.16 132.5,-379.16\"/>\n</g>\n<!-- 10 -->\n<g id=\"node11\" class=\"node\">\n<title>10</title>\n<polygon fill=\"#c1ffc1\" stroke=\"transparent\" points=\"235.5,-291 22.5,-291 22.5,-249 235.5,-249 235.5,-291\"/>\n<polygon fill=\"none\" stroke=\"black\" points=\"23,-249 23,-291 88,-291 88,-249 23,-249\"/>\n<text text-anchor=\"start\" x=\"28\" y=\"-273\" font-family=\"Linux libertine\" font-size=\"10.00\">MaxPool2d</text>\n<text text-anchor=\"start\" x=\"34\" y=\"-262\" font-family=\"Linux libertine\" font-size=\"10.00\">depth:2</text>\n<polygon fill=\"none\" stroke=\"black\" points=\"88,-270 88,-291 147,-291 147,-270 88,-270\"/>\n<text text-anchor=\"start\" x=\"99\" y=\"-278\" font-family=\"Linux libertine\" font-size=\"10.00\">input:</text>\n<polygon fill=\"none\" stroke=\"black\" points=\"147,-270 147,-291 236,-291 236,-270 147,-270\"/>\n<text text-anchor=\"start\" x=\"152\" y=\"-278\" font-family=\"Linux libertine\" font-size=\"10.00\">(1, 8, 8, 8) </text>\n<polygon fill=\"none\" stroke=\"black\" points=\"88,-249 88,-270 147,-270 147,-249 88,-249\"/>\n<text text-anchor=\"start\" x=\"93\" y=\"-257\" font-family=\"Linux libertine\" font-size=\"10.00\">output: </text>\n<polygon fill=\"none\" stroke=\"black\" points=\"147,-249 147,-270 236,-270 236,-249 147,-249\"/>\n<text text-anchor=\"start\" x=\"152\" y=\"-257\" font-family=\"Linux libertine\" font-size=\"10.00\">(1, 8, 4, 4) </text>\n</g>\n<!-- 9&#45;&gt;10 -->\n<g id=\"edge10\" class=\"edge\">\n<title>9&#45;&gt;10</title>\n<path fill=\"none\" stroke=\"black\" d=\"M129,-326.63C129,-318.82 129,-309.73 129,-301.18\"/>\n<polygon fill=\"black\" stroke=\"black\" points=\"132.5,-301.16 129,-291.16 125.5,-301.16 132.5,-301.16\"/>\n</g>\n<!-- 11 -->\n<g id=\"node12\" class=\"node\">\n<title>11</title>\n<polygon fill=\"#c1ffc1\" stroke=\"transparent\" points=\"229.5,-204 28.5,-204 28.5,-162 229.5,-162 229.5,-204\"/>\n<polygon fill=\"none\" stroke=\"black\" points=\"29,-162 29,-204 82,-204 82,-162 29,-162\"/>\n<text text-anchor=\"start\" x=\"34\" y=\"-186\" font-family=\"Linux libertine\" font-size=\"10.00\">Flatten</text>\n<text text-anchor=\"start\" x=\"34\" y=\"-175\" font-family=\"Linux libertine\" font-size=\"10.00\">depth:2</text>\n<polygon fill=\"none\" stroke=\"black\" points=\"82,-183 82,-204 141,-204 141,-183 82,-183\"/>\n<text text-anchor=\"start\" x=\"93\" y=\"-191\" font-family=\"Linux libertine\" font-size=\"10.00\">input:</text>\n<polygon fill=\"none\" stroke=\"black\" points=\"141,-183 141,-204 230,-204 230,-183 141,-183\"/>\n<text text-anchor=\"start\" x=\"146\" y=\"-191\" font-family=\"Linux libertine\" font-size=\"10.00\">(1, 8, 4, 4) </text>\n<polygon fill=\"none\" stroke=\"black\" points=\"82,-162 82,-183 141,-183 141,-162 82,-162\"/>\n<text text-anchor=\"start\" x=\"87\" y=\"-170\" font-family=\"Linux libertine\" font-size=\"10.00\">output: </text>\n<polygon fill=\"none\" stroke=\"black\" points=\"141,-162 141,-183 230,-183 230,-162 141,-162\"/>\n<text text-anchor=\"start\" x=\"158\" y=\"-170\" font-family=\"Linux libertine\" font-size=\"10.00\">(1, 128) </text>\n</g>\n<!-- 10&#45;&gt;11 -->\n<g id=\"edge11\" class=\"edge\">\n<title>10&#45;&gt;11</title>\n<path fill=\"none\" stroke=\"black\" d=\"M129,-248.86C129,-238.56 129,-225.81 129,-214.35\"/>\n<polygon fill=\"black\" stroke=\"black\" points=\"132.5,-214.29 129,-204.29 125.5,-214.29 132.5,-214.29\"/>\n</g>\n<!-- 12 -->\n<g id=\"node13\" class=\"node\">\n<title>12</title>\n<polygon fill=\"#c1ffc1\" stroke=\"transparent\" points=\"217.5,-126 40.5,-126 40.5,-84 217.5,-84 217.5,-126\"/>\n<polygon fill=\"none\" stroke=\"black\" points=\"41,-84 41,-126 94,-126 94,-84 41,-84\"/>\n<text text-anchor=\"start\" x=\"49\" y=\"-108\" font-family=\"Linux libertine\" font-size=\"10.00\">Linear</text>\n<text text-anchor=\"start\" x=\"46\" y=\"-97\" font-family=\"Linux libertine\" font-size=\"10.00\">depth:2</text>\n<polygon fill=\"none\" stroke=\"black\" points=\"94,-105 94,-126 153,-126 153,-105 94,-105\"/>\n<text text-anchor=\"start\" x=\"105\" y=\"-113\" font-family=\"Linux libertine\" font-size=\"10.00\">input:</text>\n<polygon fill=\"none\" stroke=\"black\" points=\"153,-105 153,-126 218,-126 218,-105 153,-105\"/>\n<text text-anchor=\"start\" x=\"158\" y=\"-113\" font-family=\"Linux libertine\" font-size=\"10.00\">(1, 128) </text>\n<polygon fill=\"none\" stroke=\"black\" points=\"94,-84 94,-105 153,-105 153,-84 94,-84\"/>\n<text text-anchor=\"start\" x=\"99\" y=\"-92\" font-family=\"Linux libertine\" font-size=\"10.00\">output: </text>\n<polygon fill=\"none\" stroke=\"black\" points=\"153,-84 153,-105 218,-105 218,-84 153,-84\"/>\n<text text-anchor=\"start\" x=\"161\" y=\"-92\" font-family=\"Linux libertine\" font-size=\"10.00\">(1, 10) </text>\n</g>\n<!-- 11&#45;&gt;12 -->\n<g id=\"edge12\" class=\"edge\">\n<title>11&#45;&gt;12</title>\n<path fill=\"none\" stroke=\"black\" d=\"M129,-161.63C129,-153.82 129,-144.73 129,-136.18\"/>\n<polygon fill=\"black\" stroke=\"black\" points=\"132.5,-136.16 129,-126.16 125.5,-136.16 132.5,-136.16\"/>\n</g>\n<!-- 13 -->\n<g id=\"node14\" class=\"node\">\n<title>13</title>\n<polygon fill=\"lightyellow\" stroke=\"transparent\" points=\"200,-48 58,-48 58,-16 200,-16 200,-48\"/>\n<polygon fill=\"none\" stroke=\"black\" points=\"58,-16 58,-48 147,-48 147,-16 58,-16\"/>\n<text text-anchor=\"start\" x=\"63\" y=\"-35\" font-family=\"Linux libertine\" font-size=\"10.00\">output&#45;tensor</text>\n<text text-anchor=\"start\" x=\"81\" y=\"-24\" font-family=\"Linux libertine\" font-size=\"10.00\">depth:0</text>\n<polygon fill=\"none\" stroke=\"black\" points=\"147,-16 147,-48 200,-48 200,-16 147,-16\"/>\n<text text-anchor=\"start\" x=\"152\" y=\"-29.5\" font-family=\"Linux libertine\" font-size=\"10.00\">(1, 10)</text>\n</g>\n<!-- 12&#45;&gt;13 -->\n<g id=\"edge13\" class=\"edge\">\n<title>12&#45;&gt;13</title>\n<path fill=\"none\" stroke=\"black\" d=\"M129,-83.84C129,-75.89 129,-66.66 129,-58.26\"/>\n<polygon fill=\"black\" stroke=\"black\" points=\"132.5,-58.24 129,-48.24 125.5,-58.24 132.5,-58.24\"/>\n</g>\n</g>\n</svg>\n",
            "text/plain": [
              "<graphviz.graphs.Digraph at 0x7831a0fcfd30>"
            ]
          },
          "metadata": {},
          "execution_count": 18
        }
      ]
    },
    {
      "cell_type": "code",
      "source": [
        "# updated training module---\n",
        "@timeit\n",
        "def train_module(model:torch.nn.Module,\n",
        "                 device:torch.device,\n",
        "                 train_dataloader:torch.utils.data.DataLoader ,\n",
        "                 optimizer:torch.optim.Optimizer,\n",
        "                 criterion:torch.nn.Module,\n",
        "                 metric,\n",
        "                 train_losses:list,\n",
        "                 train_metrics:list):\n",
        "\n",
        "  # setting model to train mode\n",
        "  model.train()\n",
        "  pbar = tqdm(train_dataloader)\n",
        "\n",
        "  # batch metrics\n",
        "  train_loss = 0\n",
        "  train_metric = 0\n",
        "  processed_batch = 0\n",
        "\n",
        "  for idx, (data,label) in enumerate(pbar):\n",
        "    # setting up device\n",
        "    data = data.to(device)\n",
        "    label = label.to(device)\n",
        "\n",
        "    # forward pass output\n",
        "    preds = model(data)\n",
        "\n",
        "    # calc loss\n",
        "    loss = criterion(preds, label)\n",
        "    train_loss += loss.item()\n",
        "    # print(f\"training loss for batch {idx} is {loss}\")\n",
        "\n",
        "    # backpropagation\n",
        "    optimizer.zero_grad() # flush out  existing grads\n",
        "    loss.backward() # back prop of weights wrt loss\n",
        "    optimizer.step() # optimizer step -> minima\n",
        "\n",
        "    # metric calc\n",
        "    preds = torch.argmax(preds,dim=1)\n",
        "    # print(f\"preds:: {preds}\")\n",
        "    metric.update(preds,label)\n",
        "    train_metric += metric.compute().detach().item()\n",
        "\n",
        "    #updating batch count\n",
        "    processed_batch += 1\n",
        "\n",
        "    pbar.set_description(f\"Avg Train Loss: {train_loss/processed_batch} Avg Train Metric: {train_metric/processed_batch}\")\n",
        "\n",
        "  # It's typically called after the epoch completes\n",
        "  metric.reset()\n",
        "  # updating epoch metrics\n",
        "  train_losses.append(train_loss/processed_batch)\n",
        "  train_metrics.append(train_metric/processed_batch)\n",
        "\n",
        "  return train_losses, train_metrics\n"
      ],
      "metadata": {
        "id": "w7DfZxXVn8z_"
      },
      "execution_count": 19,
      "outputs": []
    },
    {
      "cell_type": "code",
      "source": [
        "# updated testing modules\n",
        "@timeit\n",
        "def test_module(model:torch.nn.Module,\n",
        "                device:torch.device,\n",
        "                test_dataloader:torch.utils.data.DataLoader,\n",
        "                criterion:torch.nn.Module,\n",
        "                metric,\n",
        "                test_losses,\n",
        "                test_metrics):\n",
        "  # setting model to eval mode\n",
        "  model.eval()\n",
        "  pbar = tqdm(test_dataloader)\n",
        "\n",
        "  # batch metrics\n",
        "  test_loss = 0\n",
        "  test_metric = 0\n",
        "  processed_batch = 0\n",
        "\n",
        "  with torch.inference_mode():\n",
        "    for idx, (data,label) in enumerate(pbar):\n",
        "      data , label = data.to(device), label.to(device)\n",
        "      # predictions\n",
        "      preds = model(data)\n",
        "      # print(preds.shape)\n",
        "      # print(label.shape)\n",
        "\n",
        "      #loss calc\n",
        "      loss = criterion(preds, label)\n",
        "      test_loss += loss.item()\n",
        "\n",
        "      # metric calc\n",
        "      preds = torch.argmax(preds,dim=1)\n",
        "      metric.update(preds,label)\n",
        "      test_metric += metric.compute().detach().item()\n",
        "\n",
        "      #updating batch count\n",
        "      processed_batch += 1\n",
        "\n",
        "      pbar.set_description(f\"Avg Test Loss: {test_loss/processed_batch} Avg Test Metric: {test_metric/processed_batch}\")\n",
        "\n",
        "    # It's typically called after the epoch completes\n",
        "    metric.reset()\n",
        "    # updating epoch metrics\n",
        "    test_losses.append(test_loss/processed_batch)\n",
        "    test_metrics.append(test_metric/processed_batch)\n",
        "\n",
        "  return test_losses, test_metrics"
      ],
      "metadata": {
        "id": "y8zFQeKBzc1Y"
      },
      "execution_count": 20,
      "outputs": []
    },
    {
      "cell_type": "code",
      "source": [
        "# driver setup\n",
        "optimizer = optim.Adam(fas_model.parameters(), lr=lr)\n",
        "criterion = nn.CrossEntropyLoss()\n",
        "metric = MulticlassAccuracy(device = device, num_classes=10)"
      ],
      "metadata": {
        "id": "6cE8lquan8q-"
      },
      "execution_count": 21,
      "outputs": []
    },
    {
      "cell_type": "code",
      "source": [
        "# Place holders----\n",
        "train_losses = []\n",
        "train_metrics = []\n",
        "test_losses = []\n",
        "test_metrics = []\n",
        "\n",
        "for epoch in range(0,epochs):\n",
        "  print(f'Epoch {epoch}')\n",
        "  train_losses, train_metrics = train_module(fas_model, device, train_loader, optimizer, criterion, metric, train_losses, train_metrics)\n",
        "  test_losses , test_metrics = test_module(fas_model, device, test_loader, criterion, metric, test_losses, test_metrics)"
      ],
      "metadata": {
        "colab": {
          "base_uri": "https://localhost:8080/"
        },
        "id": "aOO7clvF0me3",
        "outputId": "f4ba98ce-63e7-4f7b-d4d9-871855757f29"
      },
      "execution_count": 22,
      "outputs": [
        {
          "output_type": "stream",
          "name": "stdout",
          "text": [
            "Epoch 0\n"
          ]
        },
        {
          "output_type": "stream",
          "name": "stderr",
          "text": [
            "Avg Train Loss: 0.911607165199353 Avg Train Metric: 0.516574881748477: 100%|██████████| 469/469 [00:19<00:00, 24.17it/s]\n"
          ]
        },
        {
          "output_type": "stream",
          "name": "stdout",
          "text": [
            "Function Took 19.4130 seconds\n"
          ]
        },
        {
          "output_type": "stream",
          "name": "stderr",
          "text": [
            "Avg Test Loss: 0.6335252828990356 Avg Test Metric: 0.7818777161308482: 100%|██████████| 79/79 [00:01<00:00, 59.65it/s]\n"
          ]
        },
        {
          "output_type": "stream",
          "name": "stdout",
          "text": [
            "Function Took 1.3329 seconds\n",
            "Epoch 1\n"
          ]
        },
        {
          "output_type": "stream",
          "name": "stderr",
          "text": [
            "Avg Train Loss: 0.5637907906890169 Avg Train Metric: 0.7873620896705432: 100%|██████████| 469/469 [00:20<00:00, 22.92it/s]\n"
          ]
        },
        {
          "output_type": "stream",
          "name": "stdout",
          "text": [
            "Function Took 20.4707 seconds\n"
          ]
        },
        {
          "output_type": "stream",
          "name": "stderr",
          "text": [
            "Avg Test Loss: 0.5476646668548826 Avg Test Metric: 0.8071120562432688: 100%|██████████| 79/79 [00:01<00:00, 42.72it/s]\n"
          ]
        },
        {
          "output_type": "stream",
          "name": "stdout",
          "text": [
            "Function Took 1.8586 seconds\n",
            "Epoch 2\n"
          ]
        },
        {
          "output_type": "stream",
          "name": "stderr",
          "text": [
            "Avg Train Loss: 0.5059604436985211 Avg Train Metric: 0.81239503100991: 100%|██████████| 469/469 [00:18<00:00, 25.65it/s]\n"
          ]
        },
        {
          "output_type": "stream",
          "name": "stdout",
          "text": [
            "Function Took 18.2967 seconds\n"
          ]
        },
        {
          "output_type": "stream",
          "name": "stderr",
          "text": [
            "Avg Test Loss: 0.510980806773222 Avg Test Metric: 0.8196594783022434: 100%|██████████| 79/79 [00:02<00:00, 31.72it/s]\n"
          ]
        },
        {
          "output_type": "stream",
          "name": "stdout",
          "text": [
            "Function Took 2.5013 seconds\n",
            "Epoch 3\n"
          ]
        },
        {
          "output_type": "stream",
          "name": "stderr",
          "text": [
            "Avg Train Loss: 0.47722678188321943 Avg Train Metric: 0.8231776818029408: 100%|██████████| 469/469 [00:14<00:00, 32.15it/s]\n"
          ]
        },
        {
          "output_type": "stream",
          "name": "stdout",
          "text": [
            "Function Took 14.6044 seconds\n"
          ]
        },
        {
          "output_type": "stream",
          "name": "stderr",
          "text": [
            "Avg Test Loss: 0.4918481937692135 Avg Test Metric: 0.8189513509786581: 100%|██████████| 79/79 [00:01<00:00, 57.89it/s]\n"
          ]
        },
        {
          "output_type": "stream",
          "name": "stdout",
          "text": [
            "Function Took 1.3719 seconds\n",
            "Epoch 4\n"
          ]
        },
        {
          "output_type": "stream",
          "name": "stderr",
          "text": [
            "Avg Train Loss: 0.4568185489187871 Avg Train Metric: 0.8336852740631429: 100%|██████████| 469/469 [00:11<00:00, 39.24it/s]\n"
          ]
        },
        {
          "output_type": "stream",
          "name": "stdout",
          "text": [
            "Function Took 11.9615 seconds\n"
          ]
        },
        {
          "output_type": "stream",
          "name": "stderr",
          "text": [
            "Avg Test Loss: 0.4704117733466474 Avg Test Metric: 0.8347121197966081: 100%|██████████| 79/79 [00:02<00:00, 32.54it/s]\n"
          ]
        },
        {
          "output_type": "stream",
          "name": "stdout",
          "text": [
            "Function Took 2.4356 seconds\n",
            "Epoch 5\n"
          ]
        },
        {
          "output_type": "stream",
          "name": "stderr",
          "text": [
            "Avg Train Loss: 0.441685229984682 Avg Train Metric: 0.8413351328134029: 100%|██████████| 469/469 [00:16<00:00, 28.31it/s]\n"
          ]
        },
        {
          "output_type": "stream",
          "name": "stdout",
          "text": [
            "Function Took 16.5786 seconds\n"
          ]
        },
        {
          "output_type": "stream",
          "name": "stderr",
          "text": [
            "Avg Test Loss: 0.4562679453741146 Avg Test Metric: 0.8323784546007084: 100%|██████████| 79/79 [00:01<00:00, 54.36it/s]\n"
          ]
        },
        {
          "output_type": "stream",
          "name": "stdout",
          "text": [
            "Function Took 1.4614 seconds\n",
            "Epoch 6\n"
          ]
        },
        {
          "output_type": "stream",
          "name": "stderr",
          "text": [
            "Avg Train Loss: 0.4280499436898526 Avg Train Metric: 0.8440412192710681: 100%|██████████| 469/469 [00:15<00:00, 30.69it/s]\n"
          ]
        },
        {
          "output_type": "stream",
          "name": "stdout",
          "text": [
            "Function Took 15.2926 seconds\n"
          ]
        },
        {
          "output_type": "stream",
          "name": "stderr",
          "text": [
            "Avg Test Loss: 0.43945607241195966 Avg Test Metric: 0.8424101321003105: 100%|██████████| 79/79 [00:01<00:00, 43.53it/s]\n"
          ]
        },
        {
          "output_type": "stream",
          "name": "stdout",
          "text": [
            "Function Took 1.8319 seconds\n",
            "Epoch 7\n"
          ]
        },
        {
          "output_type": "stream",
          "name": "stderr",
          "text": [
            "Avg Train Loss: 0.4180341127203472 Avg Train Metric: 0.8485922940504322: 100%|██████████| 469/469 [00:16<00:00, 28.96it/s]\n"
          ]
        },
        {
          "output_type": "stream",
          "name": "stdout",
          "text": [
            "Function Took 16.2091 seconds\n"
          ]
        },
        {
          "output_type": "stream",
          "name": "stderr",
          "text": [
            "Avg Test Loss: 0.4287463458655756 Avg Test Metric: 0.8421892516220673: 100%|██████████| 79/79 [00:01<00:00, 59.90it/s]\n"
          ]
        },
        {
          "output_type": "stream",
          "name": "stdout",
          "text": [
            "Function Took 1.3255 seconds\n",
            "Epoch 8\n"
          ]
        },
        {
          "output_type": "stream",
          "name": "stderr",
          "text": [
            "Avg Train Loss: 0.4064589488480899 Avg Train Metric: 0.8526746612876209: 100%|██████████| 469/469 [00:12<00:00, 37.82it/s]\n"
          ]
        },
        {
          "output_type": "stream",
          "name": "stdout",
          "text": [
            "Function Took 12.4105 seconds\n"
          ]
        },
        {
          "output_type": "stream",
          "name": "stderr",
          "text": [
            "Avg Test Loss: 0.42264461441885065 Avg Test Metric: 0.850897867468339: 100%|██████████| 79/79 [00:01<00:00, 59.44it/s]\n"
          ]
        },
        {
          "output_type": "stream",
          "name": "stdout",
          "text": [
            "Function Took 1.3351 seconds\n",
            "Epoch 9\n"
          ]
        },
        {
          "output_type": "stream",
          "name": "stderr",
          "text": [
            "Avg Train Loss: 0.39581939072878375 Avg Train Metric: 0.855885082978938: 100%|██████████| 469/469 [00:12<00:00, 36.19it/s]\n"
          ]
        },
        {
          "output_type": "stream",
          "name": "stdout",
          "text": [
            "Function Took 12.9676 seconds\n"
          ]
        },
        {
          "output_type": "stream",
          "name": "stderr",
          "text": [
            "Avg Test Loss: 0.4318585505213919 Avg Test Metric: 0.8483479724654669: 100%|██████████| 79/79 [00:01<00:00, 45.49it/s]"
          ]
        },
        {
          "output_type": "stream",
          "name": "stdout",
          "text": [
            "Function Took 1.7435 seconds\n"
          ]
        },
        {
          "output_type": "stream",
          "name": "stderr",
          "text": [
            "\n"
          ]
        }
      ]
    },
    {
      "cell_type": "code",
      "source": [
        "plot_loss_accuracy(train_loss= [train_losses],\n",
        "                   val_loss= [test_losses],\n",
        "                   train_acc= [train_metrics],\n",
        "                   val_acc= [test_metrics],\n",
        "                   labels=['BasicModel'],\n",
        "                   colors=['blue'],\n",
        "                   loss_legend_loc='upper center',\n",
        "                   acc_legend_loc='upper left')"
      ],
      "metadata": {
        "colab": {
          "base_uri": "https://localhost:8080/",
          "height": 534
        },
        "id": "vdNywd-rkoXt",
        "outputId": "0844bccb-5a45-46a0-f2db-8d09a3a466a3"
      },
      "execution_count": 26,
      "outputs": [
        {
          "output_type": "display_data",
          "data": {
            "text/plain": [
              "<Figure size 1600x800 with 2 Axes>"
            ],
            "image/png": "[encoded data removed]"
          },
          "metadata": {}
        }
      ]
    },
    {
      "cell_type": "markdown",
      "source": [
        "#### Model Testing"
      ],
      "metadata": {
        "id": "X8GVSLRZ7Yp-"
      }
    },
    {
      "cell_type": "code",
      "source": [
        "def make_predictions(model: torch.nn.Module, data: list, device: torch.device = device):\n",
        "  \"\"\"Make predictions for sample records\"\"\"\n",
        "  pred_labels = []\n",
        "  model.eval()\n",
        "  with torch.inference_mode():\n",
        "      for sample in data:\n",
        "          # Prepare sample\n",
        "          sample = torch.unsqueeze(sample, dim=0).to(device) # Add an extra dimension and send sample to device\n",
        "          # print(sample.shape)\n",
        "          # Forward pass (model outputs raw logit)\n",
        "          pred_logit = model(sample)\n",
        "\n",
        "          # Get prediction probability (logit -> prediction probability)\n",
        "          pred_prob = torch.softmax(pred_logit.squeeze(), dim=0) # note: perform softmax on the \"logits\" dimension, not \"batch\" dimension (in this case we have a batch size of 1, so can perform on dim=0)\n",
        "          # print(pred_prob.shape) [10]\n",
        "          pred_classes = pred_prob.argmax().detach().cpu().item()\n",
        "          # Get pred_prob off GPU for further calculations\n",
        "          pred_labels.append(pred_classes)\n",
        "\n",
        "  # Stack the pred_probs to turn list into a tensor\n",
        "  return pred_labels"
      ],
      "metadata": {
        "id": "_VyyNlQU0t2D"
      },
      "execution_count": 27,
      "outputs": []
    },
    {
      "cell_type": "code",
      "source": [
        "import random\n",
        "random.seed(42)\n",
        "test_samples = []\n",
        "test_labels = []\n",
        "for sample, label in random.sample(list(test_data), k=2):\n",
        "    test_samples.append(sample)\n",
        "    test_labels.append(label)\n"
      ],
      "metadata": {
        "id": "kQNgsT-N0uJN"
      },
      "execution_count": 28,
      "outputs": []
    },
    {
      "cell_type": "code",
      "source": [
        "pred_labels = make_predictions(fas_model, test_samples, device=device)"
      ],
      "metadata": {
        "id": "9_kejSWWy2ms"
      },
      "execution_count": 29,
      "outputs": []
    },
    {
      "cell_type": "code",
      "source": [
        "pred_labels# Plot predictions\n",
        "plt.figure(figsize=(9, 9))\n",
        "nrows = 3\n",
        "ncols = 3\n",
        "for i, sample in enumerate(test_samples):\n",
        "  # Create a subplot\n",
        "  plt.subplot(nrows, ncols, i+1)\n",
        "\n",
        "  # Plot the target image\n",
        "  plt.imshow(sample.squeeze(), cmap=\"gray\")\n",
        "\n",
        "  # Find the prediction label (in text form, e.g. \"Sandal\")\n",
        "  pred_label = class_names[pred_labels[i]]\n",
        "\n",
        "  # Get the truth label (in text form, e.g. \"T-shirt\")\n",
        "  truth_label = class_names[test_labels[i]]\n",
        "\n",
        "  # Create the title text of the plot\n",
        "  title_text = f\"Pred: {pred_label} | Truth: {truth_label}\"\n",
        "\n",
        "  # Check for equality and change title colour accordingly\n",
        "  if pred_label == truth_label:\n",
        "      plt.title(title_text, fontsize=10, c=\"g\") # green text if correct\n",
        "  else:\n",
        "      plt.title(title_text, fontsize=10, c=\"r\") # red text if wrong\n",
        "  plt.axis(False);"
      ],
      "metadata": {
        "colab": {
          "base_uri": "https://localhost:8080/",
          "height": 260
        },
        "id": "cx-QIbK8y2c2",
        "outputId": "bb48f4da-2ae0-41d7-d9d0-7c806e0d042e"
      },
      "execution_count": 30,
      "outputs": [
        {
          "output_type": "display_data",
          "data": {
            "text/plain": [
              "<Figure size 900x900 with 2 Axes>"
            ],
            "image/png": "[encoded data removed]"
          },
          "metadata": {}
        }
      ]
    },
    {
      "cell_type": "markdown",
      "source": [
        "For testing metrics we will revisit the logics when we discuss about Torch Metrics in details"
      ],
      "metadata": {
        "id": "4w9-nDXjy2Yj"
      }
    },
    {
      "cell_type": "markdown",
      "source": [
        "## Regularization\n",
        "\n",
        "regularization is a technique that helps reduce overfitting or reduce variance in our network by penalizing for complexity. The idea is that certain complexities in our model may make our model unlikely to generalize well even though it fits the training data. If we add regularization to the model we’re essentially trading in some of the ability of our model to fit the training data as well as the ability to have the model generalize better to data it hasn’t seen before."
      ],
      "metadata": {
        "id": "KTvm4yKqy2T-"
      }
    },
    {
      "cell_type": "markdown",
      "source": [
        "L1 Regularization: Needs to be added as a functionality to be added to the loss function\n",
        "\n",
        "! [picture](https://androidkt.com/wp-content/uploads/2021/09/L1-Regula.png)\n",
        "\n",
        "L2 Regularization: Can be added as a functionality to be added to the loss function or as an arg in optimizer\n",
        "\n",
        "! [picture](https://androidkt.com/wp-content/uploads/2021/09/l2_regula.png)\n",
        "\n",
        "https://github.com/christianversloot/machine-learning-articles/blob/main/how-to-use-l1-l2-and-elastic-net-regularization-with-pytorch.md\n",
        "\n",
        "https://androidkt.com/how-to-add-l1-l2-regularization-in-pytorch-loss-function/"
      ],
      "metadata": {
        "id": "fp-j3G8Ey2O9"
      }
    },
    {
      "cell_type": "code",
      "source": [
        "class FashionMnistModelReg(nn.Module):\n",
        "    \"\"\"Feedfoward neural network with 2 Cnn blocks and 1 hidden layer\"\"\"\n",
        "    def __init__(self, in_channels, hidden_units, out_channels):\n",
        "        super(FashionMnistModelReg, self).__init__()\n",
        "        # Input starts with (28,28)\n",
        "        # each conv block is like [conv->relu->conv->relu->maxpool]\n",
        "\n",
        "        self.block1 = nn.Sequential(\n",
        "            nn.Conv2d(in_channels = in_channels,\n",
        "                      out_channels = hidden_units,\n",
        "                      kernel_size=(3,3),\n",
        "                      stride=1,\n",
        "                      padding=0), #(26,26,HDUN)\n",
        "            nn.ReLU(),\n",
        "            nn.Conv2d(in_channels = hidden_units,\n",
        "                      out_channels= hidden_units,\n",
        "                      kernel_size=(3,3),\n",
        "                      stride=1,\n",
        "                      padding=0\n",
        "            ), #(24,24,HDUN)\n",
        "            nn.ReLU(),\n",
        "            nn.MaxPool2d(kernel_size=(2,2),\n",
        "                         stride=(2,2)) #(12,12,HDUN)\n",
        "        )\n",
        "\n",
        "        self.block2 = nn.Sequential(\n",
        "            nn.Conv2d(in_channels = hidden_units,\n",
        "                      out_channels = hidden_units,\n",
        "                      kernel_size=(3,3),\n",
        "                      stride=1,\n",
        "                      padding=0), #(10,10,HDUN)\n",
        "\n",
        "            nn.ReLU(),\n",
        "            nn.Conv2d(in_channels = hidden_units,\n",
        "                      out_channels =hidden_units,\n",
        "                      kernel_size=(3,3),\n",
        "                      stride=1,\n",
        "                      padding=0), #(8,8,HDUN)\n",
        "            nn.ReLU(),\n",
        "            nn.MaxPool2d(kernel_size=(2,2),\n",
        "                         stride=(2,2)) #(4,4,HDUN)\n",
        "        )\n",
        "\n",
        "        self.classifier = nn.Sequential(\n",
        "            nn.Flatten(),\n",
        "            nn.Linear(4*4*hidden_units, out_channels)\n",
        "        )\n",
        "\n",
        "    def forward(self, x):\n",
        "      \"\"\"Forward propagation\"\"\"\n",
        "      x = self.block1(x)\n",
        "      x = self.block2(x)\n",
        "      x = self.classifier(x)\n",
        "\n",
        "      return x\n",
        "\n",
        "    def l1_loss(self, w):\n",
        "      \"\"\"Compute l1 loss\"\"\"\n",
        "      return torch.abs(w).sum()\n",
        "\n",
        "    def l2_loss(self, w):\n",
        "      \"\"\"Compute l2 loss\"\"\"\n",
        "      return torch.square(w).sum()"
      ],
      "metadata": {
        "id": "aRPT5Ziiy2K4"
      },
      "execution_count": 31,
      "outputs": []
    },
    {
      "cell_type": "code",
      "source": [
        "# l2_parameters = []\n",
        "# for parameter in fas_model2.parameters():\n",
        "#   print(parameter.shape)\n",
        "#   print(parameter.view(-1).shape)\n",
        "#   # print(parameter.flatten().shape) #same as abv\n",
        "#   l2_parameters.append(parameter.view(-1))\n",
        "\n",
        "# fas_model2.l1_loss(torch.cat(l2_parameters))"
      ],
      "metadata": {
        "id": "jjxIYMHZPZlF"
      },
      "execution_count": 32,
      "outputs": []
    },
    {
      "cell_type": "code",
      "source": [],
      "metadata": {
        "id": "Pzy-4DZeZazX"
      },
      "execution_count": 32,
      "outputs": []
    },
    {
      "cell_type": "code",
      "source": [
        "def regularization(model , reg_type, reg_coeff):\n",
        "  loss_params = []\n",
        "  for parameter in model.parameters():\n",
        "    loss_params.append(parameter.view(-1))\n",
        "\n",
        "  if reg_type == \"l1\":\n",
        "    reg_factor = reg_coeff * model.l1_loss(torch.cat(loss_params))\n",
        "    return reg_factor\n",
        "  elif reg_type == \"l2\":\n",
        "    reg_factor = reg_coeff * model.l2_loss(torch.cat(loss_params))\n",
        "    return reg_factor\n",
        "  elif reg_type is None:\n",
        "    return 0"
      ],
      "metadata": {
        "id": "ovzj2cKNQJCa"
      },
      "execution_count": 17,
      "outputs": []
    },
    {
      "cell_type": "code",
      "source": [
        "# updated training module---\n",
        "@timeit\n",
        "def train_module(model:torch.nn.Module,\n",
        "                 device:torch.device,\n",
        "                 train_dataloader:torch.utils.data.DataLoader ,\n",
        "                 optimizer:torch.optim.Optimizer,\n",
        "                 criterion:torch.nn.Module,\n",
        "                 metric,\n",
        "                 train_losses:list,\n",
        "                 train_metrics:list,\n",
        "                 reg_type:str,\n",
        "                 reg_coeff:float):\n",
        "\n",
        "  # setting model to train mode\n",
        "  model.train()\n",
        "  pbar = tqdm(train_dataloader)\n",
        "\n",
        "  # batch metrics\n",
        "  train_loss = 0\n",
        "  train_metric = 0\n",
        "  processed_batch = 0\n",
        "\n",
        "  for idx, (data,label) in enumerate(pbar):\n",
        "    # setting up device\n",
        "    data = data.to(device)\n",
        "    label = label.to(device)\n",
        "\n",
        "    # forward pass output\n",
        "    preds = model(data)\n",
        "\n",
        "    # calc loss\n",
        "    loss = criterion(preds, label)\n",
        "    # regularization\n",
        "    reg_factor = regularization(model, reg_type, reg_coeff)\n",
        "    loss += reg_factor\n",
        "    train_loss += loss.item()\n",
        "    # print(f\"training loss for batch {idx} is {loss}\")\n",
        "\n",
        "\n",
        "    # backpropagation\n",
        "    optimizer.zero_grad() # flush out  existing grads\n",
        "    loss.backward() # back prop of weights wrt loss\n",
        "    optimizer.step() # optimizer step -> minima\n",
        "\n",
        "    # metric calc\n",
        "    preds = torch.argmax(preds,dim=1)\n",
        "    # print(f\"preds:: {preds}\")\n",
        "    metric.update(preds,label)\n",
        "    train_metric += metric.compute().detach().item()\n",
        "\n",
        "    #updating batch count\n",
        "    processed_batch += 1\n",
        "\n",
        "    pbar.set_description(f\"Avg Train Loss: {train_loss/processed_batch} Avg Train Metric: {train_metric/processed_batch}\")\n",
        "\n",
        "  # It's typically called after the epoch completes\n",
        "  metric.reset()\n",
        "  # updating epoch metrics\n",
        "  train_losses.append(train_loss/processed_batch)\n",
        "  train_metrics.append(train_metric/processed_batch)\n",
        "\n",
        "  return train_losses, train_metrics\n"
      ],
      "metadata": {
        "id": "zzwyDGjzPkSk"
      },
      "execution_count": 18,
      "outputs": []
    },
    {
      "cell_type": "code",
      "source": [
        "@timeit\n",
        "def test_module(model:torch.nn.Module,\n",
        "                device:torch.device,\n",
        "                test_dataloader:torch.utils.data.DataLoader,\n",
        "                criterion:torch.nn.Module,\n",
        "                metric,\n",
        "                test_losses,\n",
        "                test_metrics):\n",
        "  # setting model to eval mode\n",
        "  model.eval()\n",
        "  pbar = tqdm(test_dataloader)\n",
        "\n",
        "  # batch metrics\n",
        "  test_loss = 0\n",
        "  test_metric = 0\n",
        "  processed_batch = 0\n",
        "\n",
        "  with torch.inference_mode():\n",
        "    for idx, (data,label) in enumerate(pbar):\n",
        "      data , label = data.to(device), label.to(device)\n",
        "      # predictions\n",
        "      preds = model(data)\n",
        "      # print(preds.shape)\n",
        "      # print(label.shape)\n",
        "\n",
        "      #loss calc\n",
        "      loss = criterion(preds, label)\n",
        "      # no need for calculating regularization\n",
        "      test_loss += loss.item()\n",
        "\n",
        "      # metric calc\n",
        "      preds = torch.argmax(preds,dim=1)\n",
        "      metric.update(preds,label)\n",
        "      test_metric += metric.compute().detach().item()\n",
        "\n",
        "      #updating batch count\n",
        "      processed_batch += 1\n",
        "\n",
        "      pbar.set_description(f\"Avg Test Loss: {test_loss/processed_batch} Avg Test Metric: {test_metric/processed_batch}\")\n",
        "\n",
        "    # It's typically called after the epoch completes\n",
        "    metric.reset()\n",
        "    # updating epoch metrics\n",
        "    test_losses.append(test_loss/processed_batch)\n",
        "    test_metrics.append(test_metric/processed_batch)\n",
        "\n",
        "  return test_losses, test_metrics"
      ],
      "metadata": {
        "id": "JOZ-0r1-y2HT"
      },
      "execution_count": 19,
      "outputs": []
    },
    {
      "cell_type": "code",
      "source": [
        "fas_model2 = FashionMnistModelReg(in_channels=1,\n",
        "                               hidden_units=8,\n",
        "                               out_channels=10)\n",
        "fas_model2.to(device)"
      ],
      "metadata": {
        "colab": {
          "base_uri": "https://localhost:8080/"
        },
        "id": "LpIAtEAGPVPJ",
        "outputId": "ffa7921f-0e18-4352-df66-1ee1c6494922"
      },
      "execution_count": 36,
      "outputs": [
        {
          "output_type": "execute_result",
          "data": {
            "text/plain": [
              "FashionMnistModelReg(\n",
              "  (block1): Sequential(\n",
              "    (0): Conv2d(1, 8, kernel_size=(3, 3), stride=(1, 1))\n",
              "    (1): ReLU()\n",
              "    (2): Conv2d(8, 8, kernel_size=(3, 3), stride=(1, 1))\n",
              "    (3): ReLU()\n",
              "    (4): MaxPool2d(kernel_size=(2, 2), stride=(2, 2), padding=0, dilation=1, ceil_mode=False)\n",
              "  )\n",
              "  (block2): Sequential(\n",
              "    (0): Conv2d(8, 8, kernel_size=(3, 3), stride=(1, 1))\n",
              "    (1): ReLU()\n",
              "    (2): Conv2d(8, 8, kernel_size=(3, 3), stride=(1, 1))\n",
              "    (3): ReLU()\n",
              "    (4): MaxPool2d(kernel_size=(2, 2), stride=(2, 2), padding=0, dilation=1, ceil_mode=False)\n",
              "  )\n",
              "  (classifier): Sequential(\n",
              "    (0): Flatten(start_dim=1, end_dim=-1)\n",
              "    (1): Linear(in_features=128, out_features=10, bias=True)\n",
              "  )\n",
              ")"
            ]
          },
          "metadata": {},
          "execution_count": 36
        }
      ]
    },
    {
      "cell_type": "code",
      "source": [
        "summary(fas_model2, (1,28,28))"
      ],
      "metadata": {
        "colab": {
          "base_uri": "https://localhost:8080/"
        },
        "id": "rdH7DFJMXUPA",
        "outputId": "ae2f3240-bec6-4bdc-a330-423fb974675b"
      },
      "execution_count": 37,
      "outputs": [
        {
          "output_type": "stream",
          "name": "stdout",
          "text": [
            "----------------------------------------------------------------\n",
            "        Layer (type)               Output Shape         Param #\n",
            "================================================================\n",
            "            Conv2d-1            [-1, 8, 26, 26]              80\n",
            "              ReLU-2            [-1, 8, 26, 26]               0\n",
            "            Conv2d-3            [-1, 8, 24, 24]             584\n",
            "              ReLU-4            [-1, 8, 24, 24]               0\n",
            "         MaxPool2d-5            [-1, 8, 12, 12]               0\n",
            "            Conv2d-6            [-1, 8, 10, 10]             584\n",
            "              ReLU-7            [-1, 8, 10, 10]               0\n",
            "            Conv2d-8              [-1, 8, 8, 8]             584\n",
            "              ReLU-9              [-1, 8, 8, 8]               0\n",
            "        MaxPool2d-10              [-1, 8, 4, 4]               0\n",
            "          Flatten-11                  [-1, 128]               0\n",
            "           Linear-12                   [-1, 10]           1,290\n",
            "================================================================\n",
            "Total params: 3,122\n",
            "Trainable params: 3,122\n",
            "Non-trainable params: 0\n",
            "----------------------------------------------------------------\n",
            "Input size (MB): 0.00\n",
            "Forward/backward pass size (MB): 0.18\n",
            "Params size (MB): 0.01\n",
            "Estimated Total Size (MB): 0.20\n",
            "----------------------------------------------------------------\n"
          ]
        }
      ]
    },
    {
      "cell_type": "code",
      "source": [
        "# driver setup\n",
        "reg_type=\"l2\"\n",
        "reg_coeff=0.001\n",
        "if reg_type is not None:\n",
        "  optimizer = optim.Adam(fas_model2.parameters(), lr=lr)\n",
        "else:\n",
        "  # adding l2 reg within optimizer only 3 works exactly same as adding l2 loss with the actual loss\n",
        "  optimizer = optim.Adam(fas_model2.parameters(), lr=lr, weight_decay=0.001)\n",
        "criterion = nn.CrossEntropyLoss()\n",
        "metric = MulticlassAccuracy(device = device, num_classes=10)"
      ],
      "metadata": {
        "id": "D20QTGQay2Ab"
      },
      "execution_count": 38,
      "outputs": []
    },
    {
      "cell_type": "code",
      "source": [
        "# Place holders----\n",
        "train_losses = []\n",
        "train_metrics = []\n",
        "test_losses = []\n",
        "test_metrics = []\n",
        "\n",
        "for epoch in range(0,epochs):\n",
        "  print(f'Epoch {epoch}')\n",
        "  train_losses, train_metrics = train_module(fas_model2, device, train_loader, optimizer, criterion, metric, train_losses, train_metrics, reg_type, reg_coeff)\n",
        "  test_losses , test_metrics = test_module(fas_model2, device, test_loader, criterion, metric, test_losses, test_metrics)"
      ],
      "metadata": {
        "colab": {
          "base_uri": "https://localhost:8080/"
        },
        "id": "tMtDVgB3y16-",
        "outputId": "3096331b-745e-452d-90fd-659fa33360de"
      },
      "execution_count": 39,
      "outputs": [
        {
          "output_type": "stream",
          "name": "stdout",
          "text": [
            "Epoch 0\n"
          ]
        },
        {
          "output_type": "stream",
          "name": "stderr",
          "text": [
            "Avg Train Loss: 0.8713298304629987 Avg Train Metric: 0.5428468260620194: 100%|██████████| 469/469 [00:15<00:00, 29.45it/s]\n"
          ]
        },
        {
          "output_type": "stream",
          "name": "stdout",
          "text": [
            "Function Took 15.9320 seconds\n"
          ]
        },
        {
          "output_type": "stream",
          "name": "stderr",
          "text": [
            "Avg Test Loss: 0.6091791579994974 Avg Test Metric: 0.7600521196292925: 100%|██████████| 79/79 [00:01<00:00, 58.98it/s]\n"
          ]
        },
        {
          "output_type": "stream",
          "name": "stdout",
          "text": [
            "Function Took 1.3481 seconds\n",
            "Epoch 1\n"
          ]
        },
        {
          "output_type": "stream",
          "name": "stderr",
          "text": [
            "Avg Train Loss: 0.5706821095460514 Avg Train Metric: 0.7850807274836721: 100%|██████████| 469/469 [00:12<00:00, 38.31it/s]\n"
          ]
        },
        {
          "output_type": "stream",
          "name": "stdout",
          "text": [
            "Function Took 12.2531 seconds\n"
          ]
        },
        {
          "output_type": "stream",
          "name": "stderr",
          "text": [
            "Avg Test Loss: 0.5320038369184807 Avg Test Metric: 0.7964830315565761: 100%|██████████| 79/79 [00:01<00:00, 56.10it/s]\n"
          ]
        },
        {
          "output_type": "stream",
          "name": "stdout",
          "text": [
            "Function Took 1.4141 seconds\n",
            "Epoch 2\n"
          ]
        },
        {
          "output_type": "stream",
          "name": "stderr",
          "text": [
            "Avg Train Loss: 0.5151833326323454 Avg Train Metric: 0.816907601315838: 100%|██████████| 469/469 [00:12<00:00, 38.33it/s]\n"
          ]
        },
        {
          "output_type": "stream",
          "name": "stdout",
          "text": [
            "Function Took 12.2447 seconds\n"
          ]
        },
        {
          "output_type": "stream",
          "name": "stderr",
          "text": [
            "Avg Test Loss: 0.4915153387981125 Avg Test Metric: 0.8173137020461166: 100%|██████████| 79/79 [00:01<00:00, 50.92it/s]\n"
          ]
        },
        {
          "output_type": "stream",
          "name": "stdout",
          "text": [
            "Function Took 1.5586 seconds\n",
            "Epoch 3\n"
          ]
        },
        {
          "output_type": "stream",
          "name": "stderr",
          "text": [
            "Avg Train Loss: 0.48847523674781895 Avg Train Metric: 0.8322561285389003: 100%|██████████| 469/469 [00:12<00:00, 39.00it/s]\n"
          ]
        },
        {
          "output_type": "stream",
          "name": "stdout",
          "text": [
            "Function Took 12.0357 seconds\n"
          ]
        },
        {
          "output_type": "stream",
          "name": "stderr",
          "text": [
            "Avg Test Loss: 0.4535052036937279 Avg Test Metric: 0.8379247920422614: 100%|██████████| 79/79 [00:01<00:00, 47.70it/s]\n"
          ]
        },
        {
          "output_type": "stream",
          "name": "stdout",
          "text": [
            "Function Took 1.6631 seconds\n",
            "Epoch 4\n"
          ]
        },
        {
          "output_type": "stream",
          "name": "stderr",
          "text": [
            "Avg Train Loss: 0.4699268808115774 Avg Train Metric: 0.8446049139952101: 100%|██████████| 469/469 [00:12<00:00, 37.59it/s]\n"
          ]
        },
        {
          "output_type": "stream",
          "name": "stdout",
          "text": [
            "Function Took 12.4852 seconds\n"
          ]
        },
        {
          "output_type": "stream",
          "name": "stderr",
          "text": [
            "Avg Test Loss: 0.44016523187673545 Avg Test Metric: 0.832497645782519: 100%|██████████| 79/79 [00:01<00:00, 45.16it/s]\n"
          ]
        },
        {
          "output_type": "stream",
          "name": "stdout",
          "text": [
            "Function Took 1.7569 seconds\n",
            "Epoch 5\n"
          ]
        },
        {
          "output_type": "stream",
          "name": "stderr",
          "text": [
            "Avg Train Loss: 0.4564101000203253 Avg Train Metric: 0.8468904604535621: 100%|██████████| 469/469 [00:11<00:00, 39.29it/s]\n"
          ]
        },
        {
          "output_type": "stream",
          "name": "stdout",
          "text": [
            "Function Took 11.9455 seconds\n"
          ]
        },
        {
          "output_type": "stream",
          "name": "stderr",
          "text": [
            "Avg Test Loss: 0.41955337758305705 Avg Test Metric: 0.8507383827921711: 100%|██████████| 79/79 [00:01<00:00, 43.24it/s]\n"
          ]
        },
        {
          "output_type": "stream",
          "name": "stdout",
          "text": [
            "Function Took 1.8343 seconds\n",
            "Epoch 6\n"
          ]
        },
        {
          "output_type": "stream",
          "name": "stderr",
          "text": [
            "Avg Train Loss: 0.4446557305896206 Avg Train Metric: 0.8508168963481114: 100%|██████████| 469/469 [00:12<00:00, 37.90it/s]\n"
          ]
        },
        {
          "output_type": "stream",
          "name": "stdout",
          "text": [
            "Function Took 12.3803 seconds\n"
          ]
        },
        {
          "output_type": "stream",
          "name": "stderr",
          "text": [
            "Avg Test Loss: 0.4026242404044429 Avg Test Metric: 0.8585440478747404: 100%|██████████| 79/79 [00:01<00:00, 43.82it/s]\n"
          ]
        },
        {
          "output_type": "stream",
          "name": "stdout",
          "text": [
            "Function Took 1.8112 seconds\n",
            "Epoch 7\n"
          ]
        },
        {
          "output_type": "stream",
          "name": "stderr",
          "text": [
            "Avg Train Loss: 0.43330325148125953 Avg Train Metric: 0.857038212229194: 100%|██████████| 469/469 [00:13<00:00, 35.96it/s]\n"
          ]
        },
        {
          "output_type": "stream",
          "name": "stdout",
          "text": [
            "Function Took 13.0470 seconds\n"
          ]
        },
        {
          "output_type": "stream",
          "name": "stderr",
          "text": [
            "Avg Test Loss: 0.4155602892742881 Avg Test Metric: 0.8476296218135689: 100%|██████████| 79/79 [00:01<00:00, 57.50it/s]\n"
          ]
        },
        {
          "output_type": "stream",
          "name": "stdout",
          "text": [
            "Function Took 1.3819 seconds\n",
            "Epoch 8\n"
          ]
        },
        {
          "output_type": "stream",
          "name": "stderr",
          "text": [
            "Avg Train Loss: 0.42551867381087755 Avg Train Metric: 0.8618694041837761: 100%|██████████| 469/469 [00:12<00:00, 38.28it/s]\n"
          ]
        },
        {
          "output_type": "stream",
          "name": "stdout",
          "text": [
            "Function Took 12.2602 seconds\n"
          ]
        },
        {
          "output_type": "stream",
          "name": "stderr",
          "text": [
            "Avg Test Loss: 0.40933259114434445 Avg Test Metric: 0.8511865508707264: 100%|██████████| 79/79 [00:01<00:00, 58.93it/s]\n"
          ]
        },
        {
          "output_type": "stream",
          "name": "stdout",
          "text": [
            "Function Took 1.3494 seconds\n",
            "Epoch 9\n"
          ]
        },
        {
          "output_type": "stream",
          "name": "stderr",
          "text": [
            "Avg Train Loss: 0.4196040359005999 Avg Train Metric: 0.8668960687448221: 100%|██████████| 469/469 [00:12<00:00, 38.65it/s]\n"
          ]
        },
        {
          "output_type": "stream",
          "name": "stdout",
          "text": [
            "Function Took 12.1430 seconds\n"
          ]
        },
        {
          "output_type": "stream",
          "name": "stderr",
          "text": [
            "Avg Test Loss: 0.396529040853434 Avg Test Metric: 0.8563358663003656: 100%|██████████| 79/79 [00:01<00:00, 60.52it/s]"
          ]
        },
        {
          "output_type": "stream",
          "name": "stdout",
          "text": [
            "Function Took 1.3146 seconds\n"
          ]
        },
        {
          "output_type": "stream",
          "name": "stderr",
          "text": [
            "\n"
          ]
        }
      ]
    },
    {
      "cell_type": "code",
      "source": [
        "plot_loss_accuracy(train_loss= [train_losses],\n",
        "                   val_loss= [test_losses],\n",
        "                   train_acc= [train_metrics],\n",
        "                   val_acc= [test_metrics],\n",
        "                   labels=['BasicModel+Reg'],\n",
        "                   colors=['blue'],\n",
        "                   loss_legend_loc='upper center',\n",
        "                   acc_legend_loc='upper left')"
      ],
      "metadata": {
        "colab": {
          "base_uri": "https://localhost:8080/",
          "height": 534
        },
        "id": "hiHVckczk9-E",
        "outputId": "bb2ce651-ff92-48e2-eb43-e85fa3a95729"
      },
      "execution_count": 40,
      "outputs": [
        {
          "output_type": "display_data",
          "data": {
            "text/plain": [
              "<Figure size 1600x800 with 2 Axes>"
            ],
            "image/png": "[encoded data removed]"
          },
          "metadata": {}
        }
      ]
    },
    {
      "cell_type": "markdown",
      "source": [
        "## DROPOUTS\n",
        "\n",
        "Dropout is a technique where randomly selected neurons are ignored during training. They are “dropped-out” randomly. This means that their contribution to the activation of downstream neurons is temporally removed on the forward pass and any weight updates are not applied to the neuron on the backward pass.\n",
        "\n",
        "In PyTorch, the dropout layer further scale the resulting tensor by a factor of 1/(1-p),\n",
        "so the average tensor value is maintained. Thanks to this scaling, the dropout layer operates at inference will be an identify function (i.e., no effect, simply copy over the input tensor as output tensor). You should make sure to turn the model into inference mode when evaluating the the model.\n",
        "\n",
        "https://medium.com/artificialis/dropout-regularization-using-pytorch-in-python-7765337cb158\n",
        "\n",
        "https://machinelearningmastery.com/using-dropout-regularization-in-pytorch-models/"
      ],
      "metadata": {
        "id": "VqOz2tjqVzCx"
      }
    },
    {
      "cell_type": "code",
      "source": [
        "class FashionMnistModelRegDropout(nn.Module):\n",
        "    \"\"\"Feedfoward neural network with 2 Cnn blocks and 1 hidden layer\"\"\"\n",
        "    def __init__(self, in_channels, hidden_units, out_channels):\n",
        "        super(FashionMnistModelRegDropout, self).__init__()\n",
        "        # Input starts with (28,28)\n",
        "        # each conv block is like [conv->relu->conv->relu->maxpool]\n",
        "\n",
        "        self.block1 = nn.Sequential(\n",
        "            nn.Conv2d(in_channels = in_channels,\n",
        "                      out_channels = hidden_units,\n",
        "                      kernel_size=(3,3),\n",
        "                      stride=1,\n",
        "                     padding=0), #(26,26,HDUN)\n",
        "            nn.ReLU(),\n",
        "            nn.Dropout(p=0.1),\n",
        "            nn.Conv2d(in_channels = hidden_units,\n",
        "                      out_channels= hidden_units,\n",
        "                      kernel_size=(3,3),\n",
        "                      stride=1,\n",
        "                      padding=0\n",
        "            ), #(24,24,HDUN)\n",
        "            nn.ReLU(),\n",
        "            nn.Dropout(p=0.1), # droputs after activation function\n",
        "            nn.MaxPool2d(kernel_size=(2,2),\n",
        "                         stride=(2,2)) #(12,12,HDUN)\n",
        "        )\n",
        "\n",
        "        self.block2 = nn.Sequential(\n",
        "            nn.Conv2d(in_channels = hidden_units,\n",
        "                      out_channels = hidden_units,\n",
        "                      kernel_size=(3,3),\n",
        "                      stride=1,\n",
        "                      padding=0), #(10,10,HDUN)\n",
        "            nn.ReLU(),\n",
        "            nn.Dropout(p=0.1),\n",
        "            nn.Conv2d(in_channels = hidden_units,\n",
        "                      out_channels =hidden_units,\n",
        "                      kernel_size=(3,3),\n",
        "                      stride=1,\n",
        "                      padding=0), #(8,8,HDUN)\n",
        "            nn.ReLU(),\n",
        "            nn.Dropout(p=0.1),\n",
        "            nn.MaxPool2d(kernel_size=(2,2),\n",
        "                         stride=(2,2)) #(4,4,HDUN)\n",
        "        )\n",
        "\n",
        "        self.classifier = nn.Sequential(\n",
        "            nn.Flatten(),\n",
        "            nn.Linear(4*4*hidden_units, out_channels)\n",
        "        )\n",
        "\n",
        "        self.dropout = nn.Dropout(p=0.1)\n",
        "\n",
        "    def forward(self, x):\n",
        "      \"\"\"Forward propagation\"\"\"\n",
        "      x = self.block1(x)\n",
        "      x = self.block2(x)\n",
        "      x = self.classifier(x)\n",
        "\n",
        "      return x\n",
        "\n",
        "    def l1_loss(self, w):\n",
        "      \"\"\"Compute l1 loss\"\"\"\n",
        "      return torch.abs(w).sum()\n",
        "\n",
        "    def l2_loss(self, w):\n",
        "      \"\"\"Compute l2 loss\"\"\"\n",
        "      return torch.square(w).sum()"
      ],
      "metadata": {
        "id": "HkbfZh7GVzJ4"
      },
      "execution_count": 30,
      "outputs": []
    },
    {
      "cell_type": "code",
      "source": [
        "fas_model3 = FashionMnistModelRegDropout(in_channels=1,\n",
        "                                          hidden_units=8,\n",
        "                                          out_channels=10).to(device)"
      ],
      "metadata": {
        "id": "3Jj6sC-tggMg"
      },
      "execution_count": 31,
      "outputs": []
    },
    {
      "cell_type": "code",
      "source": [
        "# driver setup\n",
        "reg_type=\"l2\"\n",
        "reg_coeff=0.0001\n",
        "if reg_type is not None:\n",
        "  optimizer = optim.Adam(fas_model3.parameters(), lr=lr)\n",
        "else:\n",
        "  # adding l2 reg within optimizer only 3 works exactly same as adding l2 loss with the actual loss\n",
        "  optimizer = optim.Adam(fas_model3.parameters(), lr=lr, weight_decay=reg_coeff)\n",
        "criterion = nn.CrossEntropyLoss()\n",
        "metric = MulticlassAccuracy(device = device, num_classes=10)"
      ],
      "metadata": {
        "id": "_rjA64UyVzQB"
      },
      "execution_count": 32,
      "outputs": []
    },
    {
      "cell_type": "code",
      "source": [
        "# Place holders----\n",
        "train_losses = []\n",
        "train_metrics = []\n",
        "test_losses = []\n",
        "test_metrics = []\n",
        "\n",
        "for epoch in range(0,epochs):\n",
        "  print(f'Epoch {epoch}')\n",
        "  train_losses, train_metrics = train_module(fas_model3, device, train_loader, optimizer, criterion, metric, train_losses, train_metrics, reg_type, reg_coeff)\n",
        "  test_losses , test_metrics = test_module(fas_model3, device, test_loader, criterion, metric, test_losses, test_metrics)"
      ],
      "metadata": {
        "colab": {
          "base_uri": "https://localhost:8080/"
        },
        "id": "IJcId66uVzXH",
        "outputId": "db40918c-0aed-4192-b57b-0cb8d5dde006"
      },
      "execution_count": 33,
      "outputs": [
        {
          "output_type": "stream",
          "name": "stdout",
          "text": [
            "Epoch 0\n"
          ]
        },
        {
          "output_type": "stream",
          "name": "stderr",
          "text": [
            "Avg Train Loss: 0.908041750762 Avg Train Metric: 0.5081525746979185: 100%|██████████| 469/469 [00:12<00:00, 38.30it/s]\n"
          ]
        },
        {
          "output_type": "stream",
          "name": "stdout",
          "text": [
            "Function Took 12.2564 seconds\n"
          ]
        },
        {
          "output_type": "stream",
          "name": "stderr",
          "text": [
            "Avg Test Loss: 0.6895291341256492 Avg Test Metric: 0.7645623472672475: 100%|██████████| 79/79 [00:01<00:00, 44.60it/s]\n"
          ]
        },
        {
          "output_type": "stream",
          "name": "stdout",
          "text": [
            "Function Took 1.7808 seconds\n",
            "Epoch 1\n"
          ]
        },
        {
          "output_type": "stream",
          "name": "stderr",
          "text": [
            "Avg Train Loss: 0.5957401349092089 Avg Train Metric: 0.7676851524473: 100%|██████████| 469/469 [00:12<00:00, 38.94it/s]\n"
          ]
        },
        {
          "output_type": "stream",
          "name": "stdout",
          "text": [
            "Function Took 12.0526 seconds\n"
          ]
        },
        {
          "output_type": "stream",
          "name": "stderr",
          "text": [
            "Avg Test Loss: 0.586409248128722 Avg Test Metric: 0.797388546074493: 100%|██████████| 79/79 [00:01<00:00, 47.07it/s]\n"
          ]
        },
        {
          "output_type": "stream",
          "name": "stdout",
          "text": [
            "Function Took 1.6847 seconds\n",
            "Epoch 2\n"
          ]
        },
        {
          "output_type": "stream",
          "name": "stderr",
          "text": [
            "Avg Train Loss: 0.5460335901424066 Avg Train Metric: 0.7956278072491384: 100%|██████████| 469/469 [00:12<00:00, 38.60it/s]\n"
          ]
        },
        {
          "output_type": "stream",
          "name": "stdout",
          "text": [
            "Function Took 12.1593 seconds\n"
          ]
        },
        {
          "output_type": "stream",
          "name": "stderr",
          "text": [
            "Avg Test Loss: 0.5407853960236416 Avg Test Metric: 0.8089435010016719: 100%|██████████| 79/79 [00:01<00:00, 44.31it/s]\n"
          ]
        },
        {
          "output_type": "stream",
          "name": "stdout",
          "text": [
            "Function Took 1.7899 seconds\n",
            "Epoch 3\n"
          ]
        },
        {
          "output_type": "stream",
          "name": "stderr",
          "text": [
            "Avg Train Loss: 0.5125253164310699 Avg Train Metric: 0.8079709521234671: 100%|██████████| 469/469 [00:12<00:00, 38.96it/s]\n"
          ]
        },
        {
          "output_type": "stream",
          "name": "stdout",
          "text": [
            "Function Took 12.0464 seconds\n"
          ]
        },
        {
          "output_type": "stream",
          "name": "stderr",
          "text": [
            "Avg Test Loss: 0.49707211044770255 Avg Test Metric: 0.8261135839208772: 100%|██████████| 79/79 [00:01<00:00, 45.26it/s]\n"
          ]
        },
        {
          "output_type": "stream",
          "name": "stdout",
          "text": [
            "Function Took 1.7572 seconds\n",
            "Epoch 4\n"
          ]
        },
        {
          "output_type": "stream",
          "name": "stderr",
          "text": [
            "Avg Train Loss: 0.48627725364302776 Avg Train Metric: 0.8210216212882671: 100%|██████████| 469/469 [00:13<00:00, 35.05it/s]\n"
          ]
        },
        {
          "output_type": "stream",
          "name": "stdout",
          "text": [
            "Function Took 13.3884 seconds\n"
          ]
        },
        {
          "output_type": "stream",
          "name": "stderr",
          "text": [
            "Avg Test Loss: 0.4731389812276333 Avg Test Metric: 0.8308931770203989: 100%|██████████| 79/79 [00:01<00:00, 59.42it/s]\n"
          ]
        },
        {
          "output_type": "stream",
          "name": "stdout",
          "text": [
            "Function Took 1.3362 seconds\n",
            "Epoch 5\n"
          ]
        },
        {
          "output_type": "stream",
          "name": "stderr",
          "text": [
            "Avg Train Loss: 0.4647477399438683 Avg Train Metric: 0.8295469013358484: 100%|██████████| 469/469 [00:12<00:00, 37.79it/s]\n"
          ]
        },
        {
          "output_type": "stream",
          "name": "stdout",
          "text": [
            "Function Took 12.4222 seconds\n"
          ]
        },
        {
          "output_type": "stream",
          "name": "stderr",
          "text": [
            "Avg Test Loss: 0.46037776334376274 Avg Test Metric: 0.8385181291193902: 100%|██████████| 79/79 [00:01<00:00, 58.32it/s]\n"
          ]
        },
        {
          "output_type": "stream",
          "name": "stdout",
          "text": [
            "Function Took 1.3624 seconds\n",
            "Epoch 6\n"
          ]
        },
        {
          "output_type": "stream",
          "name": "stderr",
          "text": [
            "Avg Train Loss: 0.44495535640320033 Avg Train Metric: 0.8373565161660281: 100%|██████████| 469/469 [00:12<00:00, 38.02it/s]\n"
          ]
        },
        {
          "output_type": "stream",
          "name": "stdout",
          "text": [
            "Function Took 12.3439 seconds\n"
          ]
        },
        {
          "output_type": "stream",
          "name": "stderr",
          "text": [
            "Avg Test Loss: 0.4439464305775075 Avg Test Metric: 0.8485947832276549: 100%|██████████| 79/79 [00:01<00:00, 58.23it/s]\n"
          ]
        },
        {
          "output_type": "stream",
          "name": "stdout",
          "text": [
            "Function Took 1.3654 seconds\n",
            "Epoch 7\n"
          ]
        },
        {
          "output_type": "stream",
          "name": "stderr",
          "text": [
            "Avg Train Loss: 0.4335214334891549 Avg Train Metric: 0.8424015650108679: 100%|██████████| 469/469 [00:12<00:00, 37.92it/s]\n"
          ]
        },
        {
          "output_type": "stream",
          "name": "stdout",
          "text": [
            "Function Took 12.3783 seconds\n"
          ]
        },
        {
          "output_type": "stream",
          "name": "stderr",
          "text": [
            "Avg Test Loss: 0.43770020521139796 Avg Test Metric: 0.8576116033747226: 100%|██████████| 79/79 [00:01<00:00, 59.35it/s]\n"
          ]
        },
        {
          "output_type": "stream",
          "name": "stdout",
          "text": [
            "Function Took 1.3396 seconds\n",
            "Epoch 8\n"
          ]
        },
        {
          "output_type": "stream",
          "name": "stderr",
          "text": [
            "Avg Train Loss: 0.4238172521723359 Avg Train Metric: 0.846391929492259: 100%|██████████| 469/469 [00:12<00:00, 38.07it/s]\n"
          ]
        },
        {
          "output_type": "stream",
          "name": "stdout",
          "text": [
            "Function Took 12.3288 seconds\n"
          ]
        },
        {
          "output_type": "stream",
          "name": "stderr",
          "text": [
            "Avg Test Loss: 0.41730561399761634 Avg Test Metric: 0.8568222620819188: 100%|██████████| 79/79 [00:01<00:00, 59.61it/s]\n"
          ]
        },
        {
          "output_type": "stream",
          "name": "stdout",
          "text": [
            "Function Took 1.3319 seconds\n",
            "Epoch 9\n"
          ]
        },
        {
          "output_type": "stream",
          "name": "stderr",
          "text": [
            "Avg Train Loss: 0.4141222570877848 Avg Train Metric: 0.8513356358257692: 100%|██████████| 469/469 [00:12<00:00, 37.76it/s]\n"
          ]
        },
        {
          "output_type": "stream",
          "name": "stdout",
          "text": [
            "Function Took 12.4309 seconds\n"
          ]
        },
        {
          "output_type": "stream",
          "name": "stderr",
          "text": [
            "Avg Test Loss: 0.4087710629535627 Avg Test Metric: 0.8617426451248459: 100%|██████████| 79/79 [00:01<00:00, 58.75it/s]"
          ]
        },
        {
          "output_type": "stream",
          "name": "stdout",
          "text": [
            "Function Took 1.3515 seconds\n"
          ]
        },
        {
          "output_type": "stream",
          "name": "stderr",
          "text": [
            "\n"
          ]
        }
      ]
    },
    {
      "cell_type": "code",
      "source": [
        "plot_loss_accuracy(train_loss= [train_losses],\n",
        "                   val_loss= [test_losses],\n",
        "                   train_acc= [train_metrics],\n",
        "                   val_acc= [test_metrics],\n",
        "                   labels=['Basic+Reg+Droputs'],\n",
        "                   colors=['blue'],\n",
        "                   loss_legend_loc='upper center',\n",
        "                   acc_legend_loc='upper left')"
      ],
      "metadata": {
        "colab": {
          "base_uri": "https://localhost:8080/",
          "height": 534
        },
        "id": "rZJ0kzmdVzjZ",
        "outputId": "d7da351b-5e86-4e15-d6da-9ec82dbb0012"
      },
      "execution_count": 35,
      "outputs": [
        {
          "output_type": "display_data",
          "data": {
            "text/plain": [
              "<Figure size 1600x800 with 2 Axes>"
            ],
            "image/png": "[encoded data removed]"
          },
          "metadata": {}
        }
      ]
    },
    {
      "cell_type": "markdown",
      "source": [
        "## BatchNormalization\n",
        "\n",
        "In order to bring all the activation values to the same scale, we normalize the activation values such that the hidden representation doesn’t vary drastically and also helps us to get improvement in the training speed.\n",
        "\n",
        "Since we are computing the mean and standard deviation from a single batch as opposed to computing it from the entire data. Batch normalization is done individually at each hidden neuron in the network.\n",
        "\n",
        "\n",
        "Since we are computing the mean and standard deviation from a single batch as opposed to computing it from the entire data. Batch normalization is done individually at each hidden neuron in the network.\n",
        "\n",
        "The parameters Gamma and Beta are learned along with other parameters of the network. If Gamma (γ) is equal to the mean (μ) and Beta (β) is equal to the standard deviation(σ) then the activation h_final is equal to the h_norm, thus preserving the representative power of the network.\n",
        "\n",
        "https://miro.medium.com/v2/resize:fit:640/format:webp/1*geAUoGkykqQ-H0OTqIgbFA.png\n",
        "\n",
        "https://pytorch.org/docs/stable/generated/torch.nn.BatchNorm1d.html#batchnorm1d"
      ],
      "metadata": {
        "id": "fLP_MHPTlILQ"
      }
    },
    {
      "cell_type": "markdown",
      "source": [
        "Order of Batch Norm Activation and Dropout\n",
        "\n",
        "![image.png](data:image/png;base64,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)\n",
        "\n",
        "https://stackoverflow.com/questions/39691902/ordering-of-batch-normalization-and-dropout#:~:text=Usually%2C%20Just%20drop%20the%20Dropout,not%20using%20Dropout\n",
        "\n",
        "https://androidkt.com/where-should-place-dropout-batch-normalization-and-activation-layer/"
      ],
      "metadata": {
        "id": "al91PwyBlIR1"
      }
    },
    {
      "cell_type": "code",
      "source": [
        "class FashionMnistModelRegDropoutBN(nn.Module):\n",
        "    \"\"\"Feedfoward neural network with 2 Cnn blocks and 1 hidden layer\"\"\"\n",
        "    def __init__(self, in_channels, hidden_units, out_channels):\n",
        "        super(FashionMnistModelRegDropoutBN, self).__init__()\n",
        "        # Input starts with (28,28)\n",
        "        # each conv block is like [conv->relu->conv->relu->maxpool]\n",
        "\n",
        "        self.block1 = nn.Sequential(\n",
        "            nn.Conv2d(in_channels = in_channels,\n",
        "                      out_channels = hidden_units,\n",
        "                      kernel_size=(3,3),\n",
        "                      stride=1,\n",
        "                     padding=0), #(26,26,HDUN)\n",
        "            nn.BatchNorm2d(hidden_units),  # BN before activation\n",
        "            nn.ReLU(),\n",
        "            nn.Dropout(p=0.1),  # droputs after activation function\n",
        "\n",
        "            nn.Conv2d(in_channels = hidden_units,\n",
        "                      out_channels= hidden_units,\n",
        "                      kernel_size=(3,3),\n",
        "                      stride=1,\n",
        "                      padding=0\n",
        "            ), #(24,24,HDUN)\n",
        "            nn.BatchNorm2d(hidden_units),\n",
        "            nn.ReLU(),\n",
        "            nn.Dropout(p=0.1),\n",
        "            nn.MaxPool2d(kernel_size=(2,2),\n",
        "                         stride=(2,2)) #(12,12,HDUN)\n",
        "        )\n",
        "\n",
        "        self.block2 = nn.Sequential(\n",
        "            nn.Conv2d(in_channels = hidden_units,\n",
        "                      out_channels = hidden_units,\n",
        "                      kernel_size=(3,3),\n",
        "                      stride=1,\n",
        "                      padding=0), #(10,10,HDUN)\n",
        "            nn.BatchNorm2d(hidden_units),\n",
        "            nn.ReLU(),\n",
        "            nn.Dropout(p=0.1),\n",
        "\n",
        "            nn.Conv2d(in_channels = hidden_units,\n",
        "                      out_channels =hidden_units,\n",
        "                      kernel_size=(3,3),\n",
        "                      stride=1,\n",
        "                      padding=0), #(8,8,HDUN)\n",
        "\n",
        "            nn.BatchNorm2d(hidden_units),\n",
        "            nn.ReLU(),\n",
        "            nn.Dropout(p=0.1),\n",
        "            nn.MaxPool2d(kernel_size=(2,2),\n",
        "                         stride=(2,2)) #(4,4,HDUN)\n",
        "        )\n",
        "\n",
        "        self.classifier = nn.Sequential(\n",
        "            nn.Flatten(),\n",
        "            nn.Linear(4*4*hidden_units, out_channels*10),\n",
        "            nn.BatchNorm1d(out_channels*10), # 1d BN added as an example\n",
        "            nn.ReLU(),\n",
        "            nn.Linear(out_channels*10, out_channels)\n",
        "        )\n",
        "\n",
        "    def forward(self, x):\n",
        "        x = self.block1(x)\n",
        "        x = self.block2(x)\n",
        "        x = self.classifier(x)\n",
        "        return x\n",
        "\n",
        "    def forward(self, x):\n",
        "      \"\"\"Forward propagation\"\"\"\n",
        "      x = self.block1(x)\n",
        "      x = self.block2(x)\n",
        "      x = self.classifier(x)\n",
        "\n",
        "      return x\n",
        "\n",
        "    def l1_loss(self, w):\n",
        "      \"\"\"Compute l1 loss\"\"\"\n",
        "      return torch.abs(w).sum()\n",
        "\n",
        "    def l2_loss(self, w):\n",
        "      \"\"\"Compute l2 loss\"\"\"\n",
        "      return torch.square(w).sum()"
      ],
      "metadata": {
        "id": "en55m1sclIYK"
      },
      "execution_count": 38,
      "outputs": []
    },
    {
      "cell_type": "code",
      "source": [
        "fas_model4 = FashionMnistModelRegDropoutBN(in_channels=1,\n",
        "                                           hidden_units=8,\n",
        "                                           out_channels=10).to(device)\n",
        "summary(fas_model4, input_size=(1, 28, 28))"
      ],
      "metadata": {
        "colab": {
          "base_uri": "https://localhost:8080/"
        },
        "id": "9GE5IXRtlIdT",
        "outputId": "3544f626-c47c-403a-b272-19ba95e9762b"
      },
      "execution_count": 39,
      "outputs": [
        {
          "output_type": "stream",
          "name": "stdout",
          "text": [
            "----------------------------------------------------------------\n",
            "        Layer (type)               Output Shape         Param #\n",
            "================================================================\n",
            "            Conv2d-1            [-1, 8, 26, 26]              80\n",
            "       BatchNorm2d-2            [-1, 8, 26, 26]              16\n",
            "              ReLU-3            [-1, 8, 26, 26]               0\n",
            "           Dropout-4            [-1, 8, 26, 26]               0\n",
            "            Conv2d-5            [-1, 8, 24, 24]             584\n",
            "       BatchNorm2d-6            [-1, 8, 24, 24]              16\n",
            "              ReLU-7            [-1, 8, 24, 24]               0\n",
            "           Dropout-8            [-1, 8, 24, 24]               0\n",
            "         MaxPool2d-9            [-1, 8, 12, 12]               0\n",
            "           Conv2d-10            [-1, 8, 10, 10]             584\n",
            "      BatchNorm2d-11            [-1, 8, 10, 10]              16\n",
            "             ReLU-12            [-1, 8, 10, 10]               0\n",
            "          Dropout-13            [-1, 8, 10, 10]               0\n",
            "           Conv2d-14              [-1, 8, 8, 8]             584\n",
            "      BatchNorm2d-15              [-1, 8, 8, 8]              16\n",
            "             ReLU-16              [-1, 8, 8, 8]               0\n",
            "          Dropout-17              [-1, 8, 8, 8]               0\n",
            "        MaxPool2d-18              [-1, 8, 4, 4]               0\n",
            "          Flatten-19                  [-1, 128]               0\n",
            "           Linear-20                  [-1, 100]          12,900\n",
            "      BatchNorm1d-21                  [-1, 100]             200\n",
            "             ReLU-22                  [-1, 100]               0\n",
            "           Linear-23                   [-1, 10]           1,010\n",
            "================================================================\n",
            "Total params: 16,006\n",
            "Trainable params: 16,006\n",
            "Non-trainable params: 0\n",
            "----------------------------------------------------------------\n",
            "Input size (MB): 0.00\n",
            "Forward/backward pass size (MB): 0.36\n",
            "Params size (MB): 0.06\n",
            "Estimated Total Size (MB): 0.42\n",
            "----------------------------------------------------------------\n"
          ]
        }
      ]
    },
    {
      "cell_type": "code",
      "source": [
        "# driver setup\n",
        "reg_type=\"l2\"\n",
        "reg_coeff=0.0001\n",
        "if reg_type is not None:\n",
        "  optimizer = optim.Adam(fas_model4.parameters(), lr=lr)\n",
        "else:\n",
        "  # adding l2 reg within optimizer only 3 works exactly same as adding l2 loss with the actual loss\n",
        "  optimizer = optim.Adam(fas_model4.parameters(), lr=lr, weight_decay=reg_coeff)\n",
        "criterion = nn.CrossEntropyLoss()\n",
        "metric = MulticlassAccuracy(device = device, num_classes=10)"
      ],
      "metadata": {
        "id": "-OSQlF60lIi1"
      },
      "execution_count": 40,
      "outputs": []
    },
    {
      "cell_type": "code",
      "source": [
        "# Place holders----\n",
        "train_losses = []\n",
        "train_metrics = []\n",
        "test_losses = []\n",
        "test_metrics = []\n",
        "\n",
        "for epoch in range(0,epochs):\n",
        "  print(f'Epoch {epoch}')\n",
        "  train_losses, train_metrics = train_module(fas_model4, device, train_loader, optimizer, criterion, metric, train_losses, train_metrics, reg_type, reg_coeff)\n",
        "  test_losses , test_metrics = test_module(fas_model4, device, test_loader, criterion, metric, test_losses, test_metrics)"
      ],
      "metadata": {
        "colab": {
          "base_uri": "https://localhost:8080/"
        },
        "id": "jx9l2gk0lIoe",
        "outputId": "01b75d4e-581b-4a17-dd4c-b748b36bcdd3"
      },
      "execution_count": 41,
      "outputs": [
        {
          "output_type": "stream",
          "name": "stdout",
          "text": [
            "Epoch 0\n"
          ]
        },
        {
          "output_type": "stream",
          "name": "stderr",
          "text": [
            "Avg Train Loss: 0.6401320868082392 Avg Train Metric: 0.7016067252293833: 100%|██████████| 469/469 [00:13<00:00, 33.67it/s]\n"
          ]
        },
        {
          "output_type": "stream",
          "name": "stdout",
          "text": [
            "Function Took 13.9420 seconds\n"
          ]
        },
        {
          "output_type": "stream",
          "name": "stderr",
          "text": [
            "Avg Test Loss: 0.44017757267891605 Avg Test Metric: 0.8445438780362093: 100%|██████████| 79/79 [00:01<00:00, 59.90it/s]\n"
          ]
        },
        {
          "output_type": "stream",
          "name": "stdout",
          "text": [
            "Function Took 1.3261 seconds\n",
            "Epoch 1\n"
          ]
        },
        {
          "output_type": "stream",
          "name": "stderr",
          "text": [
            "Avg Train Loss: 0.4071364771963945 Avg Train Metric: 0.8556050421840855: 100%|██████████| 469/469 [00:13<00:00, 35.28it/s]\n"
          ]
        },
        {
          "output_type": "stream",
          "name": "stdout",
          "text": [
            "Function Took 13.2988 seconds\n"
          ]
        },
        {
          "output_type": "stream",
          "name": "stderr",
          "text": [
            "Avg Test Loss: 0.3752994963639899 Avg Test Metric: 0.8636050375202035: 100%|██████████| 79/79 [00:01<00:00, 59.48it/s]\n"
          ]
        },
        {
          "output_type": "stream",
          "name": "stdout",
          "text": [
            "Function Took 1.3365 seconds\n",
            "Epoch 2\n"
          ]
        },
        {
          "output_type": "stream",
          "name": "stderr",
          "text": [
            "Avg Train Loss: 0.36736630678558146 Avg Train Metric: 0.8721026410934514: 100%|██████████| 469/469 [00:13<00:00, 34.84it/s]\n"
          ]
        },
        {
          "output_type": "stream",
          "name": "stdout",
          "text": [
            "Function Took 13.4696 seconds\n"
          ]
        },
        {
          "output_type": "stream",
          "name": "stderr",
          "text": [
            "Avg Test Loss: 0.37889849611475496 Avg Test Metric: 0.8612898625905001: 100%|██████████| 79/79 [00:01<00:00, 59.71it/s]\n"
          ]
        },
        {
          "output_type": "stream",
          "name": "stdout",
          "text": [
            "Function Took 1.3296 seconds\n",
            "Epoch 3\n"
          ]
        },
        {
          "output_type": "stream",
          "name": "stderr",
          "text": [
            "Avg Train Loss: 0.35021629541921717 Avg Train Metric: 0.8779856450776301: 100%|██████████| 469/469 [00:13<00:00, 35.04it/s]\n"
          ]
        },
        {
          "output_type": "stream",
          "name": "stdout",
          "text": [
            "Function Took 13.3916 seconds\n"
          ]
        },
        {
          "output_type": "stream",
          "name": "stderr",
          "text": [
            "Avg Test Loss: 0.36314222329779516 Avg Test Metric: 0.8703648908228814: 100%|██████████| 79/79 [00:01<00:00, 59.17it/s]\n"
          ]
        },
        {
          "output_type": "stream",
          "name": "stdout",
          "text": [
            "Function Took 1.3436 seconds\n",
            "Epoch 4\n"
          ]
        },
        {
          "output_type": "stream",
          "name": "stderr",
          "text": [
            "Avg Train Loss: 0.3342161301864998 Avg Train Metric: 0.8872224232281195: 100%|██████████| 469/469 [00:13<00:00, 34.84it/s]\n"
          ]
        },
        {
          "output_type": "stream",
          "name": "stdout",
          "text": [
            "Function Took 13.4695 seconds\n"
          ]
        },
        {
          "output_type": "stream",
          "name": "stderr",
          "text": [
            "Avg Test Loss: 0.34909254595448697 Avg Test Metric: 0.8734470371958576: 100%|██████████| 79/79 [00:01<00:00, 60.25it/s]\n"
          ]
        },
        {
          "output_type": "stream",
          "name": "stdout",
          "text": [
            "Function Took 1.3209 seconds\n",
            "Epoch 5\n"
          ]
        },
        {
          "output_type": "stream",
          "name": "stderr",
          "text": [
            "Avg Train Loss: 0.3223294463874435 Avg Train Metric: 0.892125326687339: 100%|██████████| 469/469 [00:13<00:00, 33.97it/s]\n"
          ]
        },
        {
          "output_type": "stream",
          "name": "stdout",
          "text": [
            "Function Took 13.8150 seconds\n"
          ]
        },
        {
          "output_type": "stream",
          "name": "stderr",
          "text": [
            "Avg Test Loss: 0.32637728939328015 Avg Test Metric: 0.8819729451891742: 100%|██████████| 79/79 [00:01<00:00, 55.66it/s]\n"
          ]
        },
        {
          "output_type": "stream",
          "name": "stdout",
          "text": [
            "Function Took 1.4270 seconds\n",
            "Epoch 6\n"
          ]
        },
        {
          "output_type": "stream",
          "name": "stderr",
          "text": [
            "Avg Train Loss: 0.3105537212733775 Avg Train Metric: 0.8946711131250427: 100%|██████████| 469/469 [00:13<00:00, 34.67it/s]\n"
          ]
        },
        {
          "output_type": "stream",
          "name": "stdout",
          "text": [
            "Function Took 13.5334 seconds\n"
          ]
        },
        {
          "output_type": "stream",
          "name": "stderr",
          "text": [
            "Avg Test Loss: 0.3111426558675645 Avg Test Metric: 0.8929625010188622: 100%|██████████| 79/79 [00:01<00:00, 44.16it/s]\n"
          ]
        },
        {
          "output_type": "stream",
          "name": "stdout",
          "text": [
            "Function Took 1.7948 seconds\n",
            "Epoch 7\n"
          ]
        },
        {
          "output_type": "stream",
          "name": "stderr",
          "text": [
            "Avg Train Loss: 0.30879259236585865 Avg Train Metric: 0.8976976166147668: 100%|██████████| 469/469 [00:13<00:00, 34.45it/s]\n"
          ]
        },
        {
          "output_type": "stream",
          "name": "stdout",
          "text": [
            "Function Took 13.6207 seconds\n"
          ]
        },
        {
          "output_type": "stream",
          "name": "stderr",
          "text": [
            "Avg Test Loss: 0.3580145658571509 Avg Test Metric: 0.8679821083817301: 100%|██████████| 79/79 [00:01<00:00, 57.73it/s]\n"
          ]
        },
        {
          "output_type": "stream",
          "name": "stdout",
          "text": [
            "Function Took 1.3755 seconds\n",
            "Epoch 8\n"
          ]
        },
        {
          "output_type": "stream",
          "name": "stderr",
          "text": [
            "Avg Train Loss: 0.299095835798839 Avg Train Metric: 0.9009900483241213: 100%|██████████| 469/469 [00:13<00:00, 34.68it/s]\n"
          ]
        },
        {
          "output_type": "stream",
          "name": "stdout",
          "text": [
            "Function Took 13.5306 seconds\n"
          ]
        },
        {
          "output_type": "stream",
          "name": "stderr",
          "text": [
            "Avg Test Loss: 0.3485222866263571 Avg Test Metric: 0.8748536389085311: 100%|██████████| 79/79 [00:01<00:00, 57.56it/s]\n"
          ]
        },
        {
          "output_type": "stream",
          "name": "stdout",
          "text": [
            "Function Took 1.3822 seconds\n",
            "Epoch 9\n"
          ]
        },
        {
          "output_type": "stream",
          "name": "stderr",
          "text": [
            "Avg Train Loss: 0.2931492995224528 Avg Train Metric: 0.9026693331915686: 100%|██████████| 469/469 [00:13<00:00, 34.52it/s]\n"
          ]
        },
        {
          "output_type": "stream",
          "name": "stdout",
          "text": [
            "Function Took 13.5926 seconds\n"
          ]
        },
        {
          "output_type": "stream",
          "name": "stderr",
          "text": [
            "Avg Test Loss: 0.3438649288838423 Avg Test Metric: 0.8816045462330685: 100%|██████████| 79/79 [00:01<00:00, 59.28it/s]"
          ]
        },
        {
          "output_type": "stream",
          "name": "stdout",
          "text": [
            "Function Took 1.3406 seconds\n"
          ]
        },
        {
          "output_type": "stream",
          "name": "stderr",
          "text": [
            "\n"
          ]
        }
      ]
    },
    {
      "cell_type": "code",
      "source": [
        "plot_loss_accuracy(train_loss= [train_losses],\n",
        "                   val_loss= [test_losses],\n",
        "                   train_acc= [train_metrics],\n",
        "                   val_acc= [test_metrics],\n",
        "                   labels=['Basic+Reg+Droputs+BN'],\n",
        "                   colors=['blue'],\n",
        "                   loss_legend_loc='upper center',\n",
        "                   acc_legend_loc='upper left')"
      ],
      "metadata": {
        "colab": {
          "base_uri": "https://localhost:8080/",
          "height": 530
        },
        "id": "SjgKZA71lIwp",
        "outputId": "61f874e2-bc82-4889-d551-6fba7e32e6a6"
      },
      "execution_count": 42,
      "outputs": [
        {
          "output_type": "display_data",
          "data": {
            "text/plain": [
              "<Figure size 1600x800 with 2 Axes>"
            ],
            "image/png": "[encoded data removed]"
          },
          "metadata": {}
        }
      ]
    },
    {
      "cell_type": "markdown",
      "source": [
        "## ADAPTIVE LEARNING RATE\n",
        "\n",
        "In the early stages of model training, the model is still making large steps towards the gradient space, and a large learning rate helps it find the coarse values it needs more quickly.\n",
        "In the late stages of model training, the opposite is true. The model has approximately the right gradients already; it just needs a little extra push to find the last few percentage points of performance. A large gradient is no longer appropriate because it will “overshoot” the point of optimality. Instead of converging on the global cost minima, the model will bounce around it\n",
        "\n",
        "You can update the learning rate as frequent as each step but usually it is updated once per epoch because you want to know how the network performs in order to determine how the learning rate should update. Regularly, a model is evaluated with validation dataset once per epoch.\n",
        "\n",
        "There are multiple ways of making learning rate adaptive. At the beginning of training, you may prefer a larger learning rate so you improve the network coarsely to speed up the progress. In a very complex neural network model, you may also prefer to gradually increasse the learning rate at the beginning because you need the network to explore on the different dimensions of prediction. At the end of training, however, you always want to have the learning rate smaller.\\\n",
        "** We use it only in  the training module **"
      ],
      "metadata": {
        "id": "0zxrcfn0lJCJ"
      }
    },
    {
      "cell_type": "markdown",
      "source": [
        "lr_scheduler.LambdaLR\\\n",
        "Sets the learning rate of each parameter group to the initial lr times a given function.\n",
        "\n",
        "lr_scheduler.MultiplicativeLR\\\n",
        "Multiply the learning rate of each parameter group by the factor given in the specified function.\n",
        "\n",
        "lr_scheduler.StepLR\\\n",
        "Decays the learning rate of each parameter group by gamma every step_size epochs.\n",
        "\n",
        "lr_scheduler.MultiStepLR\\\n",
        "Decays the learning rate of each parameter group by gamma once the number of epoch reaches one of the milestones.\n",
        "\n",
        "lr_scheduler.ConstantLR\\\n",
        "Decays the learning rate of each parameter group by a small constant factor until the number of epoch reaches a pre-defined milestone: total_iters.\n",
        "\n",
        "lr_scheduler.LinearLR\\\n",
        "Decays the learning rate of each parameter group by linearly changing small multiplicative factor until the number of epoch reaches a pre-defined milestone: total_iters.\n",
        "\n",
        "lr_scheduler.ExponentialLR\\\n",
        "Decays the learning rate of each parameter group by gamma every epoch.\n",
        "\n",
        "lr_scheduler.PolynomialLR\\\n",
        "Decays the learning rate of each parameter group using a polynomial function in the given total_iters.\n",
        "\n",
        "lr_scheduler.ChainedScheduler\\\n",
        "Chains list of learning rate schedulers.\n",
        "\n",
        "lr_scheduler.SequentialLR\\\n",
        "Receives the list of schedulers that is expected to be called sequentially during optimization process and milestone points that provides exact intervals to reflect which scheduler is supposed to be called at a given epoch.\n",
        "\n",
        "lr_scheduler.ReduceLROnPlateau\\\n",
        "Reduce learning rate when a metric has stopped improving.\n",
        "\n",
        "lr_scheduler.CyclicLR\\\n",
        "Sets the learning rate of each parameter group according to cyclical learning rate policy (CLR).\n",
        "\n",
        "lr_scheduler.OneCycleLR\\\n",
        "Sets the learning rate of each parameter group according to the 1cycle learning rate policy.\n",
        "\n",
        "https://miro.medium.com/v2/resize:fit:828/format:webp/1*qe6nYlH8zsmUdScyHMhRCQ.png\n",
        "\n",
        "We will experiment with only Step,Exponential and oneCycleLR\n",
        "\n",
        "\n",
        "https://machinelearningmastery.com/using-learning-rate-schedule-in-pytorch-training/\n",
        "\n",
        "https://androidkt.com/pytorch-change-the-learning-rate-based-on-epoch/\n",
        "\n",
        "https://towardsdatascience.com/a-visual-guide-to-learning-rate-schedulers-in-pytorch-24bbb262c863"
      ],
      "metadata": {
        "id": "iLkLRkv9lJnW"
      }
    },
    {
      "cell_type": "code",
      "source": [
        "# updated training module wit lr scheduler ---\n",
        "@timeit\n",
        "def train_module(model:torch.nn.Module,\n",
        "                 device:torch.device,\n",
        "                 train_dataloader:torch.utils.data.DataLoader ,\n",
        "                 optimizer:torch.optim.Optimizer,\n",
        "                 criterion:torch.nn.Module,\n",
        "                 metric,\n",
        "                 train_losses:list,\n",
        "                 train_metrics:list,\n",
        "                 reg_type:str,\n",
        "                 reg_coeff:float,\n",
        "                 lr_scheduler):\n",
        "\n",
        "  # setting model to train mode\n",
        "  model.train()\n",
        "  pbar = tqdm(train_dataloader)\n",
        "\n",
        "  # batch metrics\n",
        "  train_loss = 0\n",
        "  train_metric = 0\n",
        "  processed_batch = 0\n",
        "\n",
        "  for idx, (data,label) in enumerate(pbar):\n",
        "    # setting up device\n",
        "    data = data.to(device)\n",
        "    label = label.to(device)\n",
        "\n",
        "    # forward pass output\n",
        "    preds = model(data)\n",
        "\n",
        "    # calc loss\n",
        "    loss = criterion(preds, label)\n",
        "    # regularization\n",
        "    reg_factor = regularization(model, reg_type, reg_coeff)\n",
        "    loss += reg_factor\n",
        "    train_loss += loss.item()\n",
        "    # print(f\"training loss for batch {idx} is {loss}\")\n",
        "\n",
        "\n",
        "    # backpropagation\n",
        "    optimizer.zero_grad() # flush out  existing grads\n",
        "    loss.backward() # back prop of weights wrt loss\n",
        "    optimizer.step() # optimizer step -> minima\n",
        "\n",
        "    # metric calc\n",
        "    preds = torch.argmax(preds,dim=1)\n",
        "    # print(f\"preds:: {preds}\")\n",
        "    metric.update(preds,label)\n",
        "    train_metric += metric.compute().detach().item()\n",
        "\n",
        "    #updating batch count\n",
        "    processed_batch += 1\n",
        "\n",
        "    pbar.set_description(f\"Avg Train Loss: {train_loss/processed_batch} Avg Train Metric: {train_metric/processed_batch}\")\n",
        "\n",
        "  # It's typically called after the epoch completes\n",
        "  metric.reset()\n",
        "  # updating epoch metrics\n",
        "  train_losses.append(train_loss/processed_batch)\n",
        "  train_metrics.append(train_metric/processed_batch)\n",
        "  # learning rate scheduler\n",
        "  print(f'For current epoch lr: {optimizer.param_groups[0][\"lr\"]}')\n",
        "  lr_scheduler.step()\n",
        "  print(f\"For next epoch {lr_scheduler.get_last_lr()[0]}\")\n",
        "\n",
        "  return train_losses, train_metrics\n"
      ],
      "metadata": {
        "id": "LcqJZXbhDe8h"
      },
      "execution_count": 71,
      "outputs": []
    },
    {
      "cell_type": "code",
      "source": [
        "# no updates in test module\n",
        "@timeit\n",
        "def test_module(model:torch.nn.Module,\n",
        "                device:torch.device,\n",
        "                test_dataloader:torch.utils.data.DataLoader,\n",
        "                criterion:torch.nn.Module,\n",
        "                metric,\n",
        "                test_losses,\n",
        "                test_metrics):\n",
        "  # setting model to eval mode\n",
        "  model.eval()\n",
        "  pbar = tqdm(test_dataloader)\n",
        "\n",
        "  # batch metrics\n",
        "  test_loss = 0\n",
        "  test_metric = 0\n",
        "  processed_batch = 0\n",
        "\n",
        "  with torch.inference_mode():\n",
        "    for idx, (data,label) in enumerate(pbar):\n",
        "      data , label = data.to(device), label.to(device)\n",
        "      # predictions\n",
        "      preds = model(data)\n",
        "      # print(preds.shape)\n",
        "      # print(label.shape)\n",
        "\n",
        "      #loss calc\n",
        "      loss = criterion(preds, label)\n",
        "      # no need for calculating regularization\n",
        "      test_loss += loss.item()\n",
        "\n",
        "      # metric calc\n",
        "      preds = torch.argmax(preds,dim=1)\n",
        "      metric.update(preds,label)\n",
        "      test_metric += metric.compute().detach().item()\n",
        "\n",
        "      #updating batch count\n",
        "      processed_batch += 1\n",
        "\n",
        "      pbar.set_description(f\"Avg Test Loss: {test_loss/processed_batch} Avg Test Metric: {test_metric/processed_batch}\")\n",
        "\n",
        "    # It's typically called after the epoch completes\n",
        "    metric.reset()\n",
        "    # updating epoch metrics\n",
        "    test_losses.append(test_loss/processed_batch)\n",
        "    test_metrics.append(test_metric/processed_batch)\n",
        "\n",
        "  return test_losses, test_metrics"
      ],
      "metadata": {
        "id": "a16A4mlBDe85"
      },
      "execution_count": 72,
      "outputs": []
    },
    {
      "cell_type": "code",
      "source": [
        "fas_model4 = FashionMnistModelRegDropoutBN(in_channels=1,\n",
        "                                           hidden_units=8,\n",
        "                                           out_channels=10).to(device)\n",
        "summary(fas_model4, input_size=(1, 28, 28))"
      ],
      "metadata": {
        "colab": {
          "base_uri": "https://localhost:8080/"
        },
        "id": "3GHbi0SfHMpK",
        "outputId": "0439dc18-8bd9-4b8f-ee23-91991d24b1f6"
      },
      "execution_count": 78,
      "outputs": [
        {
          "output_type": "stream",
          "name": "stdout",
          "text": [
            "----------------------------------------------------------------\n",
            "        Layer (type)               Output Shape         Param #\n",
            "================================================================\n",
            "            Conv2d-1            [-1, 8, 26, 26]              80\n",
            "       BatchNorm2d-2            [-1, 8, 26, 26]              16\n",
            "              ReLU-3            [-1, 8, 26, 26]               0\n",
            "           Dropout-4            [-1, 8, 26, 26]               0\n",
            "            Conv2d-5            [-1, 8, 24, 24]             584\n",
            "       BatchNorm2d-6            [-1, 8, 24, 24]              16\n",
            "              ReLU-7            [-1, 8, 24, 24]               0\n",
            "           Dropout-8            [-1, 8, 24, 24]               0\n",
            "         MaxPool2d-9            [-1, 8, 12, 12]               0\n",
            "           Conv2d-10            [-1, 8, 10, 10]             584\n",
            "      BatchNorm2d-11            [-1, 8, 10, 10]              16\n",
            "             ReLU-12            [-1, 8, 10, 10]               0\n",
            "          Dropout-13            [-1, 8, 10, 10]               0\n",
            "           Conv2d-14              [-1, 8, 8, 8]             584\n",
            "      BatchNorm2d-15              [-1, 8, 8, 8]              16\n",
            "             ReLU-16              [-1, 8, 8, 8]               0\n",
            "          Dropout-17              [-1, 8, 8, 8]               0\n",
            "        MaxPool2d-18              [-1, 8, 4, 4]               0\n",
            "          Flatten-19                  [-1, 128]               0\n",
            "           Linear-20                  [-1, 100]          12,900\n",
            "      BatchNorm1d-21                  [-1, 100]             200\n",
            "             ReLU-22                  [-1, 100]               0\n",
            "           Linear-23                   [-1, 10]           1,010\n",
            "================================================================\n",
            "Total params: 16,006\n",
            "Trainable params: 16,006\n",
            "Non-trainable params: 0\n",
            "----------------------------------------------------------------\n",
            "Input size (MB): 0.00\n",
            "Forward/backward pass size (MB): 0.36\n",
            "Params size (MB): 0.06\n",
            "Estimated Total Size (MB): 0.42\n",
            "----------------------------------------------------------------\n"
          ]
        }
      ]
    },
    {
      "cell_type": "code",
      "source": [
        "# driver setup\n",
        "reg_type=\"l2\"\n",
        "reg_coeff=0.0001\n",
        "lr = 1e-3\n",
        "#optimizers\n",
        "if reg_type is not None:\n",
        "  optimizer = optim.Adam(fas_model4.parameters(), lr=lr)\n",
        "else:\n",
        "  # adding l2 reg within optimizer only 3 works exactly same as adding l2 loss with the actual loss\n",
        "  optimizer = optim.Adam(fas_model4.parameters(), lr=lr, weight_decay=reg_coeff)\n",
        "\n",
        "#loss metric\n",
        "criterion = nn.CrossEntropyLoss()\n",
        "\n",
        "# accuracy metric\n",
        "metric = MulticlassAccuracy(device = device, num_classes=10)\n",
        "# diffeent schedulers\n",
        "step_scheduler = StepLR(optimizer, step_size = 4, # Period of learning rate decay\n",
        "                   gamma = 0.5) # Multiplicative factor of learning rate decay"
      ],
      "metadata": {
        "id": "XvbX3ep-lJ6i"
      },
      "execution_count": 79,
      "outputs": []
    },
    {
      "cell_type": "code",
      "source": [
        "# Place holders---- step scheduler\n",
        "train_losses = []\n",
        "train_metrics = []\n",
        "test_losses = []\n",
        "test_metrics = []\n",
        "\n",
        "for epoch in range(0,epochs):\n",
        "  print(f'Epoch {epoch}')\n",
        "  train_losses, train_metrics = train_module(fas_model4, device, train_loader, optimizer, criterion, metric, train_losses, train_metrics, reg_type, reg_coeff, step_scheduler)\n",
        "  test_losses , test_metrics = test_module(fas_model4, device, test_loader, criterion, metric, test_losses, test_metrics)"
      ],
      "metadata": {
        "id": "jscXWYp8CYiU"
      },
      "execution_count": null,
      "outputs": []
    },
    {
      "cell_type": "code",
      "source": [
        "fas_model4 = FashionMnistModelRegDropoutBN(in_channels=1,\n",
        "                                           hidden_units=8,\n",
        "                                           out_channels=10).to(device)\n",
        "summary(fas_model4, input_size=(1, 28, 28))"
      ],
      "metadata": {
        "colab": {
          "base_uri": "https://localhost:8080/"
        },
        "id": "7udqt-R_I2T-",
        "outputId": "f920c7b0-bc98-4276-c98b-023d0766c1ed"
      },
      "execution_count": 81,
      "outputs": [
        {
          "output_type": "stream",
          "name": "stdout",
          "text": [
            "----------------------------------------------------------------\n",
            "        Layer (type)               Output Shape         Param #\n",
            "================================================================\n",
            "            Conv2d-1            [-1, 8, 26, 26]              80\n",
            "       BatchNorm2d-2            [-1, 8, 26, 26]              16\n",
            "              ReLU-3            [-1, 8, 26, 26]               0\n",
            "           Dropout-4            [-1, 8, 26, 26]               0\n",
            "            Conv2d-5            [-1, 8, 24, 24]             584\n",
            "       BatchNorm2d-6            [-1, 8, 24, 24]              16\n",
            "              ReLU-7            [-1, 8, 24, 24]               0\n",
            "           Dropout-8            [-1, 8, 24, 24]               0\n",
            "         MaxPool2d-9            [-1, 8, 12, 12]               0\n",
            "           Conv2d-10            [-1, 8, 10, 10]             584\n",
            "      BatchNorm2d-11            [-1, 8, 10, 10]              16\n",
            "             ReLU-12            [-1, 8, 10, 10]               0\n",
            "          Dropout-13            [-1, 8, 10, 10]               0\n",
            "           Conv2d-14              [-1, 8, 8, 8]             584\n",
            "      BatchNorm2d-15              [-1, 8, 8, 8]              16\n",
            "             ReLU-16              [-1, 8, 8, 8]               0\n",
            "          Dropout-17              [-1, 8, 8, 8]               0\n",
            "        MaxPool2d-18              [-1, 8, 4, 4]               0\n",
            "          Flatten-19                  [-1, 128]               0\n",
            "           Linear-20                  [-1, 100]          12,900\n",
            "      BatchNorm1d-21                  [-1, 100]             200\n",
            "             ReLU-22                  [-1, 100]               0\n",
            "           Linear-23                   [-1, 10]           1,010\n",
            "================================================================\n",
            "Total params: 16,006\n",
            "Trainable params: 16,006\n",
            "Non-trainable params: 0\n",
            "----------------------------------------------------------------\n",
            "Input size (MB): 0.00\n",
            "Forward/backward pass size (MB): 0.36\n",
            "Params size (MB): 0.06\n",
            "Estimated Total Size (MB): 0.42\n",
            "----------------------------------------------------------------\n"
          ]
        }
      ]
    },
    {
      "cell_type": "code",
      "source": [
        "# driver setup\n",
        "reg_type=\"l2\"\n",
        "reg_coeff=0.0001\n",
        "lr = 1e-3\n",
        "#optimizers\n",
        "if reg_type is not None:\n",
        "  optimizer = optim.Adam(fas_model4.parameters(), lr=lr)\n",
        "else:\n",
        "  # adding l2 reg within optimizer only 3 works exactly same as adding l2 loss with the actual loss\n",
        "  optimizer = optim.Adam(fas_model4.parameters(), lr=lr, weight_decay=reg_coeff)\n",
        "\n",
        "#loss metric\n",
        "criterion = nn.CrossEntropyLoss()\n",
        "\n",
        "# accuracy metric\n",
        "metric = MulticlassAccuracy(device = device, num_classes=10)\n",
        "# diffeent schedulers\n",
        "exp_scheduler = ExponentialLR(optimizer,\n",
        "                          gamma = 0.5) # Multiplicative factor of learning rate decay."
      ],
      "metadata": {
        "id": "GJPfNnxWI5tl"
      },
      "execution_count": 82,
      "outputs": []
    },
    {
      "cell_type": "code",
      "source": [
        "# Place holders---- exp scheduler\n",
        "train_losses = []\n",
        "train_metrics = []\n",
        "test_losses = []\n",
        "test_metrics = []\n",
        "\n",
        "for epoch in range(0,epochs):\n",
        "  print(f'Epoch {epoch}')\n",
        "  train_losses, train_metrics = train_module(fas_model4, device, train_loader, optimizer, criterion, metric, train_losses, train_metrics, reg_type, reg_coeff, exp_scheduler)\n",
        "  test_losses , test_metrics = test_module(fas_model4, device, test_loader, criterion, metric, test_losses, test_metrics)"
      ],
      "metadata": {
        "id": "SmM8u_qJCYuG"
      },
      "execution_count": null,
      "outputs": []
    },
    {
      "cell_type": "code",
      "source": [
        "fas_model4 = FashionMnistModelRegDropoutBN(in_channels=1,\n",
        "                                           hidden_units=8,\n",
        "                                           out_channels=10).to(device)\n",
        "summary(fas_model4, input_size=(1, 28, 28))"
      ],
      "metadata": {
        "colab": {
          "base_uri": "https://localhost:8080/"
        },
        "id": "NwqZEl0DJAij",
        "outputId": "e3b1dfa9-483c-4b98-9e48-6f90142c1f86"
      },
      "execution_count": 84,
      "outputs": [
        {
          "output_type": "stream",
          "name": "stdout",
          "text": [
            "----------------------------------------------------------------\n",
            "        Layer (type)               Output Shape         Param #\n",
            "================================================================\n",
            "            Conv2d-1            [-1, 8, 26, 26]              80\n",
            "       BatchNorm2d-2            [-1, 8, 26, 26]              16\n",
            "              ReLU-3            [-1, 8, 26, 26]               0\n",
            "           Dropout-4            [-1, 8, 26, 26]               0\n",
            "            Conv2d-5            [-1, 8, 24, 24]             584\n",
            "       BatchNorm2d-6            [-1, 8, 24, 24]              16\n",
            "              ReLU-7            [-1, 8, 24, 24]               0\n",
            "           Dropout-8            [-1, 8, 24, 24]               0\n",
            "         MaxPool2d-9            [-1, 8, 12, 12]               0\n",
            "           Conv2d-10            [-1, 8, 10, 10]             584\n",
            "      BatchNorm2d-11            [-1, 8, 10, 10]              16\n",
            "             ReLU-12            [-1, 8, 10, 10]               0\n",
            "          Dropout-13            [-1, 8, 10, 10]               0\n",
            "           Conv2d-14              [-1, 8, 8, 8]             584\n",
            "      BatchNorm2d-15              [-1, 8, 8, 8]              16\n",
            "             ReLU-16              [-1, 8, 8, 8]               0\n",
            "          Dropout-17              [-1, 8, 8, 8]               0\n",
            "        MaxPool2d-18              [-1, 8, 4, 4]               0\n",
            "          Flatten-19                  [-1, 128]               0\n",
            "           Linear-20                  [-1, 100]          12,900\n",
            "      BatchNorm1d-21                  [-1, 100]             200\n",
            "             ReLU-22                  [-1, 100]               0\n",
            "           Linear-23                   [-1, 10]           1,010\n",
            "================================================================\n",
            "Total params: 16,006\n",
            "Trainable params: 16,006\n",
            "Non-trainable params: 0\n",
            "----------------------------------------------------------------\n",
            "Input size (MB): 0.00\n",
            "Forward/backward pass size (MB): 0.36\n",
            "Params size (MB): 0.06\n",
            "Estimated Total Size (MB): 0.42\n",
            "----------------------------------------------------------------\n"
          ]
        }
      ]
    },
    {
      "cell_type": "code",
      "source": [
        "# driver setup\n",
        "reg_type=\"l2\"\n",
        "reg_coeff=0.0001\n",
        "lr = 1e-3\n",
        "#optimizers\n",
        "if reg_type is not None:\n",
        "  optimizer = optim.Adam(fas_model4.parameters(), lr=lr)\n",
        "else:\n",
        "  # adding l2 reg within optimizer only 3 works exactly same as adding l2 loss with the actual loss\n",
        "  optimizer = optim.Adam(fas_model4.parameters(), lr=lr, weight_decay=reg_coeff)\n",
        "\n",
        "#loss metric\n",
        "criterion = nn.CrossEntropyLoss()\n",
        "\n",
        "# accuracy metric\n",
        "metric = MulticlassAccuracy(device = device, num_classes=10)\n",
        "# diffeent schedulers\n",
        "cycle_scheduler = OneCycleLR(optimizer,\n",
        "                       max_lr = lr ,# Upper learning rate boundaries in the cycle for each parameter group\n",
        "                       steps_per_epoch = len(train_loader), # The number of steps per epoch to train for.\n",
        "                       epochs = epochs, # The number of epochs to train for.\n",
        "                       anneal_strategy = 'cos') # Specifies the annealing strategy"
      ],
      "metadata": {
        "id": "69SAcUU2JJZS"
      },
      "execution_count": 85,
      "outputs": []
    },
    {
      "cell_type": "code",
      "source": [
        "# Place holders---- onecycle scheduler\n",
        "train_losses = []\n",
        "train_metrics = []\n",
        "test_losses = []\n",
        "test_metrics = []\n",
        "\n",
        "for epoch in range(0,epochs):\n",
        "  print(f'Epoch {epoch}')\n",
        "  train_losses, train_metrics = train_module(fas_model4, device, train_loader, optimizer, criterion, metric, train_losses, train_metrics, reg_type, reg_coeff, cycle_scheduler)\n",
        "  test_losses , test_metrics = test_module(fas_model4, device, test_loader, criterion, metric, test_losses, test_metrics)"
      ],
      "metadata": {
        "id": "MIBeY9ayCZWw"
      },
      "execution_count": null,
      "outputs": []
    },
    {
      "cell_type": "markdown",
      "source": [
        "The best that worked was exponential lr scheduler"
      ],
      "metadata": {
        "id": "_1usd1y-CZaZ"
      }
    },
    {
      "cell_type": "markdown",
      "source": [
        "#### REDUCELRONPLATEAU\n",
        "\n",
        "Reduce learning rate when a metric has stopped improving. Models often benefit from reducing the learning rate by a factor of 2-10 once learning stagnates. This scheduler reads a metrics quantity and if no improvement is seen for a ‘patience’ number of epochs, the learning rate is\n",
        "reduced.\n",
        "\n",
        "Deciding whether to reduce the LR based on the training loss or validation loss is a matter of experimentation and depends on the specific problem and dataset. Both approaches can be valid, but basing the LR reduction on the validation loss is common.\n",
        "\n",
        "By monitoring the validation loss, you can better estimate the model’s performance on unseen data. Reducing the LR when the validation loss plateaus can help the model converge better and avoid overfitting.\n",
        "\n",
        "It should never be used along with LR scheduler"
      ],
      "metadata": {
        "id": "daPKT65_CZej"
      }
    },
    {
      "cell_type": "code",
      "source": [],
      "metadata": {
        "id": "1xJV7UNXCZkp"
      },
      "execution_count": null,
      "outputs": []
    },
    {
      "cell_type": "code",
      "source": [],
      "metadata": {
        "id": "IxyJ_kB9CZqX"
      },
      "execution_count": null,
      "outputs": []
    },
    {
      "cell_type": "code",
      "source": [],
      "metadata": {
        "id": "ttZOTt-TCZvh"
      },
      "execution_count": null,
      "outputs": []
    },
    {
      "cell_type": "code",
      "source": [],
      "metadata": {
        "id": "gbdzdifmCZz4"
      },
      "execution_count": null,
      "outputs": []
    },
    {
      "cell_type": "code",
      "source": [],
      "metadata": {
        "id": "yExn_XAWCZ3V"
      },
      "execution_count": null,
      "outputs": []
    },
    {
      "cell_type": "code",
      "source": [],
      "metadata": {
        "id": "msRuLoZTCZ8b"
      },
      "execution_count": null,
      "outputs": []
    },
    {
      "cell_type": "code",
      "source": [],
      "metadata": {
        "id": "4sIk6622CaAZ"
      },
      "execution_count": null,
      "outputs": []
    },
    {
      "cell_type": "code",
      "source": [
        "%load_ext watermark\n",
        "%watermark -v -p numpy,torch,torchvision,tqdm,matplotlib,torcheval"
      ],
      "metadata": {
        "colab": {
          "base_uri": "https://localhost:8080/"
        },
        "id": "HrBLgH1qyZld",
        "outputId": "993fe1a2-6c41-4337-d98a-cee9b7e5a2f9"
      },
      "execution_count": 30,
      "outputs": [
        {
          "output_type": "stream",
          "name": "stdout",
          "text": [
            "The watermark extension is already loaded. To reload it, use:\n",
            "  %reload_ext watermark\n",
            "Python implementation: CPython\n",
            "Python version       : 3.10.12\n",
            "IPython version      : 7.34.0\n",
            "\n",
            "numpy      : 1.25.2\n",
            "torch      : 2.1.0+cu121\n",
            "torchvision: 0.16.0+cu121\n",
            "tqdm       : 4.66.2\n",
            "matplotlib : 3.7.1\n",
            "torcheval  : 0.0.7\n",
            "\n"
          ]
        }
      ]
    }
  ]
}