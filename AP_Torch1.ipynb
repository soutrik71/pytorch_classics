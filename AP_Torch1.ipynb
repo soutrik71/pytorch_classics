{
  "nbformat": 4,
  "nbformat_minor": 0,
  "metadata": {
    "colab": {
      "provenance": [],
      "mount_file_id": "1k9Q0qu70XY7GbvGjbNq5iHnvpmoBjs2-",
      "authorship_tag": "ABX9TyPi1g0xPyb3M+QMAvXD5GhE",
      "include_colab_link": true
    },
    "kernelspec": {
      "name": "python3",
      "display_name": "Python 3"
    },
    "language_info": {
      "name": "python"
    }
  },
  "cells": [
    {
      "cell_type": "markdown",
      "metadata": {
        "id": "view-in-github",
        "colab_type": "text"
      },
      "source": [
        "<a href=\"https://colab.research.google.com/github/soutrik71/pytorch_classics/blob/main/AP_Torch1.ipynb\" target=\"_parent\"><img src=\"https://colab.research.google.com/assets/colab-badge.svg\" alt=\"Open In Colab\"/></a>"
      ]
    },
    {
      "cell_type": "code",
      "source": [
        "import torch\n",
        "import numpy as np\n",
        "print(torch.__version__)\n",
        "print(torch.cuda.is_available())\n",
        "# print(torch.cuda.device_count())\n",
        "# print(torch.cuda.current_device())\n",
        "# print(torch.cuda.get_device_name())\n",
        "print(torch.cpu.device_count())"
      ],
      "metadata": {
        "colab": {
          "base_uri": "https://localhost:8080/"
        },
        "id": "83vXT4gx_VhL",
        "outputId": "576f050d-67fd-47ab-b399-403f0f69d05f"
      },
      "execution_count": 1,
      "outputs": [
        {
          "output_type": "stream",
          "name": "stdout",
          "text": [
            "2.1.0+cu121\n",
            "False\n",
            "1\n"
          ]
        }
      ]
    },
    {
      "cell_type": "code",
      "source": [
        "device = \"cuda\" if torch.cuda.is_available() else \"cpu\"\n",
        "print(device)"
      ],
      "metadata": {
        "colab": {
          "base_uri": "https://localhost:8080/"
        },
        "id": "0aApZKTd_tkE",
        "outputId": "3191ac3c-a13e-45cc-9019-84e32def4fc9"
      },
      "execution_count": 2,
      "outputs": [
        {
          "output_type": "stream",
          "name": "stdout",
          "text": [
            "cpu\n"
          ]
        }
      ]
    },
    {
      "cell_type": "markdown",
      "source": [
        "##Initializing Tensors"
      ],
      "metadata": {
        "id": "ANeFDiO04QWO"
      }
    },
    {
      "cell_type": "code",
      "source": [
        "# a scalar\n",
        "my_scalar = torch.tensor(42, dtype = torch.float16, device=device)\n",
        "print(my_scalar)"
      ],
      "metadata": {
        "colab": {
          "base_uri": "https://localhost:8080/"
        },
        "id": "_2apvWCNTiqF",
        "outputId": "18523917-6257-43a3-c9ff-3038f7fb8ef6"
      },
      "execution_count": 7,
      "outputs": [
        {
          "output_type": "stream",
          "name": "stdout",
          "text": [
            "tensor(42., dtype=torch.float16)\n"
          ]
        }
      ]
    },
    {
      "cell_type": "code",
      "source": [
        "# a Tensor in this case of shape 2x3\n",
        "my_matrix = torch.tensor([[1,2,4],[11,22,44]], dtype = torch.float32, device = device)\n",
        "print(my_matrix)"
      ],
      "metadata": {
        "colab": {
          "base_uri": "https://localhost:8080/"
        },
        "id": "y2AEyhjn9YpH",
        "outputId": "ebbd0dd4-45f6-4695-cf1f-311d422d9f9c"
      },
      "execution_count": 8,
      "outputs": [
        {
          "output_type": "stream",
          "name": "stdout",
          "text": [
            "tensor([[ 1.,  2.,  4.],\n",
            "        [11., 22., 44.]])\n"
          ]
        }
      ]
    },
    {
      "cell_type": "code",
      "source": [
        "# few properties of a tensor\n",
        "print(my_scalar.shape)\n",
        "print(my_scalar.item())\n",
        "print(my_matrix.shape)\n",
        "print(my_matrix.dtype)\n",
        "print(my_matrix.ndim)\n",
        "print(my_matrix.numpy()) # convert into numpy\n",
        "print(my_matrix.device)\n",
        "print(my_matrix.numel()) # no of elements"
      ],
      "metadata": {
        "colab": {
          "base_uri": "https://localhost:8080/"
        },
        "id": "1qqJFcMwTG_E",
        "outputId": "075e5780-2fc0-417d-8592-580279dcfa93"
      },
      "execution_count": 24,
      "outputs": [
        {
          "output_type": "stream",
          "name": "stdout",
          "text": [
            "torch.Size([])\n",
            "42.0\n",
            "torch.Size([2, 3])\n",
            "torch.float32\n",
            "2\n",
            "[[ 1.  2.  4.]\n",
            " [11. 22. 44.]]\n",
            "cpu\n",
            "6\n"
          ]
        }
      ]
    },
    {
      "cell_type": "code",
      "source": [
        "# Tensor\n",
        "TENSOR = torch.tensor([[[1, 2, 3],\n",
        "                        [3, 6, 9],\n",
        "                        [2, 4, 5]]],\n",
        "                      dtype = torch.half,\n",
        "                      device = device)\n",
        "print(TENSOR)\n",
        "print(TENSOR.shape)\n",
        "print(TENSOR.dtype)\n",
        "print(TENSOR.size()) # same as shape attrb\n",
        "print(TENSOR.ndim)\n",
        "print(TENSOR.device)\n",
        "print(TENSOR.numpy())\n",
        "print(TENSOR.numel())"
      ],
      "metadata": {
        "colab": {
          "base_uri": "https://localhost:8080/"
        },
        "id": "AI6t_7BKVHoj",
        "outputId": "b36545df-301d-413f-d451-266a82290b56"
      },
      "execution_count": 31,
      "outputs": [
        {
          "output_type": "stream",
          "name": "stdout",
          "text": [
            "tensor([[[1., 2., 3.],\n",
            "         [3., 6., 9.],\n",
            "         [2., 4., 5.]]], dtype=torch.float16)\n",
            "torch.Size([1, 3, 3])\n",
            "torch.float16\n",
            "torch.Size([1, 3, 3])\n",
            "3\n",
            "cpu\n",
            "[[[1. 2. 3.]\n",
            "  [3. 6. 9.]\n",
            "  [2. 4. 5.]]]\n",
            "9\n"
          ]
        }
      ]
    },
    {
      "cell_type": "code",
      "source": [
        "TENSOR.shape"
      ],
      "metadata": {
        "colab": {
          "base_uri": "https://localhost:8080/"
        },
        "id": "Q5sVXlFKUtfm",
        "outputId": "9ae15041-853a-459e-c79c-5cdcfb1dda19"
      },
      "execution_count": 21,
      "outputs": [
        {
          "output_type": "execute_result",
          "data": {
            "text/plain": [
              "torch.Size([1, 3, 3])"
            ]
          },
          "metadata": {},
          "execution_count": 21
        }
      ]
    },
    {
      "cell_type": "markdown",
      "source": [
        "##### View of a TENSOR\n",
        "![picture](https://drive.google.com/uc?export=view&id=1-UGpr8PzhAhHW6U2cpSpGu3SWjVodhaJ)"
      ],
      "metadata": {
        "id": "atf0RmoYVgWK"
      }
    },
    {
      "cell_type": "markdown",
      "source": [
        "##### Blank/Random tensor initalization methods"
      ],
      "metadata": {
        "id": "UKVf0QlaXH4t"
      }
    },
    {
      "cell_type": "code",
      "source": [
        "x = torch.empty(size=(3, 3))  # Tensor of shape 3x3 with uninitialized data\n",
        "print(x)\n",
        "x = torch.zeros((3, 3))  # Tensor of shape 3x3 with values of 0\n",
        "print(x)\n",
        "xx = torch.rand(\n",
        "    (3, 3)\n",
        ")  # Tensor of shape 3x3 with values from uniform distribution in interval [0,1)\n",
        "print(xx)\n",
        "x = torch.ones((3, 3))  # Tensor of shape 3x3 with values of 1\n",
        "print(x)\n",
        "x = torch.eye(5, 5)  # Returns Identity Matrix I, (I <-> Eye), matrix of shape 2x3\n",
        "print(x)\n",
        "x1x = torch.arange(\n",
        "    start=0, end=5, step=1\n",
        ")  # Tensor [0, 1, 2, 3, 4], note, can also do: torch.arange(5)\n",
        "print(x1x)\n",
        "x = torch.linspace(start=0.1, end=1, steps=10)  # x = [0.1, 0.2, ..., 1]\n",
        "print(x)\n",
        "x = torch.empty(size=(1, 5)).normal_(\n",
        "    mean=0, std=1\n",
        ")  # Normally distributed with mean=0, std=1\n",
        "print(x)\n",
        "x = torch.empty(size=(1, 5)).uniform_(\n",
        "    0, 1\n",
        ")  # Values from a uniform distribution low=0, high=1\n",
        "print(x)\n",
        "x = torch.diag(torch.ones(3))  # Diagonal matrix of shape 3x3\n",
        "x = torch.zeros_like(xx)\n",
        "print(x)"
      ],
      "metadata": {
        "colab": {
          "base_uri": "https://localhost:8080/"
        },
        "id": "ldDacIqWYytG",
        "outputId": "d47b2cff-cd3d-4b44-a255-255fcb0e4201"
      },
      "execution_count": 35,
      "outputs": [
        {
          "output_type": "stream",
          "name": "stdout",
          "text": [
            "tensor([[1.7833e+28, 4.5247e-41, 3.5426e-26],\n",
            "        [3.1273e-41, 1.0000e+00, 0.0000e+00],\n",
            "        [0.0000e+00, 0.0000e+00, 6.7262e-44]])\n",
            "tensor([[0., 0., 0.],\n",
            "        [0., 0., 0.],\n",
            "        [0., 0., 0.]])\n",
            "tensor([[0.4314, 0.5542, 0.2598],\n",
            "        [0.4405, 0.0880, 0.5806],\n",
            "        [0.3250, 0.0118, 0.2295]])\n",
            "tensor([[1., 1., 1.],\n",
            "        [1., 1., 1.],\n",
            "        [1., 1., 1.]])\n",
            "tensor([[1., 0., 0., 0., 0.],\n",
            "        [0., 1., 0., 0., 0.],\n",
            "        [0., 0., 1., 0., 0.],\n",
            "        [0., 0., 0., 1., 0.],\n",
            "        [0., 0., 0., 0., 1.]])\n",
            "tensor([0, 1, 2, 3, 4])\n",
            "tensor([0.1000, 0.2000, 0.3000, 0.4000, 0.5000, 0.6000, 0.7000, 0.8000, 0.9000,\n",
            "        1.0000])\n",
            "tensor([[-0.5552, -0.8960,  0.3334,  1.2243, -0.8040]])\n",
            "tensor([[0.6607, 0.7109, 0.5522, 0.6534, 0.7031]])\n",
            "tensor([[0., 0., 0.],\n",
            "        [0., 0., 0.],\n",
            "        [0., 0., 0.]])\n"
          ]
        }
      ]
    },
    {
      "cell_type": "markdown",
      "source": [
        "##### Datatypes Characteristics\n",
        "The most common type (and generally the default) is torch.float32 or torch.float.\n",
        "\n",
        "This is referred to as \"32-bit floating point\".\n",
        "\n",
        "But there's also 16-bit floating point (torch.float16 or torch.half) and 64-bit floating point (torch.float64 or torch.double).\n",
        "\n",
        "And to confuse things even more there's also 8-bit, 16-bit, 32-bit and 64-bit integers."
      ],
      "metadata": {
        "id": "8FjA-nh_Yz01"
      }
    },
    {
      "cell_type": "code",
      "source": [
        "tensor = torch.arange(10)\n",
        "print(tensor)"
      ],
      "metadata": {
        "colab": {
          "base_uri": "https://localhost:8080/"
        },
        "id": "-xdIQGlrY0GV",
        "outputId": "45186095-fb5e-4904-8ba8-cd93aaa73305"
      },
      "execution_count": 39,
      "outputs": [
        {
          "output_type": "stream",
          "name": "stdout",
          "text": [
            "tensor([0, 1, 2, 3, 4, 5, 6, 7, 8, 9])\n"
          ]
        }
      ]
    },
    {
      "cell_type": "code",
      "source": [
        "print(tensor.dtype)\n",
        "print(tensor.to(torch.int8))\n",
        "print(tensor.half()) # float16\n",
        "print(tensor.double()) # float64\n",
        "print(tensor.short()) # int16\n",
        "print(tensor.long()) # int64"
      ],
      "metadata": {
        "colab": {
          "base_uri": "https://localhost:8080/"
        },
        "id": "fDMnrLBiY0Qw",
        "outputId": "f3ab44da-f595-4242-88e6-9e86d1ea2951"
      },
      "execution_count": 46,
      "outputs": [
        {
          "output_type": "stream",
          "name": "stdout",
          "text": [
            "torch.int64\n",
            "tensor([0, 1, 2, 3, 4, 5, 6, 7, 8, 9], dtype=torch.int8)\n",
            "tensor([0., 1., 2., 3., 4., 5., 6., 7., 8., 9.], dtype=torch.float16)\n",
            "tensor([0., 1., 2., 3., 4., 5., 6., 7., 8., 9.], dtype=torch.float64)\n",
            "tensor([0, 1, 2, 3, 4, 5, 6, 7, 8, 9], dtype=torch.int16)\n",
            "tensor([0, 1, 2, 3, 4, 5, 6, 7, 8, 9])\n"
          ]
        }
      ]
    },
    {
      "cell_type": "markdown",
      "source": [
        "##Tensor Mathematical Operations"
      ],
      "metadata": {
        "id": "p7_lsCdCY0cl"
      }
    },
    {
      "cell_type": "code",
      "source": [
        "# declaring basic tensors--\n",
        "x = torch.tensor([1,19,7],device = device).to(torch.float16)\n",
        "y = torch.tensor([22,4,17],device = device).to(torch.float16)"
      ],
      "metadata": {
        "id": "clhkA8OJf88y"
      },
      "execution_count": 49,
      "outputs": []
    },
    {
      "cell_type": "code",
      "source": [
        "z1 = torch.add(x, y)  # This is another way\n",
        "z2 = x + y  # This is my preferred way, simple and clean.\n",
        "print(z1,z2)"
      ],
      "metadata": {
        "colab": {
          "base_uri": "https://localhost:8080/"
        },
        "id": "RKAP8zxNgaIn",
        "outputId": "333451ce-9366-409b-d8ac-2b55864e5911"
      },
      "execution_count": 50,
      "outputs": [
        {
          "output_type": "stream",
          "name": "stdout",
          "text": [
            "tensor([23., 23., 24.], dtype=torch.float16) tensor([23., 23., 24.], dtype=torch.float16)\n"
          ]
        }
      ]
    },
    {
      "cell_type": "code",
      "source": [
        "# -- Inplace Operations --\n",
        "t = torch.zeros(3)\n",
        "t.add_(x)\n",
        "print(t)"
      ],
      "metadata": {
        "colab": {
          "base_uri": "https://localhost:8080/"
        },
        "id": "hiD5vVVUgoNS",
        "outputId": "5ccb9d55-f834-4714-faaa-df34808f208f"
      },
      "execution_count": 51,
      "outputs": [
        {
          "output_type": "stream",
          "name": "stdout",
          "text": [
            "tensor([ 1., 19.,  7.])\n"
          ]
        }
      ]
    },
    {
      "cell_type": "code",
      "source": [
        "# matrix multiplications -- all flavors\n",
        "x = torch.tensor([[1, 2], [3, 4]])\n",
        "y = torch.tensor([[5, 6], [7, 8]])\n",
        "print(torch.mm(x, y))\n",
        "print(x@y)\n",
        "print(x.matmul(y))\n",
        "print(torch.matmul(x,y))"
      ],
      "metadata": {
        "colab": {
          "base_uri": "https://localhost:8080/"
        },
        "id": "AxmNxXMEp2z6",
        "outputId": "f333bdbe-999c-49df-b344-970baa6e81d6"
      },
      "execution_count": 55,
      "outputs": [
        {
          "output_type": "stream",
          "name": "stdout",
          "text": [
            "tensor([[19, 22],\n",
            "        [43, 50]])\n",
            "tensor([[19, 22],\n",
            "        [43, 50]])\n",
            "tensor([[19, 22],\n",
            "        [43, 50]])\n",
            "tensor([[19, 22],\n",
            "        [43, 50]])\n"
          ]
        }
      ]
    },
    {
      "cell_type": "code",
      "source": [
        "# Shapes need to be in the right way\n",
        "tensor_A = torch.tensor([[1, 2],\n",
        "                         [3, 4],\n",
        "                         [5, 6]], dtype=torch.float32)\n",
        "\n",
        "tensor_B = torch.tensor([[7, 10],\n",
        "                         [8, 11],\n",
        "                         [9, 12]], dtype=torch.float32)\n",
        "\n",
        "# torch.matmul(tensor_A, tensor_B) # (this will error)"
      ],
      "metadata": {
        "id": "RV-teNPKsxYU"
      },
      "execution_count": 61,
      "outputs": []
    },
    {
      "cell_type": "code",
      "source": [
        "torch.matmul(tensor_A, tensor_B.T)"
      ],
      "metadata": {
        "colab": {
          "base_uri": "https://localhost:8080/"
        },
        "id": "jatOorbWs0Ie",
        "outputId": "e5ae2464-5950-4646-9e1c-79118f728c28"
      },
      "execution_count": 62,
      "outputs": [
        {
          "output_type": "execute_result",
          "data": {
            "text/plain": [
              "tensor([[ 27.,  30.,  33.],\n",
              "        [ 61.,  68.,  75.],\n",
              "        [ 95., 106., 117.]])"
            ]
          },
          "metadata": {},
          "execution_count": 62
        }
      ]
    },
    {
      "cell_type": "code",
      "source": [
        "# element wise mul / dot product\n",
        "print(tensor_A*tensor_B)"
      ],
      "metadata": {
        "colab": {
          "base_uri": "https://localhost:8080/"
        },
        "id": "cd5za9LTrzas",
        "outputId": "41664bce-71fc-4370-d3b9-9ef1fd5a52bd"
      },
      "execution_count": 63,
      "outputs": [
        {
          "output_type": "stream",
          "name": "stdout",
          "text": [
            "tensor([[ 7., 20.],\n",
            "        [24., 44.],\n",
            "        [45., 72.]])\n"
          ]
        }
      ]
    },
    {
      "cell_type": "code",
      "source": [
        "# for dot product to work the tensors have to be 1D -- **\n",
        "torch.dot(torch.tensor([2, 3]), torch.tensor([2, 1]))"
      ],
      "metadata": {
        "colab": {
          "base_uri": "https://localhost:8080/"
        },
        "id": "Mh1Y8OwesXRu",
        "outputId": "fb8aab6e-1290-4e0a-c50e-8670d6ee0411"
      },
      "execution_count": 66,
      "outputs": [
        {
          "output_type": "execute_result",
          "data": {
            "text/plain": [
              "tensor(7)"
            ]
          },
          "metadata": {},
          "execution_count": 66
        }
      ]
    },
    {
      "cell_type": "code",
      "source": [],
      "metadata": {
        "id": "mgFYW3WxtSIx"
      },
      "execution_count": null,
      "outputs": []
    }
  ]
}