{
  "nbformat": 4,
  "nbformat_minor": 0,
  "metadata": {
    "colab": {
      "provenance": [],
      "mount_file_id": "1k9Q0qu70XY7GbvGjbNq5iHnvpmoBjs2-",
      "authorship_tag": "ABX9TyMOhNYdLuPoUcf+7PL84VRM",
      "include_colab_link": true
    },
    "kernelspec": {
      "name": "python3",
      "display_name": "Python 3"
    },
    "language_info": {
      "name": "python"
    }
  },
  "cells": [
    {
      "cell_type": "markdown",
      "metadata": {
        "id": "view-in-github",
        "colab_type": "text"
      },
      "source": [
        "<a href=\"https://colab.research.google.com/github/soutrik71/pytorch_classics/blob/main/AP_Torch1.ipynb\" target=\"_parent\"><img src=\"https://colab.research.google.com/assets/colab-badge.svg\" alt=\"Open In Colab\"/></a>"
      ]
    },
    {
      "cell_type": "code",
      "source": [
        "import torch\n",
        "import numpy as np\n",
        "print(torch.__version__)\n",
        "print(torch.cuda.is_available())\n",
        "# print(torch.cuda.device_count())\n",
        "# print(torch.cuda.current_device())\n",
        "# print(torch.cuda.get_device_name())\n",
        "print(torch.cpu.device_count())"
      ],
      "metadata": {
        "colab": {
          "base_uri": "https://localhost:8080/"
        },
        "id": "83vXT4gx_VhL",
        "outputId": "576f050d-67fd-47ab-b399-403f0f69d05f"
      },
      "execution_count": 1,
      "outputs": [
        {
          "output_type": "stream",
          "name": "stdout",
          "text": [
            "2.1.0+cu121\n",
            "False\n",
            "1\n"
          ]
        }
      ]
    },
    {
      "cell_type": "code",
      "source": [
        "device = \"cuda\" if torch.cuda.is_available() else \"cpu\"\n",
        "print(device)"
      ],
      "metadata": {
        "colab": {
          "base_uri": "https://localhost:8080/"
        },
        "id": "0aApZKTd_tkE",
        "outputId": "3191ac3c-a13e-45cc-9019-84e32def4fc9"
      },
      "execution_count": 2,
      "outputs": [
        {
          "output_type": "stream",
          "name": "stdout",
          "text": [
            "cpu\n"
          ]
        }
      ]
    },
    {
      "cell_type": "markdown",
      "source": [
        "##Initializing Tensors"
      ],
      "metadata": {
        "id": "ANeFDiO04QWO"
      }
    },
    {
      "cell_type": "code",
      "source": [
        "# a scalar\n",
        "my_scalar = torch.tensor(42, dtype = torch.float16, device=device)\n",
        "print(my_scalar)"
      ],
      "metadata": {
        "colab": {
          "base_uri": "https://localhost:8080/"
        },
        "id": "_2apvWCNTiqF",
        "outputId": "18523917-6257-43a3-c9ff-3038f7fb8ef6"
      },
      "execution_count": 7,
      "outputs": [
        {
          "output_type": "stream",
          "name": "stdout",
          "text": [
            "tensor(42., dtype=torch.float16)\n"
          ]
        }
      ]
    },
    {
      "cell_type": "code",
      "source": [
        "# a Tensor in this case of shape 2x3\n",
        "my_matrix = torch.tensor([[1,2,4],[11,22,44]], dtype = torch.float32, device = device)\n",
        "print(my_matrix)"
      ],
      "metadata": {
        "colab": {
          "base_uri": "https://localhost:8080/"
        },
        "id": "y2AEyhjn9YpH",
        "outputId": "ebbd0dd4-45f6-4695-cf1f-311d422d9f9c"
      },
      "execution_count": 8,
      "outputs": [
        {
          "output_type": "stream",
          "name": "stdout",
          "text": [
            "tensor([[ 1.,  2.,  4.],\n",
            "        [11., 22., 44.]])\n"
          ]
        }
      ]
    },
    {
      "cell_type": "code",
      "source": [
        "# few properties of a tensor\n",
        "print(my_scalar.shape)\n",
        "print(my_scalar.item())\n",
        "print(my_matrix.shape)\n",
        "print(my_matrix.dtype)\n",
        "print(my_matrix.ndim)\n",
        "print(my_matrix.numpy()) # convert into numpy\n",
        "print(my_matrix.device)\n",
        "print(my_matrix.numel()) # no of elements"
      ],
      "metadata": {
        "colab": {
          "base_uri": "https://localhost:8080/"
        },
        "id": "1qqJFcMwTG_E",
        "outputId": "075e5780-2fc0-417d-8592-580279dcfa93"
      },
      "execution_count": 24,
      "outputs": [
        {
          "output_type": "stream",
          "name": "stdout",
          "text": [
            "torch.Size([])\n",
            "42.0\n",
            "torch.Size([2, 3])\n",
            "torch.float32\n",
            "2\n",
            "[[ 1.  2.  4.]\n",
            " [11. 22. 44.]]\n",
            "cpu\n",
            "6\n"
          ]
        }
      ]
    },
    {
      "cell_type": "code",
      "source": [
        "# Tensor\n",
        "TENSOR = torch.tensor([[[1, 2, 3],\n",
        "                        [3, 6, 9],\n",
        "                        [2, 4, 5]]],\n",
        "                      dtype = torch.half,\n",
        "                      device = device)\n",
        "print(TENSOR)\n",
        "print(TENSOR.shape)\n",
        "print(TENSOR.dtype)\n",
        "print(TENSOR.size()) # same as shape attrb\n",
        "print(TENSOR.ndim)\n",
        "print(TENSOR.device)\n",
        "print(TENSOR.numpy())\n",
        "print(TENSOR.numel())"
      ],
      "metadata": {
        "colab": {
          "base_uri": "https://localhost:8080/"
        },
        "id": "AI6t_7BKVHoj",
        "outputId": "b36545df-301d-413f-d451-266a82290b56"
      },
      "execution_count": 31,
      "outputs": [
        {
          "output_type": "stream",
          "name": "stdout",
          "text": [
            "tensor([[[1., 2., 3.],\n",
            "         [3., 6., 9.],\n",
            "         [2., 4., 5.]]], dtype=torch.float16)\n",
            "torch.Size([1, 3, 3])\n",
            "torch.float16\n",
            "torch.Size([1, 3, 3])\n",
            "3\n",
            "cpu\n",
            "[[[1. 2. 3.]\n",
            "  [3. 6. 9.]\n",
            "  [2. 4. 5.]]]\n",
            "9\n"
          ]
        }
      ]
    },
    {
      "cell_type": "code",
      "source": [
        "TENSOR.shape"
      ],
      "metadata": {
        "colab": {
          "base_uri": "https://localhost:8080/"
        },
        "id": "Q5sVXlFKUtfm",
        "outputId": "9ae15041-853a-459e-c79c-5cdcfb1dda19"
      },
      "execution_count": 21,
      "outputs": [
        {
          "output_type": "execute_result",
          "data": {
            "text/plain": [
              "torch.Size([1, 3, 3])"
            ]
          },
          "metadata": {},
          "execution_count": 21
        }
      ]
    },
    {
      "cell_type": "markdown",
      "source": [
        "##### View of a TENSOR\n",
        "![picture](https://drive.google.com/uc?export=view&id=1-UGpr8PzhAhHW6U2cpSpGu3SWjVodhaJ)"
      ],
      "metadata": {
        "id": "atf0RmoYVgWK"
      }
    },
    {
      "cell_type": "markdown",
      "source": [
        "##### Blank/Random tensor initalization methods"
      ],
      "metadata": {
        "id": "UKVf0QlaXH4t"
      }
    },
    {
      "cell_type": "code",
      "source": [
        "x = torch.empty(size=(3, 3))  # Tensor of shape 3x3 with uninitialized data\n",
        "print(x)\n",
        "x = torch.zeros((3, 3))  # Tensor of shape 3x3 with values of 0\n",
        "print(x)\n",
        "xx = torch.rand(\n",
        "    (3, 3)\n",
        ")  # Tensor of shape 3x3 with values from uniform distribution in interval [0,1)\n",
        "print(xx)\n",
        "x = torch.ones((3, 3))  # Tensor of shape 3x3 with values of 1\n",
        "print(x)\n",
        "x = torch.eye(5, 5)  # Returns Identity Matrix I, (I <-> Eye), matrix of shape 2x3\n",
        "print(x)\n",
        "x1x = torch.arange(\n",
        "    start=0, end=5, step=1\n",
        ")  # Tensor [0, 1, 2, 3, 4], note, can also do: torch.arange(5)\n",
        "print(x1x)\n",
        "x = torch.linspace(start=0.1, end=1, steps=10)  # x = [0.1, 0.2, ..., 1]\n",
        "print(x)\n",
        "x = torch.empty(size=(1, 5)).normal_(\n",
        "    mean=0, std=1\n",
        ")  # Normally distributed with mean=0, std=1\n",
        "print(x)\n",
        "x = torch.empty(size=(1, 5)).uniform_(\n",
        "    0, 1\n",
        ")  # Values from a uniform distribution low=0, high=1\n",
        "print(x)\n",
        "x = torch.diag(torch.ones(3))  # Diagonal matrix of shape 3x3\n",
        "x = torch.zeros_like(xx)\n",
        "print(x)"
      ],
      "metadata": {
        "colab": {
          "base_uri": "https://localhost:8080/"
        },
        "id": "ldDacIqWYytG",
        "outputId": "d47b2cff-cd3d-4b44-a255-255fcb0e4201"
      },
      "execution_count": 35,
      "outputs": [
        {
          "output_type": "stream",
          "name": "stdout",
          "text": [
            "tensor([[1.7833e+28, 4.5247e-41, 3.5426e-26],\n",
            "        [3.1273e-41, 1.0000e+00, 0.0000e+00],\n",
            "        [0.0000e+00, 0.0000e+00, 6.7262e-44]])\n",
            "tensor([[0., 0., 0.],\n",
            "        [0., 0., 0.],\n",
            "        [0., 0., 0.]])\n",
            "tensor([[0.4314, 0.5542, 0.2598],\n",
            "        [0.4405, 0.0880, 0.5806],\n",
            "        [0.3250, 0.0118, 0.2295]])\n",
            "tensor([[1., 1., 1.],\n",
            "        [1., 1., 1.],\n",
            "        [1., 1., 1.]])\n",
            "tensor([[1., 0., 0., 0., 0.],\n",
            "        [0., 1., 0., 0., 0.],\n",
            "        [0., 0., 1., 0., 0.],\n",
            "        [0., 0., 0., 1., 0.],\n",
            "        [0., 0., 0., 0., 1.]])\n",
            "tensor([0, 1, 2, 3, 4])\n",
            "tensor([0.1000, 0.2000, 0.3000, 0.4000, 0.5000, 0.6000, 0.7000, 0.8000, 0.9000,\n",
            "        1.0000])\n",
            "tensor([[-0.5552, -0.8960,  0.3334,  1.2243, -0.8040]])\n",
            "tensor([[0.6607, 0.7109, 0.5522, 0.6534, 0.7031]])\n",
            "tensor([[0., 0., 0.],\n",
            "        [0., 0., 0.],\n",
            "        [0., 0., 0.]])\n"
          ]
        }
      ]
    },
    {
      "cell_type": "markdown",
      "source": [
        "##### Datatypes Characteristics\n",
        "The most common type (and generally the default) is torch.float32 or torch.float.\n",
        "\n",
        "This is referred to as \"32-bit floating point\".\n",
        "\n",
        "But there's also 16-bit floating point (torch.float16 or torch.half) and 64-bit floating point (torch.float64 or torch.double).\n",
        "\n",
        "And to confuse things even more there's also 8-bit, 16-bit, 32-bit and 64-bit integers."
      ],
      "metadata": {
        "id": "8FjA-nh_Yz01"
      }
    },
    {
      "cell_type": "code",
      "source": [
        "tensor = torch.arange(10)\n",
        "print(tensor)"
      ],
      "metadata": {
        "colab": {
          "base_uri": "https://localhost:8080/"
        },
        "id": "-xdIQGlrY0GV",
        "outputId": "45186095-fb5e-4904-8ba8-cd93aaa73305"
      },
      "execution_count": 39,
      "outputs": [
        {
          "output_type": "stream",
          "name": "stdout",
          "text": [
            "tensor([0, 1, 2, 3, 4, 5, 6, 7, 8, 9])\n"
          ]
        }
      ]
    },
    {
      "cell_type": "code",
      "source": [
        "print(tensor.dtype)\n",
        "print(tensor.to(torch.int8))\n",
        "print(tensor.half()) # float16\n",
        "print(tensor.double()) # float64\n",
        "print(tensor.short()) # int16\n",
        "print(tensor.long()) # int64"
      ],
      "metadata": {
        "colab": {
          "base_uri": "https://localhost:8080/"
        },
        "id": "fDMnrLBiY0Qw",
        "outputId": "f3ab44da-f595-4242-88e6-9e86d1ea2951"
      },
      "execution_count": 46,
      "outputs": [
        {
          "output_type": "stream",
          "name": "stdout",
          "text": [
            "torch.int64\n",
            "tensor([0, 1, 2, 3, 4, 5, 6, 7, 8, 9], dtype=torch.int8)\n",
            "tensor([0., 1., 2., 3., 4., 5., 6., 7., 8., 9.], dtype=torch.float16)\n",
            "tensor([0., 1., 2., 3., 4., 5., 6., 7., 8., 9.], dtype=torch.float64)\n",
            "tensor([0, 1, 2, 3, 4, 5, 6, 7, 8, 9], dtype=torch.int16)\n",
            "tensor([0, 1, 2, 3, 4, 5, 6, 7, 8, 9])\n"
          ]
        }
      ]
    },
    {
      "cell_type": "markdown",
      "source": [
        "##### Forms of a tensor\n",
        "![picture](https://drive.google.com/uc?export=view&id=1dTT3vbHv9wep-5F85gztqm9Wf2PW_Xpe)"
      ],
      "metadata": {
        "id": "7WZHpeL1Eath"
      }
    },
    {
      "cell_type": "markdown",
      "source": [
        "##Tensor Mathematical Operations"
      ],
      "metadata": {
        "id": "p7_lsCdCY0cl"
      }
    },
    {
      "cell_type": "code",
      "source": [
        "# declaring basic tensors--\n",
        "x = torch.tensor([1,19,7],device = device).to(torch.float16)\n",
        "y = torch.tensor([22,4,17],device = device).to(torch.float16)"
      ],
      "metadata": {
        "id": "clhkA8OJf88y"
      },
      "execution_count": 49,
      "outputs": []
    },
    {
      "cell_type": "code",
      "source": [
        "z1 = torch.add(x, y)  # This is another way\n",
        "z2 = x + y  # This is my preferred way, simple and clean.\n",
        "print(z1,z2)"
      ],
      "metadata": {
        "colab": {
          "base_uri": "https://localhost:8080/"
        },
        "id": "RKAP8zxNgaIn",
        "outputId": "333451ce-9366-409b-d8ac-2b55864e5911"
      },
      "execution_count": 50,
      "outputs": [
        {
          "output_type": "stream",
          "name": "stdout",
          "text": [
            "tensor([23., 23., 24.], dtype=torch.float16) tensor([23., 23., 24.], dtype=torch.float16)\n"
          ]
        }
      ]
    },
    {
      "cell_type": "code",
      "source": [
        "# -- Inplace Operations --\n",
        "t = torch.zeros(3)\n",
        "t.add_(x)\n",
        "print(t)"
      ],
      "metadata": {
        "colab": {
          "base_uri": "https://localhost:8080/"
        },
        "id": "hiD5vVVUgoNS",
        "outputId": "5ccb9d55-f834-4714-faaa-df34808f208f"
      },
      "execution_count": 51,
      "outputs": [
        {
          "output_type": "stream",
          "name": "stdout",
          "text": [
            "tensor([ 1., 19.,  7.])\n"
          ]
        }
      ]
    },
    {
      "cell_type": "markdown",
      "source": [
        "##### Tensor multiplications"
      ],
      "metadata": {
        "id": "Qj7Ouy1_wRTF"
      }
    },
    {
      "cell_type": "code",
      "source": [
        "# matrix multiplications -- all flavors\n",
        "x = torch.tensor([[1, 2], [3, 4]])\n",
        "y = torch.tensor([[5, 6], [7, 8]])\n",
        "print(torch.mm(x, y))\n",
        "print(x@y)\n",
        "print(x.matmul(y))\n",
        "print(torch.matmul(x,y))"
      ],
      "metadata": {
        "colab": {
          "base_uri": "https://localhost:8080/"
        },
        "id": "AxmNxXMEp2z6",
        "outputId": "f333bdbe-999c-49df-b344-970baa6e81d6"
      },
      "execution_count": 55,
      "outputs": [
        {
          "output_type": "stream",
          "name": "stdout",
          "text": [
            "tensor([[19, 22],\n",
            "        [43, 50]])\n",
            "tensor([[19, 22],\n",
            "        [43, 50]])\n",
            "tensor([[19, 22],\n",
            "        [43, 50]])\n",
            "tensor([[19, 22],\n",
            "        [43, 50]])\n"
          ]
        }
      ]
    },
    {
      "cell_type": "code",
      "source": [
        "# Shapes need to be in the right way\n",
        "tensor_A = torch.tensor([[1, 2],\n",
        "                         [11, 4],\n",
        "                         [5, 6]], dtype=torch.float32)\n",
        "\n",
        "tensor_B = torch.tensor([[7, 10],\n",
        "                         [8, 11],\n",
        "                         [9, 12]], dtype=torch.float32)\n",
        "\n",
        "# torch.matmul(tensor_A, tensor_B) # (this will error)"
      ],
      "metadata": {
        "id": "RV-teNPKsxYU"
      },
      "execution_count": 82,
      "outputs": []
    },
    {
      "cell_type": "code",
      "source": [
        "torch.matmul(tensor_A, tensor_B.T)"
      ],
      "metadata": {
        "colab": {
          "base_uri": "https://localhost:8080/"
        },
        "id": "jatOorbWs0Ie",
        "outputId": "e5ae2464-5950-4646-9e1c-79118f728c28"
      },
      "execution_count": 62,
      "outputs": [
        {
          "output_type": "execute_result",
          "data": {
            "text/plain": [
              "tensor([[ 27.,  30.,  33.],\n",
              "        [ 61.,  68.,  75.],\n",
              "        [ 95., 106., 117.]])"
            ]
          },
          "metadata": {},
          "execution_count": 62
        }
      ]
    },
    {
      "cell_type": "code",
      "source": [
        "# element wise mul / dot product\n",
        "print(tensor_A*tensor_B)"
      ],
      "metadata": {
        "colab": {
          "base_uri": "https://localhost:8080/"
        },
        "id": "cd5za9LTrzas",
        "outputId": "41664bce-71fc-4370-d3b9-9ef1fd5a52bd"
      },
      "execution_count": 63,
      "outputs": [
        {
          "output_type": "stream",
          "name": "stdout",
          "text": [
            "tensor([[ 7., 20.],\n",
            "        [24., 44.],\n",
            "        [45., 72.]])\n"
          ]
        }
      ]
    },
    {
      "cell_type": "code",
      "source": [
        "# for dot product to work the tensors have to be 1D -- **\n",
        "torch.dot(torch.tensor([2, 3]), torch.tensor([2, 1]))"
      ],
      "metadata": {
        "colab": {
          "base_uri": "https://localhost:8080/"
        },
        "id": "Mh1Y8OwesXRu",
        "outputId": "fb8aab6e-1290-4e0a-c50e-8670d6ee0411"
      },
      "execution_count": 66,
      "outputs": [
        {
          "output_type": "execute_result",
          "data": {
            "text/plain": [
              "tensor(7)"
            ]
          },
          "metadata": {},
          "execution_count": 66
        }
      ]
    },
    {
      "cell_type": "code",
      "source": [
        "# -- Batch Matrix Multiplication --\n",
        "batch = 32\n",
        "n = 10\n",
        "m = 20\n",
        "p = 30\n",
        "tensor1 = torch.rand((batch, n, m))\n",
        "tensor2 = torch.rand((batch, m, p))\n",
        "out_bmm = torch.bmm(tensor1, tensor2)\n",
        "print(out_bmm.shape)# 32b*10r*30c\n",
        "print(out_bmm[0].shape) # 10r*30c"
      ],
      "metadata": {
        "colab": {
          "base_uri": "https://localhost:8080/"
        },
        "id": "mgFYW3WxtSIx",
        "outputId": "43f1eca9-0d4e-444a-a86b-e7af842478fb"
      },
      "execution_count": 72,
      "outputs": [
        {
          "output_type": "stream",
          "name": "stdout",
          "text": [
            "torch.Size([32, 10, 30])\n",
            "torch.Size([10, 30])\n"
          ]
        }
      ]
    },
    {
      "cell_type": "markdown",
      "source": [
        "##### Aggregated operations"
      ],
      "metadata": {
        "id": "vccjceRuvTyq"
      }
    },
    {
      "cell_type": "code",
      "source": [
        "tensor_A"
      ],
      "metadata": {
        "colab": {
          "base_uri": "https://localhost:8080/"
        },
        "id": "OVk7wpnAwnNg",
        "outputId": "68766062-f0c3-46df-c5fc-bf228f2ff94a"
      },
      "execution_count": 84,
      "outputs": [
        {
          "output_type": "execute_result",
          "data": {
            "text/plain": [
              "tensor([[ 1.,  2.],\n",
              "        [11.,  4.],\n",
              "        [ 5.,  6.]])"
            ]
          },
          "metadata": {},
          "execution_count": 84
        }
      ]
    },
    {
      "cell_type": "code",
      "source": [
        "print(tensor_A.max())\n",
        "print(tensor_A.max(dim=0)) # col wise\n",
        "print(tensor_A.max(dim=1)) # row wise"
      ],
      "metadata": {
        "colab": {
          "base_uri": "https://localhost:8080/"
        },
        "id": "O50ixRdYvc25",
        "outputId": "085a391a-056d-4d87-8b05-5e3a5cf468e1"
      },
      "execution_count": 83,
      "outputs": [
        {
          "output_type": "stream",
          "name": "stdout",
          "text": [
            "tensor(11.)\n",
            "torch.return_types.max(\n",
            "values=tensor([11.,  6.]),\n",
            "indices=tensor([1, 2]))\n",
            "torch.return_types.max(\n",
            "values=tensor([ 2., 11.,  6.]),\n",
            "indices=tensor([1, 0, 1]))\n"
          ]
        }
      ]
    },
    {
      "cell_type": "code",
      "source": [
        "print(tensor_A.mean())\n",
        "print(tensor_A.mean(dim=0)) # col wise mean\n",
        "print(tensor_A.mean(dim=1)) # row wise mean"
      ],
      "metadata": {
        "colab": {
          "base_uri": "https://localhost:8080/"
        },
        "id": "ljHJjHLVwZV_",
        "outputId": "9a6849b6-323f-4d8e-8970-b809ef2ac36c"
      },
      "execution_count": 85,
      "outputs": [
        {
          "output_type": "stream",
          "name": "stdout",
          "text": [
            "tensor(4.8333)\n",
            "tensor([5.6667, 4.0000])\n",
            "tensor([1.5000, 7.5000, 5.5000])\n"
          ]
        }
      ]
    },
    {
      "cell_type": "code",
      "source": [
        "# same using torch methods\n",
        "values,indices = torch.max(tensor_A,dim=1)\n",
        "print(values)\n",
        "print(indices)"
      ],
      "metadata": {
        "colab": {
          "base_uri": "https://localhost:8080/"
        },
        "id": "PytyT8aUxGsX",
        "outputId": "665bd1fd-d985-4e89-bf25-96d5aeb2a9a9"
      },
      "execution_count": 86,
      "outputs": [
        {
          "output_type": "stream",
          "name": "stdout",
          "text": [
            "tensor([ 2., 11.,  6.])\n",
            "tensor([1, 0, 1])\n"
          ]
        }
      ]
    },
    {
      "cell_type": "markdown",
      "source": [
        "##### Tensor Broadcasting and Transpose"
      ],
      "metadata": {
        "id": "jCUduC_9ynwa"
      }
    },
    {
      "cell_type": "code",
      "source": [
        "# -- Example of broadcasting --\n",
        "x1 = torch.rand((5, 5))\n",
        "x2 = torch.ones((1, 5))\n",
        "z = (x1 * x2)\n",
        "print(z)"
      ],
      "metadata": {
        "colab": {
          "base_uri": "https://localhost:8080/"
        },
        "id": "HgSAJWSbxrSg",
        "outputId": "6dc61679-0eba-4750-d216-ba38aed28ffa"
      },
      "execution_count": 88,
      "outputs": [
        {
          "output_type": "stream",
          "name": "stdout",
          "text": [
            "tensor([[0.8236, 0.6348, 0.6086, 0.4746, 0.9416],\n",
            "        [0.2919, 0.0121, 0.7253, 0.8745, 0.8874],\n",
            "        [0.3885, 0.8592, 0.3542, 0.0349, 0.7945],\n",
            "        [0.8605, 0.6092, 0.5573, 0.8594, 0.4344],\n",
            "        [0.5308, 0.4412, 0.5120, 0.4734, 0.5581]])\n"
          ]
        }
      ]
    },
    {
      "cell_type": "code",
      "source": [
        "# torch.transpose(input, dim0, dim1) - where input is the desired tensor to transpose and dim0 and dim1 are the dimensions to be swapped.\n",
        "# print(x1@x2) # wont work\n",
        "print(x1@torch.transpose(x2,0,1)) # (5*5)@(5*1)->5*1"
      ],
      "metadata": {
        "colab": {
          "base_uri": "https://localhost:8080/"
        },
        "id": "sUwcSZ2Px3CS",
        "outputId": "785bbef9-7db7-4a99-882d-3af61566caaa"
      },
      "execution_count": 92,
      "outputs": [
        {
          "output_type": "stream",
          "name": "stdout",
          "text": [
            "tensor([[3.4832],\n",
            "        [2.7912],\n",
            "        [2.4312],\n",
            "        [3.3208],\n",
            "        [2.5154]])\n"
          ]
        }
      ]
    },
    {
      "cell_type": "code",
      "source": [
        "tensor_1 = torch.linspace(1, 10, 10)\n",
        "print(torch.argmax(tensor_1))\n",
        "print(torch.argmin(tensor_1))"
      ],
      "metadata": {
        "colab": {
          "base_uri": "https://localhost:8080/"
        },
        "id": "0zpuqNMR3Iaa",
        "outputId": "dacc51ea-ea6f-4c14-fe54-b372c39354f3"
      },
      "execution_count": 100,
      "outputs": [
        {
          "output_type": "stream",
          "name": "stdout",
          "text": [
            "tensor(9)\n",
            "tensor(0)\n"
          ]
        }
      ]
    },
    {
      "cell_type": "code",
      "source": [
        "print(torch.clamp(tensor_1, min=0))\n",
        "print(torch.clamp(tensor_1, min=0,max=8.71))\n",
        "# All values < 0 set to 0 and values > 0 unchanged (this is exactly ReLU function)\n",
        "# If you want to values over max_val to be clamped, do torch.clamp(x, min=min_val, max=max_val)"
      ],
      "metadata": {
        "colab": {
          "base_uri": "https://localhost:8080/"
        },
        "id": "l63qJUbR3GUZ",
        "outputId": "6690f478-353e-4973-dd2f-61a84c1f1c1a"
      },
      "execution_count": 101,
      "outputs": [
        {
          "output_type": "stream",
          "name": "stdout",
          "text": [
            "tensor([ 1.,  2.,  3.,  4.,  5.,  6.,  7.,  8.,  9., 10.])\n",
            "tensor([1.0000, 2.0000, 3.0000, 4.0000, 5.0000, 6.0000, 7.0000, 8.0000, 8.7100,\n",
            "        8.7100])\n"
          ]
        }
      ]
    },
    {
      "cell_type": "code",
      "source": [
        "x = torch.tensor([1, 0, 1, 1, 1], dtype=torch.bool)  # True/False values\n",
        "print(torch.any(x))  # will return True, can also do x.any() instead of torch.any(x)\n",
        "print(torch.all(x))  # will return Fa"
      ],
      "metadata": {
        "colab": {
          "base_uri": "https://localhost:8080/"
        },
        "id": "AksT7VkJ4HLQ",
        "outputId": "95dde9d1-00be-4298-94b5-8a4f82244f84"
      },
      "execution_count": 103,
      "outputs": [
        {
          "output_type": "stream",
          "name": "stdout",
          "text": [
            "tensor(True)\n",
            "tensor(False)\n"
          ]
        }
      ]
    },
    {
      "cell_type": "markdown",
      "source": [
        "## Tensor Indexing"
      ],
      "metadata": {
        "id": "NgkPCT7g4X-r"
      }
    },
    {
      "cell_type": "markdown",
      "source": [
        "##### Basic index based filter"
      ],
      "metadata": {
        "id": "3rdp3RXL6rmS"
      }
    },
    {
      "cell_type": "code",
      "source": [
        "batch_size = 10\n",
        "features = 25\n",
        "x = torch.rand((batch_size, features))"
      ],
      "metadata": {
        "id": "92IsNBZx4ydr"
      },
      "execution_count": 108,
      "outputs": []
    },
    {
      "cell_type": "code",
      "source": [
        "# For example: Want to access third example in the batch and the first ten features\n",
        "print(x[2,0:10])"
      ],
      "metadata": {
        "colab": {
          "base_uri": "https://localhost:8080/"
        },
        "id": "BxtMzwAt46qB",
        "outputId": "84f9c59e-9882-46ae-c4d1-78cab2d07a13"
      },
      "execution_count": 109,
      "outputs": [
        {
          "output_type": "stream",
          "name": "stdout",
          "text": [
            "tensor([0.8465, 0.6312, 0.9758, 0.8354, 0.9033, 0.3257, 0.7675, 0.8077, 0.1043,\n",
            "        0.3522])\n"
          ]
        }
      ]
    },
    {
      "cell_type": "code",
      "source": [
        "# get the 0 row 1 feat and 1 row and 3 feat\n",
        "x = torch.rand((3, 5))\n",
        "rows = torch.tensor([0,1])\n",
        "cols = torch.tensor([1,3])\n",
        "print(x[rows, cols])"
      ],
      "metadata": {
        "colab": {
          "base_uri": "https://localhost:8080/"
        },
        "id": "e4N_pR0W47DH",
        "outputId": "a370d859-5c8c-4a3e-af91-15d3c8a71c34"
      },
      "execution_count": 114,
      "outputs": [
        {
          "output_type": "stream",
          "name": "stdout",
          "text": [
            "tensor([0.2470, 0.9724])\n"
          ]
        }
      ]
    },
    {
      "cell_type": "code",
      "source": [
        "# reversal\n",
        "x[-1,-2:]"
      ],
      "metadata": {
        "colab": {
          "base_uri": "https://localhost:8080/"
        },
        "id": "hffimAph47Xj",
        "outputId": "8ef04f0e-f3ef-4ddd-ec5f-14e1feec793c"
      },
      "execution_count": 121,
      "outputs": [
        {
          "output_type": "execute_result",
          "data": {
            "text/plain": [
              "tensor([0.3637, 0.9633])"
            ]
          },
          "metadata": {},
          "execution_count": 121
        }
      ]
    },
    {
      "cell_type": "code",
      "source": [],
      "metadata": {
        "colab": {
          "base_uri": "https://localhost:8080/"
        },
        "id": "nOt9vNF447r0",
        "outputId": "45898fbb-7d19-4552-95b2-2e5e05bc5d6f"
      },
      "execution_count": 119,
      "outputs": [
        {
          "output_type": "execute_result",
          "data": {
            "text/plain": [
              "tensor([[0.4079, 0.2470, 0.5638, 0.7323, 0.3522],\n",
              "        [0.0685, 0.4529, 0.8509, 0.9724, 0.2934],\n",
              "        [0.5128, 0.6001, 0.9480, 0.3637, 0.9633]])"
            ]
          },
          "metadata": {},
          "execution_count": 119
        }
      ]
    },
    {
      "cell_type": "markdown",
      "source": [
        "##### Conditional filtering"
      ],
      "metadata": {
        "id": "pBOA4FGV6iHn"
      }
    },
    {
      "cell_type": "code",
      "source": [
        "tensor_A = torch.tensor([[1, 2],\n",
        "                         [11, 4],\n",
        "                         [5, 6]], dtype=torch.float32)\n",
        "print(tensor_A)"
      ],
      "metadata": {
        "colab": {
          "base_uri": "https://localhost:8080/"
        },
        "id": "MespXI3Q61tD",
        "outputId": "362921a2-3afd-4b44-91b0-d8ed7a81bc58"
      },
      "execution_count": 124,
      "outputs": [
        {
          "output_type": "stream",
          "name": "stdout",
          "text": [
            "tensor([[ 1.,  2.],\n",
            "        [11.,  4.],\n",
            "        [ 5.,  6.]])\n"
          ]
        }
      ]
    },
    {
      "cell_type": "code",
      "source": [
        "tensor_A[(tensor_A <2) | (tensor_A > 5)]"
      ],
      "metadata": {
        "colab": {
          "base_uri": "https://localhost:8080/"
        },
        "id": "MLvzfhjY72QB",
        "outputId": "fb21a284-42bb-4de0-bae0-15ca54a84f8b"
      },
      "execution_count": 125,
      "outputs": [
        {
          "output_type": "execute_result",
          "data": {
            "text/plain": [
              "tensor([ 1., 11.,  6.])"
            ]
          },
          "metadata": {},
          "execution_count": 125
        }
      ]
    },
    {
      "cell_type": "code",
      "source": [
        "# conditional operations\n",
        "print(\n",
        "    torch.where(tensor_A > 10, tensor_A, tensor_A * 2)\n",
        ")\n",
        "#unique values\n",
        "print(torch.tensor([0, 0, 1, 2, 2, 3, 4]).unique())"
      ],
      "metadata": {
        "colab": {
          "base_uri": "https://localhost:8080/"
        },
        "id": "yZVNkQds8Ban",
        "outputId": "b67d68c2-1850-4382-fa69-27191ba8fa1b"
      },
      "execution_count": 127,
      "outputs": [
        {
          "output_type": "stream",
          "name": "stdout",
          "text": [
            "tensor([[ 2.,  4.],\n",
            "        [11.,  8.],\n",
            "        [10., 12.]])\n",
            "tensor([0, 1, 2, 3, 4])\n"
          ]
        }
      ]
    },
    {
      "cell_type": "code",
      "source": [
        "# 3dim filtering\n",
        "x = torch.arange(1, 19).reshape(2, 3, 3)\n",
        "x, x.shape"
      ],
      "metadata": {
        "colab": {
          "base_uri": "https://localhost:8080/"
        },
        "id": "B5k78hENBrrZ",
        "outputId": "b1aaf597-d34e-4959-f61c-679eccc7459d"
      },
      "execution_count": 173,
      "outputs": [
        {
          "output_type": "execute_result",
          "data": {
            "text/plain": [
              "(tensor([[[ 1,  2,  3],\n",
              "          [ 4,  5,  6],\n",
              "          [ 7,  8,  9]],\n",
              " \n",
              "         [[10, 11, 12],\n",
              "          [13, 14, 15],\n",
              "          [16, 17, 18]]]),\n",
              " torch.Size([2, 3, 3]))"
            ]
          },
          "metadata": {},
          "execution_count": 173
        }
      ]
    },
    {
      "cell_type": "code",
      "source": [
        "print(x[0])"
      ],
      "metadata": {
        "colab": {
          "base_uri": "https://localhost:8080/"
        },
        "id": "5ZQaIlrNBwp6",
        "outputId": "34e92584-c19e-42f8-ac14-3b14c7e97a40"
      },
      "execution_count": 174,
      "outputs": [
        {
          "output_type": "stream",
          "name": "stdout",
          "text": [
            "tensor([[1, 2, 3],\n",
            "        [4, 5, 6],\n",
            "        [7, 8, 9]])\n"
          ]
        }
      ]
    },
    {
      "cell_type": "code",
      "source": [
        "print(x[0][0,0])\n",
        "print(x[0,0,0])\n",
        "print(x[:,0,0])"
      ],
      "metadata": {
        "colab": {
          "base_uri": "https://localhost:8080/"
        },
        "id": "2qp164YtBzOb",
        "outputId": "d5ff68c2-a36b-4182-d541-34827fe79c3f"
      },
      "execution_count": 178,
      "outputs": [
        {
          "output_type": "stream",
          "name": "stdout",
          "text": [
            "tensor(1)\n",
            "tensor(1)\n",
            "tensor([ 1, 10])\n"
          ]
        }
      ]
    },
    {
      "cell_type": "code",
      "source": [
        "# Get all values of 0th & 1st dimensions but only index 1 of 2nd dimension\n",
        "x[:, :, 1]"
      ],
      "metadata": {
        "colab": {
          "base_uri": "https://localhost:8080/"
        },
        "id": "0jRbCp9fBzlC",
        "outputId": "0852bf9a-dab7-45a6-e0de-840e12aae888"
      },
      "execution_count": 180,
      "outputs": [
        {
          "output_type": "execute_result",
          "data": {
            "text/plain": [
              "tensor([[ 2,  5,  8],\n",
              "        [11, 14, 17]])"
            ]
          },
          "metadata": {},
          "execution_count": 180
        }
      ]
    },
    {
      "cell_type": "code",
      "source": [
        "# get sepcific row and column combinations\n",
        "print(x[:,1,:])\n",
        "print(x[:,1,1])"
      ],
      "metadata": {
        "colab": {
          "base_uri": "https://localhost:8080/"
        },
        "id": "Asv2yvm3CbV-",
        "outputId": "0317bd97-1da6-45e9-eb77-fc18373c3611"
      },
      "execution_count": 182,
      "outputs": [
        {
          "output_type": "stream",
          "name": "stdout",
          "text": [
            "tensor([[ 4,  5,  6],\n",
            "        [13, 14, 15]])\n",
            "tensor([ 5, 14])\n"
          ]
        }
      ]
    },
    {
      "cell_type": "markdown",
      "source": [
        "## Reshaping, stacking, squeezing and unsqueezing"
      ],
      "metadata": {
        "id": "5yy5qW_E8WrN"
      }
    },
    {
      "cell_type": "markdown",
      "source": [
        "```md\n",
        "| Method                      | One-line description                                                                                         |\n",
        "|-----------------------------|--------------------------------------------------------------------------------------------------------------|\n",
        "| torch.reshape(input, shape) | Reshapes input to shape (if compatible), can also use torch.Tensor.reshape().                                |\n",
        "| Tensor.view(shape)          | Returns a view of the original tensor in a different shape but shares the same data as the original tensor.  |\n",
        "| torch.stack(tensors, dim=0) | Concatenates a sequence of tensors along a new dimension (dim), all tensors must be same size.               |\n",
        "| torch.squeeze(input)        | Squeezes input to remove all the dimenions with value 1.                                                     |\n",
        "| torch.unsqueeze(input, dim) | Returns input with a dimension value of 1 added at dim.                                                      |\n",
        "| torch.permute(input, dims)  | Returns a view of the original input with its dimensions permuted (rearranged) to dims.                      |\n",
        "\n",
        "\n",
        "```"
      ],
      "metadata": {
        "id": "qaGiZqNx8v_l"
      }
    },
    {
      "cell_type": "code",
      "source": [
        "x = torch.arange(1., 12.)\n",
        "print(x, x.shape)\n",
        "print(id(x))"
      ],
      "metadata": {
        "colab": {
          "base_uri": "https://localhost:8080/"
        },
        "id": "HL3enZCw8wQL",
        "outputId": "e96221ee-523c-4165-aae2-bd91e3f65355"
      },
      "execution_count": 148,
      "outputs": [
        {
          "output_type": "stream",
          "name": "stdout",
          "text": [
            "tensor([ 1.,  2.,  3.,  4.,  5.,  6.,  7.,  8.,  9., 10., 11.]) torch.Size([11])\n",
            "138678347161472\n"
          ]
        }
      ]
    },
    {
      "cell_type": "code",
      "source": [
        "x1 = torch.rand(2, 5)\n",
        "x2 = torch.rand(2, 5)"
      ],
      "metadata": {
        "id": "0FHqkNwqBNCu"
      },
      "execution_count": 166,
      "outputs": []
    },
    {
      "cell_type": "markdown",
      "source": [
        "##### reshaping"
      ],
      "metadata": {
        "id": "1AD90R0F_QGp"
      }
    },
    {
      "cell_type": "code",
      "source": [
        "z = x.reshape(1,11)\n",
        "print(z.shape)\n",
        "print(id(z))"
      ],
      "metadata": {
        "colab": {
          "base_uri": "https://localhost:8080/"
        },
        "id": "siLur8z-8wbT",
        "outputId": "ba91369a-74d3-4fbb-80c8-4ce112aeee3a"
      },
      "execution_count": 149,
      "outputs": [
        {
          "output_type": "stream",
          "name": "stdout",
          "text": [
            "torch.Size([1, 11])\n",
            "138678347159872\n"
          ]
        }
      ]
    },
    {
      "cell_type": "code",
      "source": [
        "# Remember though, changing the view of a tensor with torch.view() really only creates a new view of the same tensor.-- optimized than reshape\n",
        "k = x.view(1, 11)\n",
        "print(k.shape)\n",
        "print(id(k))"
      ],
      "metadata": {
        "colab": {
          "base_uri": "https://localhost:8080/"
        },
        "id": "c9LrCt7y8wjW",
        "outputId": "72d2d1fb-3cc5-4cc2-d40d-1e0e277ac8f0"
      },
      "execution_count": 150,
      "outputs": [
        {
          "output_type": "stream",
          "name": "stdout",
          "text": [
            "torch.Size([1, 11])\n",
            "138678347168352\n"
          ]
        }
      ]
    },
    {
      "cell_type": "code",
      "source": [
        "z[0,0] = 100\n",
        "print(z)\n",
        "print(x)"
      ],
      "metadata": {
        "colab": {
          "base_uri": "https://localhost:8080/"
        },
        "id": "I-Ssm1X98wra",
        "outputId": "626af2b0-dd26-40e0-8841-ec284d281531"
      },
      "execution_count": 151,
      "outputs": [
        {
          "output_type": "stream",
          "name": "stdout",
          "text": [
            "tensor([[100.,   2.,   3.,   4.,   5.,   6.,   7.,   8.,   9.,  10.,  11.]])\n",
            "tensor([100.,   2.,   3.,   4.,   5.,   6.,   7.,   8.,   9.,  10.,  11.])\n"
          ]
        }
      ]
    },
    {
      "cell_type": "code",
      "source": [
        "k[0,0] = 99\n",
        "print(k)\n",
        "print(x)"
      ],
      "metadata": {
        "colab": {
          "base_uri": "https://localhost:8080/"
        },
        "id": "IvM59gyV8wyV",
        "outputId": "6f225f90-217b-4bb4-a6a9-d96b9770d1cc"
      },
      "execution_count": 152,
      "outputs": [
        {
          "output_type": "stream",
          "name": "stdout",
          "text": [
            "tensor([[99.,  2.,  3.,  4.,  5.,  6.,  7.,  8.,  9., 10., 11.]])\n",
            "tensor([99.,  2.,  3.,  4.,  5.,  6.,  7.,  8.,  9., 10., 11.])\n"
          ]
        }
      ]
    },
    {
      "cell_type": "code",
      "source": [
        "# -1 means unrolling of dimensions\n",
        "print(x1.reshape(-1))\n",
        "print(x1.view(-1))"
      ],
      "metadata": {
        "colab": {
          "base_uri": "https://localhost:8080/"
        },
        "id": "R88LMmCxBOu1",
        "outputId": "34944c5b-77a8-49e6-fe4b-f3b44ced62d1"
      },
      "execution_count": 167,
      "outputs": [
        {
          "output_type": "stream",
          "name": "stdout",
          "text": [
            "tensor([0.4066, 0.9608, 0.4022, 0.6919, 0.3242, 0.6369, 0.5851, 0.0498, 0.6936,\n",
            "        0.2594])\n",
            "tensor([0.4066, 0.9608, 0.4022, 0.6919, 0.3242, 0.6369, 0.5851, 0.0498, 0.6936,\n",
            "        0.2594])\n"
          ]
        }
      ]
    },
    {
      "cell_type": "code",
      "source": [
        "# look like under the hood reshape = view"
      ],
      "metadata": {
        "id": "lkk8TduN-svA"
      },
      "execution_count": 153,
      "outputs": []
    },
    {
      "cell_type": "markdown",
      "source": [
        "##### stacking"
      ],
      "metadata": {
        "id": "iqqwCE6s_K24"
      }
    },
    {
      "cell_type": "code",
      "source": [
        "print(x.shape)\n",
        "print(torch.stack([x, x],dim=0).shape) # horizantal wise\n",
        "print(torch.stack([x, x], dim=1).shape) # vertical wise"
      ],
      "metadata": {
        "colab": {
          "base_uri": "https://localhost:8080/"
        },
        "id": "-IhkSDbX_Vvt",
        "outputId": "acef0709-be46-46fc-e263-2e05702aad89"
      },
      "execution_count": 160,
      "outputs": [
        {
          "output_type": "stream",
          "name": "stdout",
          "text": [
            "torch.Size([11])\n",
            "torch.Size([2, 11])\n",
            "torch.Size([11, 2])\n"
          ]
        }
      ]
    },
    {
      "cell_type": "code",
      "source": [
        "print(torch.cat((x1, x2), dim=0).shape) # horizantal\n",
        "print(torch.cat((x1, x2), dim=1).shape) # vertical"
      ],
      "metadata": {
        "colab": {
          "base_uri": "https://localhost:8080/"
        },
        "id": "LCHwQb7hAyin",
        "outputId": "4ab630c6-3db8-45a7-8c70-223647aa69d3"
      },
      "execution_count": 165,
      "outputs": [
        {
          "output_type": "stream",
          "name": "stdout",
          "text": [
            "torch.Size([4, 5])\n",
            "torch.Size([2, 10])\n"
          ]
        }
      ]
    },
    {
      "cell_type": "markdown",
      "source": [
        "##### squeeze and unsqueeze"
      ],
      "metadata": {
        "id": "c5IEZuWO_YWt"
      }
    },
    {
      "cell_type": "code",
      "source": [
        "x = torch.arange(\n",
        "    10\n",
        ")  # Shape is [10], let's say we want to add an additional so we have 1x10\n",
        "print(x.unsqueeze(0).shape)  # 1x10 one index at 0 dim\n",
        "print(x.unsqueeze(1).shape)  # 10x1 one index at 1 dim"
      ],
      "metadata": {
        "colab": {
          "base_uri": "https://localhost:8080/"
        },
        "id": "ymHpZs-yAs6S",
        "outputId": "4bd6080c-91cb-4f2f-bced-287d8bd9325b"
      },
      "execution_count": 184,
      "outputs": [
        {
          "output_type": "stream",
          "name": "stdout",
          "text": [
            "torch.Size([1, 10])\n",
            "torch.Size([10, 1])\n"
          ]
        }
      ]
    },
    {
      "cell_type": "code",
      "source": [
        "# Let's say we have x which is 1x1x10 and we want to remove a dim so we have 1x10\n",
        "xn = torch.arange(10).unsqueeze(0).unsqueeze(1)"
      ],
      "metadata": {
        "id": "KLN-t0XpC73f"
      },
      "execution_count": 190,
      "outputs": []
    },
    {
      "cell_type": "code",
      "source": [
        "# follow the progression\n",
        "print(xn.shape)\n",
        "xn1 = xn.squeeze(0)\n",
        "print(xn1.shape)\n",
        "xn2 = xn1.squeeze(0)\n",
        "print(xn2.shape)"
      ],
      "metadata": {
        "colab": {
          "base_uri": "https://localhost:8080/"
        },
        "id": "phVVS-0kDGe8",
        "outputId": "25d40a1f-556b-4c6d-ad59-e8003325071c"
      },
      "execution_count": 199,
      "outputs": [
        {
          "output_type": "stream",
          "name": "stdout",
          "text": [
            "torch.Size([1, 1, 10])\n",
            "torch.Size([1, 10])\n",
            "torch.Size([10])\n"
          ]
        }
      ]
    },
    {
      "cell_type": "markdown",
      "source": [
        "## Additionals"
      ],
      "metadata": {
        "id": "_ZcKE-zcDRG0"
      }
    },
    {
      "cell_type": "markdown",
      "source": [
        "##### Pytorch and numpy"
      ],
      "metadata": {
        "id": "R_HzV9gvFDjz"
      }
    },
    {
      "cell_type": "code",
      "source": [
        "# np array -> tensor -> np array\n",
        "np_array = np.arange(10).reshape(2, 5)\n",
        "print(np_array)\n",
        "\n",
        "tens1 = torch.from_numpy(np_array)\n",
        "print(tens1)\n",
        "\n",
        "np_array1 = tens1.numpy()\n",
        "print(np_array1)"
      ],
      "metadata": {
        "colab": {
          "base_uri": "https://localhost:8080/"
        },
        "id": "c--06UPUFFyS",
        "outputId": "283be040-62f9-424e-e523-56f93927a51a"
      },
      "execution_count": 205,
      "outputs": [
        {
          "output_type": "stream",
          "name": "stdout",
          "text": [
            "[[0 1 2 3 4]\n",
            " [5 6 7 8 9]]\n",
            "tensor([[0, 1, 2, 3, 4],\n",
            "        [5, 6, 7, 8, 9]])\n",
            "[[0 1 2 3 4]\n",
            " [5 6 7 8 9]]\n"
          ]
        }
      ]
    },
    {
      "cell_type": "markdown",
      "source": [
        "##### Reproducability"
      ],
      "metadata": {
        "id": "5AEP9c6HFLEx"
      }
    },
    {
      "cell_type": "code",
      "source": [
        "import random\n",
        "\n",
        "# # Set the random seed\n",
        "RANDOM_SEED=42 # try changing this to different values and see what happens to the numbers below\n",
        "torch.manual_seed(seed=RANDOM_SEED)\n",
        "random_tensor_C = torch.rand(3, 4)\n",
        "\n",
        "# Have to reset the seed every time a new rand() is called\n",
        "# Without this, tensor_D would be different to tensor_C\n",
        "torch.random.manual_seed(seed=RANDOM_SEED) # try commenting this line out and seeing what happens\n",
        "random_tensor_D = torch.rand(3, 4)\n",
        "\n",
        "print(f\"Tensor C:\\n{random_tensor_C}\\n\")\n",
        "print(f\"Tensor D:\\n{random_tensor_D}\\n\")\n",
        "print(f\"Does Tensor C equal Tensor D? (anywhere)\")\n",
        "torch.equal(random_tensor_C, random_tensor_D)"
      ],
      "metadata": {
        "colab": {
          "base_uri": "https://localhost:8080/"
        },
        "id": "5ag60YRPF1Rp",
        "outputId": "030dc731-695b-448e-aa0e-b44d09b74ed2"
      },
      "execution_count": 210,
      "outputs": [
        {
          "output_type": "stream",
          "name": "stdout",
          "text": [
            "Tensor C:\n",
            "tensor([[0.8823, 0.9150, 0.3829, 0.9593],\n",
            "        [0.3904, 0.6009, 0.2566, 0.7936],\n",
            "        [0.9408, 0.1332, 0.9346, 0.5936]])\n",
            "\n",
            "Tensor D:\n",
            "tensor([[0.8823, 0.9150, 0.3829, 0.9593],\n",
            "        [0.3904, 0.6009, 0.2566, 0.7936],\n",
            "        [0.9408, 0.1332, 0.9346, 0.5936]])\n",
            "\n",
            "Does Tensor C equal Tensor D? (anywhere)\n"
          ]
        },
        {
          "output_type": "execute_result",
          "data": {
            "text/plain": [
              "True"
            ]
          },
          "metadata": {},
          "execution_count": 210
        }
      ]
    },
    {
      "cell_type": "code",
      "source": [],
      "metadata": {
        "id": "Z71_6VFgF7Wj"
      },
      "execution_count": null,
      "outputs": []
    }
  ]
}